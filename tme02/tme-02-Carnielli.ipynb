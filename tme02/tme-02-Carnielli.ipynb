{
 "cells": [
  {
   "cell_type": "markdown",
   "metadata": {},
   "source": [
    "IA & Data science (3i026) -- 2018-2019\n",
    "--------\n",
    "*&copy; Equipe pédagogique: Manon Ansart, Vincent Guigue, Marie-Jeanne Lesot, Christophe Marsala, Olivier Schwander.*\n"
   ]
  },
  {
   "cell_type": "markdown",
   "metadata": {},
   "source": [
    "# TD-TME02: les k-plus proches voisins (*k-NN*)"
   ]
  },
  {
   "cell_type": "markdown",
   "metadata": {},
   "source": [
    "<font size=\"+1\" color=\"RED\">**[Q]**</font> **Indiquer dans la boîte ci-dessous vos noms et prénoms :**"
   ]
  },
  {
   "cell_type": "markdown",
   "metadata": {},
   "source": [
    "CARNIELLI Ariana"
   ]
  },
  {
   "cell_type": "markdown",
   "metadata": {},
   "source": [
    "<font color=\"RED\" size=\"+1\">**[Q]**</font> **Renommer ce fichier ipython**\n",
    "\n",
    "Tout en haut de cette page, cliquer sur <tt>tme-02</tt> et rajouter à la suite de <tt>tme-02</tt> les noms des membres du binômes séparés par un tiret.\n",
    "\n",
    "Par exemple, pour le binôme Luke Skywalker et Han Solo, le nom de fichier devient : <pre>tme-02-Skywalker-Solo</pre>\n",
    "\n",
    "Penser à sauvegarder fréquemment le fichier en cours de travail :\n",
    "- soit en cliquant sur l'icône \"disquette\"\n",
    "- soit par la combinaison de touches [Ctrl]-S"
   ]
  },
  {
   "cell_type": "markdown",
   "metadata": {},
   "source": [
    "<font color=\"RED\" size=\"+1\">IMPORTANT: soumission de votre fichier final</font>\n",
    "\n",
    "**Nom à donner au fichier à poster** : *tme-02-Nom1_Nom2.ipynb* \n",
    "- *Nom1* et *Nom2* : noms des membres du binôme\n",
    "- ne pas compresser ou faire une archive: il faut rendre le fichier ipython tel quel, éventuellement, si vous avez d'autres fichiers vous les rendez séparément.\n",
    "\n",
    "**Echancier pour la soumission de votre compte-rendu:**\n",
    "- le compte-rendu d'une séance doit être remis obligatoirement <font color=\"RED\">** à la fin de la séance**</font>. C'est ce compte-rendu qui donne la note de base de la séance.\n",
    "- vous pouvez éventuellement compléter votre compte-rendu  pour obtenir des points bonus, dans ce cas, vous devez soumettre votre complément avant le début de la semaine suivante.\n",
    "\n",
    "** Sur la page Moodle de remise du travail <font color=\"RED\">ne pas oublier d'envoyer le compte rendu</font>** à la fin de la séance, la soumission de la version complémentaire post-séance se fera sur une page différente."
   ]
  },
  {
   "cell_type": "markdown",
   "metadata": {},
   "source": [
    "## Présentation ##\n",
    "\n",
    "Dans ce TME, nous allons mettre en place une \"architecture\" de code nous permettant petit à petit de tester différents modèles d'apprentissage supervisé et programmer les k-NN. Nous allons nous restreindre au cas binaire où les données sont étiquetées $+1$ ou $-1$.\n",
    "\n",
    "\n",
    "### Objectifs de ce TME 1\n",
    "\n",
    "Le travail à réaliser est le suivant :\n",
    "- apprendre à utiliser jupyter notebook\n",
    "- se documenter sur les structures de données qui seront utilisées pour programmer tout au long du semestre\n",
    "- implémenter des fonctions pour les mesures vues en cours "
   ]
  },
  {
   "cell_type": "code",
   "execution_count": 1,
   "metadata": {
    "collapsed": true
   },
   "outputs": [],
   "source": [
    "import numpy as np\n",
    "import pandas as pd\n",
    "from datetime import datetime as dt\n",
    "import matplotlib.pyplot as plt\n",
    "%matplotlib inline  "
   ]
  },
  {
   "cell_type": "markdown",
   "metadata": {},
   "source": [
    "**Remarque :** La concaténation de vecteurs s'obtient à l'aide de la fonction `vstack` de numpy."
   ]
  },
  {
   "cell_type": "code",
   "execution_count": 2,
   "metadata": {},
   "outputs": [
    {
     "data": {
      "text/plain": [
       "array([[ 0.  ,  1.5 ,  4.2 ],\n",
       "       [ 1.1 ,  3.8 , 20.01],\n",
       "       [ 1.1 ,  5.3 , 24.21]])"
      ]
     },
     "execution_count": 2,
     "metadata": {},
     "output_type": "execute_result"
    }
   ],
   "source": [
    "# Exemple d'utilisation de vstack (pour plus de détails, chercher la documentation sur le web)\n",
    "\n",
    "vecteur_1 = np.array([0, 1.5, 4.2])\n",
    "vecteur_2 = np.array([1.1, 3.8, 20.01])\n",
    "\n",
    "vecteur_3 = vecteur_1 + vecteur_2\n",
    "\n",
    "np.vstack( (vecteur_1, vecteur_2, vecteur_3) )"
   ]
  },
  {
   "cell_type": "markdown",
   "metadata": {},
   "source": [
    "### Représentation orientée objets\n",
    "\n",
    "\n",
    "Pour implémenter nos algorithmes d'apprentissage et pour représenter les données, nous allons utiliser quelques éléments de programmation orientée objet (POO) qu'autorise le langage Python. \n",
    "\n",
    "Si vous ne connaissez rien à la POO, il est fortement conseillé de lire une documentation ou suivre un tutorial sur le web (par exemple, http://apprendre-python.com/page-apprendre-programmation-orientee-objet-poo-classes-python-cours-debutants).\n"
   ]
  },
  {
   "cell_type": "markdown",
   "metadata": {},
   "source": [
    "## Étape 1: dataset\n",
    "\n",
    "La première étape consiste à définir une classe, la classe LabelSet, pour stocker les données d'apprentissage, de validation et de test. Nous considérerons que les données tiennent en mémoire.\n",
    "\n",
    "La classe LabelSet sert donc à stocker des couples $\\{(x_1,y_1),...,(x_n,y_n)\\}$. Les $x_i$ et $y_i$ seront des tableaux numpy.\n",
    "\n",
    "**A noter : ** la méthode <tt>\\_\\_init\\_\\_</tt> est le constructeur de la classe.\n"
   ]
  },
  {
   "cell_type": "code",
   "execution_count": 3,
   "metadata": {
    "collapsed": true
   },
   "outputs": [],
   "source": [
    "class LabeledSet:  \n",
    "    \"\"\" Classe pour représenter un ensemble d'exemples (base d'apprentissage)\n",
    "        Variables d'instance :\n",
    "            - input_dimension (int) : dimension de la description d'un exemple (x)\n",
    "            - nb_examples (int) : nombre d'exemples dans l'ensemble\n",
    "    \"\"\"\n",
    "    \n",
    "    def __init__(self, input_dimension):\n",
    "        \"\"\" Constructeur de LabeledSet\n",
    "            Argument: \n",
    "                - intput_dimension (int) : dimension de x\n",
    "            Hypothèse : input_dimension > 0\n",
    "        \"\"\"\n",
    "        self.input_dimension = input_dimension\n",
    "        self.nb_examples = 0\n",
    "    \n",
    "    def addExample(self,vector,label):\n",
    "        \"\"\" Ajout d'un exemple dans l'ensemble\n",
    "            Argument: \n",
    "                - vector ()\n",
    "                - label (int) : classe de l'exemple (+1 ou -1)\n",
    "            \n",
    "        \"\"\"\n",
    "        if (self.nb_examples == 0):\n",
    "            self.x = np.array([vector])\n",
    "            self.y = np.array([label])\n",
    "        else:\n",
    "            self.x = np.vstack((self.x, vector))\n",
    "            self.y = np.vstack((self.y, label))\n",
    "        \n",
    "        self.nb_examples = self.nb_examples + 1\n",
    "    \n",
    "    def getInputDimension(self):\n",
    "        \"\"\" Renvoie la dimension de l'espace d'entrée\n",
    "        \"\"\"\n",
    "        return self.input_dimension\n",
    "    \n",
    "    def size(self):\n",
    "        \"\"\" Renvoie le nombre d'exemples dans l'ensemble\n",
    "        \"\"\"\n",
    "        return self.nb_examples\n",
    "    \n",
    "    def getX(self, i):\n",
    "        \"\"\" Renvoie la description du i-eme exemple (x_i)\n",
    "        \"\"\"\n",
    "        return self.x[i]\n",
    "    \n",
    "    #\n",
    "    def getY(self, i):\n",
    "        \"\"\" Renvoie la classe de du i-eme exemple (y_i)\n",
    "        \"\"\"\n",
    "        return(self.y[i])"
   ]
  },
  {
   "cell_type": "code",
   "execution_count": 4,
   "metadata": {
    "collapsed": true
   },
   "outputs": [],
   "source": [
    "# Exemple d'utilisation de LabeledSet\n",
    "\n",
    "une_base = LabeledSet(2)        # définition d'une base pour contenir des exemples en 2D\n",
    "une_base.addExample([0, 1],1)   # ajout de l'exemple (0, 1) de classe +1\n",
    "une_base.addExample([2, 3],1)   # ajout de l'exemple (2, 3) de classe +1\n",
    "une_base.addExample([1, 2],-1)  # ajout de l'exemple (1, 2) de classe -1\n",
    "une_base.addExample([2, 2],-1)  # ajout de l'exemple (2, 2) de classe -1\n"
   ]
  },
  {
   "cell_type": "markdown",
   "metadata": {},
   "source": [
    "<font color=\"RED\" size=\"+1\">**[Q]**</font> Ecrire la fonction <tt>affiche_base</tt> qui, étant donné un LabeledSet, permet d'afficher tous les exemples qu'il contient."
   ]
  },
  {
   "cell_type": "code",
   "execution_count": 5,
   "metadata": {
    "collapsed": true
   },
   "outputs": [],
   "source": [
    "def affiche_base(base):\n",
    "    \"\"\"Affiche le conteu du LabeledSet base.\n",
    "    \"\"\"\n",
    "    nb_lignes = base.size()\n",
    "    for i in range(nb_lignes):\n",
    "        print(\"Exemple \" + str(i))\n",
    "        print(\"\\tdescription :  {}\".format(base.getX(i)))\n",
    "        print(\"\\tlabel :  {}\".format(base.getY(i)))\n",
    "    "
   ]
  },
  {
   "cell_type": "code",
   "execution_count": 6,
   "metadata": {},
   "outputs": [
    {
     "name": "stdout",
     "output_type": "stream",
     "text": [
      "Exemple 0\n",
      "\tdescription :  [0 1]\n",
      "\tlabel :  [1]\n",
      "Exemple 1\n",
      "\tdescription :  [2 3]\n",
      "\tlabel :  [1]\n",
      "Exemple 2\n",
      "\tdescription :  [1 2]\n",
      "\tlabel :  [-1]\n",
      "Exemple 3\n",
      "\tdescription :  [2 2]\n",
      "\tlabel :  [-1]\n"
     ]
    }
   ],
   "source": [
    "affiche_base(une_base)"
   ]
  },
  {
   "cell_type": "markdown",
   "metadata": {},
   "source": [
    "Un dataset en 2 dimensions pourra être affiché en utilisant matplotlib et plus précisément la fonction `matplotlib.pyplot.scatter` permettant de dessiner un nuage de points - http://matplotlib.org/api/pyplot_api.html#matplotlib.pyplot.scatter -"
   ]
  },
  {
   "cell_type": "code",
   "execution_count": 7,
   "metadata": {
    "collapsed": true
   },
   "outputs": [],
   "source": [
    "import matplotlib.pyplot as plt\n",
    "%matplotlib inline \n",
    "\n",
    "def plot2DSet(set):\n",
    "    \"\"\" LabeledSet -> NoneType\n",
    "        Hypothèse: set est de dimension 2\n",
    "        affiche une représentation graphique du LabeledSet\n",
    "        remarque: l'ordre des labels dans set peut être quelconque\n",
    "    \"\"\"\n",
    "    S_pos = set.x[np.where(set.y == 1),:][0]      # tous les exemples de label +1\n",
    "    S_neg = set.x[np.where(set.y == -1),:][0]     # tous les exemples de label -1\n",
    "    plt.scatter(S_pos[:,0],S_pos[:,1],marker='o') # 'o' pour la classe +1\n",
    "    plt.scatter(S_neg[:,0],S_neg[:,1],marker='x') # 'x' pour la classe -1\n"
   ]
  },
  {
   "cell_type": "code",
   "execution_count": 8,
   "metadata": {},
   "outputs": [
    {
     "data": {
      "image/png": "[encoded data removed]",
      "text/plain": [
       "<Figure size 432x288 with 1 Axes>"
      ]
     },
     "metadata": {},
     "output_type": "display_data"
    }
   ],
   "source": [
    "# Par exemple :\n",
    "plot2DSet(une_base)"
   ]
  },
  {
   "cell_type": "markdown",
   "metadata": {},
   "source": [
    "### Génération de données ''Jouet''\n",
    "\n",
    "Nous allons pour l'instant nous intéresser à des datasets \"jouet\" générés selon des distributions choisies à la main. \n",
    "\n",
    "Commençons par un dataset en 2 dimensions (entrée) et 1 dimension (sortie): $x_i \\in \\mathbb{R}^2$, $y_i \\in \\{-1;+1\\}$ tel que les données sont générées selon deux gaussiennes. Pour cela, nous utiliserons la fonction `numpy.random.multivariate_normal` - http://docs.scipy.org/doc/numpy/reference/generated/numpy.random.multivariate_normal.html"
   ]
  },
  {
   "cell_type": "markdown",
   "metadata": {},
   "source": [
    "<font color=\"RED\" size=\"+1\">**[Q]**</font> Ecrire la fonction <tt>createGaussianDataset</tt> qui, étant donné 5 arguments:\n",
    "- `positive_center` est le centre de la gaussienne des points positifs (vecteur de taille 2)\n",
    "- `positive_sigma` est la variance de la gaussienne des points positifs (sous forme de matrice 2*2)\n",
    "- `negative_center` est le centre de la gaussienne des points négative (vecteur de taille 2)\n",
    "- `negative_sigma` est la variance de la gaussienne des points négative (sous forme de matrice 2*2)\n",
    "- `nb_points` est le nombre de points de chaque classe à générer\n",
    "\n",
    "rend un dataset généré aléatoirement."
   ]
  },
  {
   "cell_type": "code",
   "execution_count": 9,
   "metadata": {
    "collapsed": true
   },
   "outputs": [],
   "source": [
    "def createGaussianDataset(positive_center, positive_sigma, negative_center, negative_sigma, nb_points):\n",
    "    \"\"\"\"Crée un dataset aléatoire 2D. Prend en argument :\n",
    "    - positive_center : centre de la gaussienne des points positifs (vecteur de taille 2)\n",
    "    - positive_sigma : variance de la gaussienne des points positifs (sous forme de matrice 2*2)\n",
    "    - negative_center : centre de la gaussienne des points négative (vecteur de taille 2)\n",
    "    - negative_sigma : variance de la gaussienne des points négative (sous forme de matrice 2*2)\n",
    "    - nb_points : nombre de points de chaque classe à générer\n",
    "    Retourne le dataset aléatoire crée.\n",
    "    \"\"\"\n",
    "    res = LabeledSet(2)\n",
    "    for i in range(nb_points):    \n",
    "    #La méthode addExample ne permet l'ajout d'une seule donnée à la fois.\n",
    "        res.addExample(np.random.multivariate_normal(positive_center, positive_sigma), 1)\n",
    "        res.addExample(np.random.multivariate_normal(negative_center, negative_sigma), -1)\n",
    "    \n",
    "    return res"
   ]
  },
  {
   "cell_type": "code",
   "execution_count": 10,
   "metadata": {},
   "outputs": [
    {
     "name": "stdout",
     "output_type": "stream",
     "text": [
      "Taille de la base jouet générée : 20 exemples\n"
     ]
    },
    {
     "data": {
      "image/png": "[encoded data removed]",
      "text/plain": [
       "<Figure size 432x288 with 1 Axes>"
      ]
     },
     "metadata": {},
     "output_type": "display_data"
    }
   ],
   "source": [
    "# Exemple d'utilisation:\n",
    "\n",
    "the_set = createGaussianDataset(np.array([1,1]),np.array([[1,0],[0,1]]),np.array([-1,-1]),np.array([[1,0],[0,1]]),10)\n",
    "\n",
    "print(\"Taille de la base jouet générée :\", the_set.size(), \"exemples\")\n",
    "\n",
    "# Affichage :\n",
    "plot2DSet(the_set)\n"
   ]
  },
  {
   "cell_type": "markdown",
   "metadata": {},
   "source": [
    "Dans ce petit dataset, on observe que les deux classes de points sont plutôt bien séparées, car les points +1 sont centrés en [1, 1] et les -1, en [-1, -1], avec une variance pas trop grande dans chaque classe."
   ]
  },
  {
   "cell_type": "code",
   "execution_count": 11,
   "metadata": {},
   "outputs": [
    {
     "name": "stdout",
     "output_type": "stream",
     "text": [
      "Taille de la base jouet générée : 2000 exemples\n"
     ]
    },
    {
     "data": {
      "image/png": "[encoded data removed]",
      "text/plain": [
       "<Figure size 432x288 with 1 Axes>"
      ]
     },
     "metadata": {},
     "output_type": "display_data"
    }
   ],
   "source": [
    "the_set = createGaussianDataset(np.array([5,5]),np.array([[1,1],[1,1]]),np.array([5,5]),np.array([[1,0],[0,1]]),1000)\n",
    "\n",
    "print(\"Taille de la base jouet générée :\", the_set.size(), \"exemples\")\n",
    "\n",
    "# Affichage :\n",
    "plot2DSet(the_set)"
   ]
  },
  {
   "cell_type": "markdown",
   "metadata": {},
   "source": [
    "En changeant les moyennes et la matrice de covariance, on change la distribution des poins générés. Avec la covariance maximale, les données générées s'alignent sur une droite."
   ]
  },
  {
   "cell_type": "markdown",
   "metadata": {},
   "source": [
    "## Étape 2: les classifieurs\n",
    "\n",
    "Un classifieur (binaire dans ce cours) permet, pour chaque point d'entrée donné, de calculer un score. Si le score est négatif, la donnée est associée à la classe $-1$, sinon à la classe $+1$. \n",
    "\n",
    "Les classifieurs que l'on va implémenter seront définis à l'aide d'une classe qui va dériver de la classe Classifier suivante. Cette classe est une classe \"abstraite\", elle sera dérivée par héritage pour définir des classifieurs particuliers (knn, arbres de décision, etc.).\n",
    "\n",
    "Par conséquent, pour l'instant les méthodes `train` et `predict` ne seront pas définies car elles dépendent du modèle que l'on choisira.\n",
    "\n",
    "Par contre, la fonction `accuracy` renvoie le pourcentage de points bien classés. Elle peut être définie dès maintenant.\n",
    "\n",
    "<font color=\"RED\" size=\"+1\">**[Q]**</font> Donner l'implémentation de la fonction `accuracy`."
   ]
  },
  {
   "cell_type": "code",
   "execution_count": 12,
   "metadata": {
    "collapsed": true
   },
   "outputs": [],
   "source": [
    "class Classifier:\n",
    "    \"\"\" Classe pour représenter un classifieur\n",
    "        Attention: cette classe est une classe abstraite, elle ne peut pas être\n",
    "        instanciée.\n",
    "    \"\"\"\n",
    "    \n",
    "    def __init__(self, input_dimension):\n",
    "        \"\"\" Constructeur de Classifier\n",
    "            Argument:\n",
    "                - intput_dimension (int) : dimension d'entrée des exemples\n",
    "            Hypothèse : input_dimension > 0\n",
    "        \"\"\"\n",
    "        raise NotImplementedError(\"Please Implement this method\")\n",
    "        \n",
    "    def predict(self, x):\n",
    "        \"\"\" rend la prediction sur x (-1 ou +1)\n",
    "        \"\"\"\n",
    "        raise NotImplementedError(\"Please Implement this method\")\n",
    "\n",
    "    def train(self, labeledSet):\n",
    "        \"\"\" Permet d'entrainer le modele sur l'ensemble donné\n",
    "        \"\"\"\n",
    "        \n",
    "        raise NotImplementedError(\"Please Implement this method\")\n",
    "    \n",
    "    def accuracy(self, dataset):\n",
    "        \"\"\" Permet de calculer la qualité du système \n",
    "        \"\"\"\n",
    "        ok = 0\n",
    "        taille_data = dataset.size()\n",
    "        for i in range(taille_data):\n",
    "            if (dataset.getY(i) * self.predict(dataset.getX(i))) > 0:\n",
    "            #On dit qu'une prédiction est correcte si elle a le même signe que \n",
    "            #la valeur correspondante à cette donnée dans le dataset.\n",
    "                ok+=1\n",
    "        return (ok/taille_data)*100\n",
    "        #On renvoie un pourcentage (donc le rapport multiplié par 100)"
   ]
  },
  {
   "cell_type": "markdown",
   "metadata": {},
   "source": [
    "Nous allons maintenant définir un **classifieur linéaire aléatoire** en étendant la classe Classifier et en implémentant le constructeur ainsi que les 2 méthodes `predict` et `train`.\n",
    "\n",
    "Pour un classifieur linéaire aléatoire:\n",
    "- dans le constructeur, on doit générer aléatoirement un vecteur $w$ de taille `input_dimension` aléatoirement\n",
    "- pour ce classifieur, la méthode `train` ne fait rien. On ne mettra qu'un print permettant d'afficher le message \"Pas d'apprentissage pour ce classifieur\"\n",
    "- pour une description d'exemple $x$, la méthode `predict` doit utiliser la valeur de $\\langle x | w\\rangle$ pour prédire le label (+1 ou -1) associé\n"
   ]
  },
  {
   "cell_type": "markdown",
   "metadata": {},
   "source": [
    "<font color=\"RED\" size=\"+1\">**[Q]**</font> Donner l'implémentation de la classe ClassifierRandom qui hérite de la classe Classifier et permet de définir un classifieur linéaire aléatoire."
   ]
  },
  {
   "cell_type": "code",
   "execution_count": 13,
   "metadata": {
    "collapsed": true,
    "scrolled": true
   },
   "outputs": [],
   "source": [
    "class ClassifierRandom(Classifier):\n",
    "    \"\"\" Classe pour représenter un classifieur linéaire aléatoire\n",
    "        Cette classe hérite de la classe Classifier\n",
    "    \"\"\"\n",
    "    def __init__(self, input_dimension):\n",
    "        self.input_dimension = input_dimension\n",
    "        #chaque composante de w est choisi entre -1 et 1\n",
    "        self.w = 2*np.random.random(input_dimension) - 1\n",
    "        self.w = self.w / np.linalg.norm(self.w)\n",
    "    \n",
    "    def predict(self, x):\n",
    "        \"\"\" rend la prediction sur x (entre -1 ou +1)\n",
    "        \"\"\"\n",
    "        norm_x = x / np.linalg.norm(x)\n",
    "        return np.dot(self.w, norm_x)\n",
    "\n",
    "    def train(self, labeledSet):\n",
    "        \"\"\" Permet d'entrainer le modele sur l'ensemble donné\n",
    "        \"\"\"\n",
    "        print(\"Pas d'apprentissage pour ce classifieur\")"
   ]
  },
  {
   "cell_type": "markdown",
   "metadata": {},
   "source": [
    "Dans le constructeur on choisi un vecteur `w` aléatoire de norme 1. Dans `predict` on normalise d'abord `x` avant de calculer sont produit scallaire avec `w`. Comme cela, le résultat envoyé est toujours entre -1 et 1 (cosinus de l'angle entre les deux vecteurs), ce qui peut être utile pour mesurer le degré de certitude du résultat."
   ]
  },
  {
   "cell_type": "code",
   "execution_count": 14,
   "metadata": {
    "collapsed": true
   },
   "outputs": [],
   "source": [
    "# Création d'un classifieur linéaire aléatoire de dimension 2:\n",
    "\n",
    "un_classifieur = ClassifierRandom(2)"
   ]
  },
  {
   "cell_type": "markdown",
   "metadata": {},
   "source": [
    "<font color=\"RED\" size=\"+1\">**[Q]**</font> Calculer la performance (*accuracy*) d'un classifieur linéaire aléatoire sur un ensemble de 100 points générés aléatoirement."
   ]
  },
  {
   "cell_type": "code",
   "execution_count": 28,
   "metadata": {},
   "outputs": [
    {
     "name": "stdout",
     "output_type": "stream",
     "text": [
      "Accuracy du classifieur aléatoire : 0.3%\n"
     ]
    },
    {
     "data": {
      "image/png": "[encoded data removed]",
      "text/plain": [
       "<Figure size 432x288 with 1 Axes>"
      ]
     },
     "metadata": {},
     "output_type": "display_data"
    }
   ],
   "source": [
    "set_test = createGaussianDataset(np.array([2,2]),np.array([[1,0],[0,1]]),np.array([-2,-2]),np.array([[1,0],[0,1]]),1000)\n",
    "un_classifieur = ClassifierRandom(2)\n",
    "plot2DSet(set_test)\n",
    "print(\"Accuracy du classifieur aléatoire : \" + str(un_classifieur.accuracy(set_test)) + \"%\")"
   ]
  },
  {
   "cell_type": "markdown",
   "metadata": {},
   "source": [
    "On a choisi un dataset avec deux classes bien separées, ce qui faciliterait la prediction. Néanmoins, comme `w` est choisi de façon aléatoire, la prédiction n'est pas toujours satisfaisante, comme c'est le cas de l'exemple ci-dessus."
   ]
  },
  {
   "cell_type": "markdown",
   "metadata": {},
   "source": [
    "Voici une fonction qui permet de dessiner la frontière de decision d'un classifieur. La valeur `step` permet de choisir la précision du dessin."
   ]
  },
  {
   "cell_type": "code",
   "execution_count": 16,
   "metadata": {
    "collapsed": true
   },
   "outputs": [],
   "source": [
    "def plot_frontiere(set,classifier,step=10):\n",
    "    \"\"\" LabeledSet * Classifier * int -> NoneType\n",
    "        Remarque: le 3e argument est optionnel et donne la \"résolution\" du tracé\n",
    "        affiche la frontière de décision associée au classifieur\n",
    "    \"\"\"\n",
    "    mmax=set.x.max(0)\n",
    "    mmin=set.x.min(0)\n",
    "    x1grid,x2grid=np.meshgrid(np.linspace(mmin[0],mmax[0],step),np.linspace(mmin[1],mmax[1],step))\n",
    "    grid=np.hstack((x1grid.reshape(x1grid.size,1),x2grid.reshape(x2grid.size,1)))\n",
    "    \n",
    "    # calcul de la prediction pour chaque point de la grille\n",
    "    res=np.array([classifier.predict(grid[i,:]) for i in range(len(grid)) ])\n",
    "    res=res.reshape(x1grid.shape)\n",
    "    # tracer des frontieres\n",
    "    plt.contourf(x1grid,x2grid,res,colors=[\"red\",\"cyan\"],levels=[-1000,0,1000])"
   ]
  },
  {
   "cell_type": "code",
   "execution_count": 30,
   "metadata": {},
   "outputs": [
    {
     "name": "stdout",
     "output_type": "stream",
     "text": [
      "Accuracy du classifieur aléatoire : 0.3%\n"
     ]
    },
    {
     "data": {
      "image/png": "[encoded data removed]",
      "text/plain": [
       "<Figure size 432x288 with 1 Axes>"
      ]
     },
     "metadata": {},
     "output_type": "display_data"
    }
   ],
   "source": [
    "classifieur_random=ClassifierRandom(2)\n",
    "\n",
    "plot_frontiere(set_test,classifieur_random, step=200)\n",
    "plot2DSet(set_test)\n",
    "print(\"Accuracy du classifieur aléatoire : \" + str(un_classifieur.accuracy(set_test)) + \"%\")"
   ]
  },
  {
   "cell_type": "markdown",
   "metadata": {},
   "source": [
    "Dans c'est cas, l'accuracy est très petite car le classifieur aléatoire a bien séparé les deux ensembles mais les classifications correspondants ont été échangées."
   ]
  },
  {
   "cell_type": "markdown",
   "metadata": {},
   "source": [
    "## Étape 3 : k-NN\n",
    "\n",
    "De la même façon que nous avons défini un classifieur aléatoire, nosu allons maintenant un classifieur par $k$ plus proches voisins (ou k-NN). \n",
    "\n",
    "Pour cela nous allons construire un tableau de distances que nous trierons grâce à la méthode `numpy.argsort`.\n",
    "\n",
    "Pour un classifieur linéaire aléatoire:\n",
    "- dans le constructeur, on précise, en plus de la dimension, le nombre de voisins à utiliser (valeur de $k$)\n",
    "- dans la méthode `train`, on constitue la base de points de référence en mémorisant le LabeledSet donné\n",
    "- pour une description d'exemple $x$, la méthode `predict` doit construire un tableau de distances aux points de référence, puis le trier grâce à la méthode `numpy.argsort`.\n"
   ]
  },
  {
   "cell_type": "markdown",
   "metadata": {},
   "source": [
    "<font color=\"RED\" size=\"+1\">**[Q]**</font> Donner l'implémentation de la classe ClassifierKNN qui hérite de la classe Classifier et permet de définir un classifieur par k-NN."
   ]
  },
  {
   "cell_type": "code",
   "execution_count": 18,
   "metadata": {
    "collapsed": true
   },
   "outputs": [],
   "source": [
    "class ClassifierKNN(Classifier):\n",
    "    def __init__(self, input_dimension, k):\n",
    "        self.input_dimension = input_dimension\n",
    "        self.k = k\n",
    "    \n",
    "    def predict(self, x):\n",
    "        \"\"\" rend la prediction sur x (entre -1 ou +1)\n",
    "        \"\"\"\n",
    "        taille = self.trainData.size()\n",
    "        #calcule le tableau de distances\n",
    "        tab_dist = np.zeros(taille)\n",
    "        for i in range(taille):\n",
    "            tab_dist[i] = np.linalg.norm(self.trainData.getX(i) - x)\n",
    "        #selection des k plus proches voisins\n",
    "        ind_mins = np.argsort(tab_dist)[:self.k]\n",
    "        #calcule du score\n",
    "        cpt_pos = 0\n",
    "        cpt_min = 0\n",
    "        for i in ind_mins:\n",
    "            if self.trainData.getY(i) > 0:\n",
    "                cpt_pos+=1\n",
    "            else:\n",
    "                cpt_min+=1\n",
    "        return (cpt_pos - cpt_min)/(cpt_pos + cpt_min)\n",
    "\n",
    "    def train(self, labeledSet):\n",
    "        \"\"\" Permet d'entrainer le modele sur l'ensemble donné\n",
    "        \"\"\"\n",
    "        self.trainData = labeledSet"
   ]
  },
  {
   "cell_type": "markdown",
   "metadata": {},
   "source": [
    "Comme pour le classifieur aléatoire, la valeur de retour de `predict` est comprise entre -1 et 1 et peut être utilisé pour mesurer le degré de certitude du résultat. On a fait le choix de ne pas prendre en considération la distance des k-NN au point qu'on essaie de classifier. On pourrait par exemple pondérer les résultats des k-NN points pour que les voisins le plus proches aient un voix plus important."
   ]
  },
  {
   "cell_type": "code",
   "execution_count": 31,
   "metadata": {},
   "outputs": [
    {
     "data": {
      "text/plain": [
       "100.0"
      ]
     },
     "execution_count": 31,
     "metadata": {},
     "output_type": "execute_result"
    },
    {
     "data": {
      "image/png": "[encoded data removed]",
      "text/plain": [
       "<Figure size 432x288 with 1 Axes>"
      ]
     },
     "metadata": {},
     "output_type": "display_data"
    }
   ],
   "source": [
    "# Exemple d'utilisation :\n",
    "the_set = createGaussianDataset(np.array([5,5]),np.array([[1,0],[0,1]]),np.array([2,2]),np.array([[1,0],[0,1]]),200)\n",
    "knn = ClassifierKNN(2,1)\n",
    "knn.train(the_set)\n",
    "\n",
    "plot_frontiere(the_set,knn,20)\n",
    "plot2DSet(the_set) "
   ]
  },
  {
   "cell_type": "markdown",
   "metadata": {},
   "source": [
    "La division calculé par le classifieur entre les deux types de points n'est pas linéaire : la frontière entre les deux régions n'est pas une droite."
   ]
  },
  {
   "cell_type": "markdown",
   "metadata": {},
   "source": [
    "## Étape 4: protocole expérimental\n",
    "\n",
    "Attention, lorsque l'on évalue un classifieur, il est nécessaire de considérer deux ensembles distincts: un ensemble d'apprentissage et un ensemble de test. La performance doit être évaluée sur l'ensemble de test (et non pas sur l'ensemble d'apprentissage)."
   ]
  },
  {
   "cell_type": "markdown",
   "metadata": {},
   "source": [
    "<font color=\"RED\" size=\"+1\">**[Q]**</font> Donner les instructions permettant d'évaluer un classifieur KNN et comparer les résultats obtenus avec ceux obtenus par un classifieur linéaire aléatoire sur le même jeu de données."
   ]
  },
  {
   "cell_type": "code",
   "execution_count": 20,
   "metadata": {},
   "outputs": [
    {
     "name": "stdout",
     "output_type": "stream",
     "text": [
      "Pas d'apprentissage pour ce classifieur\n",
      "l'accuracy du classifieur aleatoire est = 15.0\n",
      "l'accuracy du classifieur knn est = 91.0\n"
     ]
    },
    {
     "data": {
      "image/png": "[encoded data removed]",
      "text/plain": [
       "<Figure size 432x288 with 1 Axes>"
      ]
     },
     "metadata": {},
     "output_type": "display_data"
    }
   ],
   "source": [
    "set_learn = createGaussianDataset(np.array([1,1]),np.array([[1,0],[0,1]]),np.array([-1,-1]),np.array([[1,0],[0,1]]),50)\n",
    "set_test = createGaussianDataset(np.array([1,1]),np.array([[1,0],[0,1]]),np.array([-1,-1]),np.array([[1,0],[0,1]]),50)\n",
    "\n",
    "knn = ClassifierKNN(2,1)\n",
    "ale = ClassifierRandom(2)\n",
    "\n",
    "ale.train(set_learn)\n",
    "knn.train(set_learn)\n",
    "\n",
    "print(\"l'accuracy du classifieur aleatoire est = \" + str(ale.accuracy(set_test)))\n",
    "print(\"l'accuracy du classifieur knn est = \" + str(knn.accuracy(set_test)))\n",
    "\n",
    "plot_frontiere(set_test,knn,20)\n",
    "plot2DSet(set_test) \n"
   ]
  },
  {
   "cell_type": "markdown",
   "metadata": {},
   "source": [
    "On observe en tournant plusieurs fois la cellule ci-dessus que le classifieur par knn avec k = 1 a toujours une performance autour des 90%, alors que le classifieur aléatoire a tout type de performance entre 0% et 100%, suivant le vecteur `w` aléatoire choisi."
   ]
  },
  {
   "cell_type": "markdown",
   "metadata": {},
   "source": [
    "### Différentes expérimentations\n",
    "\n",
    "<font color=\"RED\" size=\"+1\">**[Q]**</font> Comparer la performance (en train et test) de plusieurs classifieurs KNN avec différentes valeurs de k. Que pouvez vous constater ?\n",
    "Idéalement, vous tracerez la performance (accuracy) en fonction de la valeur de k.\n",
    "Essayez avec différentes configurations de gaussiennes."
   ]
  },
  {
   "cell_type": "code",
   "execution_count": 39,
   "metadata": {},
   "outputs": [
    {
     "name": "stdout",
     "output_type": "stream",
     "text": [
      "[100.    93.94  93.3   93.36  92.6   91.86  92.06  92.4 ]\n",
      "[87.84 90.36 90.92 91.48 91.18 90.8  91.54 91.44]\n"
     ]
    },
    {
     "data": {
      "text/plain": [
       "Text(0.5, 1.0, 'Accuracy par rapport au nombre k de voisins considerés')"
      ]
     },
     "execution_count": 39,
     "metadata": {},
     "output_type": "execute_result"
    },
    {
     "data": {
      "image/png": "[encoded data removed]",
      "text/plain": [
       "<Figure size 432x288 with 1 Axes>"
      ]
     },
     "metadata": {},
     "output_type": "display_data"
    }
   ],
   "source": [
    "tab_k = np.arange(1, 16, 2)\n",
    "tab_acc_learn = np.zeros(tab_k.size)\n",
    "tab_acc_test = np.zeros(tab_k.size)\n",
    "\n",
    "for i in range(tab_k.size):\n",
    "    for j in range (50):\n",
    "        set_learn = createGaussianDataset(np.array([1,1]),np.array([[1,0],[0,1]]),np.array([-1,-1]),np.array([[1,0],[0,1]]),50)\n",
    "        set_test = createGaussianDataset(np.array([1,1]),np.array([[1,0],[0,1]]),np.array([-1,-1]),np.array([[1,0],[0,1]]),50)\n",
    "        knn = ClassifierKNN(2,tab_k[i])\n",
    "        knn.train(set_learn)\n",
    "        tab_acc_learn[i] += knn.accuracy(set_learn)\n",
    "        tab_acc_test[i] += knn.accuracy(set_test)\n",
    "    \n",
    "tab_acc_learn = tab_acc_learn / 50\n",
    "tab_acc_test = tab_acc_test / 50\n",
    "\n",
    "print(tab_acc_learn)\n",
    "print(tab_acc_test)\n",
    "\n",
    "fig, ax = plt.subplots()\n",
    "ax.grid(True)\n",
    "plt.xlabel(\"K\")\n",
    "plt.ylabel(\"Accuracy\")\n",
    "ax.set_xticks(tab_k)\n",
    "ax.plot(tab_k, tab_acc_learn, label = 'Apprentissage') \n",
    "ax.plot(tab_k, tab_acc_test, label = 'Test')\n",
    "\n",
    "ax.legend(loc = \"upper right\")\n",
    "plt.title(\"Accuracy par rapport au nombre k de voisins considerés\")"
   ]
  },
  {
   "cell_type": "markdown",
   "metadata": {},
   "source": [
    "On remarque que l'accuracy sur les données d'entrainement vaut toujours 100% pour k = 1 et montre une tendance décroissante lorsque k augmente. D'autre part, l'accuracy sur les données de test a une tendance croissante avec l'augmentation de k. Pour k petit, on a ainsi un phénomène d'overfit, où le modèle est trop adapté aux données d'entraînement et a donc plus du mal à classifier les données de test. Lorsque k augmente, le overfit diminue et la performance du classifieur sur les données de test augmente. La performance varie très peu sur les deux ensembles de données pour k trop grand, elle reste essentiellement constante pour k >= 7. Comme le temps de calcul augmente avec le k, il est donc préférable de choisir une valeur de k assez grande pour éviter l'overfit mais pas trop grande pour limiter le temps de calcul.\n",
    "\n",
    "Lorsque l'on change les paramètres des deux gaussiennes, le comportement des courbes reste le même mais les valeurs numériques des performances changent. Quand on rapproche leurs moyennes ou augmente leurs variances, les deux ensembles sont plus difficilement séparables, et donc la performance diminue, alors que, en éloignant leurs moyennes ou diminuant leurs variances, les ensembles sont plus facilement séparables et la performance augmente."
   ]
  },
  {
   "cell_type": "markdown",
   "metadata": {},
   "source": [
    "## Étape 5 : données réelles UCI\n",
    "\n",
    "Plusieurs datasets sont téléchargeables depuis: http://mldata.org\n",
    "\n",
    "Voir : https://scikit-learn.org/0.19/datasets/mldata.html\n",
    "\n",
    "Voici la fonction permettant de les charger (en spécifiant leur nom). La fonction se charge de charger les données depuis le web."
   ]
  },
  {
   "cell_type": "code",
   "execution_count": 40,
   "metadata": {
    "collapsed": true
   },
   "outputs": [],
   "source": [
    "#from sklearn.datasets import fetch_mldata\n",
    "#\n",
    "#def loadFile(name):\n",
    "#    data = fetch_mldata(name, data_home='.')\n",
    "#    print(data.data.shape)\n",
    "#    unique=np.unique(data.target)\n",
    "#    for i in range(len(data.target)):\n",
    "#        if (data.target[i]==unique[0]):\n",
    "#            data.target[i]=1\n",
    "#        else:\n",
    "#            data.target[i]=-1\n",
    "#            \n",
    "#loadFile('breast-cancer_scale')\n",
    "#Les donnees sont dans data.data et data.target\n"
   ]
  },
  {
   "cell_type": "markdown",
   "metadata": {},
   "source": [
    "Le dataset utilisé a été recuperée de l'adresse: https://archive.ics.uci.edu/ml/datasets/iris "
   ]
  },
  {
   "cell_type": "code",
   "execution_count": 47,
   "metadata": {},
   "outputs": [
    {
     "data": {
      "text/html": [
       "<div>\n",
       "<style>\n",
       "    .dataframe thead tr:only-child th {\n",
       "        text-align: right;\n",
       "    }\n",
       "\n",
       "    .dataframe thead th {\n",
       "        text-align: left;\n",
       "    }\n",
       "\n",
       "    .dataframe tbody tr th {\n",
       "        vertical-align: top;\n",
       "    }\n",
       "</style>\n",
       "<table border=\"1\" class=\"dataframe\">\n",
       "  <thead>\n",
       "    <tr style=\"text-align: right;\">\n",
       "      <th></th>\n",
       "      <th>s_length</th>\n",
       "      <th>s_width</th>\n",
       "      <th>p_length</th>\n",
       "      <th>p_width</th>\n",
       "      <th>name</th>\n",
       "    </tr>\n",
       "  </thead>\n",
       "  <tbody>\n",
       "    <tr>\n",
       "      <th>0</th>\n",
       "      <td>5.1</td>\n",
       "      <td>3.5</td>\n",
       "      <td>1.4</td>\n",
       "      <td>0.2</td>\n",
       "      <td>Iris-setosa</td>\n",
       "    </tr>\n",
       "    <tr>\n",
       "      <th>1</th>\n",
       "      <td>4.9</td>\n",
       "      <td>3.0</td>\n",
       "      <td>1.4</td>\n",
       "      <td>0.2</td>\n",
       "      <td>Iris-setosa</td>\n",
       "    </tr>\n",
       "    <tr>\n",
       "      <th>2</th>\n",
       "      <td>4.7</td>\n",
       "      <td>3.2</td>\n",
       "      <td>1.3</td>\n",
       "      <td>0.2</td>\n",
       "      <td>Iris-setosa</td>\n",
       "    </tr>\n",
       "    <tr>\n",
       "      <th>3</th>\n",
       "      <td>4.6</td>\n",
       "      <td>3.1</td>\n",
       "      <td>1.5</td>\n",
       "      <td>0.2</td>\n",
       "      <td>Iris-setosa</td>\n",
       "    </tr>\n",
       "    <tr>\n",
       "      <th>4</th>\n",
       "      <td>5.0</td>\n",
       "      <td>3.6</td>\n",
       "      <td>1.4</td>\n",
       "      <td>0.2</td>\n",
       "      <td>Iris-setosa</td>\n",
       "    </tr>\n",
       "  </tbody>\n",
       "</table>\n",
       "</div>"
      ],
      "text/plain": [
       "   s_length  s_width  p_length  p_width         name\n",
       "0       5.1      3.5       1.4      0.2  Iris-setosa\n",
       "1       4.9      3.0       1.4      0.2  Iris-setosa\n",
       "2       4.7      3.2       1.3      0.2  Iris-setosa\n",
       "3       4.6      3.1       1.5      0.2  Iris-setosa\n",
       "4       5.0      3.6       1.4      0.2  Iris-setosa"
      ]
     },
     "execution_count": 47,
     "metadata": {},
     "output_type": "execute_result"
    }
   ],
   "source": [
    "iris_pd = pd.read_csv(\"data/bezdekIris.data.csv\", header = None, names = [\"s_length\", \"s_width\", \"p_length\", \"p_width\", \"name\"])\n",
    "\n",
    "iris_pd.head()\n"
   ]
  },
  {
   "cell_type": "code",
   "execution_count": 49,
   "metadata": {},
   "outputs": [
    {
     "data": {
      "text/html": [
       "<div>\n",
       "<style>\n",
       "    .dataframe thead tr:only-child th {\n",
       "        text-align: right;\n",
       "    }\n",
       "\n",
       "    .dataframe thead th {\n",
       "        text-align: left;\n",
       "    }\n",
       "\n",
       "    .dataframe tbody tr th {\n",
       "        vertical-align: top;\n",
       "    }\n",
       "</style>\n",
       "<table border=\"1\" class=\"dataframe\">\n",
       "  <thead>\n",
       "    <tr style=\"text-align: right;\">\n",
       "      <th></th>\n",
       "      <th>s_length</th>\n",
       "      <th>s_width</th>\n",
       "      <th>p_length</th>\n",
       "      <th>p_width</th>\n",
       "      <th>name</th>\n",
       "    </tr>\n",
       "  </thead>\n",
       "  <tbody>\n",
       "    <tr>\n",
       "      <th>50</th>\n",
       "      <td>7.0</td>\n",
       "      <td>3.2</td>\n",
       "      <td>4.7</td>\n",
       "      <td>1.4</td>\n",
       "      <td>Iris-versicolor</td>\n",
       "    </tr>\n",
       "    <tr>\n",
       "      <th>51</th>\n",
       "      <td>6.4</td>\n",
       "      <td>3.2</td>\n",
       "      <td>4.5</td>\n",
       "      <td>1.5</td>\n",
       "      <td>Iris-versicolor</td>\n",
       "    </tr>\n",
       "    <tr>\n",
       "      <th>52</th>\n",
       "      <td>6.9</td>\n",
       "      <td>3.1</td>\n",
       "      <td>4.9</td>\n",
       "      <td>1.5</td>\n",
       "      <td>Iris-versicolor</td>\n",
       "    </tr>\n",
       "    <tr>\n",
       "      <th>53</th>\n",
       "      <td>5.5</td>\n",
       "      <td>2.3</td>\n",
       "      <td>4.0</td>\n",
       "      <td>1.3</td>\n",
       "      <td>Iris-versicolor</td>\n",
       "    </tr>\n",
       "    <tr>\n",
       "      <th>54</th>\n",
       "      <td>6.5</td>\n",
       "      <td>2.8</td>\n",
       "      <td>4.6</td>\n",
       "      <td>1.5</td>\n",
       "      <td>Iris-versicolor</td>\n",
       "    </tr>\n",
       "  </tbody>\n",
       "</table>\n",
       "</div>"
      ],
      "text/plain": [
       "    s_length  s_width  p_length  p_width             name\n",
       "50       7.0      3.2       4.7      1.4  Iris-versicolor\n",
       "51       6.4      3.2       4.5      1.5  Iris-versicolor\n",
       "52       6.9      3.1       4.9      1.5  Iris-versicolor\n",
       "53       5.5      2.3       4.0      1.3  Iris-versicolor\n",
       "54       6.5      2.8       4.6      1.5  Iris-versicolor"
      ]
     },
     "execution_count": 49,
     "metadata": {},
     "output_type": "execute_result"
    }
   ],
   "source": [
    "iris_pd_test = iris_pd[iris_pd[\"name\"]!=\"Iris-setosa\"]\n",
    "iris_pd_test.head()"
   ]
  },
  {
   "cell_type": "code",
   "execution_count": 53,
   "metadata": {
    "collapsed": true
   },
   "outputs": [],
   "source": [
    "iris_test = LabeledSet(4)\n",
    "res = 0\n",
    "for i, r, in iris_pd_test.iterrows():\n",
    "    if r[\"name\"] == \"Iris-versicolor\":\n",
    "        res = 1\n",
    "    else:\n",
    "        res = -1\n",
    "    iris_test.addExample(np.array([r[\"s_length\"], r[\"s_width\"], r[\"p_length\"], r[\"p_width\"]]),res)   # ajout des vecteurs du dataset\n",
    "    "
   ]
  },
  {
   "cell_type": "code",
   "execution_count": 54,
   "metadata": {},
   "outputs": [
    {
     "name": "stdout",
     "output_type": "stream",
     "text": [
      "Exemple 0\n",
      "\tdescription :  [7.  3.2 4.7 1.4]\n",
      "\tlabel :  [1]\n",
      "Exemple 1\n",
      "\tdescription :  [6.4 3.2 4.5 1.5]\n",
      "\tlabel :  [1]\n",
      "Exemple 2\n",
      "\tdescription :  [6.9 3.1 4.9 1.5]\n",
      "\tlabel :  [1]\n",
      "Exemple 3\n",
      "\tdescription :  [5.5 2.3 4.  1.3]\n",
      "\tlabel :  [1]\n",
      "Exemple 4\n",
      "\tdescription :  [6.5 2.8 4.6 1.5]\n",
      "\tlabel :  [1]\n",
      "Exemple 5\n",
      "\tdescription :  [5.7 2.8 4.5 1.3]\n",
      "\tlabel :  [1]\n",
      "Exemple 6\n",
      "\tdescription :  [6.3 3.3 4.7 1.6]\n",
      "\tlabel :  [1]\n",
      "Exemple 7\n",
      "\tdescription :  [4.9 2.4 3.3 1. ]\n",
      "\tlabel :  [1]\n",
      "Exemple 8\n",
      "\tdescription :  [6.6 2.9 4.6 1.3]\n",
      "\tlabel :  [1]\n",
      "Exemple 9\n",
      "\tdescription :  [5.2 2.7 3.9 1.4]\n",
      "\tlabel :  [1]\n",
      "Exemple 10\n",
      "\tdescription :  [5.  2.  3.5 1. ]\n",
      "\tlabel :  [1]\n",
      "Exemple 11\n",
      "\tdescription :  [5.9 3.  4.2 1.5]\n",
      "\tlabel :  [1]\n",
      "Exemple 12\n",
      "\tdescription :  [6.  2.2 4.  1. ]\n",
      "\tlabel :  [1]\n",
      "Exemple 13\n",
      "\tdescription :  [6.1 2.9 4.7 1.4]\n",
      "\tlabel :  [1]\n",
      "Exemple 14\n",
      "\tdescription :  [5.6 2.9 3.6 1.3]\n",
      "\tlabel :  [1]\n",
      "Exemple 15\n",
      "\tdescription :  [6.7 3.1 4.4 1.4]\n",
      "\tlabel :  [1]\n",
      "Exemple 16\n",
      "\tdescription :  [5.6 3.  4.5 1.5]\n",
      "\tlabel :  [1]\n",
      "Exemple 17\n",
      "\tdescription :  [5.8 2.7 4.1 1. ]\n",
      "\tlabel :  [1]\n",
      "Exemple 18\n",
      "\tdescription :  [6.2 2.2 4.5 1.5]\n",
      "\tlabel :  [1]\n",
      "Exemple 19\n",
      "\tdescription :  [5.6 2.5 3.9 1.1]\n",
      "\tlabel :  [1]\n",
      "Exemple 20\n",
      "\tdescription :  [5.9 3.2 4.8 1.8]\n",
      "\tlabel :  [1]\n",
      "Exemple 21\n",
      "\tdescription :  [6.1 2.8 4.  1.3]\n",
      "\tlabel :  [1]\n",
      "Exemple 22\n",
      "\tdescription :  [6.3 2.5 4.9 1.5]\n",
      "\tlabel :  [1]\n",
      "Exemple 23\n",
      "\tdescription :  [6.1 2.8 4.7 1.2]\n",
      "\tlabel :  [1]\n",
      "Exemple 24\n",
      "\tdescription :  [6.4 2.9 4.3 1.3]\n",
      "\tlabel :  [1]\n",
      "Exemple 25\n",
      "\tdescription :  [6.6 3.  4.4 1.4]\n",
      "\tlabel :  [1]\n",
      "Exemple 26\n",
      "\tdescription :  [6.8 2.8 4.8 1.4]\n",
      "\tlabel :  [1]\n",
      "Exemple 27\n",
      "\tdescription :  [6.7 3.  5.  1.7]\n",
      "\tlabel :  [1]\n",
      "Exemple 28\n",
      "\tdescription :  [6.  2.9 4.5 1.5]\n",
      "\tlabel :  [1]\n",
      "Exemple 29\n",
      "\tdescription :  [5.7 2.6 3.5 1. ]\n",
      "\tlabel :  [1]\n",
      "Exemple 30\n",
      "\tdescription :  [5.5 2.4 3.8 1.1]\n",
      "\tlabel :  [1]\n",
      "Exemple 31\n",
      "\tdescription :  [5.5 2.4 3.7 1. ]\n",
      "\tlabel :  [1]\n",
      "Exemple 32\n",
      "\tdescription :  [5.8 2.7 3.9 1.2]\n",
      "\tlabel :  [1]\n",
      "Exemple 33\n",
      "\tdescription :  [6.  2.7 5.1 1.6]\n",
      "\tlabel :  [1]\n",
      "Exemple 34\n",
      "\tdescription :  [5.4 3.  4.5 1.5]\n",
      "\tlabel :  [1]\n",
      "Exemple 35\n",
      "\tdescription :  [6.  3.4 4.5 1.6]\n",
      "\tlabel :  [1]\n",
      "Exemple 36\n",
      "\tdescription :  [6.7 3.1 4.7 1.5]\n",
      "\tlabel :  [1]\n",
      "Exemple 37\n",
      "\tdescription :  [6.3 2.3 4.4 1.3]\n",
      "\tlabel :  [1]\n",
      "Exemple 38\n",
      "\tdescription :  [5.6 3.  4.1 1.3]\n",
      "\tlabel :  [1]\n",
      "Exemple 39\n",
      "\tdescription :  [5.5 2.5 4.  1.3]\n",
      "\tlabel :  [1]\n",
      "Exemple 40\n",
      "\tdescription :  [5.5 2.6 4.4 1.2]\n",
      "\tlabel :  [1]\n",
      "Exemple 41\n",
      "\tdescription :  [6.1 3.  4.6 1.4]\n",
      "\tlabel :  [1]\n",
      "Exemple 42\n",
      "\tdescription :  [5.8 2.6 4.  1.2]\n",
      "\tlabel :  [1]\n",
      "Exemple 43\n",
      "\tdescription :  [5.  2.3 3.3 1. ]\n",
      "\tlabel :  [1]\n",
      "Exemple 44\n",
      "\tdescription :  [5.6 2.7 4.2 1.3]\n",
      "\tlabel :  [1]\n",
      "Exemple 45\n",
      "\tdescription :  [5.7 3.  4.2 1.2]\n",
      "\tlabel :  [1]\n",
      "Exemple 46\n",
      "\tdescription :  [5.7 2.9 4.2 1.3]\n",
      "\tlabel :  [1]\n",
      "Exemple 47\n",
      "\tdescription :  [6.2 2.9 4.3 1.3]\n",
      "\tlabel :  [1]\n",
      "Exemple 48\n",
      "\tdescription :  [5.1 2.5 3.  1.1]\n",
      "\tlabel :  [1]\n",
      "Exemple 49\n",
      "\tdescription :  [5.7 2.8 4.1 1.3]\n",
      "\tlabel :  [1]\n",
      "Exemple 50\n",
      "\tdescription :  [6.3 3.3 6.  2.5]\n",
      "\tlabel :  [-1]\n",
      "Exemple 51\n",
      "\tdescription :  [5.8 2.7 5.1 1.9]\n",
      "\tlabel :  [-1]\n",
      "Exemple 52\n",
      "\tdescription :  [7.1 3.  5.9 2.1]\n",
      "\tlabel :  [-1]\n",
      "Exemple 53\n",
      "\tdescription :  [6.3 2.9 5.6 1.8]\n",
      "\tlabel :  [-1]\n",
      "Exemple 54\n",
      "\tdescription :  [6.5 3.  5.8 2.2]\n",
      "\tlabel :  [-1]\n",
      "Exemple 55\n",
      "\tdescription :  [7.6 3.  6.6 2.1]\n",
      "\tlabel :  [-1]\n",
      "Exemple 56\n",
      "\tdescription :  [4.9 2.5 4.5 1.7]\n",
      "\tlabel :  [-1]\n",
      "Exemple 57\n",
      "\tdescription :  [7.3 2.9 6.3 1.8]\n",
      "\tlabel :  [-1]\n",
      "Exemple 58\n",
      "\tdescription :  [6.7 2.5 5.8 1.8]\n",
      "\tlabel :  [-1]\n",
      "Exemple 59\n",
      "\tdescription :  [7.2 3.6 6.1 2.5]\n",
      "\tlabel :  [-1]\n",
      "Exemple 60\n",
      "\tdescription :  [6.5 3.2 5.1 2. ]\n",
      "\tlabel :  [-1]\n",
      "Exemple 61\n",
      "\tdescription :  [6.4 2.7 5.3 1.9]\n",
      "\tlabel :  [-1]\n",
      "Exemple 62\n",
      "\tdescription :  [6.8 3.  5.5 2.1]\n",
      "\tlabel :  [-1]\n",
      "Exemple 63\n",
      "\tdescription :  [5.7 2.5 5.  2. ]\n",
      "\tlabel :  [-1]\n",
      "Exemple 64\n",
      "\tdescription :  [5.8 2.8 5.1 2.4]\n",
      "\tlabel :  [-1]\n",
      "Exemple 65\n",
      "\tdescription :  [6.4 3.2 5.3 2.3]\n",
      "\tlabel :  [-1]\n",
      "Exemple 66\n",
      "\tdescription :  [6.5 3.  5.5 1.8]\n",
      "\tlabel :  [-1]\n",
      "Exemple 67\n",
      "\tdescription :  [7.7 3.8 6.7 2.2]\n",
      "\tlabel :  [-1]\n",
      "Exemple 68\n",
      "\tdescription :  [7.7 2.6 6.9 2.3]\n",
      "\tlabel :  [-1]\n",
      "Exemple 69\n",
      "\tdescription :  [6.  2.2 5.  1.5]\n",
      "\tlabel :  [-1]\n",
      "Exemple 70\n",
      "\tdescription :  [6.9 3.2 5.7 2.3]\n",
      "\tlabel :  [-1]\n",
      "Exemple 71\n",
      "\tdescription :  [5.6 2.8 4.9 2. ]\n",
      "\tlabel :  [-1]\n",
      "Exemple 72\n",
      "\tdescription :  [7.7 2.8 6.7 2. ]\n",
      "\tlabel :  [-1]\n",
      "Exemple 73\n",
      "\tdescription :  [6.3 2.7 4.9 1.8]\n",
      "\tlabel :  [-1]\n",
      "Exemple 74\n",
      "\tdescription :  [6.7 3.3 5.7 2.1]\n",
      "\tlabel :  [-1]\n",
      "Exemple 75\n",
      "\tdescription :  [7.2 3.2 6.  1.8]\n",
      "\tlabel :  [-1]\n",
      "Exemple 76\n",
      "\tdescription :  [6.2 2.8 4.8 1.8]\n",
      "\tlabel :  [-1]\n",
      "Exemple 77\n",
      "\tdescription :  [6.1 3.  4.9 1.8]\n",
      "\tlabel :  [-1]\n",
      "Exemple 78\n",
      "\tdescription :  [6.4 2.8 5.6 2.1]\n",
      "\tlabel :  [-1]\n",
      "Exemple 79\n",
      "\tdescription :  [7.2 3.  5.8 1.6]\n",
      "\tlabel :  [-1]\n",
      "Exemple 80\n",
      "\tdescription :  [7.4 2.8 6.1 1.9]\n",
      "\tlabel :  [-1]\n",
      "Exemple 81\n",
      "\tdescription :  [7.9 3.8 6.4 2. ]\n",
      "\tlabel :  [-1]\n",
      "Exemple 82\n",
      "\tdescription :  [6.4 2.8 5.6 2.2]\n",
      "\tlabel :  [-1]\n",
      "Exemple 83\n",
      "\tdescription :  [6.3 2.8 5.1 1.5]\n",
      "\tlabel :  [-1]\n",
      "Exemple 84\n",
      "\tdescription :  [6.1 2.6 5.6 1.4]\n",
      "\tlabel :  [-1]\n",
      "Exemple 85\n",
      "\tdescription :  [7.7 3.  6.1 2.3]\n",
      "\tlabel :  [-1]\n",
      "Exemple 86\n",
      "\tdescription :  [6.3 3.4 5.6 2.4]\n",
      "\tlabel :  [-1]\n",
      "Exemple 87\n",
      "\tdescription :  [6.4 3.1 5.5 1.8]\n",
      "\tlabel :  [-1]\n",
      "Exemple 88\n",
      "\tdescription :  [6.  3.  4.8 1.8]\n",
      "\tlabel :  [-1]\n",
      "Exemple 89\n",
      "\tdescription :  [6.9 3.1 5.4 2.1]\n",
      "\tlabel :  [-1]\n",
      "Exemple 90\n",
      "\tdescription :  [6.7 3.1 5.6 2.4]\n",
      "\tlabel :  [-1]\n",
      "Exemple 91\n",
      "\tdescription :  [6.9 3.1 5.1 2.3]\n",
      "\tlabel :  [-1]\n",
      "Exemple 92\n",
      "\tdescription :  [5.8 2.7 5.1 1.9]\n",
      "\tlabel :  [-1]\n",
      "Exemple 93\n",
      "\tdescription :  [6.8 3.2 5.9 2.3]\n",
      "\tlabel :  [-1]\n",
      "Exemple 94\n",
      "\tdescription :  [6.7 3.3 5.7 2.5]\n",
      "\tlabel :  [-1]\n",
      "Exemple 95\n",
      "\tdescription :  [6.7 3.  5.2 2.3]\n",
      "\tlabel :  [-1]\n",
      "Exemple 96\n",
      "\tdescription :  [6.3 2.5 5.  1.9]\n",
      "\tlabel :  [-1]\n",
      "Exemple 97\n",
      "\tdescription :  [6.5 3.  5.2 2. ]\n",
      "\tlabel :  [-1]\n",
      "Exemple 98\n",
      "\tdescription :  [6.2 3.4 5.4 2.3]\n",
      "\tlabel :  [-1]\n",
      "Exemple 99\n",
      "\tdescription :  [5.9 3.  5.1 1.8]\n",
      "\tlabel :  [-1]\n"
     ]
    }
   ],
   "source": [
    "affiche_base(iris_test)"
   ]
  },
  {
   "cell_type": "markdown",
   "metadata": {},
   "source": [
    "<font color=\"RED\" size=\"+1\">**[Q]**</font> Écrire la fonction `split` permettant de découper un labeledSet données en 2: un ensemble d'apprentissage et un ensemble de test."
   ]
  },
  {
   "cell_type": "code",
   "execution_count": 55,
   "metadata": {
    "collapsed": true
   },
   "outputs": [],
   "source": [
    "def split(l_set,  p_train = 0.85):\n",
    "    \"\"\"\n",
    "    Sépare le LabeledSet l_set de façon aléatoire en deux LabeledSet, \n",
    "    l'un pour l'entrainement et l'autre pour les tests. \n",
    "    Le paramètre p_train donne la probabilité qu'une entrée de l_set soit mise dans le LabeledSet d'entrainement.\n",
    "    \"\"\"\n",
    "    l_set_train = LabeledSet(l_set.getInputDimension())\n",
    "    l_set_test = LabeledSet(l_set.getInputDimension())\n",
    "    taille = l_set.size()\n",
    "    for i in range(taille):\n",
    "        if np.random.rand() < p_train:\n",
    "            l_set_train.addExample(l_set.getX(i), l_set.getY(i))\n",
    "        else:\n",
    "            l_set_test.addExample(l_set.getX(i), l_set.getY(i))\n",
    "    return l_set_train, l_set_test"
   ]
  },
  {
   "cell_type": "markdown",
   "metadata": {},
   "source": [
    "Comme les deux types de données, +1 et -1, sont séparées dans les deux LabeledSet avec la même probabilité, leur proportion sera préservée, en moyenne, par rapport à leur proportion originelle dans l_set."
   ]
  },
  {
   "cell_type": "markdown",
   "metadata": {},
   "source": [
    "<font color=\"RED\" size=\"+1\">**[Q]**</font> Tester différents k-NN , pour différentes valeurs de $k$, et tracer la courbe de performance (accuracy) pour les données d'apprentissage et les données de test."
   ]
  },
  {
   "cell_type": "code",
   "execution_count": 59,
   "metadata": {},
   "outputs": [
    {
     "name": "stdout",
     "output_type": "stream",
     "text": [
      "[100.          94.34875256  95.55766882  96.08147253  96.88035239\n",
      "  96.41131246  96.65162995  96.88868306  96.43358687  95.97781256\n",
      "  95.8105534 ]\n",
      "[90.95932639 93.72683867 94.99871947 95.43164672 94.33270745 96.02968594\n",
      " 95.18130534 94.76252269 95.24236016 95.10479383 94.71707758]\n"
     ]
    },
    {
     "data": {
      "text/plain": [
       "Text(0.5, 1.0, 'Accuracy par rapport au nombre k de voisins considerés')"
      ]
     },
     "execution_count": 59,
     "metadata": {},
     "output_type": "execute_result"
    },
    {
     "data": {
      "image/png": "[encoded data removed]",
      "text/plain": [
       "<Figure size 432x288 with 1 Axes>"
      ]
     },
     "metadata": {},
     "output_type": "display_data"
    }
   ],
   "source": [
    "tab_k = np.arange(1, 22, 2)\n",
    "tab_acc_learn = np.zeros(tab_k.size)\n",
    "tab_acc_test = np.zeros(tab_k.size)\n",
    "\n",
    "for i in range(tab_k.size):\n",
    "    for j in range (50):\n",
    "        set_learn, set_test = split(iris_test,  p_train = 0.85) \n",
    "        knn = ClassifierKNN(2,tab_k[i])\n",
    "        knn.train(set_learn)\n",
    "        tab_acc_learn[i] += knn.accuracy(set_learn)\n",
    "        tab_acc_test[i] += knn.accuracy(set_test)\n",
    "    \n",
    "tab_acc_learn = tab_acc_learn / 50\n",
    "tab_acc_test = tab_acc_test / 50\n",
    "\n",
    "print(tab_acc_learn)\n",
    "print(tab_acc_test)\n",
    "\n",
    "fig, ax = plt.subplots()\n",
    "ax.grid(True)\n",
    "plt.xlabel(\"K\")\n",
    "plt.ylabel(\"Accuracy\")\n",
    "ax.set_xticks(tab_k)\n",
    "ax.plot(tab_k, tab_acc_learn, label = 'Apprentissage') \n",
    "ax.plot(tab_k, tab_acc_test, label = 'Test')\n",
    "\n",
    "ax.legend(loc = \"upper right\")\n",
    "plt.title(\"Accuracy par rapport au nombre k de voisins considerés\")"
   ]
  },
  {
   "cell_type": "markdown",
   "metadata": {},
   "source": [
    "L'accuracy a essentiellement le même comportement que dans les données générées aléatoirement. Elle est très bonne, de l'ordre de 95% sur les données de test, car les données utilisées sont bien séparées, comme l'on peut voir en regardant le fichier .csv avec les données."
   ]
  }
 ],
 "metadata": {
  "kernelspec": {
   "display_name": "Python 3",
   "language": "python",
   "name": "python3"
  },
  "language_info": {
   "codemirror_mode": {
    "name": "ipython",
    "version": 3
   },
   "file_extension": ".py",
   "mimetype": "text/x-python",
   "name": "python",
   "nbconvert_exporter": "python",
   "pygments_lexer": "ipython3",
   "version": "3.6.2"
  }
 },
 "nbformat": 4,
 "nbformat_minor": 1
}
