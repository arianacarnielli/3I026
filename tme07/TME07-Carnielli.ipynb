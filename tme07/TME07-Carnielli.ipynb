{
 "cells": [
  {
   "cell_type": "markdown",
   "metadata": {},
   "source": [
    "IA & Data science (3i026) -- 2018-2019\n",
    "--------\n",
    "*&copy; Equipe pédagogique: Manon Ansart, Vincent Guigue, Marie-Jeanne Lesot, Christophe Marsala, Olivier Schwander.*"
   ]
  },
  {
   "cell_type": "markdown",
   "metadata": {},
   "source": [
    "# TD-TME07: algorithmes d'apprentissage non-supervisé"
   ]
  },
  {
   "cell_type": "markdown",
   "metadata": {},
   "source": [
    "L'objectif de cette séance est d'implémenter des algorithmes d'apprentissage non-supervisé (cf. cours 8), en particulier, l'algorithme de classification hiérarchique."
   ]
  },
  {
   "cell_type": "markdown",
   "metadata": {},
   "source": [
    "<font size=\"+1\" color=\"RED\">**[Q]**</font> **Indiquer dans la boîte ci-dessous vos noms et prénoms :**"
   ]
  },
  {
   "cell_type": "markdown",
   "metadata": {},
   "source": [
    "CARNIELLI Ariana"
   ]
  },
  {
   "cell_type": "markdown",
   "metadata": {},
   "source": [
    "<font color=\"RED\" size=\"+1\">**[Q]**</font> **Renommer ce fichier ipython**\n",
    "\n",
    "Tout en haut de cette page, cliquer sur <tt>TD-TME07</tt> et rajouter à la suite de <tt>TD-TME07</tt> les noms des membres du binômes séparés par un tiret."
   ]
  },
  {
   "cell_type": "markdown",
   "metadata": {},
   "source": [
    "\n",
    "## Préparation"
   ]
  },
  {
   "cell_type": "markdown",
   "metadata": {},
   "source": [
    "L'archive récupérée avec ce fichier contient aussi le répertoire <code>data</code> qui contient les bases pour expérimenter vos fonctions."
   ]
  },
  {
   "cell_type": "markdown",
   "metadata": {},
   "source": [
    "Avant de commencer, exécuter le bloc suivant afin de pouvoir initialiser des variables utiles :"
   ]
  },
  {
   "cell_type": "code",
   "execution_count": 1,
   "metadata": {},
   "outputs": [],
   "source": [
    "import numpy as np\n",
    "import pandas as pd\n",
    "from datetime import datetime as dt\n",
    "import matplotlib.pyplot as plt\n",
    "%matplotlib inline  "
   ]
  },
  {
   "cell_type": "markdown",
   "metadata": {},
   "source": [
    "## Travail à réaliser"
   ]
  },
  {
   "cell_type": "markdown",
   "metadata": {},
   "source": [
    "Le travail à faire se décompose en 2 phases :\n",
    "- dans un premier temps, le travail porte sur la base d'apprentissage <code>base-2D.csv</code> qui contient des exemples décrits dans $R^2$. Ainsi, il est plus aisé de visualiser les résultats des fonctions à écrire ;\n",
    "- dans un second temps, les fonctions écrites dans la phase précédente sont à utiliser avec la base d'apprentissage \"base-Paris.csv\".\n",
    "\n",
    "**Attention**: vos fonctions doivent **dès leur création** pouvoir s'appliquer **quelle que soit la dimension** des exemples traités."
   ]
  },
  {
   "cell_type": "markdown",
   "metadata": {},
   "source": [
    "## Phase 1: implémentation des fonctions de base"
   ]
  },
  {
   "cell_type": "markdown",
   "metadata": {},
   "source": [
    "### Chargement du fichier \"base_2D.csv\""
   ]
  },
  {
   "cell_type": "markdown",
   "metadata": {},
   "source": [
    "La lecture d'un fichier CSV par <code>pd.read()</code> fournit un <code>DataFrame</code> que vous avez appris à manipuler dans les séances précédentes."
   ]
  },
  {
   "cell_type": "code",
   "execution_count": 2,
   "metadata": {},
   "outputs": [
    {
     "name": "stdout",
     "output_type": "stream",
     "text": [
      "Il y a 14 exemples dans la base.\n"
     ]
    }
   ],
   "source": [
    "# Par exemple:\n",
    "data_2D = pd.read_csv(\"data/base-2D.csv\")\n",
    "print(\"Il y a\", len(data_2D), \"exemples dans la base.\")"
   ]
  },
  {
   "cell_type": "markdown",
   "metadata": {},
   "source": [
    "<font size=\"+1\" color=\"RED\">**[Q]**</font> Exécuter le code suivant qui permet de réaliser une représentation graphique de cette base d'apprentissage.\n"
   ]
  },
  {
   "cell_type": "code",
   "execution_count": 3,
   "metadata": {},
   "outputs": [
    {
     "data": {
      "image/png": "[encoded data removed]",
      "text/plain": [
       "<Figure size 432x288 with 1 Axes>"
      ]
     },
     "metadata": {
      "needs_background": "light"
     },
     "output_type": "display_data"
    }
   ],
   "source": [
    "M_data2D= data_2D.to_numpy()      # conversion du DataFrame en matrice pour la commande suivante\n",
    "colonne_X= M_data2D[0: , 0]        # récupération des valeurs de la première colonne\n",
    "colonne_Y= M_data2D[0: , 1]        # récupération des valeurs de la deuxième colonne\n",
    "plt.scatter(colonne_X, colonne_Y);  # affichage des points"
   ]
  },
  {
   "cell_type": "markdown",
   "metadata": {},
   "source": [
    "J'ai changé la méthode `as_matrix()` par la méthode `to_numpy()` car la première est depreciée. "
   ]
  },
  {
   "cell_type": "markdown",
   "metadata": {},
   "source": [
    "## Fonctions préliminaires"
   ]
  },
  {
   "cell_type": "markdown",
   "metadata": {},
   "source": [
    "### Normalisation des données"
   ]
  },
  {
   "cell_type": "markdown",
   "metadata": {},
   "source": [
    "<font size=\"+1\" color=\"RED\">**[Q]**</font> Ecrire la fonction <code>normalisation</code> qui prend en argument un <code>DataFrame</code> et rend la matrice obtenue en normalisant chaque colonne de ce <code>DataFrame</code> en appliquant la normalisation vue en cours.\n"
   ]
  },
  {
   "cell_type": "code",
   "execution_count": 4,
   "metadata": {},
   "outputs": [],
   "source": [
    "def normalisation(df):\n",
    "    mat = df.to_numpy() \n",
    "    for i in range(mat.shape[1]):\n",
    "        mat[:,i] = (mat[:,i] - mat[:,i].min())/(mat[:,i].max() - mat[:,i].min())\n",
    "    return mat"
   ]
  },
  {
   "cell_type": "markdown",
   "metadata": {},
   "source": [
    "**[Q]** Normaliser les données de la base-2D et afficher leur représentation graphique: vérifier que le tracé est le même que celui obtenu avant la normalisation (aux valeurs des axes près)."
   ]
  },
  {
   "cell_type": "code",
   "execution_count": 5,
   "metadata": {},
   "outputs": [
    {
     "data": {
      "image/png": "[encoded data removed]",
      "text/plain": [
       "<Figure size 432x288 with 1 Axes>"
      ]
     },
     "metadata": {
      "needs_background": "light"
     },
     "output_type": "display_data"
    }
   ],
   "source": [
    "M_data2D_norm= normalisation(data_2D)    \n",
    "colonne_X= M_data2D[:,0]        \n",
    "colonne_Y= M_data2D[:,1]        \n",
    "plt.scatter(colonne_X, colonne_Y);"
   ]
  },
  {
   "cell_type": "markdown",
   "metadata": {},
   "source": [
    "Comme attendu, l'affichage ne change presque pas. La seule différence sont les axes qui maintenant ont des valeurs entre 0 et 1."
   ]
  },
  {
   "cell_type": "markdown",
   "metadata": {},
   "source": [
    "### Distances entre exemples"
   ]
  },
  {
   "cell_type": "markdown",
   "metadata": {},
   "source": [
    "<font size=\"+1\" color=\"RED\">**[Q]**</font> Ecrire la fonction <code>dist_euclidienne_vect</code> qui prend en argument deux exemples sous la forme de vecteurs et rend leur distance euclidienne. "
   ]
  },
  {
   "cell_type": "code",
   "execution_count": 6,
   "metadata": {},
   "outputs": [],
   "source": [
    "def dist_euclidienne_vect(vect1, vect2):\n",
    "    return np.linalg.norm(vect1 - vect2)"
   ]
  },
  {
   "cell_type": "code",
   "execution_count": 7,
   "metadata": {},
   "outputs": [
    {
     "name": "stdout",
     "output_type": "stream",
     "text": [
      "v1 :  [0.  0.6] \n",
      "v2 :  [0.14285714 0.5       ]\n",
      "distance euclidienne entre v1 et v2 :  0.17437936593905287\n"
     ]
    }
   ],
   "source": [
    "# Exemple d'utilisation sur les 2 premiers exemples de la base:\n",
    "v1= M_data2D[0,:]\n",
    "v2= M_data2D[1,:]\n",
    "print(\"v1 : \",v1, \"\\nv2 : \",v2)\n",
    "\n",
    "print(\"distance euclidienne entre v1 et v2 : \", dist_euclidienne_vect(v1,v2))"
   ]
  },
  {
   "cell_type": "markdown",
   "metadata": {},
   "source": [
    "<font size=\"+1\" color=\"RED\">**[Q]**</font> Ecrire la fonction <code>dist_manhattan_vect</code> qui prend en argument deux exemples et rend leur distance de Manhattan. "
   ]
  },
  {
   "cell_type": "code",
   "execution_count": 8,
   "metadata": {},
   "outputs": [],
   "source": [
    "def dist_manhattan_vect(vect1, vect2):\n",
    "    return np.linalg.norm((vect1 - vect2), 1)"
   ]
  },
  {
   "cell_type": "markdown",
   "metadata": {},
   "source": [
    "Pour les deux cas la fonction `linalg.norm()` déjà existante en Numpy calcule les distances de façon efficace."
   ]
  },
  {
   "cell_type": "code",
   "execution_count": 9,
   "metadata": {
    "scrolled": true
   },
   "outputs": [
    {
     "name": "stdout",
     "output_type": "stream",
     "text": [
      "v1 :  [0.  0.6] \n",
      "v2 :  [0.14285714 0.5       ]\n",
      "distance de Manhattan entre v1 et v2 :  0.24285714285714283\n"
     ]
    }
   ],
   "source": [
    "# Exemple d'utilisation sur les 2 premiers exemples de la base:\n",
    "v1= M_data2D[0,:]\n",
    "v2= M_data2D[1,:]\n",
    "print(\"v1 : \",v1, \"\\nv2 : \",v2)\n",
    "\n",
    "print(\"distance de Manhattan entre v1 et v2 : \", dist_manhattan_vect(v1,v2))"
   ]
  },
  {
   "cell_type": "markdown",
   "metadata": {},
   "source": [
    "<font size=\"+1\" color=\"RED\">**[Q]**</font> Ecrire la fonction <code>dist_vect</code> qui prend en argument une chaîne de caractères (soit la chaîne \"euclidienne\", soit \"manhattan\") ainsi que deux vecteurs et qui rend leur distance soit euclidienne, soit de Manhattan selon le cas."
   ]
  },
  {
   "cell_type": "code",
   "execution_count": 10,
   "metadata": {},
   "outputs": [],
   "source": [
    "def dist_vect(chaine, vect1, vect2):\n",
    "    if chaine == \"euclidienne\":\n",
    "        return dist_euclidienne_vect(vect1, vect2)\n",
    "    else:\n",
    "        return dist_manhattan_vect(vect1, vect2)"
   ]
  },
  {
   "cell_type": "code",
   "execution_count": 11,
   "metadata": {
    "scrolled": true
   },
   "outputs": [
    {
     "name": "stdout",
     "output_type": "stream",
     "text": [
      "v1 :  [0.  0.6] \n",
      "v2 :  [0.14285714 0.5       ]\n",
      "distance  euclidienne  entre v1 et v2 :\t 0.17437936593905287\n",
      "distance  manhattan  entre v1 et v2 :\t 0.24285714285714283\n"
     ]
    }
   ],
   "source": [
    "v1= M_data2D[0,:]\n",
    "v2= M_data2D[1,:]\n",
    "print(\"v1 : \",v1, \"\\nv2 : \",v2)\n",
    "\n",
    "for nom in [\"euclidienne\", \"manhattan\"] :\n",
    "    print(\"distance \", nom, \" entre v1 et v2 :\\t\", dist_vect(nom,v1,v2))\n"
   ]
  },
  {
   "cell_type": "markdown",
   "metadata": {},
   "source": [
    "### Calcul de centroides"
   ]
  },
  {
   "cell_type": "markdown",
   "metadata": {},
   "source": [
    "<font size=\"+1\" color=\"RED\">**[Q]**</font> Ecrire la fonction <code>centroide</code> qui, étant donné une matrice représentant plusieurs exemples rend le centroide (calculé en faisant la moyenne de chaque composante des vecteurs de la matrice).\n",
    "On fait l'hypothèse que la matrice contient toujours au moins un exemple."
   ]
  },
  {
   "cell_type": "code",
   "execution_count": 12,
   "metadata": {},
   "outputs": [],
   "source": [
    "def centroide(mat):\n",
    "    return mat.mean(0)"
   ]
  },
  {
   "cell_type": "code",
   "execution_count": 13,
   "metadata": {},
   "outputs": [
    {
     "data": {
      "text/plain": [
       "array([[0.        , 0.6       ],\n",
       "       [0.14285714, 0.5       ],\n",
       "       [0.14285714, 0.        ],\n",
       "       [0.28571429, 0.        ],\n",
       "       [0.28571429, 0.2       ],\n",
       "       [0.57142857, 0.6       ],\n",
       "       [0.57142857, 0.8       ],\n",
       "       [0.57142857, 1.        ],\n",
       "       [0.64285714, 0.        ],\n",
       "       [0.64285714, 1.        ],\n",
       "       [0.71428571, 0.        ],\n",
       "       [0.71428571, 0.8       ],\n",
       "       [0.85714286, 0.2       ],\n",
       "       [1.        , 0.6       ]])"
      ]
     },
     "execution_count": 13,
     "metadata": {},
     "output_type": "execute_result"
    }
   ],
   "source": [
    "M_data2D"
   ]
  },
  {
   "cell_type": "code",
   "execution_count": 14,
   "metadata": {},
   "outputs": [
    {
     "data": {
      "text/plain": [
       "array([0.51020408, 0.45      ])"
      ]
     },
     "execution_count": 14,
     "metadata": {},
     "output_type": "execute_result"
    }
   ],
   "source": [
    "centroide(M_data2D)"
   ]
  },
  {
   "cell_type": "markdown",
   "metadata": {},
   "source": [
    "### Distances entre groupes d'exemples\n"
   ]
  },
  {
   "cell_type": "markdown",
   "metadata": {},
   "source": [
    "La distance entre deux groupes d'exemples correspond à la distance entre leurs centroïdes (approche \"centroid linkage\").\n",
    "\n",
    "<font size=\"+1\" color=\"RED\">**[Q]**</font> Ecrire la fonction <code>dist_groupes</code> qui prend en argument une chaîne de caractères (soit \"euclidienne\", soit \"manhattan\") ainsi que deux groupes de vecteurs et qui rend leur distance soit euclidienne, soit de Manhattan selon le cas.\n"
   ]
  },
  {
   "cell_type": "code",
   "execution_count": 72,
   "metadata": {},
   "outputs": [],
   "source": [
    "def dist_groupes(chaine, mat1, mat2):\n",
    "    cent1 = centroide(mat1)\n",
    "    cent2 = centroide(mat2) \n",
    "    #print(\"centroide 1 : \", cent1)\n",
    "    #print(\"centroide 2 : \", cent2)\n",
    "    return dist_vect(chaine, cent1, cent2)"
   ]
  },
  {
   "cell_type": "code",
   "execution_count": 16,
   "metadata": {},
   "outputs": [
    {
     "data": {
      "text/plain": [
       "0.586345478713841"
      ]
     },
     "execution_count": 16,
     "metadata": {},
     "output_type": "execute_result"
    }
   ],
   "source": [
    "# par exemple :\n",
    "dist_groupes(\"euclidienne\", M_data2D[0:4], M_data2D[5:13])"
   ]
  },
  {
   "cell_type": "markdown",
   "metadata": {},
   "source": [
    "## L'algorithme de classification hiérarchique"
   ]
  },
  {
   "cell_type": "markdown",
   "metadata": {},
   "source": [
    "Dans la suite de cet exercice, une partition (qui est un groupe de clusters) est représentée par une structure de données de type dictionnaire (<code>dict()</code> en python) :\n",
    "- la clé est un numéro de cluster (sous la forme d'un entier naturel) ;\n",
    "- la valeur associée est une matrice contenant les exemples qui sont dans le cluster correspondant.\n",
    "\n",
    "On appelle \"partition\" un tel dictionnaire.\n"
   ]
  },
  {
   "cell_type": "markdown",
   "metadata": {},
   "source": [
    "<font size=\"+1\" color=\"RED\">**[Q]**</font> Ecrire la fonction <code>initialise</code> qui, étant donné une matrice M d'exemples, rend un dictionnaire contenant autant d'entrées que d'exemples dans M. Dans ce dictionnaire, une clé est numéro d'exemple (un entier compris entre 0 et n-1, le nombre d'exemples) et la valeur associée est une matrice d'exemples contenant un exemple de M."
   ]
  },
  {
   "cell_type": "code",
   "execution_count": 17,
   "metadata": {},
   "outputs": [],
   "source": [
    "def initialise(M):\n",
    "    return {i: M[i,:].reshape((1,M.shape[1])) for i in range(M.shape[0])}"
   ]
  },
  {
   "cell_type": "code",
   "execution_count": 18,
   "metadata": {},
   "outputs": [
    {
     "data": {
      "text/plain": [
       "{0: array([[0. , 0.6]]),\n",
       " 1: array([[0.14285714, 0.5       ]]),\n",
       " 2: array([[0.14285714, 0.        ]]),\n",
       " 3: array([[0.28571429, 0.        ]]),\n",
       " 4: array([[0.28571429, 0.2       ]]),\n",
       " 5: array([[0.57142857, 0.6       ]]),\n",
       " 6: array([[0.57142857, 0.8       ]]),\n",
       " 7: array([[0.57142857, 1.        ]]),\n",
       " 8: array([[0.64285714, 0.        ]]),\n",
       " 9: array([[0.64285714, 1.        ]]),\n",
       " 10: array([[0.71428571, 0.        ]]),\n",
       " 11: array([[0.71428571, 0.8       ]]),\n",
       " 12: array([[0.85714286, 0.2       ]]),\n",
       " 13: array([[1. , 0.6]])}"
      ]
     },
     "execution_count": 18,
     "metadata": {},
     "output_type": "execute_result"
    }
   ],
   "source": [
    "# Par exemple:\n",
    "depart = initialise(M_data2D)\n",
    "# cette partition contient autant de clusters que d'exemples: on a un cluster par exemple.\n",
    "depart "
   ]
  },
  {
   "cell_type": "markdown",
   "metadata": {},
   "source": [
    "### Variante 1: chaînage par centroides"
   ]
  },
  {
   "cell_type": "markdown",
   "metadata": {},
   "source": [
    "On souhaite implémenter ici l'algorithme de classification hiérarchique basé sur l'utilisation d'un chaînage par centroides (approche \"centroid linkage\").\n",
    "\n",
    "On commence par implémenter une fonction qui, étant donné une partition, permet de regrouper les 2 clusters les plus proches. Ces 2 clusters sont alors fusionnés pour n'en former qu'un seul qui est ajouté à la partition, alors que les 2 clusters initiaux sont retirés de la partition.\n",
    "On fait l'hypothèse que la partition initiale contient au moins 2 groupes.\n",
    "\n",
    "<font size=\"+1\" color=\"RED\">**[Q]**</font> Ecrire la fonction <code>fusionne</code> qui prend en argument un nom de distance (\"euclidienne\" ou \"manhattan\") et une partition C0 et qui rend 4 valeurs :\n",
    "- la partition C1 obtenue après fusion des 2 clusters les plus proches ;\n",
    "- les clés des 2 clusters de C0 qui ont été fusionnés et qui ont donc aussi été retirés de C1 ;\n",
    "- la distance qui séparait ces 2 clusters, calculée selon le nom de distance donné."
   ]
  },
  {
   "cell_type": "code",
   "execution_count": 19,
   "metadata": {},
   "outputs": [],
   "source": [
    "def fusionne(chaine, C0):\n",
    "    minA = 0\n",
    "    minB = 0\n",
    "    dist_min = float(\"inf\")\n",
    "    for i in C0:\n",
    "        for j in C0:\n",
    "            if i != j:\n",
    "                if dist_groupes(chaine, C0[i], C0[j]) < dist_min:\n",
    "                    minA = i\n",
    "                    minB = j\n",
    "                    dist_min = dist_groupes(chaine, C0[i], C0[j])\n",
    "    res = {i: C0[i] for i in C0 if i != minA and i != minB}\n",
    "    res[max(C0) + 1] = np.concatenate((C0[minA], C0[minB]))\n",
    "    print(\"Fusion de {} et {} pour une distance de {}\".format(minA, minB, dist_min))\n",
    "    return res, minA, minB, dist_min    "
   ]
  },
  {
   "cell_type": "code",
   "execution_count": 20,
   "metadata": {},
   "outputs": [
    {
     "name": "stdout",
     "output_type": "stream",
     "text": [
      "Fusion de 8 et 10 pour une distance de 0.0714285714285714\n"
     ]
    },
    {
     "data": {
      "text/plain": [
       "({0: array([[0. , 0.6]]),\n",
       "  1: array([[0.14285714, 0.5       ]]),\n",
       "  2: array([[0.14285714, 0.        ]]),\n",
       "  3: array([[0.28571429, 0.        ]]),\n",
       "  4: array([[0.28571429, 0.2       ]]),\n",
       "  5: array([[0.57142857, 0.6       ]]),\n",
       "  6: array([[0.57142857, 0.8       ]]),\n",
       "  7: array([[0.57142857, 1.        ]]),\n",
       "  9: array([[0.64285714, 1.        ]]),\n",
       "  11: array([[0.71428571, 0.8       ]]),\n",
       "  12: array([[0.85714286, 0.2       ]]),\n",
       "  13: array([[1. , 0.6]]),\n",
       "  14: array([[0.64285714, 0.        ],\n",
       "         [0.71428571, 0.        ]])},\n",
       " 8,\n",
       " 10,\n",
       " 0.0714285714285714)"
      ]
     },
     "execution_count": 20,
     "metadata": {},
     "output_type": "execute_result"
    }
   ],
   "source": [
    "# Par exemple:\n",
    "depart = initialise(M_data2D)\n",
    "fusionne(\"euclidienne\",depart)  "
   ]
  },
  {
   "cell_type": "markdown",
   "metadata": {},
   "source": [
    "### Construction de dendrogramme"
   ]
  },
  {
   "cell_type": "markdown",
   "metadata": {},
   "source": [
    "Le dendrogramme permet de visualiser les fusions de clusters réalisés tout au long du déroulement de l'algorithme de clustering hiérarchique.\n",
    "\n",
    "Pour construire un dendrogramme, il est nécessaire de construire la matrice suivante (que l'on appelle <code>M_Fusion</code> dans ce qui suit): pour chaque ligne, cette matrice contient 4 colonnes :\n",
    "- les 2 premières colonnes contiennent les clés des groupes fusionnés ;\n",
    "- la 3e colonne contient la distance qui séparait ces 2 groupes ;\n",
    "- la 4e colonne contient la valeur 2 (c'est une valeur sans importance pour nous).\n",
    " "
   ]
  },
  {
   "cell_type": "code",
   "execution_count": 21,
   "metadata": {},
   "outputs": [
    {
     "name": "stdout",
     "output_type": "stream",
     "text": [
      "Fusion de 8 et 10 pour une distance de 0.0714285714285714\n",
      "Fusion de 7 et 9 pour une distance de 0.07142857142857151\n",
      "Fusion de 2 et 3 pour une distance de 0.14285714285714285\n",
      "Fusion de 6 et 11 pour une distance de 0.1428571428571429\n",
      "Fusion de 0 et 1 pour une distance de 0.17437936593905287\n",
      "Fusion de 15 et 17 pour une distance de 0.20316375219039837\n",
      "Fusion de 4 et 16 pour une distance de 0.21237241067597867\n",
      "Fusion de 12 et 14 pour une distance de 0.26811891970176366\n",
      "Fusion de 5 et 19 pour une distance de 0.3047456282855976\n",
      "Fusion de 13 et 22 pour une distance de 0.4542857142857144\n",
      "Fusion de 20 et 21 pour une distance de 0.5000000000000001\n",
      "Fusion de 18 et 24 pour une distance de 0.638139657302555\n",
      "Fusion de 23 et 25 pour une distance de 0.6796842379114776\n",
      "\n",
      "La matrice M_Fusion obtenue :\n",
      " [[ 8.         10.          0.07142857  2.        ]\n",
      " [ 7.          9.          0.07142857  2.        ]\n",
      " [ 2.          3.          0.14285714  2.        ]\n",
      " [ 6.         11.          0.14285714  2.        ]\n",
      " [ 0.          1.          0.17437937  2.        ]\n",
      " [15.         17.          0.20316375  2.        ]\n",
      " [ 4.         16.          0.21237241  2.        ]\n",
      " [12.         14.          0.26811892  2.        ]\n",
      " [ 5.         19.          0.30474563  2.        ]\n",
      " [13.         22.          0.45428571  2.        ]\n",
      " [20.         21.          0.5         2.        ]\n",
      " [18.         24.          0.63813966  2.        ]\n",
      " [23.         25.          0.67968424  2.        ]]\n"
     ]
    }
   ],
   "source": [
    "# Exemple de construction de la matrice M_Fusion en utilisant les fonctions écrites\n",
    "# dans les questions précédentes\n",
    "\n",
    "# initialisation \n",
    "courant = initialise(M_data2D)       # clustering courant, au départ:s données data_2D normalisées\n",
    "M_Fusion = []                        # initialisation\n",
    "while len(courant) >=2:              # tant qu'il y a 2 groupes à fusionner\n",
    "    new,k1,k2,dist_min = fusionne('euclidienne',courant)\n",
    "    if(len(M_Fusion)==0):\n",
    "        M_Fusion = [k1,k2,dist_min,2]\n",
    "    else:\n",
    "        M_Fusion = np.vstack( [M_Fusion,[k1,k2,dist_min,2] ])\n",
    "    courant = new\n",
    "    \n",
    "print('\\nLa matrice M_Fusion obtenue :\\n',M_Fusion)"
   ]
  },
  {
   "cell_type": "markdown",
   "metadata": {},
   "source": [
    "Une fois la matrice <code>M_Fusion</code> construite, le tracé d'un histogramme s'effectue avec le code suivant :"
   ]
  },
  {
   "cell_type": "code",
   "execution_count": 22,
   "metadata": {},
   "outputs": [
    {
     "data": {
      "image/png": "[encoded data removed]",
      "text/plain": [
       "<Figure size 2160x1080 with 1 Axes>"
      ]
     },
     "metadata": {
      "needs_background": "light"
     },
     "output_type": "display_data"
    }
   ],
   "source": [
    "import scipy.cluster.hierarchy\n",
    "\n",
    "# Paramètre de la fenêtre d'affichage: \n",
    "plt.figure(figsize=(30, 15)) # taille : largeur x hauteur\n",
    "plt.title('Dendrogramme', fontsize=25)    \n",
    "plt.xlabel('Exemple', fontsize=25)\n",
    "plt.ylabel('Distance', fontsize=25)\n",
    "\n",
    "# Construction du dendrogramme à partir de la matrice M_Fusion:\n",
    "scipy.cluster.hierarchy.dendrogram(\n",
    "    M_Fusion,\n",
    "    leaf_font_size=18.,  # taille des caractères de l'axe des X\n",
    ")\n",
    "\n",
    "# Affichage du résultat obtenu:\n",
    "plt.show()"
   ]
  },
  {
   "cell_type": "markdown",
   "metadata": {},
   "source": [
    "<font size=\"+1\" color=\"RED\">**[Q]**</font> Ecrire la fonction <code>clustering_hierarchique</code> qui, pour une base d'apprentissage et un nom de distance donné, permet de réaliser un clustering hiérarchique et de tracer le dendrogramme obtenu.\n",
    "\n",
    "La fonction rend la matrice <code>M_Fusion</code> construite."
   ]
  },
  {
   "cell_type": "code",
   "execution_count": 73,
   "metadata": {},
   "outputs": [],
   "source": [
    "def clustering_hierarchique(chaine, df):\n",
    "    courant = initialise(df)       # clustering courant, au départ:s données data_2D normalisées\n",
    "    M_Fusion = []                        # initialisation\n",
    "    while len(courant) >=2:              # tant qu'il y a 2 groupes à fusionner\n",
    "        novo, k1, k2, dist_min = fusionne(chaine, courant)\n",
    "        if(len(M_Fusion) == 0):\n",
    "            M_Fusion = [k1, k2, dist_min, 2]\n",
    "        else:\n",
    "            M_Fusion = np.vstack([M_Fusion,[k1, k2, dist_min, 2]])\n",
    "        courant = novo\n",
    "    dessine_dendrogramme(M_Fusion)\n",
    "    return M_Fusion\n",
    "\n",
    "\n",
    "def dessine_dendrogramme(M_Fusion):\n",
    "    # Paramètre de la fenêtre d'affichage: \n",
    "    plt.figure(figsize=(30, 15)) # taille : largeur x hauteur\n",
    "    plt.title('Dendrogramme', fontsize=25)    \n",
    "    plt.xlabel('Exemple', fontsize=25)\n",
    "    plt.ylabel('Distance', fontsize=25)\n",
    "\n",
    "    # Construction du dendrogramme à partir de la matrice M_Fusion:\n",
    "    scipy.cluster.hierarchy.dendrogram(\n",
    "        M_Fusion,\n",
    "        leaf_font_size=18.,  # taille des caractères de l'axe des X\n",
    "    )\n",
    "    # Affichage du résultat obtenu:\n",
    "    plt.show()\n"
   ]
  },
  {
   "cell_type": "markdown",
   "metadata": {},
   "source": [
    "### Comparaison de distances"
   ]
  },
  {
   "cell_type": "markdown",
   "metadata": {},
   "source": [
    "<font size=\"+1\" color=\"RED\">**[Q]**</font> Réaliser un clustering en utilisant la distance de Manhattan. Comparer les résultats obtenus avec cette distance avec ceux obtenus avec la distance euclidienne. Est-ce que l'utilisation de cette distance vous semble pertinent?"
   ]
  },
  {
   "cell_type": "code",
   "execution_count": 74,
   "metadata": {},
   "outputs": [
    {
     "name": "stdout",
     "output_type": "stream",
     "text": [
      "Clustering en utilisant la distance de Manhattan\n",
      "Fusion de 8 et 10 pour une distance de 0.0714285714285714\n",
      "Fusion de 7 et 9 pour une distance de 0.07142857142857151\n",
      "Fusion de 2 et 3 pour une distance de 0.14285714285714285\n",
      "Fusion de 6 et 11 pour une distance de 0.1428571428571429\n",
      "Fusion de 15 et 17 pour une distance de 0.23571428571428554\n",
      "Fusion de 0 et 1 pour une distance de 0.24285714285714283\n",
      "Fusion de 4 et 16 pour une distance de 0.27142857142857146\n",
      "Fusion de 5 et 18 pour une distance de 0.35357142857142854\n",
      "Fusion de 12 et 14 pour une distance de 0.3785714285714285\n",
      "Fusion de 20 et 22 pour une distance de 0.5000000000000001\n",
      "Fusion de 13 et 21 pour une distance de 0.6257142857142859\n",
      "Fusion de 19 et 24 pour une distance de 0.857142857142857\n",
      "Fusion de 23 et 25 pour une distance de 0.7095238095238097\n"
     ]
    },
    {
     "data": {
      "image/png": "[encoded data removed]",
      "text/plain": [
       "<Figure size 2160x1080 with 1 Axes>"
      ]
     },
     "metadata": {
      "needs_background": "light"
     },
     "output_type": "display_data"
    }
   ],
   "source": [
    "print(\"Clustering en utilisant la distance de Manhattan\")\n",
    "clustering_hierarchique('manhattan', M_data2D)\n",
    "\n",
    "#courant = initialise(M_data2D)\n",
    "#print(courant)"
   ]
  },
  {
   "cell_type": "code",
   "execution_count": 84,
   "metadata": {},
   "outputs": [
    {
     "data": {
      "image/png": "[encoded data removed]",
      "text/plain": [
       "<Figure size 1800x720 with 1 Axes>"
      ]
     },
     "metadata": {
      "needs_background": "light"
     },
     "output_type": "display_data"
    }
   ],
   "source": [
    "from scipy.cluster.hierarchy import dendrogram, linkage\n",
    "    \n",
    "X = [[0. , 0.6], [0.14285714, 0.5], [0.14285714, 0.], [0.28571429, 0.], [0.28571429, 0.2], [0.57142857, 0.6], [0.57142857, 0.8], [0.57142857, 1.], [0.64285714, 0.], [0.64285714, 1.], [0.71428571, 0.], [0.71428571, 0.8], [0.85714286, 0.2], [1. , 0.6]]\n",
    "\n",
    "Z = linkage(X, 'centroid')\n",
    "fig = plt.figure(figsize=(25, 10))\n",
    "dn = dendrogram(Z)\n",
    "plt.show()"
   ]
  },
  {
   "cell_type": "code",
   "execution_count": 85,
   "metadata": {},
   "outputs": [
    {
     "name": "stdout",
     "output_type": "stream",
     "text": [
      "Fusion de 8 et 10 pour une distance de 0.0714285714285714\n",
      "Fusion de 7 et 9 pour une distance de 0.07142857142857151\n",
      "Fusion de 2 et 3 pour une distance de 0.14285714285714285\n",
      "Fusion de 6 et 11 pour une distance de 0.1428571428571429\n",
      "Fusion de 15 et 17 pour une distance de 0.23571428571428554\n",
      "Fusion de 0 et 1 pour une distance de 0.24285714285714283\n",
      "Fusion de 4 et 16 pour une distance de 0.27142857142857146\n",
      "Fusion de 5 et 18 pour une distance de 0.35357142857142854\n",
      "Fusion de 12 et 14 pour une distance de 0.3785714285714285\n",
      "Fusion de 20 et 22 pour une distance de 0.5000000000000001\n",
      "Fusion de 13 et 21 pour une distance de 0.6257142857142859\n",
      "Centroïdes gauche :\n",
      "19 : [0.07142857 0.55      ]\n",
      "23 : [0.48809524 0.06666667]\n",
      "24 : [0.67857143 0.8       ]\n",
      "Distances de Manhattan :\n",
      "d(19, 23) = 0.9\n",
      "d(19, 24) = 0.857142857142857\n",
      "d(23, 24) = 0.9238095238095236\n",
      "Fusion de 19 et 24 pour une distance de 0.857142857142857\n",
      "Centroïdes droite :\n",
      "23 : [0.48809524 0.06666667]\n",
      "25 : [0.52678571 0.7375    ]\n",
      "Distances de Manhattan :\n",
      "d(23, 25) = 0.7095238095238097\n"
     ]
    },
    {
     "data": {
      "image/png": "[encoded data removed]",
      "text/plain": [
       "<Figure size 1080x432 with 2 Axes>"
      ]
     },
     "metadata": {
      "needs_background": "light"
     },
     "output_type": "display_data"
    }
   ],
   "source": [
    "courant = initialise(M_data2D)\n",
    "fig, ax = plt.subplots(1, 2, figsize=(15, 6))\n",
    "for i in range(11):\n",
    "    courant, _, _, _ = fusionne(\"manhattan\", courant)\n",
    "    \n",
    "print(\"Centroïdes gauche :\")\n",
    "for k in courant:\n",
    "    ax[0].scatter(courant[k][:, 0], courant[k][:, 1])\n",
    "    cent = centroide(courant[k])\n",
    "    print(k,\":\",cent)\n",
    "    ax[0].scatter(cent[0], cent[1])\n",
    "    ax[0].set_xlim(-0.1, 1.1)\n",
    "    ax[0].set_ylim(-0.1, 1.1)\n",
    "    ax[0].grid(True)\n",
    "    ax[0].set_axisbelow(True)\n",
    "print(\"Distances de Manhattan :\")\n",
    "indexes = list(courant)\n",
    "for i in range(len(indexes)):\n",
    "    for j in range(i+1, len(indexes)):\n",
    "        print(\"d({}, {}) = {}\".format(indexes[i], indexes[j], dist_vect(\"manhattan\", centroide(courant[indexes[i]]),\\\n",
    "                                                centroide(courant[indexes[j]]))))\n",
    "    \n",
    "courant, _, _, _ = fusionne(\"manhattan\", courant)\n",
    "\n",
    "print(\"Centroïdes droite :\")\n",
    "for k in courant:\n",
    "    ax[1].scatter(courant[k][:, 0], courant[k][:, 1])\n",
    "    cent = centroide(courant[k])\n",
    "    print(k,\":\",cent)\n",
    "    ax[1].scatter(cent[0], cent[1])\n",
    "    ax[1].set_xlim(-0.1, 1.1)\n",
    "    ax[1].set_ylim(-0.1, 1.1)\n",
    "    ax[1].grid(True)\n",
    "    ax[1].set_axisbelow(True)\n",
    "    \n",
    "print(\"Distances de Manhattan :\")\n",
    "indexes = list(courant)\n",
    "for i in range(len(indexes)):\n",
    "    for j in range(i+1, len(indexes)):\n",
    "        print(\"d({}, {}) = {}\".format(indexes[i],\\\n",
    "                                      indexes[j],\\\n",
    "                                      dist_vect(\"manhattan\",\\\n",
    "                                                centroide(courant[indexes[i]]),\\\n",
    "                                                centroide(courant[indexes[j]]))))"
   ]
  },
  {
   "cell_type": "markdown",
   "metadata": {},
   "source": [
    "Les clusterings obtenus par les distances de Manhattan et Euclidienne ont plusieurs points en commun. Ils commencent ainsi par regoruper les mêmes paires de points : 8 et 10, 7 et 9, 2 et 3, et 6 et 11, avec d'autres regroupements similaires dans la suite, comme celui de 0 avec 1, ou de la paire (2, 3) avec 4. En s'arrêtant à la distance 0.5 (utilisée dans la coloration des dendrogrammes), on obtient les classes\n",
    "{2, 3, 4}, {12, 8, 10}, {0, 1}, {13, 6, 11, 7, 9, 5}\n",
    "pour la distance Euclidienne et \n",
    "{6, 11, 7, 9, 5}, {13}, {0, 1}, {2, 3, 4, 12, 8, 10}\n",
    "pour celle de Manhattan. On remarque ainsi que le seul groupe en commun est `{0, 1}`. La distance de Manhattan regroupe les classes `{2, 3, 4}` et `{12, 8, 10}`, qui avaient été séparées par la distance Euclidienne, et sépare le `13` de la classe `{13, 6, 11, 7, 9, 5}`.\n",
    "\n",
    "La différence principale entre las distances Euclidienne et de Manhattan est que la distance Euclidienne est isotrope, elle prend toutes les directions de l'espace en considération de la même façon, alors que, pour la distance de Manhattan, les directions horizontale et verticale sont privilegiées. Ainsi, les paires de points 8 et 10, 7 et 9, 2 et 3, et 6 et 11 ont les mêmes distances Euclidienne et de Manhattant car ils sont alignés soit à l'horizontale, soit à la verticale, mais la distance de Manhattant entre les points 0 et 1 est de 0.24285714, supérieure à la distance Euclidienne de 0.17437937, car ces points sont alignés de façon diagonale. C'est cette pénalisation des diagonales par la distance de Manhattant qui explique les différences de classement."
   ]
  },
  {
   "cell_type": "markdown",
   "metadata": {},
   "source": [
    "### Variante 2: chaînage complet (maximum des distances)"
   ]
  },
  {
   "cell_type": "markdown",
   "metadata": {},
   "source": [
    "On considère maintenant l'approche \"complete linkage\". \n",
    "\n",
    "<font size=\"+1\" color=\"RED\">**[Q]**</font> Ecrire la fonction <code>dist_max_groupes</code> qui, étant donné deux clusters, calcule leur distance ainsi définie. Cette fonction prend 3 arguments: un nom de distance à utiliser (\"euclidienne\" ou \"manhattan\") et deux clusters.\n",
    "On fait l'hypothèse que les 2 clusters contiennent au moins un exemple.\n"
   ]
  },
  {
   "cell_type": "code",
   "execution_count": 25,
   "metadata": {},
   "outputs": [],
   "source": [
    "def dist_max_groupes(chaine, mat1, mat2):\n",
    "    dist_max = 0\n",
    "    for i in mat1:\n",
    "        for j in mat2:\n",
    "            if dist_vect(chaine, i, j) > dist_max:\n",
    "                dist_max = dist_vect(chaine, i, j)\n",
    "    return dist_max"
   ]
  },
  {
   "cell_type": "code",
   "execution_count": 26,
   "metadata": {},
   "outputs": [
    {
     "data": {
      "text/plain": [
       "1.118033988749895"
      ]
     },
     "execution_count": 26,
     "metadata": {},
     "output_type": "execute_result"
    }
   ],
   "source": [
    "dist_max_groupes(\"euclidienne\", M_data2D[0:5], M_data2D[6:13])"
   ]
  },
  {
   "cell_type": "markdown",
   "metadata": {},
   "source": [
    "La distance <code>dist_max_groupes</code> est utilisée lors d'un clustering hiérarchique basé sur un chaînage complet.\n",
    "\n",
    "<font size=\"+1\" color=\"RED\">**[Q]**</font> Implémenter une variante du clustering hiérarchique qui utilise cette distance."
   ]
  },
  {
   "cell_type": "code",
   "execution_count": 27,
   "metadata": {},
   "outputs": [],
   "source": [
    "def clustering_hierarchique_complete_linkage(chaine, df):\n",
    "    courant = initialise(df)       # clustering courant, au départ:s données data_2D normalisées\n",
    "    M_Fusion = []                        # initialisation\n",
    "    while len(courant) >=2:              # tant qu'il y a 2 groupes à fusionner\n",
    "        novo, k1, k2, dist_min = fusionne_complete_linkage(chaine, courant)\n",
    "        if(len(M_Fusion) == 0):\n",
    "            M_Fusion = [k1, k2, dist_min, 2]\n",
    "        else:\n",
    "            M_Fusion = np.vstack([M_Fusion,[k1, k2, dist_min, 2]])\n",
    "        courant = novo\n",
    "    dessine_dendrogramme(M_Fusion)\n",
    "    return M_Fusion\n",
    "\n",
    "\n",
    "\n",
    "def fusionne_complete_linkage(chaine, C0):\n",
    "    minA = 0\n",
    "    minB = 0\n",
    "    dist_min = float(\"inf\")\n",
    "    for i in C0:\n",
    "        for j in C0:\n",
    "            if i != j:\n",
    "                if dist_max_groupes(chaine, C0[i], C0[j]) < dist_min:\n",
    "                    minA = i\n",
    "                    minB = j\n",
    "                    dist_min = dist_max_groupes(chaine, C0[i], C0[j])\n",
    "    res = {i: C0[i] for i in C0 if i != minA and i != minB}\n",
    "    res[max(C0) + 1] = np.concatenate((C0[minA], C0[minB]))\n",
    "    print(\"Fusion de {} et {} pour une distance de {}\".format(minA, minB, dist_min))\n",
    "    return res, minA, minB, dist_min    "
   ]
  },
  {
   "cell_type": "code",
   "execution_count": 28,
   "metadata": {},
   "outputs": [
    {
     "name": "stdout",
     "output_type": "stream",
     "text": [
      "Clustering chaînage complet en utilisant la distance euclidienne\n",
      "Fusion de 8 et 10 pour une distance de 0.0714285714285714\n",
      "Fusion de 7 et 9 pour une distance de 0.07142857142857151\n",
      "Fusion de 2 et 3 pour une distance de 0.14285714285714285\n",
      "Fusion de 6 et 11 pour une distance de 0.1428571428571429\n",
      "Fusion de 0 et 1 pour une distance de 0.17437936593905287\n",
      "Fusion de 15 et 17 pour une distance de 0.2457807219155036\n",
      "Fusion de 4 et 16 pour une distance de 0.24578072191550362\n",
      "Fusion de 12 et 14 pour une distance de 0.2931183504097598\n",
      "Fusion de 5 et 19 pour une distance de 0.40632750438079696\n",
      "Fusion de 13 et 22 pour une distance de 0.5862367008195198\n",
      "Fusion de 18 et 20 pour une distance de 0.6645544771207432\n",
      "Fusion de 21 et 24 pour une distance de 0.945882591842677\n",
      "Fusion de 23 et 25 pour une distance de 1.118033988749895\n"
     ]
    },
    {
     "data": {
      "image/png": "[encoded data removed]",
      "text/plain": [
       "<Figure size 2160x1080 with 1 Axes>"
      ]
     },
     "metadata": {
      "needs_background": "light"
     },
     "output_type": "display_data"
    },
    {
     "data": {
      "text/plain": [
       "array([[ 8.        , 10.        ,  0.07142857,  2.        ],\n",
       "       [ 7.        ,  9.        ,  0.07142857,  2.        ],\n",
       "       [ 2.        ,  3.        ,  0.14285714,  2.        ],\n",
       "       [ 6.        , 11.        ,  0.14285714,  2.        ],\n",
       "       [ 0.        ,  1.        ,  0.17437937,  2.        ],\n",
       "       [15.        , 17.        ,  0.24578072,  2.        ],\n",
       "       [ 4.        , 16.        ,  0.24578072,  2.        ],\n",
       "       [12.        , 14.        ,  0.29311835,  2.        ],\n",
       "       [ 5.        , 19.        ,  0.4063275 ,  2.        ],\n",
       "       [13.        , 22.        ,  0.5862367 ,  2.        ],\n",
       "       [18.        , 20.        ,  0.66455448,  2.        ],\n",
       "       [21.        , 24.        ,  0.94588259,  2.        ],\n",
       "       [23.        , 25.        ,  1.11803399,  2.        ]])"
      ]
     },
     "execution_count": 28,
     "metadata": {},
     "output_type": "execute_result"
    }
   ],
   "source": [
    "print(\"Clustering chaînage complet en utilisant la distance euclidienne\")\n",
    "clustering_hierarchique_complete_linkage('euclidienne', M_data2D)"
   ]
  },
  {
   "cell_type": "code",
   "execution_count": 29,
   "metadata": {},
   "outputs": [
    {
     "name": "stdout",
     "output_type": "stream",
     "text": [
      "Clustering chaînage complet en utilisant la distance de Manhattan\n",
      "Fusion de 8 et 10 pour une distance de 0.0714285714285714\n",
      "Fusion de 7 et 9 pour une distance de 0.07142857142857151\n",
      "Fusion de 2 et 3 pour une distance de 0.14285714285714285\n",
      "Fusion de 6 et 11 pour une distance de 0.1428571428571429\n",
      "Fusion de 0 et 1 pour une distance de 0.24285714285714283\n",
      "Fusion de 4 et 16 pour une distance de 0.34285714285714286\n",
      "Fusion de 15 et 17 pour une distance de 0.34285714285714286\n",
      "Fusion de 12 et 14 pour une distance de 0.4142857142857142\n",
      "Fusion de 5 et 13 pour une distance de 0.4285714285714286\n",
      "Fusion de 20 et 22 pour une distance de 0.8285714285714286\n",
      "Fusion de 18 et 19 pour une distance de 0.8857142857142857\n",
      "Fusion de 21 et 23 pour une distance de 1.1428571428571428\n",
      "Fusion de 24 et 25 pour une distance de 1.5\n"
     ]
    },
    {
     "data": {
      "image/png": "[encoded data removed]",
      "text/plain": [
       "<Figure size 2160x1080 with 1 Axes>"
      ]
     },
     "metadata": {
      "needs_background": "light"
     },
     "output_type": "display_data"
    },
    {
     "data": {
      "text/plain": [
       "array([[ 8.        , 10.        ,  0.07142857,  2.        ],\n",
       "       [ 7.        ,  9.        ,  0.07142857,  2.        ],\n",
       "       [ 2.        ,  3.        ,  0.14285714,  2.        ],\n",
       "       [ 6.        , 11.        ,  0.14285714,  2.        ],\n",
       "       [ 0.        ,  1.        ,  0.24285714,  2.        ],\n",
       "       [ 4.        , 16.        ,  0.34285714,  2.        ],\n",
       "       [15.        , 17.        ,  0.34285714,  2.        ],\n",
       "       [12.        , 14.        ,  0.41428571,  2.        ],\n",
       "       [ 5.        , 13.        ,  0.42857143,  2.        ],\n",
       "       [20.        , 22.        ,  0.82857143,  2.        ],\n",
       "       [18.        , 19.        ,  0.88571429,  2.        ],\n",
       "       [21.        , 23.        ,  1.14285714,  2.        ],\n",
       "       [24.        , 25.        ,  1.5       ,  2.        ]])"
      ]
     },
     "execution_count": 29,
     "metadata": {},
     "output_type": "execute_result"
    }
   ],
   "source": [
    "print(\"Clustering chaînage complet en utilisant la distance de Manhattan\")\n",
    "clustering_hierarchique_complete_linkage('manhattan', M_data2D)"
   ]
  },
  {
   "cell_type": "markdown",
   "metadata": {},
   "source": [
    "## Phase 2 : application à des données réelles"
   ]
  },
  {
   "cell_type": "markdown",
   "metadata": {},
   "source": [
    "### Données: traitement des déchets de la ville de Paris"
   ]
  },
  {
   "cell_type": "markdown",
   "metadata": {},
   "source": [
    "Récupérer les données concernant le traitement des déchets de la ville de Paris :\n",
    "http://opendata.paris.fr/explore/dataset/tonnages_des_dechets_bacs_jaunes/table/\n",
    "\n",
    "**Attention**: il faut certainement préparer cette base afin de pouvoir appliquer l'algorithme de clustering: en particulier, certaines colonnes (Granularité, Total...) ne sont pas à utilisables dans le calcul des distances, il faut donc les éliminer. Il faut aussi prévoir de conserver le nom de l'arrondissement afin de pouvoir à la fin analyser le résultat du clustering.\n",
    "\n",
    "Sauvegarder ces données, prêtes à être traitées par l'algorithme de clustering, au format CSV dans le répertoire <pre>data/</pre> sous le nom <pre>base-Paris.csv</pre>\n",
    "\n",
    "<font size=\"+1\" color=\"RED\">**[Q]**</font> Etudier cette base et les clusters qui peuvent être mis en évidence.\n"
   ]
  },
  {
   "cell_type": "code",
   "execution_count": 30,
   "metadata": {},
   "outputs": [],
   "source": [
    "data_Paris = pd.read_csv(\"data/base-Paris.csv\", sep=';')"
   ]
  },
  {
   "cell_type": "code",
   "execution_count": 31,
   "metadata": {},
   "outputs": [
    {
     "data": {
      "text/html": [
       "<div>\n",
       "<style scoped>\n",
       "    .dataframe tbody tr th:only-of-type {\n",
       "        vertical-align: middle;\n",
       "    }\n",
       "\n",
       "    .dataframe tbody tr th {\n",
       "        vertical-align: top;\n",
       "    }\n",
       "\n",
       "    .dataframe thead th {\n",
       "        text-align: right;\n",
       "    }\n",
       "</style>\n",
       "<table border=\"1\" class=\"dataframe\">\n",
       "  <thead>\n",
       "    <tr style=\"text-align: right;\">\n",
       "      <th></th>\n",
       "      <th>Granularité</th>\n",
       "      <th>janv-11</th>\n",
       "      <th>févr-11</th>\n",
       "      <th>mars-11</th>\n",
       "      <th>avr-11</th>\n",
       "      <th>mai-11</th>\n",
       "      <th>juin-11</th>\n",
       "      <th>juil-11</th>\n",
       "      <th>août-11</th>\n",
       "      <th>sept-11</th>\n",
       "      <th>oct-11</th>\n",
       "      <th>nov-11</th>\n",
       "      <th>déc-11</th>\n",
       "      <th>Total arrondissement 2011</th>\n",
       "    </tr>\n",
       "  </thead>\n",
       "  <tbody>\n",
       "    <tr>\n",
       "      <th>0</th>\n",
       "      <td>75007</td>\n",
       "      <td>288.1</td>\n",
       "      <td>249.1</td>\n",
       "      <td>303.7</td>\n",
       "      <td>255.8</td>\n",
       "      <td>287.8</td>\n",
       "      <td>288.4</td>\n",
       "      <td>249.6</td>\n",
       "      <td>185.6</td>\n",
       "      <td>281.3</td>\n",
       "      <td>284.3</td>\n",
       "      <td>296.4</td>\n",
       "      <td>301.1</td>\n",
       "      <td>NaN</td>\n",
       "    </tr>\n",
       "    <tr>\n",
       "      <th>1</th>\n",
       "      <td>75013</td>\n",
       "      <td>596.5</td>\n",
       "      <td>540.2</td>\n",
       "      <td>618.5</td>\n",
       "      <td>558.6</td>\n",
       "      <td>595.9</td>\n",
       "      <td>581.7</td>\n",
       "      <td>539.2</td>\n",
       "      <td>490.5</td>\n",
       "      <td>597.8</td>\n",
       "      <td>575.7</td>\n",
       "      <td>580.5</td>\n",
       "      <td>601.4</td>\n",
       "      <td>NaN</td>\n",
       "    </tr>\n",
       "    <tr>\n",
       "      <th>2</th>\n",
       "      <td>75014</td>\n",
       "      <td>464</td>\n",
       "      <td>404.9</td>\n",
       "      <td>465.3</td>\n",
       "      <td>420.2</td>\n",
       "      <td>405.3</td>\n",
       "      <td>446</td>\n",
       "      <td>412.9</td>\n",
       "      <td>348.7</td>\n",
       "      <td>449.3</td>\n",
       "      <td>446.3</td>\n",
       "      <td>453.1</td>\n",
       "      <td>484.3</td>\n",
       "      <td>NaN</td>\n",
       "    </tr>\n",
       "    <tr>\n",
       "      <th>3</th>\n",
       "      <td>75015</td>\n",
       "      <td>903.1</td>\n",
       "      <td>801.4</td>\n",
       "      <td>937.5</td>\n",
       "      <td>835.5</td>\n",
       "      <td>876.8</td>\n",
       "      <td>888.6</td>\n",
       "      <td>628.8</td>\n",
       "      <td>674.8</td>\n",
       "      <td>913.3</td>\n",
       "      <td>878.7</td>\n",
       "      <td>895.7</td>\n",
       "      <td>935.8</td>\n",
       "      <td>NaN</td>\n",
       "    </tr>\n",
       "    <tr>\n",
       "      <th>4</th>\n",
       "      <td>75017</td>\n",
       "      <td>451.1</td>\n",
       "      <td>412.4</td>\n",
       "      <td>491.6</td>\n",
       "      <td>422.7</td>\n",
       "      <td>363.6</td>\n",
       "      <td>446.4</td>\n",
       "      <td>409.5</td>\n",
       "      <td>332.3</td>\n",
       "      <td>416.4</td>\n",
       "      <td>451.5</td>\n",
       "      <td>475.1</td>\n",
       "      <td>513.5</td>\n",
       "      <td>NaN</td>\n",
       "    </tr>\n",
       "    <tr>\n",
       "      <th>5</th>\n",
       "      <td>75018</td>\n",
       "      <td>427</td>\n",
       "      <td>394.3</td>\n",
       "      <td>455.2</td>\n",
       "      <td>419.9</td>\n",
       "      <td>458.3</td>\n",
       "      <td>456.6</td>\n",
       "      <td>418</td>\n",
       "      <td>361.8</td>\n",
       "      <td>464.6</td>\n",
       "      <td>453.4</td>\n",
       "      <td>478.5</td>\n",
       "      <td>470.9</td>\n",
       "      <td>NaN</td>\n",
       "    </tr>\n",
       "    <tr>\n",
       "      <th>6</th>\n",
       "      <td>75019</td>\n",
       "      <td>323.4</td>\n",
       "      <td>287.3</td>\n",
       "      <td>350.3</td>\n",
       "      <td>317.8</td>\n",
       "      <td>336.9</td>\n",
       "      <td>340.7</td>\n",
       "      <td>311.6</td>\n",
       "      <td>281</td>\n",
       "      <td>345.6</td>\n",
       "      <td>335.6</td>\n",
       "      <td>367</td>\n",
       "      <td>354.5</td>\n",
       "      <td>NaN</td>\n",
       "    </tr>\n",
       "    <tr>\n",
       "      <th>7</th>\n",
       "      <td>75002</td>\n",
       "      <td>153</td>\n",
       "      <td>125.8</td>\n",
       "      <td>136.6</td>\n",
       "      <td>126.6</td>\n",
       "      <td>133.2</td>\n",
       "      <td>127.6</td>\n",
       "      <td>126.7</td>\n",
       "      <td>114.3</td>\n",
       "      <td>144.3</td>\n",
       "      <td>145.1</td>\n",
       "      <td>129.5</td>\n",
       "      <td>129.8</td>\n",
       "      <td>NaN</td>\n",
       "    </tr>\n",
       "    <tr>\n",
       "      <th>8</th>\n",
       "      <td>75004</td>\n",
       "      <td>116.3</td>\n",
       "      <td>115.7</td>\n",
       "      <td>133.4</td>\n",
       "      <td>115</td>\n",
       "      <td>123.2</td>\n",
       "      <td>120.5</td>\n",
       "      <td>114.5</td>\n",
       "      <td>97.6</td>\n",
       "      <td>130.5</td>\n",
       "      <td>123</td>\n",
       "      <td>124.3</td>\n",
       "      <td>133.7</td>\n",
       "      <td>NaN</td>\n",
       "    </tr>\n",
       "    <tr>\n",
       "      <th>9</th>\n",
       "      <td>75008</td>\n",
       "      <td>252.6</td>\n",
       "      <td>246.7</td>\n",
       "      <td>252.9</td>\n",
       "      <td>232.5</td>\n",
       "      <td>199.4</td>\n",
       "      <td>236.4</td>\n",
       "      <td>175.4</td>\n",
       "      <td>189.4</td>\n",
       "      <td>266.6</td>\n",
       "      <td>230.3</td>\n",
       "      <td>257.7</td>\n",
       "      <td>224.4</td>\n",
       "      <td>NaN</td>\n",
       "    </tr>\n",
       "    <tr>\n",
       "      <th>10</th>\n",
       "      <td>75012</td>\n",
       "      <td>484.2</td>\n",
       "      <td>445.9</td>\n",
       "      <td>517</td>\n",
       "      <td>452</td>\n",
       "      <td>402</td>\n",
       "      <td>488</td>\n",
       "      <td>456</td>\n",
       "      <td>409</td>\n",
       "      <td>506</td>\n",
       "      <td>495</td>\n",
       "      <td>493</td>\n",
       "      <td>502</td>\n",
       "      <td>NaN</td>\n",
       "    </tr>\n",
       "    <tr>\n",
       "      <th>11</th>\n",
       "      <td>75016</td>\n",
       "      <td>584.1</td>\n",
       "      <td>571.2</td>\n",
       "      <td>684.7</td>\n",
       "      <td>590.3</td>\n",
       "      <td>563.4</td>\n",
       "      <td>666.3</td>\n",
       "      <td>570.4</td>\n",
       "      <td>433.2</td>\n",
       "      <td>679.7</td>\n",
       "      <td>656.1</td>\n",
       "      <td>662.6</td>\n",
       "      <td>699.9</td>\n",
       "      <td>NaN</td>\n",
       "    </tr>\n",
       "    <tr>\n",
       "      <th>12</th>\n",
       "      <td>75020</td>\n",
       "      <td>394.1</td>\n",
       "      <td>366.3</td>\n",
       "      <td>422.7</td>\n",
       "      <td>367.1</td>\n",
       "      <td>273.5</td>\n",
       "      <td>381.7</td>\n",
       "      <td>353.4</td>\n",
       "      <td>297</td>\n",
       "      <td>414</td>\n",
       "      <td>350</td>\n",
       "      <td>410.6</td>\n",
       "      <td>410</td>\n",
       "      <td>NaN</td>\n",
       "    </tr>\n",
       "    <tr>\n",
       "      <th>13</th>\n",
       "      <td>Tout Paris</td>\n",
       "      <td>7 134.20</td>\n",
       "      <td>6 462.60</td>\n",
       "      <td>7 517.40</td>\n",
       "      <td>6 656.60</td>\n",
       "      <td>6 563.40</td>\n",
       "      <td>7 063</td>\n",
       "      <td>6 220.20</td>\n",
       "      <td>5 464</td>\n",
       "      <td>7 296.30</td>\n",
       "      <td>7 084.60</td>\n",
       "      <td>7 291.70</td>\n",
       "      <td>7 492.80</td>\n",
       "      <td>NaN</td>\n",
       "    </tr>\n",
       "    <tr>\n",
       "      <th>14</th>\n",
       "      <td>75001</td>\n",
       "      <td>75.3</td>\n",
       "      <td>60.4</td>\n",
       "      <td>71.2</td>\n",
       "      <td>59.5</td>\n",
       "      <td>73.9</td>\n",
       "      <td>72</td>\n",
       "      <td>57.9</td>\n",
       "      <td>56.4</td>\n",
       "      <td>75.5</td>\n",
       "      <td>75.7</td>\n",
       "      <td>65.8</td>\n",
       "      <td>79.1</td>\n",
       "      <td>NaN</td>\n",
       "    </tr>\n",
       "    <tr>\n",
       "      <th>15</th>\n",
       "      <td>75005</td>\n",
       "      <td>247</td>\n",
       "      <td>211</td>\n",
       "      <td>251</td>\n",
       "      <td>218</td>\n",
       "      <td>185</td>\n",
       "      <td>224</td>\n",
       "      <td>213.3</td>\n",
       "      <td>162.9</td>\n",
       "      <td>203.4</td>\n",
       "      <td>232.1</td>\n",
       "      <td>227.6</td>\n",
       "      <td>251.6</td>\n",
       "      <td>NaN</td>\n",
       "    </tr>\n",
       "    <tr>\n",
       "      <th>16</th>\n",
       "      <td>75006</td>\n",
       "      <td>222</td>\n",
       "      <td>189</td>\n",
       "      <td>218</td>\n",
       "      <td>192</td>\n",
       "      <td>180</td>\n",
       "      <td>199</td>\n",
       "      <td>171.8</td>\n",
       "      <td>134.8</td>\n",
       "      <td>183.1</td>\n",
       "      <td>195.5</td>\n",
       "      <td>213.8</td>\n",
       "      <td>204.1</td>\n",
       "      <td>NaN</td>\n",
       "    </tr>\n",
       "    <tr>\n",
       "      <th>17</th>\n",
       "      <td>75010</td>\n",
       "      <td>273</td>\n",
       "      <td>248.6</td>\n",
       "      <td>292.2</td>\n",
       "      <td>255.2</td>\n",
       "      <td>284.3</td>\n",
       "      <td>267.3</td>\n",
       "      <td>246.6</td>\n",
       "      <td>210.3</td>\n",
       "      <td>280.6</td>\n",
       "      <td>275.6</td>\n",
       "      <td>284.6</td>\n",
       "      <td>283.2</td>\n",
       "      <td>NaN</td>\n",
       "    </tr>\n",
       "    <tr>\n",
       "      <th>18</th>\n",
       "      <td>75011</td>\n",
       "      <td>487.2</td>\n",
       "      <td>422.2</td>\n",
       "      <td>491</td>\n",
       "      <td>437</td>\n",
       "      <td>466</td>\n",
       "      <td>443</td>\n",
       "      <td>373.5</td>\n",
       "      <td>367.5</td>\n",
       "      <td>511.9</td>\n",
       "      <td>490.6</td>\n",
       "      <td>469.2</td>\n",
       "      <td>487.9</td>\n",
       "      <td>NaN</td>\n",
       "    </tr>\n",
       "    <tr>\n",
       "      <th>19</th>\n",
       "      <td>75003</td>\n",
       "      <td>183.9</td>\n",
       "      <td>173.1</td>\n",
       "      <td>204.2</td>\n",
       "      <td>183</td>\n",
       "      <td>203.2</td>\n",
       "      <td>181.9</td>\n",
       "      <td>191.2</td>\n",
       "      <td>153.6</td>\n",
       "      <td>208.6</td>\n",
       "      <td>186.5</td>\n",
       "      <td>192.9</td>\n",
       "      <td>189.9</td>\n",
       "      <td>NaN</td>\n",
       "    </tr>\n",
       "  </tbody>\n",
       "</table>\n",
       "</div>"
      ],
      "text/plain": [
       "   Granularité   janv-11   févr-11   mars-11    avr-11    mai-11 juin-11  \\\n",
       "0        75007     288.1     249.1     303.7     255.8     287.8   288.4   \n",
       "1        75013     596.5     540.2     618.5     558.6     595.9   581.7   \n",
       "2        75014       464     404.9     465.3     420.2     405.3     446   \n",
       "3        75015     903.1     801.4     937.5     835.5     876.8   888.6   \n",
       "4        75017     451.1     412.4     491.6     422.7     363.6   446.4   \n",
       "5        75018       427     394.3     455.2     419.9     458.3   456.6   \n",
       "6        75019     323.4     287.3     350.3     317.8     336.9   340.7   \n",
       "7        75002       153     125.8     136.6     126.6     133.2   127.6   \n",
       "8        75004     116.3     115.7     133.4       115     123.2   120.5   \n",
       "9        75008     252.6     246.7     252.9     232.5     199.4   236.4   \n",
       "10       75012     484.2     445.9       517       452       402     488   \n",
       "11       75016     584.1     571.2     684.7     590.3     563.4   666.3   \n",
       "12       75020     394.1     366.3     422.7     367.1     273.5   381.7   \n",
       "13  Tout Paris  7 134.20  6 462.60  7 517.40  6 656.60  6 563.40   7 063   \n",
       "14       75001      75.3      60.4      71.2      59.5      73.9      72   \n",
       "15       75005       247       211       251       218       185     224   \n",
       "16       75006       222       189       218       192       180     199   \n",
       "17       75010       273     248.6     292.2     255.2     284.3   267.3   \n",
       "18       75011     487.2     422.2       491       437       466     443   \n",
       "19       75003     183.9     173.1     204.2       183     203.2   181.9   \n",
       "\n",
       "     juil-11 août-11   sept-11    oct-11    nov-11    déc-11  \\\n",
       "0      249.6   185.6     281.3     284.3     296.4     301.1   \n",
       "1      539.2   490.5     597.8     575.7     580.5     601.4   \n",
       "2      412.9   348.7     449.3     446.3     453.1     484.3   \n",
       "3      628.8   674.8     913.3     878.7     895.7     935.8   \n",
       "4      409.5   332.3     416.4     451.5     475.1     513.5   \n",
       "5        418   361.8     464.6     453.4     478.5     470.9   \n",
       "6      311.6     281     345.6     335.6       367     354.5   \n",
       "7      126.7   114.3     144.3     145.1     129.5     129.8   \n",
       "8      114.5    97.6     130.5       123     124.3     133.7   \n",
       "9      175.4   189.4     266.6     230.3     257.7     224.4   \n",
       "10       456     409       506       495       493       502   \n",
       "11     570.4   433.2     679.7     656.1     662.6     699.9   \n",
       "12     353.4     297       414       350     410.6       410   \n",
       "13  6 220.20   5 464  7 296.30  7 084.60  7 291.70  7 492.80   \n",
       "14      57.9    56.4      75.5      75.7      65.8      79.1   \n",
       "15     213.3   162.9     203.4     232.1     227.6     251.6   \n",
       "16     171.8   134.8     183.1     195.5     213.8     204.1   \n",
       "17     246.6   210.3     280.6     275.6     284.6     283.2   \n",
       "18     373.5   367.5     511.9     490.6     469.2     487.9   \n",
       "19     191.2   153.6     208.6     186.5     192.9     189.9   \n",
       "\n",
       "    Total arrondissement 2011  \n",
       "0                         NaN  \n",
       "1                         NaN  \n",
       "2                         NaN  \n",
       "3                         NaN  \n",
       "4                         NaN  \n",
       "5                         NaN  \n",
       "6                         NaN  \n",
       "7                         NaN  \n",
       "8                         NaN  \n",
       "9                         NaN  \n",
       "10                        NaN  \n",
       "11                        NaN  \n",
       "12                        NaN  \n",
       "13                        NaN  \n",
       "14                        NaN  \n",
       "15                        NaN  \n",
       "16                        NaN  \n",
       "17                        NaN  \n",
       "18                        NaN  \n",
       "19                        NaN  "
      ]
     },
     "execution_count": 31,
     "metadata": {},
     "output_type": "execute_result"
    }
   ],
   "source": [
    "data_Paris.head(-1)"
   ]
  },
  {
   "cell_type": "code",
   "execution_count": 32,
   "metadata": {},
   "outputs": [
    {
     "data": {
      "text/html": [
       "<div>\n",
       "<style scoped>\n",
       "    .dataframe tbody tr th:only-of-type {\n",
       "        vertical-align: middle;\n",
       "    }\n",
       "\n",
       "    .dataframe tbody tr th {\n",
       "        vertical-align: top;\n",
       "    }\n",
       "\n",
       "    .dataframe thead th {\n",
       "        text-align: right;\n",
       "    }\n",
       "</style>\n",
       "<table border=\"1\" class=\"dataframe\">\n",
       "  <thead>\n",
       "    <tr style=\"text-align: right;\">\n",
       "      <th></th>\n",
       "      <th>Granularité</th>\n",
       "      <th>janv-11</th>\n",
       "      <th>févr-11</th>\n",
       "      <th>mars-11</th>\n",
       "      <th>avr-11</th>\n",
       "      <th>mai-11</th>\n",
       "      <th>juin-11</th>\n",
       "      <th>juil-11</th>\n",
       "      <th>août-11</th>\n",
       "      <th>sept-11</th>\n",
       "      <th>oct-11</th>\n",
       "      <th>nov-11</th>\n",
       "      <th>déc-11</th>\n",
       "    </tr>\n",
       "  </thead>\n",
       "  <tbody>\n",
       "    <tr>\n",
       "      <th>0</th>\n",
       "      <td>75007</td>\n",
       "      <td>288.1</td>\n",
       "      <td>249.1</td>\n",
       "      <td>303.7</td>\n",
       "      <td>255.8</td>\n",
       "      <td>287.8</td>\n",
       "      <td>288.4</td>\n",
       "      <td>249.6</td>\n",
       "      <td>185.6</td>\n",
       "      <td>281.3</td>\n",
       "      <td>284.3</td>\n",
       "      <td>296.4</td>\n",
       "      <td>301.1</td>\n",
       "    </tr>\n",
       "    <tr>\n",
       "      <th>1</th>\n",
       "      <td>75013</td>\n",
       "      <td>596.5</td>\n",
       "      <td>540.2</td>\n",
       "      <td>618.5</td>\n",
       "      <td>558.6</td>\n",
       "      <td>595.9</td>\n",
       "      <td>581.7</td>\n",
       "      <td>539.2</td>\n",
       "      <td>490.5</td>\n",
       "      <td>597.8</td>\n",
       "      <td>575.7</td>\n",
       "      <td>580.5</td>\n",
       "      <td>601.4</td>\n",
       "    </tr>\n",
       "    <tr>\n",
       "      <th>2</th>\n",
       "      <td>75014</td>\n",
       "      <td>464</td>\n",
       "      <td>404.9</td>\n",
       "      <td>465.3</td>\n",
       "      <td>420.2</td>\n",
       "      <td>405.3</td>\n",
       "      <td>446</td>\n",
       "      <td>412.9</td>\n",
       "      <td>348.7</td>\n",
       "      <td>449.3</td>\n",
       "      <td>446.3</td>\n",
       "      <td>453.1</td>\n",
       "      <td>484.3</td>\n",
       "    </tr>\n",
       "    <tr>\n",
       "      <th>3</th>\n",
       "      <td>75015</td>\n",
       "      <td>903.1</td>\n",
       "      <td>801.4</td>\n",
       "      <td>937.5</td>\n",
       "      <td>835.5</td>\n",
       "      <td>876.8</td>\n",
       "      <td>888.6</td>\n",
       "      <td>628.8</td>\n",
       "      <td>674.8</td>\n",
       "      <td>913.3</td>\n",
       "      <td>878.7</td>\n",
       "      <td>895.7</td>\n",
       "      <td>935.8</td>\n",
       "    </tr>\n",
       "    <tr>\n",
       "      <th>4</th>\n",
       "      <td>75017</td>\n",
       "      <td>451.1</td>\n",
       "      <td>412.4</td>\n",
       "      <td>491.6</td>\n",
       "      <td>422.7</td>\n",
       "      <td>363.6</td>\n",
       "      <td>446.4</td>\n",
       "      <td>409.5</td>\n",
       "      <td>332.3</td>\n",
       "      <td>416.4</td>\n",
       "      <td>451.5</td>\n",
       "      <td>475.1</td>\n",
       "      <td>513.5</td>\n",
       "    </tr>\n",
       "    <tr>\n",
       "      <th>5</th>\n",
       "      <td>75018</td>\n",
       "      <td>427</td>\n",
       "      <td>394.3</td>\n",
       "      <td>455.2</td>\n",
       "      <td>419.9</td>\n",
       "      <td>458.3</td>\n",
       "      <td>456.6</td>\n",
       "      <td>418</td>\n",
       "      <td>361.8</td>\n",
       "      <td>464.6</td>\n",
       "      <td>453.4</td>\n",
       "      <td>478.5</td>\n",
       "      <td>470.9</td>\n",
       "    </tr>\n",
       "    <tr>\n",
       "      <th>6</th>\n",
       "      <td>75019</td>\n",
       "      <td>323.4</td>\n",
       "      <td>287.3</td>\n",
       "      <td>350.3</td>\n",
       "      <td>317.8</td>\n",
       "      <td>336.9</td>\n",
       "      <td>340.7</td>\n",
       "      <td>311.6</td>\n",
       "      <td>281</td>\n",
       "      <td>345.6</td>\n",
       "      <td>335.6</td>\n",
       "      <td>367</td>\n",
       "      <td>354.5</td>\n",
       "    </tr>\n",
       "    <tr>\n",
       "      <th>7</th>\n",
       "      <td>75002</td>\n",
       "      <td>153</td>\n",
       "      <td>125.8</td>\n",
       "      <td>136.6</td>\n",
       "      <td>126.6</td>\n",
       "      <td>133.2</td>\n",
       "      <td>127.6</td>\n",
       "      <td>126.7</td>\n",
       "      <td>114.3</td>\n",
       "      <td>144.3</td>\n",
       "      <td>145.1</td>\n",
       "      <td>129.5</td>\n",
       "      <td>129.8</td>\n",
       "    </tr>\n",
       "    <tr>\n",
       "      <th>8</th>\n",
       "      <td>75004</td>\n",
       "      <td>116.3</td>\n",
       "      <td>115.7</td>\n",
       "      <td>133.4</td>\n",
       "      <td>115</td>\n",
       "      <td>123.2</td>\n",
       "      <td>120.5</td>\n",
       "      <td>114.5</td>\n",
       "      <td>97.6</td>\n",
       "      <td>130.5</td>\n",
       "      <td>123</td>\n",
       "      <td>124.3</td>\n",
       "      <td>133.7</td>\n",
       "    </tr>\n",
       "    <tr>\n",
       "      <th>9</th>\n",
       "      <td>75008</td>\n",
       "      <td>252.6</td>\n",
       "      <td>246.7</td>\n",
       "      <td>252.9</td>\n",
       "      <td>232.5</td>\n",
       "      <td>199.4</td>\n",
       "      <td>236.4</td>\n",
       "      <td>175.4</td>\n",
       "      <td>189.4</td>\n",
       "      <td>266.6</td>\n",
       "      <td>230.3</td>\n",
       "      <td>257.7</td>\n",
       "      <td>224.4</td>\n",
       "    </tr>\n",
       "    <tr>\n",
       "      <th>10</th>\n",
       "      <td>75012</td>\n",
       "      <td>484.2</td>\n",
       "      <td>445.9</td>\n",
       "      <td>517</td>\n",
       "      <td>452</td>\n",
       "      <td>402</td>\n",
       "      <td>488</td>\n",
       "      <td>456</td>\n",
       "      <td>409</td>\n",
       "      <td>506</td>\n",
       "      <td>495</td>\n",
       "      <td>493</td>\n",
       "      <td>502</td>\n",
       "    </tr>\n",
       "    <tr>\n",
       "      <th>11</th>\n",
       "      <td>75016</td>\n",
       "      <td>584.1</td>\n",
       "      <td>571.2</td>\n",
       "      <td>684.7</td>\n",
       "      <td>590.3</td>\n",
       "      <td>563.4</td>\n",
       "      <td>666.3</td>\n",
       "      <td>570.4</td>\n",
       "      <td>433.2</td>\n",
       "      <td>679.7</td>\n",
       "      <td>656.1</td>\n",
       "      <td>662.6</td>\n",
       "      <td>699.9</td>\n",
       "    </tr>\n",
       "    <tr>\n",
       "      <th>12</th>\n",
       "      <td>75020</td>\n",
       "      <td>394.1</td>\n",
       "      <td>366.3</td>\n",
       "      <td>422.7</td>\n",
       "      <td>367.1</td>\n",
       "      <td>273.5</td>\n",
       "      <td>381.7</td>\n",
       "      <td>353.4</td>\n",
       "      <td>297</td>\n",
       "      <td>414</td>\n",
       "      <td>350</td>\n",
       "      <td>410.6</td>\n",
       "      <td>410</td>\n",
       "    </tr>\n",
       "    <tr>\n",
       "      <th>14</th>\n",
       "      <td>75001</td>\n",
       "      <td>75.3</td>\n",
       "      <td>60.4</td>\n",
       "      <td>71.2</td>\n",
       "      <td>59.5</td>\n",
       "      <td>73.9</td>\n",
       "      <td>72</td>\n",
       "      <td>57.9</td>\n",
       "      <td>56.4</td>\n",
       "      <td>75.5</td>\n",
       "      <td>75.7</td>\n",
       "      <td>65.8</td>\n",
       "      <td>79.1</td>\n",
       "    </tr>\n",
       "    <tr>\n",
       "      <th>15</th>\n",
       "      <td>75005</td>\n",
       "      <td>247</td>\n",
       "      <td>211</td>\n",
       "      <td>251</td>\n",
       "      <td>218</td>\n",
       "      <td>185</td>\n",
       "      <td>224</td>\n",
       "      <td>213.3</td>\n",
       "      <td>162.9</td>\n",
       "      <td>203.4</td>\n",
       "      <td>232.1</td>\n",
       "      <td>227.6</td>\n",
       "      <td>251.6</td>\n",
       "    </tr>\n",
       "    <tr>\n",
       "      <th>16</th>\n",
       "      <td>75006</td>\n",
       "      <td>222</td>\n",
       "      <td>189</td>\n",
       "      <td>218</td>\n",
       "      <td>192</td>\n",
       "      <td>180</td>\n",
       "      <td>199</td>\n",
       "      <td>171.8</td>\n",
       "      <td>134.8</td>\n",
       "      <td>183.1</td>\n",
       "      <td>195.5</td>\n",
       "      <td>213.8</td>\n",
       "      <td>204.1</td>\n",
       "    </tr>\n",
       "    <tr>\n",
       "      <th>17</th>\n",
       "      <td>75010</td>\n",
       "      <td>273</td>\n",
       "      <td>248.6</td>\n",
       "      <td>292.2</td>\n",
       "      <td>255.2</td>\n",
       "      <td>284.3</td>\n",
       "      <td>267.3</td>\n",
       "      <td>246.6</td>\n",
       "      <td>210.3</td>\n",
       "      <td>280.6</td>\n",
       "      <td>275.6</td>\n",
       "      <td>284.6</td>\n",
       "      <td>283.2</td>\n",
       "    </tr>\n",
       "    <tr>\n",
       "      <th>18</th>\n",
       "      <td>75011</td>\n",
       "      <td>487.2</td>\n",
       "      <td>422.2</td>\n",
       "      <td>491</td>\n",
       "      <td>437</td>\n",
       "      <td>466</td>\n",
       "      <td>443</td>\n",
       "      <td>373.5</td>\n",
       "      <td>367.5</td>\n",
       "      <td>511.9</td>\n",
       "      <td>490.6</td>\n",
       "      <td>469.2</td>\n",
       "      <td>487.9</td>\n",
       "    </tr>\n",
       "    <tr>\n",
       "      <th>19</th>\n",
       "      <td>75003</td>\n",
       "      <td>183.9</td>\n",
       "      <td>173.1</td>\n",
       "      <td>204.2</td>\n",
       "      <td>183</td>\n",
       "      <td>203.2</td>\n",
       "      <td>181.9</td>\n",
       "      <td>191.2</td>\n",
       "      <td>153.6</td>\n",
       "      <td>208.6</td>\n",
       "      <td>186.5</td>\n",
       "      <td>192.9</td>\n",
       "      <td>189.9</td>\n",
       "    </tr>\n",
       "    <tr>\n",
       "      <th>20</th>\n",
       "      <td>75009</td>\n",
       "      <td>208.3</td>\n",
       "      <td>197.1</td>\n",
       "      <td>220.4</td>\n",
       "      <td>197.9</td>\n",
       "      <td>151.7</td>\n",
       "      <td>206.9</td>\n",
       "      <td>199.9</td>\n",
       "      <td>163.3</td>\n",
       "      <td>223.8</td>\n",
       "      <td>203.6</td>\n",
       "      <td>213.8</td>\n",
       "      <td>235.7</td>\n",
       "    </tr>\n",
       "  </tbody>\n",
       "</table>\n",
       "</div>"
      ],
      "text/plain": [
       "   Granularité janv-11 févr-11 mars-11 avr-11 mai-11 juin-11 juil-11 août-11  \\\n",
       "0        75007   288.1   249.1   303.7  255.8  287.8   288.4   249.6   185.6   \n",
       "1        75013   596.5   540.2   618.5  558.6  595.9   581.7   539.2   490.5   \n",
       "2        75014     464   404.9   465.3  420.2  405.3     446   412.9   348.7   \n",
       "3        75015   903.1   801.4   937.5  835.5  876.8   888.6   628.8   674.8   \n",
       "4        75017   451.1   412.4   491.6  422.7  363.6   446.4   409.5   332.3   \n",
       "5        75018     427   394.3   455.2  419.9  458.3   456.6     418   361.8   \n",
       "6        75019   323.4   287.3   350.3  317.8  336.9   340.7   311.6     281   \n",
       "7        75002     153   125.8   136.6  126.6  133.2   127.6   126.7   114.3   \n",
       "8        75004   116.3   115.7   133.4    115  123.2   120.5   114.5    97.6   \n",
       "9        75008   252.6   246.7   252.9  232.5  199.4   236.4   175.4   189.4   \n",
       "10       75012   484.2   445.9     517    452    402     488     456     409   \n",
       "11       75016   584.1   571.2   684.7  590.3  563.4   666.3   570.4   433.2   \n",
       "12       75020   394.1   366.3   422.7  367.1  273.5   381.7   353.4     297   \n",
       "14       75001    75.3    60.4    71.2   59.5   73.9      72    57.9    56.4   \n",
       "15       75005     247     211     251    218    185     224   213.3   162.9   \n",
       "16       75006     222     189     218    192    180     199   171.8   134.8   \n",
       "17       75010     273   248.6   292.2  255.2  284.3   267.3   246.6   210.3   \n",
       "18       75011   487.2   422.2     491    437    466     443   373.5   367.5   \n",
       "19       75003   183.9   173.1   204.2    183  203.2   181.9   191.2   153.6   \n",
       "20       75009   208.3   197.1   220.4  197.9  151.7   206.9   199.9   163.3   \n",
       "\n",
       "   sept-11 oct-11 nov-11 déc-11  \n",
       "0    281.3  284.3  296.4  301.1  \n",
       "1    597.8  575.7  580.5  601.4  \n",
       "2    449.3  446.3  453.1  484.3  \n",
       "3    913.3  878.7  895.7  935.8  \n",
       "4    416.4  451.5  475.1  513.5  \n",
       "5    464.6  453.4  478.5  470.9  \n",
       "6    345.6  335.6    367  354.5  \n",
       "7    144.3  145.1  129.5  129.8  \n",
       "8    130.5    123  124.3  133.7  \n",
       "9    266.6  230.3  257.7  224.4  \n",
       "10     506    495    493    502  \n",
       "11   679.7  656.1  662.6  699.9  \n",
       "12     414    350  410.6    410  \n",
       "14    75.5   75.7   65.8   79.1  \n",
       "15   203.4  232.1  227.6  251.6  \n",
       "16   183.1  195.5  213.8  204.1  \n",
       "17   280.6  275.6  284.6  283.2  \n",
       "18   511.9  490.6  469.2  487.9  \n",
       "19   208.6  186.5  192.9  189.9  \n",
       "20   223.8  203.6  213.8  235.7  "
      ]
     },
     "execution_count": 32,
     "metadata": {},
     "output_type": "execute_result"
    }
   ],
   "source": [
    "data_Paris = data_Paris.drop([\"Total arrondissement 2011\"], axis=1)\n",
    "data_Paris = data_Paris.drop([13])\n",
    "\n",
    "data_Paris"
   ]
  },
  {
   "cell_type": "code",
   "execution_count": 36,
   "metadata": {},
   "outputs": [],
   "source": [
    "cols = data_Paris.columns[data_Paris.dtypes.eq('object')]\n",
    "data_Paris[cols] = data_Paris[cols].apply(pd.to_numeric, errors='coerce')\n",
    "\n",
    "mat_Paris = normalisation(data_Paris[data_Paris.columns[1:]])"
   ]
  },
  {
   "cell_type": "markdown",
   "metadata": {},
   "source": [
    "<font size=\"+1\" color=\"RED\">**[Q]**</font> Préparer un rapport d'analyse (c'est-à-dire, compléter votre notebook en rajoutant à la suite tout un ensemble d'expérimentations et de résultats obtenus sur la base) réalisé sur cette base qui mette en évidence les clusters existants à différents niveaux de distance, et en utilisant différentes distances."
   ]
  },
  {
   "cell_type": "code",
   "execution_count": 37,
   "metadata": {},
   "outputs": [
    {
     "name": "stdout",
     "output_type": "stream",
     "text": [
      "Clustering en utilisant la distance euclidienne\n",
      "Fusion de 0 et 16 pour une distance de 0.05980330904516489\n",
      "Fusion de 7 et 8 pour une distance de 0.06995596956812182\n",
      "Fusion de 2 et 4 pour une distance de 0.09034538002040293\n",
      "Fusion de 15 et 18 pour une distance de 0.09099688490823389\n",
      "Fusion de 19 et 23 pour une distance de 0.09608457631845164\n",
      "Fusion de 5 et 22 pour une distance de 0.12348584942545547\n",
      "Fusion de 14 et 24 pour une distance de 0.12453407045196078\n",
      "Fusion de 17 et 25 pour une distance de 0.1553231849516947\n",
      "Fusion de 9 et 26 pour une distance de 0.16357044635684204\n",
      "Fusion de 10 et 27 pour une distance de 0.1812139091958864\n",
      "Fusion de 6 et 12 pour une distance de 0.24168540846465464\n",
      "Fusion de 13 et 21 pour une distance de 0.26550417696685485\n",
      "Fusion de 1 et 11 pour une distance de 0.2757063809341908\n",
      "Fusion de 20 et 28 pour une distance de 0.2890866853003415\n",
      "Fusion de 29 et 30 pour une distance de 0.4321158905664246\n",
      "Fusion de 31 et 33 pour une distance de 0.5247503537641786\n",
      "Fusion de 32 et 34 pour une distance de 0.7861301125077123\n",
      "Fusion de 35 et 36 pour une distance de 1.2057059027244827\n",
      "Fusion de 3 et 37 pour une distance de 2.357153341249612\n"
     ]
    },
    {
     "data": {
      "image/png": "[encoded data removed]",
      "text/plain": [
       "<Figure size 2160x1080 with 1 Axes>"
      ]
     },
     "metadata": {
      "needs_background": "light"
     },
     "output_type": "display_data"
    },
    {
     "data": {
      "text/plain": [
       "array([[ 0.        , 16.        ,  0.05980331,  2.        ],\n",
       "       [ 7.        ,  8.        ,  0.06995597,  2.        ],\n",
       "       [ 2.        ,  4.        ,  0.09034538,  2.        ],\n",
       "       [15.        , 18.        ,  0.09099688,  2.        ],\n",
       "       [19.        , 23.        ,  0.09608458,  2.        ],\n",
       "       [ 5.        , 22.        ,  0.12348585,  2.        ],\n",
       "       [14.        , 24.        ,  0.12453407,  2.        ],\n",
       "       [17.        , 25.        ,  0.15532318,  2.        ],\n",
       "       [ 9.        , 26.        ,  0.16357045,  2.        ],\n",
       "       [10.        , 27.        ,  0.18121391,  2.        ],\n",
       "       [ 6.        , 12.        ,  0.24168541,  2.        ],\n",
       "       [13.        , 21.        ,  0.26550418,  2.        ],\n",
       "       [ 1.        , 11.        ,  0.27570638,  2.        ],\n",
       "       [20.        , 28.        ,  0.28908669,  2.        ],\n",
       "       [29.        , 30.        ,  0.43211589,  2.        ],\n",
       "       [31.        , 33.        ,  0.52475035,  2.        ],\n",
       "       [32.        , 34.        ,  0.78613011,  2.        ],\n",
       "       [35.        , 36.        ,  1.2057059 ,  2.        ],\n",
       "       [ 3.        , 37.        ,  2.35715334,  2.        ]])"
      ]
     },
     "execution_count": 37,
     "metadata": {},
     "output_type": "execute_result"
    }
   ],
   "source": [
    "print(\"Clustering en utilisant la distance euclidienne\")\n",
    "clustering_hierarchique('euclidienne', mat_Paris)"
   ]
  },
  {
   "cell_type": "code",
   "execution_count": 38,
   "metadata": {},
   "outputs": [
    {
     "name": "stdout",
     "output_type": "stream",
     "text": [
      "Clustering en utilisant la distance de Manhattan\n",
      "Fusion de 0 et 16 pour une distance de 0.15514121759420235\n",
      "Fusion de 7 et 8 pour une distance de 0.20094298606115393\n",
      "Fusion de 2 et 4 pour une distance de 0.25052643145105596\n",
      "Fusion de 15 et 19 pour une distance de 0.2736357638772213\n",
      "Fusion de 18 et 23 pour une distance de 0.26901405120095256\n",
      "Fusion de 5 et 22 pour une distance de 0.329711923872276\n",
      "Fusion de 9 et 14 pour une distance de 0.36387711439638054\n",
      "Fusion de 17 et 25 pour une distance de 0.4323492805465101\n",
      "Fusion de 24 et 26 pour une distance de 0.46829383265225144\n",
      "Fusion de 10 et 27 pour une distance de 0.565434942910491\n",
      "Fusion de 6 et 12 pour une distance de 0.7842824910764548\n",
      "Fusion de 1 et 11 pour une distance de 0.8772540810839015\n",
      "Fusion de 13 et 21 pour une distance de 0.9087329739394056\n",
      "Fusion de 20 et 28 pour une distance de 0.9782582560827247\n",
      "Fusion de 29 et 30 pour une distance de 1.4859114141110923\n",
      "Fusion de 32 et 33 pour une distance de 1.8094030213672445\n",
      "Fusion de 31 et 34 pour une distance de 2.707718087813436\n",
      "Fusion de 35 et 36 pour une distance de 4.1594531993045\n",
      "Fusion de 3 et 37 pour une distance de 8.157328597482948\n"
     ]
    },
    {
     "data": {
      "image/png": "[encoded data removed]",
      "text/plain": [
       "<Figure size 2160x1080 with 1 Axes>"
      ]
     },
     "metadata": {
      "needs_background": "light"
     },
     "output_type": "display_data"
    },
    {
     "data": {
      "text/plain": [
       "array([[ 0.        , 16.        ,  0.15514122,  2.        ],\n",
       "       [ 7.        ,  8.        ,  0.20094299,  2.        ],\n",
       "       [ 2.        ,  4.        ,  0.25052643,  2.        ],\n",
       "       [15.        , 19.        ,  0.27363576,  2.        ],\n",
       "       [18.        , 23.        ,  0.26901405,  2.        ],\n",
       "       [ 5.        , 22.        ,  0.32971192,  2.        ],\n",
       "       [ 9.        , 14.        ,  0.36387711,  2.        ],\n",
       "       [17.        , 25.        ,  0.43234928,  2.        ],\n",
       "       [24.        , 26.        ,  0.46829383,  2.        ],\n",
       "       [10.        , 27.        ,  0.56543494,  2.        ],\n",
       "       [ 6.        , 12.        ,  0.78428249,  2.        ],\n",
       "       [ 1.        , 11.        ,  0.87725408,  2.        ],\n",
       "       [13.        , 21.        ,  0.90873297,  2.        ],\n",
       "       [20.        , 28.        ,  0.97825826,  2.        ],\n",
       "       [29.        , 30.        ,  1.48591141,  2.        ],\n",
       "       [32.        , 33.        ,  1.80940302,  2.        ],\n",
       "       [31.        , 34.        ,  2.70771809,  2.        ],\n",
       "       [35.        , 36.        ,  4.1594532 ,  2.        ],\n",
       "       [ 3.        , 37.        ,  8.1573286 ,  2.        ]])"
      ]
     },
     "execution_count": 38,
     "metadata": {},
     "output_type": "execute_result"
    }
   ],
   "source": [
    "print(\"Clustering en utilisant la distance de Manhattan\")\n",
    "clustering_hierarchique('manhattan', mat_Paris)"
   ]
  },
  {
   "cell_type": "code",
   "execution_count": 41,
   "metadata": {},
   "outputs": [
    {
     "name": "stdout",
     "output_type": "stream",
     "text": [
      "Clustering chaînage complet en utilisant la distance euclidienne\n",
      "Fusion de 0 et 16 pour une distance de 0.05980330904516489\n",
      "Fusion de 7 et 8 pour une distance de 0.06995596956812182\n",
      "Fusion de 2 et 4 pour une distance de 0.09034538002040293\n",
      "Fusion de 15 et 18 pour une distance de 0.09099688490823389\n",
      "Fusion de 14 et 19 pour une distance de 0.09818154292330362\n",
      "Fusion de 5 et 17 pour une distance de 0.14588555433594885\n",
      "Fusion de 9 et 24 pour une distance de 0.16088812240051226\n",
      "Fusion de 10 et 25 pour une distance de 0.19956051562208726\n",
      "Fusion de 22 et 27 pour une distance de 0.21873669355625952\n",
      "Fusion de 23 et 26 pour une distance de 0.2192318254370334\n",
      "Fusion de 6 et 12 pour une distance de 0.24168540846465464\n",
      "Fusion de 1 et 11 pour une distance de 0.2757063809341908\n",
      "Fusion de 13 et 21 pour une distance de 0.294555978772269\n",
      "Fusion de 20 et 29 pour une distance de 0.37996811342190495\n",
      "Fusion de 28 et 30 pour une distance de 0.6520458836797397\n",
      "Fusion de 32 et 33 pour une distance de 0.9147339159658285\n",
      "Fusion de 3 et 31 pour une distance de 1.2174824146179026\n",
      "Fusion de 34 et 35 pour une distance de 1.8216805757605725\n",
      "Fusion de 36 et 37 pour une distance de 3.4641016151377544\n"
     ]
    },
    {
     "data": {
      "image/png": "[encoded data removed]",
      "text/plain": [
       "<Figure size 2160x1080 with 1 Axes>"
      ]
     },
     "metadata": {
      "needs_background": "light"
     },
     "output_type": "display_data"
    },
    {
     "data": {
      "text/plain": [
       "array([[ 0.        , 16.        ,  0.05980331,  2.        ],\n",
       "       [ 7.        ,  8.        ,  0.06995597,  2.        ],\n",
       "       [ 2.        ,  4.        ,  0.09034538,  2.        ],\n",
       "       [15.        , 18.        ,  0.09099688,  2.        ],\n",
       "       [14.        , 19.        ,  0.09818154,  2.        ],\n",
       "       [ 5.        , 17.        ,  0.14588555,  2.        ],\n",
       "       [ 9.        , 24.        ,  0.16088812,  2.        ],\n",
       "       [10.        , 25.        ,  0.19956052,  2.        ],\n",
       "       [22.        , 27.        ,  0.21873669,  2.        ],\n",
       "       [23.        , 26.        ,  0.21923183,  2.        ],\n",
       "       [ 6.        , 12.        ,  0.24168541,  2.        ],\n",
       "       [ 1.        , 11.        ,  0.27570638,  2.        ],\n",
       "       [13.        , 21.        ,  0.29455598,  2.        ],\n",
       "       [20.        , 29.        ,  0.37996811,  2.        ],\n",
       "       [28.        , 30.        ,  0.65204588,  2.        ],\n",
       "       [32.        , 33.        ,  0.91473392,  2.        ],\n",
       "       [ 3.        , 31.        ,  1.21748241,  2.        ],\n",
       "       [34.        , 35.        ,  1.82168058,  2.        ],\n",
       "       [36.        , 37.        ,  3.46410162,  2.        ]])"
      ]
     },
     "execution_count": 41,
     "metadata": {},
     "output_type": "execute_result"
    }
   ],
   "source": [
    "print(\"Clustering chaînage complet en utilisant la distance euclidienne\")\n",
    "clustering_hierarchique_complete_linkage('euclidienne', mat_Paris)"
   ]
  },
  {
   "cell_type": "code",
   "execution_count": 42,
   "metadata": {},
   "outputs": [
    {
     "name": "stdout",
     "output_type": "stream",
     "text": [
      "Clustering chaînage complet en utilisant la distance de Manhattan\n",
      "Fusion de 0 et 16 pour une distance de 0.15514121759420235\n",
      "Fusion de 7 et 8 pour une distance de 0.20094298606115393\n",
      "Fusion de 2 et 4 pour une distance de 0.25052643145105596\n",
      "Fusion de 15 et 19 pour une distance de 0.2736357638772213\n",
      "Fusion de 18 et 23 pour une distance de 0.3435302070287627\n",
      "Fusion de 9 et 14 pour une distance de 0.36387711439638054\n",
      "Fusion de 5 et 22 pour une distance de 0.40591689538085823\n",
      "Fusion de 10 et 17 pour une distance de 0.4890437519807471\n",
      "Fusion de 26 et 27 pour une distance de 0.6578937367868589\n",
      "Fusion de 24 et 25 pour une distance de 0.7014878565612365\n",
      "Fusion de 6 et 12 pour une distance de 0.7842824910764548\n",
      "Fusion de 1 et 11 pour une distance de 0.8772540810839015\n",
      "Fusion de 13 et 21 pour une distance de 1.004652114921424\n",
      "Fusion de 20 et 29 pour une distance de 1.2900209314679358\n",
      "Fusion de 28 et 30 pour une distance de 2.2089907248258878\n",
      "Fusion de 32 et 33 pour une distance de 3.1516097247402977\n",
      "Fusion de 3 et 31 pour une distance de 4.1526505830626546\n",
      "Fusion de 34 et 35 pour une distance de 6.264590106139767\n",
      "Fusion de 36 et 37 pour une distance de 12.0\n"
     ]
    },
    {
     "data": {
      "image/png": "[encoded data removed]",
      "text/plain": [
       "<Figure size 2160x1080 with 1 Axes>"
      ]
     },
     "metadata": {
      "needs_background": "light"
     },
     "output_type": "display_data"
    },
    {
     "data": {
      "text/plain": [
       "array([[ 0.        , 16.        ,  0.15514122,  2.        ],\n",
       "       [ 7.        ,  8.        ,  0.20094299,  2.        ],\n",
       "       [ 2.        ,  4.        ,  0.25052643,  2.        ],\n",
       "       [15.        , 19.        ,  0.27363576,  2.        ],\n",
       "       [18.        , 23.        ,  0.34353021,  2.        ],\n",
       "       [ 9.        , 14.        ,  0.36387711,  2.        ],\n",
       "       [ 5.        , 22.        ,  0.4059169 ,  2.        ],\n",
       "       [10.        , 17.        ,  0.48904375,  2.        ],\n",
       "       [26.        , 27.        ,  0.65789374,  2.        ],\n",
       "       [24.        , 25.        ,  0.70148786,  2.        ],\n",
       "       [ 6.        , 12.        ,  0.78428249,  2.        ],\n",
       "       [ 1.        , 11.        ,  0.87725408,  2.        ],\n",
       "       [13.        , 21.        ,  1.00465211,  2.        ],\n",
       "       [20.        , 29.        ,  1.29002093,  2.        ],\n",
       "       [28.        , 30.        ,  2.20899072,  2.        ],\n",
       "       [32.        , 33.        ,  3.15160972,  2.        ],\n",
       "       [ 3.        , 31.        ,  4.15265058,  2.        ],\n",
       "       [34.        , 35.        ,  6.26459011,  2.        ],\n",
       "       [36.        , 37.        , 12.        ,  2.        ]])"
      ]
     },
     "execution_count": 42,
     "metadata": {},
     "output_type": "execute_result"
    }
   ],
   "source": [
    "print(\"Clustering chaînage complet en utilisant la distance de Manhattan\")\n",
    "clustering_hierarchique_complete_linkage('manhattan', mat_Paris)"
   ]
  },
  {
   "cell_type": "code",
   "execution_count": null,
   "metadata": {},
   "outputs": [],
   "source": []
  },
  {
   "cell_type": "markdown",
   "metadata": {},
   "source": [
    "## Questions de cours (à faire chez vous, sur papier)\n",
    "\n",
    "Pour vous entraîner sans machine...\n",
    "\n",
    "<font color=\"RED\" size=\"+1\">**[Q]**</font> Montrer que la distance de Manhattan est bien une mesure de distance.\n",
    "\n",
    "<font color=\"RED\" size=\"+1\">**[Q]**</font> Dans le cours, 4 approches possibles ont été données afin de calculer la distance entre 2 groupes :\n",
    "- l'approche du chaînage minimum est appelée \"simple linkage\"\n",
    "- l'approche du chaînage maximum, est appelée \"complete linkage\"\n",
    "- l'approche du chaînage moyenne est appelée \"average linkage\"\n",
    "- l'approche du par centre de gravité est appelée \"centroid linkage\"\n",
    "\n",
    "On considère une mesure de distance $d$. Soit $A =\\{a_1,a_2,...,a_{|A|}\\}$ et $B =\\{b_1,b_2,...,b_{|B|}\\}$ deux groupes d'exemples. Donner l'expression de la distance entre $A$ et $B$ pour chacune des approches.\n",
    "\n",
    "\n",
    "<font color=\"RED\" size=\"+1\">**[Q]**</font> En utilisant la distance euclidienne et l'approche \"centroid linkage\", appliquer, \"à la main\", l'algorithme de clustering hiérarchique, méthode par agglomération, sur les données fournies sur le transparent 10 du cours 2 (coin haut gauche). Dans cette page, les données correspondent à 9 points dans un espace 2D: $X_1 \\times X_2$. Le point 1 est le point de coordonnées $(-0.5, -1.0)$, etc. \n",
    "Construire le dendrogramme correspondant.\n",
    "\n",
    "rem : dans la page du cours, les 3 premiers clusters construits sont donnés.\n",
    "\n",
    "\n",
    "<font color=\"RED\" size=\"+1\">**[Q]**</font> *(examen 2018)*\n",
    "On considère la base d'apprentissage de $[0,10]\\times [0,10]$ contenant les 7 exemples suivants: $\\mathcal{X}=\\{(1,2)$, $(1,4)$, $(3,4)$, $(3,5)$, $(6,2)$, $(6,5)$, $(8,3)\\}$ (remarque: cette base est déjà normalisée).\n",
    "En détaillant les étapes et en expliquant les calculs réalisés et les regroupements effectués, appliquer sur $\\mathcal{X}$ l'algorithme de classification hiérarchique, version ascendante, en utilisant l'approche ``centroid linkage'' et la distance euclidienne.  Donner le dendrogramme obtenu.\n",
    "<font color=\"RED\" size=\"+1\">**[Q]**</font> Si on rajoute l'exemple $(5,5)$ dans $\\mathcal{X}$ de la question précédente, sans ré-appliquer l'algorithme donner, en les justifiant, les modifications apportées au dendrogramme précédent par l'ajout de cet exemple."
   ]
  },
  {
   "cell_type": "code",
   "execution_count": null,
   "metadata": {},
   "outputs": [],
   "source": []
  }
 ],
 "metadata": {
  "kernelspec": {
   "display_name": "Python 3",
   "language": "python",
   "name": "python3"
  },
  "language_info": {
   "codemirror_mode": {
    "name": "ipython",
    "version": 3
   },
   "file_extension": ".py",
   "mimetype": "text/x-python",
   "name": "python",
   "nbconvert_exporter": "python",
   "pygments_lexer": "ipython3",
   "version": "3.6.6"
  }
 },
 "nbformat": 4,
 "nbformat_minor": 1
}
