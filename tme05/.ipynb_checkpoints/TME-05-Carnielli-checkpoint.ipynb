{
 "cells": [
  {
   "cell_type": "markdown",
   "metadata": {},
   "source": [
    "IA & Data science (3i026) -- 2018-2019\n",
    "--------\n",
    "*&copy; Equipe pédagogique: Manon Ansart, Vincent Guigue, Marie-Jeanne Lesot, Christophe Marsala, Olivier Schwander.*"
   ]
  },
  {
   "cell_type": "markdown",
   "metadata": {},
   "source": [
    "# TD-TME05: les arbres de décision\n",
    "\n",
    "L'objectif de ce TP est d'implémenter un algorithme d'apprentissage supervisé, l'algorithme de construction d'arbres de décision vu en cours.\n",
    "\n",
    "Dans un premier temps, nous allons nous restreindre à un cas binaire où les classes sont étiquetées $+1$ ou $-1$. De plus, nous allons ne considérer que le cas où les attributs sont tous numériques et on ne construit que des arbres avec des noeuds binaires (ie. qui ne contiennent que 2 branches sortantes)."
   ]
  },
  {
   "cell_type": "markdown",
   "metadata": {},
   "source": [
    "<font size=\"+1\" color=\"RED\">**[Q]**</font> **Indiquer dans la boîte ci-dessous vos noms et prénoms :**"
   ]
  },
  {
   "cell_type": "markdown",
   "metadata": {},
   "source": [
    "CARNIELLI Ariana"
   ]
  },
  {
   "cell_type": "markdown",
   "metadata": {},
   "source": [
    "<font color=\"RED\" size=\"+1\">**[Q]**</font> **Renommer ce fichier ipython**\n",
    "\n",
    "Tout en haut de cette page, cliquer sur <tt>tme-05</tt> et rajouter à la suite de <tt>tme-05</tt> les noms des membres du binômes séparés par un tiret."
   ]
  },
  {
   "cell_type": "markdown",
   "metadata": {},
   "source": [
    "<font color=\"RED\" size=\"+1\">IMPORTANT: soumission de votre fichier final</font>\n",
    "\n",
    "**Nom à donner au fichier à poster** : *tme-05-Nom1_Nom2.ipynb* \n",
    "- *Nom1* et *Nom2* : noms des membres du binôme\n",
    "- ne pas compresser ou faire une archive: il faut rendre le notebook tel quel, éventuellement, si vous avez d'autres fichiers vous les rendez séparément.\n",
    "\n",
    "**Echancier pour la soumission de votre compte-rendu:**\n",
    "- le compte-rendu d'une séance doit être remis obligatoirement <font color=\"RED\">** à la fin de la séance**</font>. C'est ce compte-rendu qui donne la note de base de la séance.\n",
    "- vous pouvez éventuellement compléter votre compte-rendu  pour obtenir des points bonus, dans ce cas, vous devez soumettre votre complément avant le début de la semaine suivante.\n",
    "\n",
    "** Sur la page Moodle de remise du travail <font color=\"RED\">ne pas oublier d'envoyer le compte rendu</font>** à la fin de la séance, la soumission de la version complémentaire post-séance se fera sur une page différente."
   ]
  },
  {
   "cell_type": "markdown",
   "metadata": {},
   "source": [
    "## Mise à jour de votre librairie IADS\n",
    "\n",
    "Comme lors des séances précédentes, vous devez utiliser les fonctions de la librairie IADS.\n",
    "\n",
    "<font color=\"RED\" size=\"+1\">**[Q]**</font> **Ouvrir et compléter les fichiers Classifiers.py et utils.py**\n",
    "\n",
    "Rajouter dans la librairie les fonctions et classes et que vous avez écrites lors de la séance précédente. \n",
    "\n",
    "**Rappel**: dans un premier temps, vous devez écrire les classes et fonctions demandées dans le notebook de la séance de TDTME en cours. Lors de la séance suivante, vous rajouterez tout cela, une fois que vous l'aurez bien testé, dans vos fichiers de la librairie IADS.\n",
    "\n"
   ]
  },
  {
   "cell_type": "code",
   "execution_count": 1,
   "metadata": {},
   "outputs": [],
   "source": [
    "import numpy as np\n",
    "import pandas as pd\n",
    "import matplotlib.pyplot as plt\n",
    "import math\n",
    "%matplotlib inline  \n",
    "\n",
    "# La ligne suivante permet de préciser le chemin d'accès à la librairie iads\n",
    "import sys\n",
    "sys.path.append('../')\n",
    "\n",
    "# Importation de la librairie iads\n",
    "import iads as iads\n",
    "\n",
    "# importation de LabeledSet\n",
    "from iads import LabeledSet as ls\n",
    "\n",
    "# importation de Classifiers\n",
    "from iads import Classifiers as cl\n",
    "\n",
    "# importation de utils\n",
    "from iads import utils as ut"
   ]
  },
  {
   "cell_type": "markdown",
   "metadata": {},
   "source": [
    "### Génération de données Jouet\n",
    "\n",
    "<font color=\"RED\" size=\"+1\">**[Q]**</font>  Dans un premier temps, pour mettre au point les fonctions, générer une base jouet assez petite (par exemple, 10 exemples de chaque classe)."
   ]
  },
  {
   "cell_type": "code",
   "execution_count": 2,
   "metadata": {},
   "outputs": [
    {
     "name": "stdout",
     "output_type": "stream",
     "text": [
      "Taille de la base jouet générée : 20 exemples\n"
     ]
    }
   ],
   "source": [
    "the_set = ut.createGaussianDataset(np.array([1,1]),np.array([[1,0],[0,1]]),np.array([-1,-1]),np.array([[1,0],[0,1]]),10)\n",
    "\n",
    "print(\"Taille de la base jouet générée : \" + str(the_set.size()) + \" exemples\")"
   ]
  },
  {
   "cell_type": "code",
   "execution_count": 3,
   "metadata": {},
   "outputs": [
    {
     "name": "stdout",
     "output_type": "stream",
     "text": [
      "<class 'numpy.ndarray'>\n",
      "(2, 10, 2)\n"
     ]
    },
    {
     "data": {
      "text/plain": [
       "array([[-0.1003612 , -1.05709562],\n",
       "       [ 0.43724616,  2.87881603],\n",
       "       [ 0.47517554,  1.14865669],\n",
       "       [ 0.57332162,  1.26819411],\n",
       "       [ 0.66338891,  0.41486598],\n",
       "       [-0.03208677,  1.19704939],\n",
       "       [-1.24173793,  1.13200174],\n",
       "       [-0.87715893,  0.08179161],\n",
       "       [ 2.24392145,  0.89030837],\n",
       "       [-0.39718093, -0.09263366]])"
      ]
     },
     "execution_count": 3,
     "metadata": {},
     "output_type": "execute_result"
    }
   ],
   "source": [
    "S= the_set.x[np.where(the_set.y == 1),:]\n",
    "print(type(S))\n",
    "print(S.shape)\n",
    "S[0]"
   ]
  },
  {
   "cell_type": "code",
   "execution_count": 4,
   "metadata": {},
   "outputs": [
    {
     "data": {
      "image/png": "[encoded data removed]",
      "text/plain": [
       "<Figure size 432x288 with 1 Axes>"
      ]
     },
     "metadata": {
      "needs_background": "light"
     },
     "output_type": "display_data"
    }
   ],
   "source": [
    "# Affichage du dataset généré\n",
    "ut.plot2DSet(the_set)"
   ]
  },
  {
   "cell_type": "markdown",
   "metadata": {},
   "source": [
    "<font color=\"RED\" size=\"+1\">**[Q]**</font> Ecrire la fonction <code>classe_majoritaire()</code> qui, étant donné un LabeledSet rend la classe majoritaire dans l'ensemble (celle qui est possédée par le plus grand nombre d'exemples donc...). En cas d'égalité, cette fonction rend la classe +1."
   ]
  },
  {
   "cell_type": "code",
   "execution_count": 5,
   "metadata": {},
   "outputs": [],
   "source": [
    "def classe_majoritaire(LabeledSet):\n",
    "    nb_plus = (LabeledSet.y==1).sum()\n",
    "    nb_moins = (LabeledSet.y==-1).sum()\n",
    "    if nb_plus >= nb_moins:\n",
    "        return 1\n",
    "    return -1\n",
    "    "
   ]
  },
  {
   "cell_type": "code",
   "execution_count": 6,
   "metadata": {},
   "outputs": [
    {
     "data": {
      "text/plain": [
       "1"
      ]
     },
     "execution_count": 6,
     "metadata": {},
     "output_type": "execute_result"
    }
   ],
   "source": [
    "classe_majoritaire(the_set)"
   ]
  },
  {
   "cell_type": "markdown",
   "metadata": {},
   "source": [
    "## Arbres de décision\n",
    "\n",
    "Dans cette étape, on réalise l'implémentation de l'algorithme de construction d'un arbre de décision."
   ]
  },
  {
   "cell_type": "markdown",
   "metadata": {},
   "source": [
    "### Entropie et gain d'information\n",
    "\n",
    "On note $\\{c_1, c_2,..., c_k\\}$, l'ensemble des classes possibles.\n",
    "\n",
    "Dans le cours, la mesure de désordre présentée utilise, pour toute valeur $c$ de la classe le ratio $\\frac{|Y(c)|}{|Y|}$ qui correspond à la probabilité de la classe $c$ parmi $Y$.\n",
    "On note dans ce qui suit $p_1$ la probabilité de la classe $c_1$ parmi $Y$, etc. \n",
    "\n",
    "Ainsi, on a $P=(p_1, p_2,..., p_k)$ la distribution de probabilités sur les classes ainsi définies.\n",
    "\n",
    "L'**entropie de Shannon** de la distribution $P$ est donnée par:\n",
    "\n",
    "$ H_S(P) = -\\sum_{i=1}^{k} p_i \\log_k(p_i)$\n",
    "\n",
    "Le logarithme utilisé est le logarithme en base $k$ afin d'obtenir une valeur normalisée de l'entropie. \n",
    "\n",
    "*Remarque:* avec les notations vues en cours, on a $D(Y) = H_S(P)$.\n",
    "\n",
    "Pour ce qui suit, une *distribution de probabilités* est représentée par une **liste** Python $P=[p_1,...,p_k]$ de valeurs réelles telle que\n",
    "* pour tout $i=1,..., k$ : $0 \\leq p_i \\leq 1$\n",
    "* $\\sum_{i=1}^{k}p_i = 1$\n"
   ]
  },
  {
   "cell_type": "markdown",
   "metadata": {},
   "source": [
    "<font color=\"RED\" size=\"+1\">**[Q]**</font> Ecrire la fonction <code>shannon()</code> qui, étant donné une distribution de probabilités $P$, rend la valeur de $H_S(P)$, l'entropie de Shannon de $P$."
   ]
  },
  {
   "cell_type": "code",
   "execution_count": 7,
   "metadata": {},
   "outputs": [],
   "source": [
    "def shannon(P):\n",
    "    if len(P) == 1:\n",
    "        return 0\n",
    "    entropie = 0\n",
    "    taille = len(P)\n",
    "    for pi in P:\n",
    "        if pi != 0:\n",
    "            #print(pi)\n",
    "            entropie = entropie - (pi * math.log(pi, taille))\n",
    "    return entropie"
   ]
  },
  {
   "cell_type": "code",
   "execution_count": 8,
   "metadata": {},
   "outputs": [
    {
     "name": "stdout",
     "output_type": "stream",
     "text": [
      "P=[1,0] :  0.0\n",
      "P=[0.25, 0.25, 0.25, 0.25] :  1.0\n",
      "P=[0.7, 0.1, 0.2, 0.0] :  0.5783898247235197\n",
      "P=[1.0/3, 2.0/3] :  0.9182958340544896\n"
     ]
    }
   ],
   "source": [
    "# Exemples d'utilisation:\n",
    "print(\"P=[1,0] : \", shannon([1, 0]))\n",
    "print(\"P=[0.25, 0.25, 0.25, 0.25] : \", shannon([0.25, 0.25, 0.25, 0.25]))\n",
    "print(\"P=[0.7, 0.1, 0.2, 0.0] : \", shannon([0.7, 0.1, 0.2, 0.0]))\n",
    "print(\"P=[1.0/3, 2.0/3] : \", shannon([1.0/3, 2.0/3]))"
   ]
  },
  {
   "cell_type": "markdown",
   "metadata": {},
   "source": [
    "<font color=\"RED\" size=\"+1\">**[Q]**</font> Tracer, à l'aide de la fonction plot, la courbe donnant la valeur de <code>shannon([p, 1-p])</code> en fonction de <code>p</code>."
   ]
  },
  {
   "cell_type": "code",
   "execution_count": 9,
   "metadata": {},
   "outputs": [],
   "source": [
    "import matplotlib.pyplot as plt"
   ]
  },
  {
   "cell_type": "code",
   "execution_count": 10,
   "metadata": {},
   "outputs": [
    {
     "data": {
      "text/plain": [
       "[<matplotlib.lines.Line2D at 0x1465a59b6d8>]"
      ]
     },
     "execution_count": 10,
     "metadata": {},
     "output_type": "execute_result"
    },
    {
     "data": {
      "image/png": "[encoded data removed]",
      "text/plain": [
       "<Figure size 432x288 with 1 Axes>"
      ]
     },
     "metadata": {
      "needs_background": "light"
     },
     "output_type": "display_data"
    }
   ],
   "source": [
    "p = np.linspace(0, 1, 500)\n",
    "shannon_p = []\n",
    "for i in range(len(p)):\n",
    "    shannon_p.append(shannon([p[i], 1-p[i]]))\n",
    "\n",
    "plt.plot(p, shannon_p)"
   ]
  },
  {
   "cell_type": "markdown",
   "metadata": {},
   "source": [
    "<font color=\"RED\" size=\"+1\">**[Q]**</font> A l'aide de la fonction <code>shannon()</code>, écrire la fonction <code>entropie()</code> qui prend un LabeledSet en argument et renvoie l'entropie de la distribution des classes dans cet ensemble."
   ]
  },
  {
   "cell_type": "code",
   "execution_count": 11,
   "metadata": {},
   "outputs": [],
   "source": [
    "def entropie(LabeledSet):\n",
    "    dico_type = {}\n",
    "    taille_label = LabeledSet.size()\n",
    "    for y in range(taille_label):\n",
    "        type = LabeledSet.getY(y)\n",
    "        if type[0] in dico_type:\n",
    "            dico_type[type[0]] += 1\n",
    "        else:\n",
    "            dico_type[type[0]] = 1\n",
    "    P = []\n",
    "    for type in dico_type:\n",
    "        P.append(dico_type[type]/taille_label)\n",
    "    #print(P)\n",
    "    return shannon(P)"
   ]
  },
  {
   "cell_type": "code",
   "execution_count": 12,
   "metadata": {},
   "outputs": [
    {
     "data": {
      "text/plain": [
       "1.0"
      ]
     },
     "execution_count": 12,
     "metadata": {},
     "output_type": "execute_result"
    }
   ],
   "source": [
    "entropie(the_set)"
   ]
  },
  {
   "cell_type": "markdown",
   "metadata": {},
   "source": [
    "Cette fonction <code>entropie</code> permet dont de calculer le désordre des classes dans le LabeledSet considéré."
   ]
  },
  {
   "cell_type": "markdown",
   "metadata": {},
   "source": [
    "### Discrétisation des attributs numériques"
   ]
  },
  {
   "cell_type": "markdown",
   "metadata": {
    "collapsed": true
   },
   "source": [
    "Comme on l'a vu en cours, discrétiser un attribut numérique consiste en trouver un seuil de coupure dans son ensemble de valeurs. \n",
    "\n",
    "Par exemple, soit l'attribut Age contenant les valeurs 17, 18, 20, 27, 35, 37, 40. On discrétise cet attribut en 2 valeurs en prenant, par exemple, le seuil 30: cela permet de séparer d'un côté les valeurs inférieures ou égales à 30, et de l'autre les valeurs strictement supérieures à 30.\n",
    "\n",
    "Le seuil est choisi afin d'optimiser la distribution des classes des exemples qui se trouvent de chaque côté du seuil. Une fois un seuil choisi, on calcule le désordre des classes associées aux exemples de chaque côté du seuil et on agrège les 2 valeurs de désordre obtenues pour déterminer la qualité de la coupure à l'aide de la mesure $Q$ vue en cours.\n",
    "\n",
    "\n",
    "Soit $X$ un ensemble d'exemples, et soit $A$ un attribut que l'on souhaite discrétiser. Pour cela, on constitue l'ensemble des valeurs prises par les exemples de $X$ pour l'attribut $A$. Soit $A_X$ cet ensemble de valeurs.\n",
    "\n",
    "La discrétisation de $A_X$ s'effectue par les étapes suivantes:\n",
    "- Etape 1: ordonner de façon croissante les valeurs de $A_X$;\n",
    "- Etape 2: regarder tous les seuils possibles de coupure entre 2 valeurs consécutives de $A_X$ (on prend comme seuil de coupure la valeur médiane entre ces 2 valeurs). Chaque seuil trouvé créé 2 intervalles qui générent 2 sous-ensembles de $X$: l'ensemble $X_1$ des exemples dont la valeur pour $A$ et inférieure ou égale au seuil, et l'ensemble $X_2$ des exemples dont la valeur pour $A$ et supérieure au seuil. On détermine la qualité du seuil par la mesure de qualité d'un test vue en cours. On note $Q(seuil)$ cette valeur.\n",
    "\n",
    "\n",
    "La meilleure coupure pour discrétiser $A_X$ est celle qui minimise la valeur $Q(seuil)$.\n",
    "\n",
    "\n",
    "Par exemple, soit $X=\\{17, 18, 20, 27, 35, 37, 40\\}$, chaque valeur étant associées aux classes +1, +1, -1, -1, +1, +1, -1 respectivement. Un seuil de coupure possible est $31$ ($31 = \\frac{27+35}{2}$). Ce seuil coupe $X$ en $X_1=\\{17, 18, 20, 27\\}$ et $X_2=\\{35, 37, 40\\}$.\n",
    "\n",
    "- pour $X_1$, la probabilité de chaque classe est: $p(+1)= 0.5$ et $p(-1)=0.5$ donc, $H_S(X_1)=1$;\n",
    "- pour $X_2$, la probabilité de chaque classe est: $p(+1)= \\frac{1}{3}$ et $p(-1)=\\frac{2}{3}$ donc, $H_S(X_2)=0.9182958340544896$;\n",
    "- on a donc: $$Q(seuil=31) = \\frac{4}{7} H_S(X_1) + \\frac{3}{7} H_S(X_2);$$\n",
    "soit $Q(seuil=31) = 0.9182958340544896$"
   ]
  },
  {
   "cell_type": "markdown",
   "metadata": {},
   "source": [
    "On considère que <code>the_set</code> est un LabeledSet construit précédement. Il contient deux variables de type array: $x$ et $y$.\n",
    "\n",
    "Regarder et tester les instructions suivantes, il faut bien comprendre comment elles fonctionnent car on va utiliser les mêmes principes dans les fonctions à écrire."
   ]
  },
  {
   "cell_type": "code",
   "execution_count": 13,
   "metadata": {},
   "outputs": [
    {
     "name": "stdout",
     "output_type": "stream",
     "text": [
      "[[11  9]\n",
      " [19 17]\n",
      " [ 9  7]\n",
      " [13 13]\n",
      " [12  0]\n",
      " [15 15]\n",
      " [ 1  5]\n",
      " [ 3 11]\n",
      " [14 19]\n",
      " [18  1]\n",
      " [ 0 18]\n",
      " [10 14]\n",
      " [17  3]\n",
      " [ 7  8]\n",
      " [ 2 16]\n",
      " [ 4 12]\n",
      " [ 6  4]\n",
      " [ 5 10]\n",
      " [ 8  6]\n",
      " [16  2]]\n",
      "[[-0.1003612  -1.05709562]\n",
      " [-0.97078986 -0.24274757]\n",
      " [ 0.43724616  2.87881603]\n",
      " [-0.91789986  0.114858  ]\n",
      " [ 0.47517554  1.14865669]\n",
      " [ 0.63065682 -0.795806  ]\n",
      " [ 0.57332162  1.26819411]\n",
      " [ 0.322508   -1.21073981]\n",
      " [ 0.66338891  0.41486598]\n",
      " [-2.00297211 -1.79723522]\n",
      " [-0.03208677  1.19704939]\n",
      " [-2.14559056 -0.54410493]\n",
      " [-1.24173793  1.13200174]\n",
      " [-1.62574765 -1.06616027]\n",
      " [-0.87715893  0.08179161]\n",
      " [-1.02079906 -0.9544941 ]\n",
      " [ 2.24392145  0.89030837]\n",
      " [ 0.30714664 -1.2709673 ]\n",
      " [-0.39718093 -0.09263366]\n",
      " [-2.12843336 -0.48718789]]\n"
     ]
    }
   ],
   "source": [
    "ind= np.argsort(the_set.x,axis=0)   # Tri des valeurs de the_set.x selon les colonnes. \n",
    "                                    # La fonction rend un numpy.ndarray contenant autant de \n",
    "                                    # colonnes que the_set.x et dans chaque colonne, on a \n",
    "                                    # la position de l'exemple dans l'ordonnancement croissant.\n",
    "print(ind) #pour afficher\n",
    "print(the_set.x)"
   ]
  },
  {
   "cell_type": "code",
   "execution_count": 14,
   "metadata": {},
   "outputs": [
    {
     "data": {
      "text/plain": [
       "array([[-2.14559056, -0.54410493],\n",
       "       [-2.12843336, -0.48718789],\n",
       "       [-2.00297211, -1.79723522],\n",
       "       [-1.62574765, -1.06616027],\n",
       "       [-1.24173793,  1.13200174],\n",
       "       [-1.02079906, -0.9544941 ],\n",
       "       [-0.97078986, -0.24274757],\n",
       "       [-0.91789986,  0.114858  ],\n",
       "       [-0.87715893,  0.08179161],\n",
       "       [-0.39718093, -0.09263366],\n",
       "       [-0.1003612 , -1.05709562],\n",
       "       [-0.03208677,  1.19704939],\n",
       "       [ 0.30714664, -1.2709673 ],\n",
       "       [ 0.322508  , -1.21073981],\n",
       "       [ 0.43724616,  2.87881603],\n",
       "       [ 0.47517554,  1.14865669],\n",
       "       [ 0.57332162,  1.26819411],\n",
       "       [ 0.63065682, -0.795806  ],\n",
       "       [ 0.66338891,  0.41486598],\n",
       "       [ 2.24392145,  0.89030837]])"
      ]
     },
     "execution_count": 14,
     "metadata": {},
     "output_type": "execute_result"
    }
   ],
   "source": [
    "#the_set.x[ind[0:len(the_set.x),0]]  # Rend le numpy.array des exemples de the_set.x ordonnés\n",
    "                                    # selon les indices donnés dans ind (colonne 0)\n",
    "the_set.x[ind[:,0]] "
   ]
  },
  {
   "cell_type": "code",
   "execution_count": 15,
   "metadata": {},
   "outputs": [
    {
     "data": {
      "text/plain": [
       "array([[-1],\n",
       "       [-1],\n",
       "       [-1],\n",
       "       [-1],\n",
       "       [ 1],\n",
       "       [-1],\n",
       "       [-1],\n",
       "       [-1],\n",
       "       [ 1],\n",
       "       [ 1],\n",
       "       [ 1],\n",
       "       [ 1],\n",
       "       [-1],\n",
       "       [-1],\n",
       "       [ 1],\n",
       "       [ 1],\n",
       "       [ 1],\n",
       "       [-1],\n",
       "       [ 1],\n",
       "       [ 1]])"
      ]
     },
     "execution_count": 15,
     "metadata": {},
     "output_type": "execute_result"
    }
   ],
   "source": [
    "the_set.y[ind[0:len(the_set.y),0]]  # Rend le numpy.array des exemples de the_set.y ordonnés\n",
    "                                    # selon les indices donnés dans ind (colonne 0)\n",
    "    \n",
    "the_set.y[ind[:,0]] "
   ]
  },
  {
   "cell_type": "code",
   "execution_count": 16,
   "metadata": {},
   "outputs": [
    {
     "name": "stdout",
     "output_type": "stream",
     "text": [
      "valeur= -1.7972352244104777 classe=  -1\n",
      "valeur= -1.2709672979653295 classe=  -1\n",
      "valeur= -1.210739813277304 classe=  -1\n",
      "valeur= -1.0661602701107435 classe=  -1\n",
      "valeur= -1.0570956188382183 classe=  1\n",
      "valeur= -0.9544940992725839 classe=  -1\n",
      "valeur= -0.7958059991811178 classe=  -1\n",
      "valeur= -0.544104934354662 classe=  -1\n",
      "valeur= -0.4871878857459011 classe=  -1\n",
      "valeur= -0.242747571904536 classe=  -1\n",
      "valeur= -0.09263366270225859 classe=  1\n",
      "valeur= 0.08179160643561012 classe=  1\n",
      "valeur= 0.11485799672763797 classe=  -1\n",
      "valeur= 0.4148659752997448 classe=  1\n",
      "valeur= 0.8903083659749286 classe=  1\n",
      "valeur= 1.1320017427084577 classe=  1\n",
      "valeur= 1.1486566898473933 classe=  1\n",
      "valeur= 1.1970493920224448 classe=  1\n",
      "valeur= 1.2681941110617052 classe=  1\n",
      "valeur= 2.8788160301006376 classe=  1\n"
     ]
    }
   ],
   "source": [
    "colonne = 1    # numéro de la colonne de the_set.x à considérer\n",
    "for v_i in ind[0:len(the_set.x)]:\n",
    "    i = v_i[colonne]\n",
    "    exem = the_set.getX(i)\n",
    "    clas = the_set.getY(i)\n",
    "    print(\"valeur=\",exem[colonne], \"classe= \", clas[0])"
   ]
  },
  {
   "cell_type": "markdown",
   "metadata": {},
   "source": [
    "Etant donné un LabeledSet, ainsi qu'un numéro de colonne à considérer (qui correspond à un des attributs de description), la fonction <code>discrétise()</code> rend un tuple constitué de la valeur de coupure qui optimise la mesure de qualité, et de la valeur trouvée pour cette mesure."
   ]
  },
  {
   "cell_type": "code",
   "execution_count": 17,
   "metadata": {},
   "outputs": [],
   "source": [
    "def discretise(LSet, col):\n",
    "    \"\"\" LabeledSet * int -> tuple[float, float]\n",
    "        Hypothèse: LSet.size() >= 2\n",
    "        col est le numéro de colonne sur X à discrétiser\n",
    "        rend la valeur de coupure qui minimise l'entropie ainsi que son entropie.\n",
    "    \"\"\"\n",
    "    # initialisation:\n",
    "    min_entropie = 1.1  # on met à une valeur max car on veut minimiser\n",
    "    min_seuil = 0.0     \n",
    "    # trie des valeurs:\n",
    "    ind= np.argsort(LSet.x,axis=0)\n",
    "    \n",
    "    # calcul des distributions des classes pour E1 et E2:\n",
    "    inf_plus  = 0               # nombre de +1 dans E1\n",
    "    inf_moins = 0               # nombre de -1 dans E1\n",
    "    sup_plus  = 0               # nombre de +1 dans E2\n",
    "    sup_moins = 0               # nombre de -1 dans E2       \n",
    "    # remarque: au départ on considère que E1 est vide et donc E2 correspond à E. \n",
    "    # Ainsi inf_plus et inf_moins valent 0. Il reste à calculer sup_plus et sup_moins \n",
    "    # dans E.\n",
    "    for j in range(0,LSet.size()):\n",
    "        if (LSet.getY(j) == -1):\n",
    "            sup_moins += 1\n",
    "        else:\n",
    "            sup_plus += 1\n",
    "    nb_total = (sup_plus + sup_moins) # nombre d'exemples total dans E\n",
    "    \n",
    "    # parcours pour trouver le meilleur seuil:\n",
    "    for i in range(len(LSet.x)-1):\n",
    "        v_ind_i = ind[i]   # vecteur d'indices\n",
    "        courant = LSet.getX(v_ind_i[col])[col]\n",
    "        lookahead = LSet.getX(ind[i+1][col])[col]\n",
    "        val_seuil = (courant + lookahead) / 2.0;\n",
    "        # M-A-J de la distrib. des classes:\n",
    "        # pour réduire les traitements: on retire un exemple de E2 et on le place\n",
    "        # dans E1, c'est ainsi que l'on déplace donc le seuil de coupure.\n",
    "        if LSet.getY(ind[i][col])[0] == -1:\n",
    "            inf_moins += 1\n",
    "            sup_moins -= 1\n",
    "        else:\n",
    "            inf_plus += 1\n",
    "            sup_plus -= 1\n",
    "        # calcul de la distribution des classes de chaque côté du seuil:\n",
    "        nb_inf = (inf_moins + inf_plus)*1.0     # rem: on en fait un float pour éviter\n",
    "        nb_sup = (sup_moins + sup_plus)*1.0     # que ce soit une division entière.\n",
    "        # calcul de l'entropie de la coupure\n",
    "        val_entropie_inf = shannon([inf_moins / nb_inf, inf_plus  / nb_inf])\n",
    "        val_entropie_sup = shannon([sup_moins / nb_sup, sup_plus  / nb_sup])\n",
    "        val_entropie = (nb_inf / nb_total) * val_entropie_inf \\\n",
    "                       + (nb_sup / nb_total) * val_entropie_sup\n",
    "        # si cette coupure minimise l'entropie, on mémorise ce seuil et son entropie:\n",
    "        if (min_entropie > val_entropie):\n",
    "            min_entropie = val_entropie\n",
    "            min_seuil = val_seuil\n",
    "    return (min_seuil, min_entropie)"
   ]
  },
  {
   "cell_type": "markdown",
   "metadata": {},
   "source": [
    "Une autre implementation possible:"
   ]
  },
  {
   "cell_type": "code",
   "execution_count": 18,
   "metadata": {},
   "outputs": [],
   "source": [
    "def discretise2(LSet, col):\n",
    "    x = LSet.x[:, col]\n",
    "    y = LSet.y[:, 0]\n",
    "    ind = np.argsort(x)\n",
    "    x = x[ind]\n",
    "    y = y[ind]\n",
    "    indices = np.where(y[:-1] != y[1:])[0]\n",
    "    seuil = (x[indices] + x[indices+1])/2\n",
    "    entropie = np.zeros(seuil.size)\n",
    "    for i in range(seuil.size):\n",
    "        j = indices[i]\n",
    "        p = (y[:(j+1)]==1).sum()/y[:(j+1)].size\n",
    "        ent1 = shannon([p, 1 - p])\n",
    "        p = (y[(j+1):]==1).sum()/y[(j+1):].size\n",
    "        ent2 = shannon([p, 1 - p])\n",
    "        entropie[i] = (ent1*y[:(j+1)].size + ent2*y[(j+1):].size)/y.size\n",
    "        \n",
    "    imin = np.argmin(entropie)\n",
    "    return (seuil[imin], entropie[imin])"
   ]
  },
  {
   "cell_type": "code",
   "execution_count": 19,
   "metadata": {},
   "outputs": [
    {
     "data": {
      "text/plain": [
       "(-0.8975293952874892, 0.7041926519553183)"
      ]
     },
     "execution_count": 19,
     "metadata": {},
     "output_type": "execute_result"
    }
   ],
   "source": [
    "discretise(the_set,0) # le résultat dépend, bien sûr, de la base jouet"
   ]
  },
  {
   "cell_type": "code",
   "execution_count": 20,
   "metadata": {},
   "outputs": [
    {
     "data": {
      "text/plain": [
       "(-0.8975293952874892, 0.7041926519553183)"
      ]
     },
     "execution_count": 20,
     "metadata": {},
     "output_type": "execute_result"
    }
   ],
   "source": [
    "discretise2(the_set,0) # le résultat dépend, bien sûr, de la base jouet"
   ]
  },
  {
   "cell_type": "code",
   "execution_count": 21,
   "metadata": {},
   "outputs": [
    {
     "data": {
      "text/plain": [
       "(-0.1676906173033973, 0.4689955935892812)"
      ]
     },
     "execution_count": 21,
     "metadata": {},
     "output_type": "execute_result"
    }
   ],
   "source": [
    "discretise(the_set,1) # le résultat dépend, bien sûr, de la base jouet"
   ]
  },
  {
   "cell_type": "markdown",
   "metadata": {},
   "source": [
    "Une dernière fonction utile permet de diviser une base d'exemples en 2 sous-bases en utilisant un seuil sur la valeur d'un attribut donné.\n",
    "\n",
    "<font color=\"RED\" size=\"+1\">**[Q]**</font> Ecrire la fonction divise() dont la spécification est:\n",
    "\n",
    "    def divise(LSet,att,seuil):\n",
    "        \"\"\" LSet: LabeledSet\n",
    "            att : numéro d'attribut\n",
    "            seuil : valeur de seuil\n",
    "            rend le tuple contenant les 2 sous-LabeledSet obtenus par la\n",
    "            division de LSet selon le seuil sur l'attribut att\n",
    "        \"\"\"\n",
    "\n"
   ]
  },
  {
   "cell_type": "code",
   "execution_count": 40,
   "metadata": {},
   "outputs": [],
   "source": [
    "def divise(LabeledSet, att, seuil):\n",
    "    Lb1 = ls.LabeledSet(LabeledSet.getInputDimension())\n",
    "    Lb2 = ls.LabeledSet(LabeledSet.getInputDimension())\n",
    "    \n",
    "    for i in range(LabeledSet.size()):\n",
    "        if LabeledSet.getX(i)[att] <= seuil:\n",
    "            Lb1.addExample(LabeledSet.getX(i), LabeledSet.getY(i))\n",
    "        else:\n",
    "            Lb2.addExample(LabeledSet.getX(i), LabeledSet.getY(i))\n",
    "        \n",
    "    return (Lb1, Lb2)"
   ]
  },
  {
   "cell_type": "code",
   "execution_count": 23,
   "metadata": {},
   "outputs": [
    {
     "name": "stdout",
     "output_type": "stream",
     "text": [
      "entropie inférieur: 0.7642045065086203  / entropie supérieur: 0.8453509366224365\n"
     ]
    }
   ],
   "source": [
    "Linf, Lsup = divise(the_set,0,-0.5)\n",
    "#Linf.affiche_base()\n",
    "#print(\"segundo dataset\")\n",
    "#Lsup.affiche_base()\n",
    "print(\"entropie inférieur:\",entropie(Linf),\" / entropie supérieur:\", entropie(Lsup))\n",
    "# remarque: les résultats dépendent de votre base jouet..."
   ]
  },
  {
   "cell_type": "code",
   "execution_count": 24,
   "metadata": {},
   "outputs": [
    {
     "data": {
      "image/png": "[encoded data removed]",
      "text/plain": [
       "<Figure size 432x288 with 1 Axes>"
      ]
     },
     "metadata": {
      "needs_background": "light"
     },
     "output_type": "display_data"
    }
   ],
   "source": [
    "ut.plot2DSet(the_set)"
   ]
  },
  {
   "cell_type": "code",
   "execution_count": 25,
   "metadata": {},
   "outputs": [
    {
     "data": {
      "text/plain": [
       "0.8453509366224365"
      ]
     },
     "execution_count": 25,
     "metadata": {},
     "output_type": "execute_result"
    }
   ],
   "source": [
    "entropie(Lsup)"
   ]
  },
  {
   "cell_type": "markdown",
   "metadata": {},
   "source": [
    "### Représentation d'un arbre en Python"
   ]
  },
  {
   "cell_type": "markdown",
   "metadata": {},
   "source": [
    "Un arbre de décision doit être représenté en Python, pour cela, on utilise la classe <code>ArbreBinaire</code> suivante:"
   ]
  },
  {
   "cell_type": "code",
   "execution_count": 41,
   "metadata": {},
   "outputs": [],
   "source": [
    "import graphviz as gv\n",
    "# Eventuellement, il peut être nécessaire d'installer graphviz sur votre compte:\n",
    "# pip install --user --install-option=\"--prefix=\" -U graphviz\n",
    "\n",
    "\n",
    "class ArbreBinaire:\n",
    "    def __init__(self):\n",
    "        self.attribut = None   # numéro de l'attribut\n",
    "        self.seuil = None\n",
    "        self.inferieur = None # ArbreBinaire Gauche (valeurs <= au seuil)\n",
    "        self.superieur = None # ArbreBinaire Gauche (valeurs > au seuil)\n",
    "        self.classe = None # Classe si c'est une feuille: -1 ou +1\n",
    "        \n",
    "    def est_feuille(self):\n",
    "        \"\"\" rend True si l'arbre est une feuille \"\"\"\n",
    "        return self.seuil == None\n",
    "    \n",
    "    def ajoute_fils(self,ABinf,ABsup,att,seuil):\n",
    "        \"\"\" ABinf, ABsup: 2 arbres binaires\n",
    "            att: numéro d'attribut\n",
    "            seuil: valeur de seuil\n",
    "        \"\"\"\n",
    "        self.attribut = att\n",
    "        self.seuil = seuil\n",
    "        self.inferieur = ABinf\n",
    "        self.superieur = ABsup\n",
    "    \n",
    "    def ajoute_feuille(self,classe):\n",
    "        \"\"\" classe: -1 ou + 1\n",
    "        \"\"\"\n",
    "        self.classe = classe\n",
    "        \n",
    "    def classifie(self,exemple):\n",
    "        \"\"\" exemple : numpy.array\n",
    "            rend la classe de l'exemple: +1 ou -1\n",
    "        \"\"\"\n",
    "        if self.est_feuille():\n",
    "            return self.classe\n",
    "        if exemple[self.attribut] <= self.seuil:\n",
    "            return self.inferieur.classifie(exemple)\n",
    "        return self.superieur.classifie(exemple)\n",
    "    \n",
    "    def to_graph(self, g, prefixe='A'):\n",
    "        \"\"\" construit une représentation de l'arbre pour pouvoir\n",
    "            l'afficher\n",
    "        \"\"\"\n",
    "        if self.est_feuille():\n",
    "            g.node(prefixe,str(self.classe),shape='box')\n",
    "        else:\n",
    "            g.node(prefixe, str(self.attribut))\n",
    "            self.inferieur.to_graph(g,prefixe+\"g\")\n",
    "            self.superieur.to_graph(g,prefixe+\"d\")\n",
    "            g.edge(prefixe,prefixe+\"g\", '<='+ str(self.seuil))\n",
    "            g.edge(prefixe,prefixe+\"d\", '>'+ str(self.seuil))\n",
    "        \n",
    "        return g"
   ]
  },
  {
   "cell_type": "code",
   "execution_count": 29,
   "metadata": {},
   "outputs": [
    {
     "name": "stdout",
     "output_type": "stream",
     "text": [
      "True\n"
     ]
    },
    {
     "data": {
      "image/svg+xml": [
       "<?xml version=\"1.0\" encoding=\"UTF-8\" standalone=\"no\"?>\r\n",
       "<!DOCTYPE svg PUBLIC \"-//W3C//DTD SVG 1.1//EN\"\r\n",
       " \"http://www.w3.org/Graphics/SVG/1.1/DTD/svg11.dtd\">\r\n",
       "<!-- Generated by graphviz version 2.38.0 (20140413.2041)\r\n",
       " -->\r\n",
       "<!-- Title: %3 Pages: 1 -->\r\n",
       "<svg width=\"134pt\" height=\"131pt\"\r\n",
       " viewBox=\"0.00 0.00 134.00 131.00\" xmlns=\"http://www.w3.org/2000/svg\" xmlns:xlink=\"http://www.w3.org/1999/xlink\">\r\n",
       "<g id=\"graph0\" class=\"graph\" transform=\"scale(1 1) rotate(0) translate(4 127)\">\r\n",
       "<title>%3</title>\r\n",
       "<polygon fill=\"white\" stroke=\"none\" points=\"-4,4 -4,-127 130,-127 130,4 -4,4\"/>\r\n",
       "<!-- A -->\r\n",
       "<g id=\"node1\" class=\"node\"><title>A</title>\r\n",
       "<ellipse fill=\"none\" stroke=\"black\" cx=\"63\" cy=\"-105\" rx=\"27\" ry=\"18\"/>\r\n",
       "<text text-anchor=\"middle\" x=\"63\" y=\"-101.3\" font-family=\"Times New Roman,serif\" font-size=\"14.00\">nom</text>\r\n",
       "</g>\r\n",
       "<!-- Ag -->\r\n",
       "<g id=\"node2\" class=\"node\"><title>Ag</title>\r\n",
       "<polygon fill=\"none\" stroke=\"black\" points=\"54,-36 0,-36 0,-0 54,-0 54,-36\"/>\r\n",
       "<text text-anchor=\"middle\" x=\"27\" y=\"-14.3\" font-family=\"Times New Roman,serif\" font-size=\"14.00\">1</text>\r\n",
       "</g>\r\n",
       "<!-- A&#45;&gt;Ag -->\r\n",
       "<g id=\"edge1\" class=\"edge\"><title>A&#45;&gt;Ag</title>\r\n",
       "<path fill=\"none\" stroke=\"black\" d=\"M49.171,-89.3516C44.2998,-83.4397 39.2368,-76.2955 36,-69 32.8522,-61.9053 30.8051,-53.78 29.4738,-46.171\"/>\r\n",
       "<polygon fill=\"black\" stroke=\"black\" points=\"32.9377,-45.6687 28.0661,-36.2603 26.0073,-46.6532 32.9377,-45.6687\"/>\r\n",
       "<text text-anchor=\"middle\" x=\"56.5\" y=\"-57.8\" font-family=\"Times New Roman,serif\" font-size=\"14.00\">&lt;=42.0</text>\r\n",
       "</g>\r\n",
       "<!-- Ad -->\r\n",
       "<g id=\"node3\" class=\"node\"><title>Ad</title>\r\n",
       "<polygon fill=\"none\" stroke=\"black\" points=\"126,-36 72,-36 72,-0 126,-0 126,-36\"/>\r\n",
       "<text text-anchor=\"middle\" x=\"99\" y=\"-14.3\" font-family=\"Times New Roman,serif\" font-size=\"14.00\">2</text>\r\n",
       "</g>\r\n",
       "<!-- A&#45;&gt;Ad -->\r\n",
       "<g id=\"edge2\" class=\"edge\"><title>A&#45;&gt;Ad</title>\r\n",
       "<path fill=\"none\" stroke=\"black\" d=\"M70.1124,-87.2067C75.1581,-75.2934 82.032,-59.0634 87.8086,-45.4242\"/>\r\n",
       "<polygon fill=\"black\" stroke=\"black\" points=\"91.102,-46.6225 91.7791,-36.0493 84.6563,-43.8925 91.102,-46.6225\"/>\r\n",
       "<text text-anchor=\"middle\" x=\"99.5\" y=\"-57.8\" font-family=\"Times New Roman,serif\" font-size=\"14.00\">&gt;42.0</text>\r\n",
       "</g>\r\n",
       "</g>\r\n",
       "</svg>\r\n"
      ],
      "text/plain": [
       "<graphviz.dot.Digraph at 0x1465a633898>"
      ]
     },
     "execution_count": 29,
     "metadata": {},
     "output_type": "execute_result"
    }
   ],
   "source": [
    "# Exemple d'utilisation: \n",
    "un_arbre= ArbreBinaire()\n",
    "un_arbre.ajoute_feuille(1)\n",
    "print(un_arbre.est_feuille())\n",
    "un_arbre1 = ArbreBinaire()\n",
    "un_arbre1.ajoute_feuille(2)\n",
    "un_arbre2 = ArbreBinaire()\n",
    "un_arbre2.ajoute_fils(un_arbre,un_arbre1,\"nom\",42.0)\n",
    "\n",
    "gtree = gv.Digraph(format='png')\n",
    "un_arbre2.to_graph(gtree)"
   ]
  },
  {
   "cell_type": "markdown",
   "metadata": {},
   "source": [
    "### Construction de l'arbre de décision"
   ]
  },
  {
   "cell_type": "markdown",
   "metadata": {},
   "source": [
    "Pour construire un arbre de décision, il faut réaliser les étapes suivantes:\n",
    "- si l'entropie de Shannon de la distribution des classes de l'ensemble courant est inférieure(ou egale) à epsilon (réel positif fixé et qui est un paramètre de l'algorithme), alors construire une feuille avec cet ensemble, la classe associée à cette feuille est la classe majoritaire;\n",
    "- sinon, pour chaque attribut, calculer le seuil de discrétisation et l'entropie de Shannon correspondante\n",
    "    - choisir l'attribut qui donne une valeur d'entropie minimale\n",
    "    - l'attribut choisi sert à constituer un noeud de l'arbre de décision, les arcs issus de ce noeud sont labeller par un test (inférieur ou égal ou supérieur) par rapport au seuil trouvé\n",
    "    \n",
    "    \n",
    "<font color=\"RED\" size=\"+1\">**[Q]**</font> Ecrire la fonction qui construit un arbre de décision (binaire) à partir d'une base d'exemples. En plus de la base d'exemples, on utilise un argument \"epsilon\" qui est un réel >0 et qui sert pour le critère d'arrêt.\n",
    "Cette fonction a la spécification suivante:\n",
    "\n",
    "    def construit_AD(LSet,epsilon):\n",
    "        \"\"\" LSet : LabeledSet\n",
    "            epsilon : seuil d'entropie pour le critère d'arrêt \n",
    "        \"\"\"\n"
   ]
  },
  {
   "cell_type": "code",
   "execution_count": 42,
   "metadata": {},
   "outputs": [],
   "source": [
    "def construit_AD(LSet, epsilon):\n",
    "    \"\"\" LSet : LabeledSet\n",
    "        epsilon : seuil d'entropie pour le critère d'arrêt \n",
    "    \"\"\"\n",
    "    if entropie(LSet) <= epsilon:\n",
    "        feuille = ArbreBinaire()\n",
    "        feuille.ajoute_feuille(classe_majoritaire(LSet))\n",
    "        return feuille\n",
    "    taille = LSet.getInputDimension()\n",
    "    entro = 1.1     \n",
    "    seuil = None\n",
    "    att = None\n",
    "    for col in range(taille): \n",
    "        se_test, ent_test = discretise(LSet, col)\n",
    "        if entro > ent_test:\n",
    "            att = col\n",
    "            entro = ent_test\n",
    "            seuil = se_test\n",
    "    noeud = ArbreBinaire()\n",
    "    LSGauche, LSDroite = divise(LSet, att, seuil)   \n",
    "    ADGauche = construit_AD(LSGauche, epsilon)\n",
    "    ADDroite = construit_AD(LSDroite, epsilon)\n",
    "    noeud.ajoute_fils(ADGauche, ADDroite, att, seuil)\n",
    "    return noeud\n",
    "    "
   ]
  },
  {
   "cell_type": "code",
   "execution_count": 43,
   "metadata": {},
   "outputs": [
    {
     "data": {
      "image/svg+xml": [
       "<?xml version=\"1.0\" encoding=\"UTF-8\" standalone=\"no\"?>\r\n",
       "<!DOCTYPE svg PUBLIC \"-//W3C//DTD SVG 1.1//EN\"\r\n",
       " \"http://www.w3.org/Graphics/SVG/1.1/DTD/svg11.dtd\">\r\n",
       "<!-- Generated by graphviz version 2.38.0 (20140413.2041)\r\n",
       " -->\r\n",
       "<!-- Title: %3 Pages: 1 -->\r\n",
       "<svg width=\"641pt\" height=\"305pt\"\r\n",
       " viewBox=\"0.00 0.00 641.00 305.00\" xmlns=\"http://www.w3.org/2000/svg\" xmlns:xlink=\"http://www.w3.org/1999/xlink\">\r\n",
       "<g id=\"graph0\" class=\"graph\" transform=\"scale(1 1) rotate(0) translate(4 301)\">\r\n",
       "<title>%3</title>\r\n",
       "<polygon fill=\"white\" stroke=\"none\" points=\"-4,4 -4,-301 637,-301 637,4 -4,4\"/>\r\n",
       "<!-- A -->\r\n",
       "<g id=\"node1\" class=\"node\"><title>A</title>\r\n",
       "<ellipse fill=\"none\" stroke=\"black\" cx=\"269\" cy=\"-279\" rx=\"27\" ry=\"18\"/>\r\n",
       "<text text-anchor=\"middle\" x=\"269\" y=\"-275.3\" font-family=\"Times New Roman,serif\" font-size=\"14.00\">1</text>\r\n",
       "</g>\r\n",
       "<!-- Ag -->\r\n",
       "<g id=\"node2\" class=\"node\"><title>Ag</title>\r\n",
       "<ellipse fill=\"none\" stroke=\"black\" cx=\"188\" cy=\"-192\" rx=\"27\" ry=\"18\"/>\r\n",
       "<text text-anchor=\"middle\" x=\"188\" y=\"-188.3\" font-family=\"Times New Roman,serif\" font-size=\"14.00\">0</text>\r\n",
       "</g>\r\n",
       "<!-- A&#45;&gt;Ag -->\r\n",
       "<g id=\"edge9\" class=\"edge\"><title>A&#45;&gt;Ag</title>\r\n",
       "<path fill=\"none\" stroke=\"black\" d=\"M242.653,-274.007C224.268,-269.709 200.962,-260.897 189,-243 184.572,-236.375 183.19,-228.073 183.24,-220.149\"/>\r\n",
       "<polygon fill=\"black\" stroke=\"black\" points=\"186.734,-220.356 183.994,-210.122 179.754,-219.831 186.734,-220.356\"/>\r\n",
       "<text text-anchor=\"middle\" x=\"259\" y=\"-231.8\" font-family=\"Times New Roman,serif\" font-size=\"14.00\">&lt;=&#45;0.1676906173033973</text>\r\n",
       "</g>\r\n",
       "<!-- Ad -->\r\n",
       "<g id=\"node7\" class=\"node\"><title>Ad</title>\r\n",
       "<ellipse fill=\"none\" stroke=\"black\" cx=\"351\" cy=\"-192\" rx=\"27\" ry=\"18\"/>\r\n",
       "<text text-anchor=\"middle\" x=\"351\" y=\"-188.3\" font-family=\"Times New Roman,serif\" font-size=\"14.00\">0</text>\r\n",
       "</g>\r\n",
       "<!-- A&#45;&gt;Ad -->\r\n",
       "<g id=\"edge10\" class=\"edge\"><title>A&#45;&gt;Ad</title>\r\n",
       "<path fill=\"none\" stroke=\"black\" d=\"M291.583,-268.999C303.956,-263.13 318.802,-254.427 329,-243 335.016,-236.259 339.601,-227.611 342.987,-219.409\"/>\r\n",
       "<polygon fill=\"black\" stroke=\"black\" points=\"346.36,-220.377 346.538,-209.783 339.793,-217.954 346.36,-220.377\"/>\r\n",
       "<text text-anchor=\"middle\" x=\"405\" y=\"-231.8\" font-family=\"Times New Roman,serif\" font-size=\"14.00\">&gt;&#45;0.1676906173033973</text>\r\n",
       "</g>\r\n",
       "<!-- Agg -->\r\n",
       "<g id=\"node3\" class=\"node\"><title>Agg</title>\r\n",
       "<polygon fill=\"none\" stroke=\"black\" points=\"55,-123 1,-123 1,-87 55,-87 55,-123\"/>\r\n",
       "<text text-anchor=\"middle\" x=\"28\" y=\"-101.3\" font-family=\"Times New Roman,serif\" font-size=\"14.00\">&#45;1</text>\r\n",
       "</g>\r\n",
       "<!-- Ag&#45;&gt;Agg -->\r\n",
       "<g id=\"edge3\" class=\"edge\"><title>Ag&#45;&gt;Agg</title>\r\n",
       "<path fill=\"none\" stroke=\"black\" d=\"M160.991,-191.574C129.551,-190.778 77.8766,-184.726 46,-156 39.3734,-150.028 35.1847,-141.435 32.5376,-133.053\"/>\r\n",
       "<polygon fill=\"black\" stroke=\"black\" points=\"35.8692,-131.952 30.0132,-123.122 29.085,-133.677 35.8692,-131.952\"/>\r\n",
       "<text text-anchor=\"middle\" x=\"116\" y=\"-144.8\" font-family=\"Times New Roman,serif\" font-size=\"14.00\">&lt;=&#45;0.5355755258962435</text>\r\n",
       "</g>\r\n",
       "<!-- Agd -->\r\n",
       "<g id=\"node4\" class=\"node\"><title>Agd</title>\r\n",
       "<ellipse fill=\"none\" stroke=\"black\" cx=\"191\" cy=\"-105\" rx=\"27\" ry=\"18\"/>\r\n",
       "<text text-anchor=\"middle\" x=\"191\" y=\"-101.3\" font-family=\"Times New Roman,serif\" font-size=\"14.00\">0</text>\r\n",
       "</g>\r\n",
       "<!-- Ag&#45;&gt;Agd -->\r\n",
       "<g id=\"edge4\" class=\"edge\"><title>Ag&#45;&gt;Agd</title>\r\n",
       "<path fill=\"none\" stroke=\"black\" d=\"M188.607,-173.799C189.018,-162.163 189.569,-146.548 190.039,-133.237\"/>\r\n",
       "<polygon fill=\"black\" stroke=\"black\" points=\"193.539,-133.293 190.394,-123.175 186.543,-133.046 193.539,-133.293\"/>\r\n",
       "<text text-anchor=\"middle\" x=\"256\" y=\"-144.8\" font-family=\"Times New Roman,serif\" font-size=\"14.00\">&gt;&#45;0.5355755258962435</text>\r\n",
       "</g>\r\n",
       "<!-- Agdg -->\r\n",
       "<g id=\"node5\" class=\"node\"><title>Agdg</title>\r\n",
       "<polygon fill=\"none\" stroke=\"black\" points=\"54,-36 0,-36 0,-0 54,-0 54,-36\"/>\r\n",
       "<text text-anchor=\"middle\" x=\"27\" y=\"-14.3\" font-family=\"Times New Roman,serif\" font-size=\"14.00\">1</text>\r\n",
       "</g>\r\n",
       "<!-- Agd&#45;&gt;Agdg -->\r\n",
       "<g id=\"edge1\" class=\"edge\"><title>Agd&#45;&gt;Agdg</title>\r\n",
       "<path fill=\"none\" stroke=\"black\" d=\"M163.804,-104.651C131.823,-103.953 78.9351,-98.0176 46,-69 39.1892,-62.9993 34.8094,-54.2912 31.9972,-45.8182\"/>\r\n",
       "<polygon fill=\"black\" stroke=\"black\" points=\"35.3703,-44.8839 29.3642,-36.1559 28.6165,-46.7243 35.3703,-44.8839\"/>\r\n",
       "<text text-anchor=\"middle\" x=\"117\" y=\"-57.8\" font-family=\"Times New Roman,serif\" font-size=\"14.00\">&lt;=0.10339272237531894</text>\r\n",
       "</g>\r\n",
       "<!-- Agdd -->\r\n",
       "<g id=\"node6\" class=\"node\"><title>Agdd</title>\r\n",
       "<polygon fill=\"none\" stroke=\"black\" points=\"219,-36 165,-36 165,-0 219,-0 219,-36\"/>\r\n",
       "<text text-anchor=\"middle\" x=\"192\" y=\"-14.3\" font-family=\"Times New Roman,serif\" font-size=\"14.00\">&#45;1</text>\r\n",
       "</g>\r\n",
       "<!-- Agd&#45;&gt;Agdd -->\r\n",
       "<g id=\"edge2\" class=\"edge\"><title>Agd&#45;&gt;Agdd</title>\r\n",
       "<path fill=\"none\" stroke=\"black\" d=\"M191.202,-86.799C191.339,-75.1626 191.523,-59.5479 191.68,-46.2368\"/>\r\n",
       "<polygon fill=\"black\" stroke=\"black\" points=\"195.18,-46.216 191.798,-36.1754 188.18,-46.1335 195.18,-46.216\"/>\r\n",
       "<text text-anchor=\"middle\" x=\"259\" y=\"-57.8\" font-family=\"Times New Roman,serif\" font-size=\"14.00\">&gt;0.10339272237531894</text>\r\n",
       "</g>\r\n",
       "<!-- Adg -->\r\n",
       "<g id=\"node8\" class=\"node\"><title>Adg</title>\r\n",
       "<ellipse fill=\"none\" stroke=\"black\" cx=\"350\" cy=\"-105\" rx=\"27\" ry=\"18\"/>\r\n",
       "<text text-anchor=\"middle\" x=\"350\" y=\"-101.3\" font-family=\"Times New Roman,serif\" font-size=\"14.00\">0</text>\r\n",
       "</g>\r\n",
       "<!-- Ad&#45;&gt;Adg -->\r\n",
       "<g id=\"edge7\" class=\"edge\"><title>Ad&#45;&gt;Adg</title>\r\n",
       "<path fill=\"none\" stroke=\"black\" d=\"M350.798,-173.799C350.661,-162.163 350.477,-146.548 350.32,-133.237\"/>\r\n",
       "<polygon fill=\"black\" stroke=\"black\" points=\"353.82,-133.134 350.202,-123.175 346.82,-133.216 353.82,-133.134\"/>\r\n",
       "<text text-anchor=\"middle\" x=\"421\" y=\"-144.8\" font-family=\"Times New Roman,serif\" font-size=\"14.00\">&lt;=&#45;0.8975293952874892</text>\r\n",
       "</g>\r\n",
       "<!-- Add -->\r\n",
       "<g id=\"node11\" class=\"node\"><title>Add</title>\r\n",
       "<polygon fill=\"none\" stroke=\"black\" points=\"540,-123 486,-123 486,-87 540,-87 540,-123\"/>\r\n",
       "<text text-anchor=\"middle\" x=\"513\" y=\"-101.3\" font-family=\"Times New Roman,serif\" font-size=\"14.00\">1</text>\r\n",
       "</g>\r\n",
       "<!-- Ad&#45;&gt;Add -->\r\n",
       "<g id=\"edge8\" class=\"edge\"><title>Ad&#45;&gt;Add</title>\r\n",
       "<path fill=\"none\" stroke=\"black\" d=\"M378.125,-191.043C408.886,-189.69 458.921,-183.055 491,-156 498.087,-150.023 502.969,-141.321 506.297,-132.846\"/>\r\n",
       "<polygon fill=\"black\" stroke=\"black\" points=\"509.678,-133.772 509.529,-123.178 503.039,-131.552 509.678,-133.772\"/>\r\n",
       "<text text-anchor=\"middle\" x=\"567\" y=\"-144.8\" font-family=\"Times New Roman,serif\" font-size=\"14.00\">&gt;&#45;0.8975293952874892</text>\r\n",
       "</g>\r\n",
       "<!-- Adgg -->\r\n",
       "<g id=\"node9\" class=\"node\"><title>Adgg</title>\r\n",
       "<polygon fill=\"none\" stroke=\"black\" points=\"377,-36 323,-36 323,-0 377,-0 377,-36\"/>\r\n",
       "<text text-anchor=\"middle\" x=\"350\" y=\"-14.3\" font-family=\"Times New Roman,serif\" font-size=\"14.00\">1</text>\r\n",
       "</g>\r\n",
       "<!-- Adg&#45;&gt;Adgg -->\r\n",
       "<g id=\"edge5\" class=\"edge\"><title>Adg&#45;&gt;Adgg</title>\r\n",
       "<path fill=\"none\" stroke=\"black\" d=\"M350,-86.799C350,-75.1626 350,-59.5479 350,-46.2368\"/>\r\n",
       "<polygon fill=\"black\" stroke=\"black\" points=\"353.5,-46.1754 350,-36.1754 346.5,-46.1755 353.5,-46.1754\"/>\r\n",
       "<text text-anchor=\"middle\" x=\"420\" y=\"-57.8\" font-family=\"Times New Roman,serif\" font-size=\"14.00\">&lt;=&#45;1.0798188939917526</text>\r\n",
       "</g>\r\n",
       "<!-- Adgd -->\r\n",
       "<g id=\"node10\" class=\"node\"><title>Adgd</title>\r\n",
       "<polygon fill=\"none\" stroke=\"black\" points=\"540,-36 486,-36 486,-0 540,-0 540,-36\"/>\r\n",
       "<text text-anchor=\"middle\" x=\"513\" y=\"-14.3\" font-family=\"Times New Roman,serif\" font-size=\"14.00\">&#45;1</text>\r\n",
       "</g>\r\n",
       "<!-- Adg&#45;&gt;Adgd -->\r\n",
       "<g id=\"edge6\" class=\"edge\"><title>Adg&#45;&gt;Adgd</title>\r\n",
       "<path fill=\"none\" stroke=\"black\" d=\"M377.038,-104.111C407.992,-102.836 458.586,-96.291 491,-69 498.092,-63.0293 502.975,-54.3284 506.303,-45.8527\"/>\r\n",
       "<polygon fill=\"black\" stroke=\"black\" points=\"509.684,-46.7773 509.534,-36.1835 503.045,-44.5588 509.684,-46.7773\"/>\r\n",
       "<text text-anchor=\"middle\" x=\"567\" y=\"-57.8\" font-family=\"Times New Roman,serif\" font-size=\"14.00\">&gt;&#45;1.0798188939917526</text>\r\n",
       "</g>\r\n",
       "</g>\r\n",
       "</svg>\r\n"
      ],
      "text/plain": [
       "<graphviz.dot.Digraph at 0x1465a623438>"
      ]
     },
     "execution_count": 43,
     "metadata": {},
     "output_type": "execute_result"
    }
   ],
   "source": [
    "#test de l'affichage \n",
    "abin = construit_AD(the_set,0.0)\n",
    "gtree = gv.Digraph(format='png')\n",
    "abin.to_graph(gtree)"
   ]
  },
  {
   "cell_type": "markdown",
   "metadata": {},
   "source": [
    "### Classification avec arbre de décision\n"
   ]
  },
  {
   "cell_type": "markdown",
   "metadata": {},
   "source": [
    "Pour classer un nouvel exemple avec un arbre de décision, il faut parcourir l'arbre, de la racine vers une feuille en respectant les tests rencontrés dans chaque arc. Une fois atteint une feuille, la classe de l'exemple est celle présente dans la feuille.\n",
    "\n",
    "La classe ArbreBinaire contient déjà une fonction <code>classifie</code> qui permet de classer un nouvel exemple et de renvoyer la classe +1 ou -1 selon le cas."
   ]
  },
  {
   "cell_type": "markdown",
   "metadata": {},
   "source": [
    "### Implémentation"
   ]
  },
  {
   "cell_type": "markdown",
   "metadata": {},
   "source": [
    "On définit le classifieur <code>ArbreDecision</code> comme suit.\n",
    "\n",
    "Si toutes les fonctions précédentes ont été écrites correctement, il est maintenant possible de construire un arbre de décision à partir de la base jouet.\n"
   ]
  },
  {
   "cell_type": "markdown",
   "metadata": {},
   "source": [
    "## Applications à des données réelles"
   ]
  },
  {
   "cell_type": "code",
   "execution_count": 44,
   "metadata": {},
   "outputs": [],
   "source": [
    "class ArbreDecision(cl.Classifier):\n",
    "    # Constructeur\n",
    "    def __init__(self,epsilon):\n",
    "        # valeur seuil d'entropie pour arrêter la construction\n",
    "        self.epsilon= epsilon\n",
    "        self.racine = None\n",
    "    \n",
    "    # Permet de calculer la prediction sur x => renvoie un score\n",
    "    def predict(self,x):\n",
    "        # classification de l'exemple x avec l'arbre de décision\n",
    "        # on rend 0 (classe -1) ou 1 (classe 1)\n",
    "        classe = self.racine.classifie(x)\n",
    "        if (classe == 1):\n",
    "            return(1)\n",
    "        else:\n",
    "            return(-1)\n",
    "    \n",
    "    # Permet d'entrainer le modele sur un ensemble de données\n",
    "    def train(self,set):\n",
    "        # construction de l'arbre de décision \n",
    "        self.set=set\n",
    "        self.racine = construit_AD(set,self.epsilon)\n",
    "\n",
    "    # Permet d'afficher l'arbre\n",
    "    def plot(self):\n",
    "        gtree = gv.Digraph(format='png')\n",
    "        return self.racine.to_graph(gtree)\n",
    "        "
   ]
  },
  {
   "cell_type": "code",
   "execution_count": 45,
   "metadata": {},
   "outputs": [
    {
     "data": {
      "image/png": "[encoded data removed]",
      "text/plain": [
       "<Figure size 432x288 with 1 Axes>"
      ]
     },
     "metadata": {
      "needs_background": "light"
     },
     "output_type": "display_data"
    }
   ],
   "source": [
    "# un exemple d'utilisation:\n",
    "ad=ArbreDecision(0.0)          # initialiation d'un arbre binaire qui utilisera epsilon= 0.0\n",
    "ad.train(the_set)              # construction de l'arbre à partir de la base jouet\n",
    "ut.plot_frontiere(the_set,ad,20)  # tracé graphique de la frontière de décision\n",
    "ut.plot2DSet(the_set) "
   ]
  },
  {
   "cell_type": "code",
   "execution_count": 46,
   "metadata": {},
   "outputs": [
    {
     "data": {
      "image/svg+xml": [
       "<?xml version=\"1.0\" encoding=\"UTF-8\" standalone=\"no\"?>\r\n",
       "<!DOCTYPE svg PUBLIC \"-//W3C//DTD SVG 1.1//EN\"\r\n",
       " \"http://www.w3.org/Graphics/SVG/1.1/DTD/svg11.dtd\">\r\n",
       "<!-- Generated by graphviz version 2.38.0 (20140413.2041)\r\n",
       " -->\r\n",
       "<!-- Title: %3 Pages: 1 -->\r\n",
       "<svg width=\"641pt\" height=\"305pt\"\r\n",
       " viewBox=\"0.00 0.00 641.00 305.00\" xmlns=\"http://www.w3.org/2000/svg\" xmlns:xlink=\"http://www.w3.org/1999/xlink\">\r\n",
       "<g id=\"graph0\" class=\"graph\" transform=\"scale(1 1) rotate(0) translate(4 301)\">\r\n",
       "<title>%3</title>\r\n",
       "<polygon fill=\"white\" stroke=\"none\" points=\"-4,4 -4,-301 637,-301 637,4 -4,4\"/>\r\n",
       "<!-- A -->\r\n",
       "<g id=\"node1\" class=\"node\"><title>A</title>\r\n",
       "<ellipse fill=\"none\" stroke=\"black\" cx=\"269\" cy=\"-279\" rx=\"27\" ry=\"18\"/>\r\n",
       "<text text-anchor=\"middle\" x=\"269\" y=\"-275.3\" font-family=\"Times New Roman,serif\" font-size=\"14.00\">1</text>\r\n",
       "</g>\r\n",
       "<!-- Ag -->\r\n",
       "<g id=\"node2\" class=\"node\"><title>Ag</title>\r\n",
       "<ellipse fill=\"none\" stroke=\"black\" cx=\"188\" cy=\"-192\" rx=\"27\" ry=\"18\"/>\r\n",
       "<text text-anchor=\"middle\" x=\"188\" y=\"-188.3\" font-family=\"Times New Roman,serif\" font-size=\"14.00\">0</text>\r\n",
       "</g>\r\n",
       "<!-- A&#45;&gt;Ag -->\r\n",
       "<g id=\"edge9\" class=\"edge\"><title>A&#45;&gt;Ag</title>\r\n",
       "<path fill=\"none\" stroke=\"black\" d=\"M242.653,-274.007C224.268,-269.709 200.962,-260.897 189,-243 184.572,-236.375 183.19,-228.073 183.24,-220.149\"/>\r\n",
       "<polygon fill=\"black\" stroke=\"black\" points=\"186.734,-220.356 183.994,-210.122 179.754,-219.831 186.734,-220.356\"/>\r\n",
       "<text text-anchor=\"middle\" x=\"259\" y=\"-231.8\" font-family=\"Times New Roman,serif\" font-size=\"14.00\">&lt;=&#45;0.1676906173033973</text>\r\n",
       "</g>\r\n",
       "<!-- Ad -->\r\n",
       "<g id=\"node7\" class=\"node\"><title>Ad</title>\r\n",
       "<ellipse fill=\"none\" stroke=\"black\" cx=\"351\" cy=\"-192\" rx=\"27\" ry=\"18\"/>\r\n",
       "<text text-anchor=\"middle\" x=\"351\" y=\"-188.3\" font-family=\"Times New Roman,serif\" font-size=\"14.00\">0</text>\r\n",
       "</g>\r\n",
       "<!-- A&#45;&gt;Ad -->\r\n",
       "<g id=\"edge10\" class=\"edge\"><title>A&#45;&gt;Ad</title>\r\n",
       "<path fill=\"none\" stroke=\"black\" d=\"M291.583,-268.999C303.956,-263.13 318.802,-254.427 329,-243 335.016,-236.259 339.601,-227.611 342.987,-219.409\"/>\r\n",
       "<polygon fill=\"black\" stroke=\"black\" points=\"346.36,-220.377 346.538,-209.783 339.793,-217.954 346.36,-220.377\"/>\r\n",
       "<text text-anchor=\"middle\" x=\"405\" y=\"-231.8\" font-family=\"Times New Roman,serif\" font-size=\"14.00\">&gt;&#45;0.1676906173033973</text>\r\n",
       "</g>\r\n",
       "<!-- Agg -->\r\n",
       "<g id=\"node3\" class=\"node\"><title>Agg</title>\r\n",
       "<polygon fill=\"none\" stroke=\"black\" points=\"55,-123 1,-123 1,-87 55,-87 55,-123\"/>\r\n",
       "<text text-anchor=\"middle\" x=\"28\" y=\"-101.3\" font-family=\"Times New Roman,serif\" font-size=\"14.00\">&#45;1</text>\r\n",
       "</g>\r\n",
       "<!-- Ag&#45;&gt;Agg -->\r\n",
       "<g id=\"edge3\" class=\"edge\"><title>Ag&#45;&gt;Agg</title>\r\n",
       "<path fill=\"none\" stroke=\"black\" d=\"M160.991,-191.574C129.551,-190.778 77.8766,-184.726 46,-156 39.3734,-150.028 35.1847,-141.435 32.5376,-133.053\"/>\r\n",
       "<polygon fill=\"black\" stroke=\"black\" points=\"35.8692,-131.952 30.0132,-123.122 29.085,-133.677 35.8692,-131.952\"/>\r\n",
       "<text text-anchor=\"middle\" x=\"116\" y=\"-144.8\" font-family=\"Times New Roman,serif\" font-size=\"14.00\">&lt;=&#45;0.5355755258962435</text>\r\n",
       "</g>\r\n",
       "<!-- Agd -->\r\n",
       "<g id=\"node4\" class=\"node\"><title>Agd</title>\r\n",
       "<ellipse fill=\"none\" stroke=\"black\" cx=\"191\" cy=\"-105\" rx=\"27\" ry=\"18\"/>\r\n",
       "<text text-anchor=\"middle\" x=\"191\" y=\"-101.3\" font-family=\"Times New Roman,serif\" font-size=\"14.00\">0</text>\r\n",
       "</g>\r\n",
       "<!-- Ag&#45;&gt;Agd -->\r\n",
       "<g id=\"edge4\" class=\"edge\"><title>Ag&#45;&gt;Agd</title>\r\n",
       "<path fill=\"none\" stroke=\"black\" d=\"M188.607,-173.799C189.018,-162.163 189.569,-146.548 190.039,-133.237\"/>\r\n",
       "<polygon fill=\"black\" stroke=\"black\" points=\"193.539,-133.293 190.394,-123.175 186.543,-133.046 193.539,-133.293\"/>\r\n",
       "<text text-anchor=\"middle\" x=\"256\" y=\"-144.8\" font-family=\"Times New Roman,serif\" font-size=\"14.00\">&gt;&#45;0.5355755258962435</text>\r\n",
       "</g>\r\n",
       "<!-- Agdg -->\r\n",
       "<g id=\"node5\" class=\"node\"><title>Agdg</title>\r\n",
       "<polygon fill=\"none\" stroke=\"black\" points=\"54,-36 0,-36 0,-0 54,-0 54,-36\"/>\r\n",
       "<text text-anchor=\"middle\" x=\"27\" y=\"-14.3\" font-family=\"Times New Roman,serif\" font-size=\"14.00\">1</text>\r\n",
       "</g>\r\n",
       "<!-- Agd&#45;&gt;Agdg -->\r\n",
       "<g id=\"edge1\" class=\"edge\"><title>Agd&#45;&gt;Agdg</title>\r\n",
       "<path fill=\"none\" stroke=\"black\" d=\"M163.804,-104.651C131.823,-103.953 78.9351,-98.0176 46,-69 39.1892,-62.9993 34.8094,-54.2912 31.9972,-45.8182\"/>\r\n",
       "<polygon fill=\"black\" stroke=\"black\" points=\"35.3703,-44.8839 29.3642,-36.1559 28.6165,-46.7243 35.3703,-44.8839\"/>\r\n",
       "<text text-anchor=\"middle\" x=\"117\" y=\"-57.8\" font-family=\"Times New Roman,serif\" font-size=\"14.00\">&lt;=0.10339272237531894</text>\r\n",
       "</g>\r\n",
       "<!-- Agdd -->\r\n",
       "<g id=\"node6\" class=\"node\"><title>Agdd</title>\r\n",
       "<polygon fill=\"none\" stroke=\"black\" points=\"219,-36 165,-36 165,-0 219,-0 219,-36\"/>\r\n",
       "<text text-anchor=\"middle\" x=\"192\" y=\"-14.3\" font-family=\"Times New Roman,serif\" font-size=\"14.00\">&#45;1</text>\r\n",
       "</g>\r\n",
       "<!-- Agd&#45;&gt;Agdd -->\r\n",
       "<g id=\"edge2\" class=\"edge\"><title>Agd&#45;&gt;Agdd</title>\r\n",
       "<path fill=\"none\" stroke=\"black\" d=\"M191.202,-86.799C191.339,-75.1626 191.523,-59.5479 191.68,-46.2368\"/>\r\n",
       "<polygon fill=\"black\" stroke=\"black\" points=\"195.18,-46.216 191.798,-36.1754 188.18,-46.1335 195.18,-46.216\"/>\r\n",
       "<text text-anchor=\"middle\" x=\"259\" y=\"-57.8\" font-family=\"Times New Roman,serif\" font-size=\"14.00\">&gt;0.10339272237531894</text>\r\n",
       "</g>\r\n",
       "<!-- Adg -->\r\n",
       "<g id=\"node8\" class=\"node\"><title>Adg</title>\r\n",
       "<ellipse fill=\"none\" stroke=\"black\" cx=\"350\" cy=\"-105\" rx=\"27\" ry=\"18\"/>\r\n",
       "<text text-anchor=\"middle\" x=\"350\" y=\"-101.3\" font-family=\"Times New Roman,serif\" font-size=\"14.00\">0</text>\r\n",
       "</g>\r\n",
       "<!-- Ad&#45;&gt;Adg -->\r\n",
       "<g id=\"edge7\" class=\"edge\"><title>Ad&#45;&gt;Adg</title>\r\n",
       "<path fill=\"none\" stroke=\"black\" d=\"M350.798,-173.799C350.661,-162.163 350.477,-146.548 350.32,-133.237\"/>\r\n",
       "<polygon fill=\"black\" stroke=\"black\" points=\"353.82,-133.134 350.202,-123.175 346.82,-133.216 353.82,-133.134\"/>\r\n",
       "<text text-anchor=\"middle\" x=\"421\" y=\"-144.8\" font-family=\"Times New Roman,serif\" font-size=\"14.00\">&lt;=&#45;0.8975293952874892</text>\r\n",
       "</g>\r\n",
       "<!-- Add -->\r\n",
       "<g id=\"node11\" class=\"node\"><title>Add</title>\r\n",
       "<polygon fill=\"none\" stroke=\"black\" points=\"540,-123 486,-123 486,-87 540,-87 540,-123\"/>\r\n",
       "<text text-anchor=\"middle\" x=\"513\" y=\"-101.3\" font-family=\"Times New Roman,serif\" font-size=\"14.00\">1</text>\r\n",
       "</g>\r\n",
       "<!-- Ad&#45;&gt;Add -->\r\n",
       "<g id=\"edge8\" class=\"edge\"><title>Ad&#45;&gt;Add</title>\r\n",
       "<path fill=\"none\" stroke=\"black\" d=\"M378.125,-191.043C408.886,-189.69 458.921,-183.055 491,-156 498.087,-150.023 502.969,-141.321 506.297,-132.846\"/>\r\n",
       "<polygon fill=\"black\" stroke=\"black\" points=\"509.678,-133.772 509.529,-123.178 503.039,-131.552 509.678,-133.772\"/>\r\n",
       "<text text-anchor=\"middle\" x=\"567\" y=\"-144.8\" font-family=\"Times New Roman,serif\" font-size=\"14.00\">&gt;&#45;0.8975293952874892</text>\r\n",
       "</g>\r\n",
       "<!-- Adgg -->\r\n",
       "<g id=\"node9\" class=\"node\"><title>Adgg</title>\r\n",
       "<polygon fill=\"none\" stroke=\"black\" points=\"377,-36 323,-36 323,-0 377,-0 377,-36\"/>\r\n",
       "<text text-anchor=\"middle\" x=\"350\" y=\"-14.3\" font-family=\"Times New Roman,serif\" font-size=\"14.00\">1</text>\r\n",
       "</g>\r\n",
       "<!-- Adg&#45;&gt;Adgg -->\r\n",
       "<g id=\"edge5\" class=\"edge\"><title>Adg&#45;&gt;Adgg</title>\r\n",
       "<path fill=\"none\" stroke=\"black\" d=\"M350,-86.799C350,-75.1626 350,-59.5479 350,-46.2368\"/>\r\n",
       "<polygon fill=\"black\" stroke=\"black\" points=\"353.5,-46.1754 350,-36.1754 346.5,-46.1755 353.5,-46.1754\"/>\r\n",
       "<text text-anchor=\"middle\" x=\"420\" y=\"-57.8\" font-family=\"Times New Roman,serif\" font-size=\"14.00\">&lt;=&#45;1.0798188939917526</text>\r\n",
       "</g>\r\n",
       "<!-- Adgd -->\r\n",
       "<g id=\"node10\" class=\"node\"><title>Adgd</title>\r\n",
       "<polygon fill=\"none\" stroke=\"black\" points=\"540,-36 486,-36 486,-0 540,-0 540,-36\"/>\r\n",
       "<text text-anchor=\"middle\" x=\"513\" y=\"-14.3\" font-family=\"Times New Roman,serif\" font-size=\"14.00\">&#45;1</text>\r\n",
       "</g>\r\n",
       "<!-- Adg&#45;&gt;Adgd -->\r\n",
       "<g id=\"edge6\" class=\"edge\"><title>Adg&#45;&gt;Adgd</title>\r\n",
       "<path fill=\"none\" stroke=\"black\" d=\"M377.038,-104.111C407.992,-102.836 458.586,-96.291 491,-69 498.092,-63.0293 502.975,-54.3284 506.303,-45.8527\"/>\r\n",
       "<polygon fill=\"black\" stroke=\"black\" points=\"509.684,-46.7773 509.534,-36.1835 503.045,-44.5588 509.684,-46.7773\"/>\r\n",
       "<text text-anchor=\"middle\" x=\"567\" y=\"-57.8\" font-family=\"Times New Roman,serif\" font-size=\"14.00\">&gt;&#45;1.0798188939917526</text>\r\n",
       "</g>\r\n",
       "</g>\r\n",
       "</svg>\r\n"
      ],
      "text/plain": [
       "<graphviz.dot.Digraph at 0x1465a623b38>"
      ]
     },
     "execution_count": 46,
     "metadata": {},
     "output_type": "execute_result"
    }
   ],
   "source": [
    "ad.plot()"
   ]
  },
  {
   "cell_type": "markdown",
   "metadata": {},
   "source": [
    "<font color=\"RED\" size=\"+1\">**[Q]**</font> Appliquer l'algorithme des arbres de décision à des données réelles (par exemple, celles utilisées avec les k-nn) et comparer les résultats obtenus par les 2 algorithmes.\n",
    "\n",
    "Un autre exemple d'utilisation sur une base plus grande:"
   ]
  },
  {
   "cell_type": "code",
   "execution_count": 50,
   "metadata": {
    "scrolled": true
   },
   "outputs": [
    {
     "name": "stdout",
     "output_type": "stream",
     "text": [
      "Taille de la base générée : 200 exemples\n"
     ]
    },
    {
     "data": {
      "image/png": "[encoded data removed]",
      "text/plain": [
       "<Figure size 432x288 with 1 Axes>"
      ]
     },
     "metadata": {
      "needs_background": "light"
     },
     "output_type": "display_data"
    }
   ],
   "source": [
    "autre_set=ut.createGaussianDataset(np.array([1,1]),np.array([[1,0],[0,1]]),np.array([-1,-1]),np.array([[1,0],[0,1]]),100)\n",
    "print(\"Taille de la base générée :\", autre_set.size(), \"exemples\")\n",
    "adautre=ArbreDecision(0.0)          \n",
    "adautre.train(autre_set)            \n",
    "ut.plot_frontiere(autre_set,adautre,20)\n",
    "ut.plot2DSet(autre_set) "
   ]
  },
  {
   "cell_type": "code",
   "execution_count": 51,
   "metadata": {},
   "outputs": [
    {
     "data": {
      "image/svg+xml": [
       "<?xml version=\"1.0\" encoding=\"UTF-8\" standalone=\"no\"?>\r\n",
       "<!DOCTYPE svg PUBLIC \"-//W3C//DTD SVG 1.1//EN\"\r\n",
       " \"http://www.w3.org/Graphics/SVG/1.1/DTD/svg11.dtd\">\r\n",
       "<!-- Generated by graphviz version 2.38.0 (20140413.2041)\r\n",
       " -->\r\n",
       "<!-- Title: %3 Pages: 1 -->\r\n",
       "<svg width=\"1247pt\" height=\"740pt\"\r\n",
       " viewBox=\"0.00 0.00 1247.00 740.00\" xmlns=\"http://www.w3.org/2000/svg\" xmlns:xlink=\"http://www.w3.org/1999/xlink\">\r\n",
       "<g id=\"graph0\" class=\"graph\" transform=\"scale(1 1) rotate(0) translate(4 736)\">\r\n",
       "<title>%3</title>\r\n",
       "<polygon fill=\"white\" stroke=\"none\" points=\"-4,4 -4,-736 1243,-736 1243,4 -4,4\"/>\r\n",
       "<!-- A -->\r\n",
       "<g id=\"node1\" class=\"node\"><title>A</title>\r\n",
       "<ellipse fill=\"none\" stroke=\"black\" cx=\"324\" cy=\"-714\" rx=\"27\" ry=\"18\"/>\r\n",
       "<text text-anchor=\"middle\" x=\"324\" y=\"-710.3\" font-family=\"Times New Roman,serif\" font-size=\"14.00\">1</text>\r\n",
       "</g>\r\n",
       "<!-- Ag -->\r\n",
       "<g id=\"node2\" class=\"node\"><title>Ag</title>\r\n",
       "<ellipse fill=\"none\" stroke=\"black\" cx=\"230\" cy=\"-627\" rx=\"27\" ry=\"18\"/>\r\n",
       "<text text-anchor=\"middle\" x=\"230\" y=\"-623.3\" font-family=\"Times New Roman,serif\" font-size=\"14.00\">0</text>\r\n",
       "</g>\r\n",
       "<!-- A&#45;&gt;Ag -->\r\n",
       "<g id=\"edge35\" class=\"edge\"><title>A&#45;&gt;Ag</title>\r\n",
       "<path fill=\"none\" stroke=\"black\" d=\"M298.63,-707.39C281.562,-702.379 259.748,-693.383 246,-678 240.278,-671.597 236.6,-663.135 234.237,-654.996\"/>\r\n",
       "<polygon fill=\"black\" stroke=\"black\" points=\"237.592,-653.971 231.893,-645.039 230.778,-655.575 237.592,-653.971\"/>\r\n",
       "<text text-anchor=\"middle\" x=\"316\" y=\"-666.8\" font-family=\"Times New Roman,serif\" font-size=\"14.00\">&lt;=&#45;0.5052650319135598</text>\r\n",
       "</g>\r\n",
       "<!-- Ad -->\r\n",
       "<g id=\"node7\" class=\"node\"><title>Ad</title>\r\n",
       "<ellipse fill=\"none\" stroke=\"black\" cx=\"428\" cy=\"-627\" rx=\"27\" ry=\"18\"/>\r\n",
       "<text text-anchor=\"middle\" x=\"428\" y=\"-623.3\" font-family=\"Times New Roman,serif\" font-size=\"14.00\">0</text>\r\n",
       "</g>\r\n",
       "<!-- A&#45;&gt;Ad -->\r\n",
       "<g id=\"edge36\" class=\"edge\"><title>A&#45;&gt;Ad</title>\r\n",
       "<path fill=\"none\" stroke=\"black\" d=\"M345.871,-703.081C358.328,-696.858 373.828,-688.108 386,-678 395.121,-670.426 403.799,-660.696 410.873,-651.835\"/>\r\n",
       "<polygon fill=\"black\" stroke=\"black\" points=\"413.804,-653.766 417.127,-643.706 408.256,-649.498 413.804,-653.766\"/>\r\n",
       "<text text-anchor=\"middle\" x=\"468\" y=\"-666.8\" font-family=\"Times New Roman,serif\" font-size=\"14.00\">&gt;&#45;0.5052650319135598</text>\r\n",
       "</g>\r\n",
       "<!-- Agg -->\r\n",
       "<g id=\"node3\" class=\"node\"><title>Agg</title>\r\n",
       "<polygon fill=\"none\" stroke=\"black\" points=\"98,-558 44,-558 44,-522 98,-522 98,-558\"/>\r\n",
       "<text text-anchor=\"middle\" x=\"71\" y=\"-536.3\" font-family=\"Times New Roman,serif\" font-size=\"14.00\">&#45;1</text>\r\n",
       "</g>\r\n",
       "<!-- Ag&#45;&gt;Agg -->\r\n",
       "<g id=\"edge3\" class=\"edge\"><title>Ag&#45;&gt;Agg</title>\r\n",
       "<path fill=\"none\" stroke=\"black\" d=\"M203.049,-624.168C161.457,-620.718 84.6702,-611.656 68,-591 62.8544,-584.624 61.9027,-576.168 62.7549,-568.028\"/>\r\n",
       "<polygon fill=\"black\" stroke=\"black\" points=\"66.2201,-568.538 64.6192,-558.065 59.3395,-567.251 66.2201,-568.538\"/>\r\n",
       "<text text-anchor=\"middle\" x=\"136\" y=\"-579.8\" font-family=\"Times New Roman,serif\" font-size=\"14.00\">&lt;=1.4477472664534319</text>\r\n",
       "</g>\r\n",
       "<!-- Agd -->\r\n",
       "<g id=\"node4\" class=\"node\"><title>Agd</title>\r\n",
       "<ellipse fill=\"none\" stroke=\"black\" cx=\"186\" cy=\"-540\" rx=\"27\" ry=\"18\"/>\r\n",
       "<text text-anchor=\"middle\" x=\"186\" y=\"-536.3\" font-family=\"Times New Roman,serif\" font-size=\"14.00\">0</text>\r\n",
       "</g>\r\n",
       "<!-- Ag&#45;&gt;Agd -->\r\n",
       "<g id=\"edge4\" class=\"edge\"><title>Ag&#45;&gt;Agd</title>\r\n",
       "<path fill=\"none\" stroke=\"black\" d=\"M223.457,-609.501C219.362,-599.614 213.779,-586.891 208,-576 206.124,-572.464 204.02,-568.806 201.878,-565.249\"/>\r\n",
       "<polygon fill=\"black\" stroke=\"black\" points=\"204.836,-563.378 196.58,-556.738 198.893,-567.078 204.836,-563.378\"/>\r\n",
       "<text text-anchor=\"middle\" x=\"279.5\" y=\"-579.8\" font-family=\"Times New Roman,serif\" font-size=\"14.00\">&gt;1.4477472664534319</text>\r\n",
       "</g>\r\n",
       "<!-- Agdg -->\r\n",
       "<g id=\"node5\" class=\"node\"><title>Agdg</title>\r\n",
       "<polygon fill=\"none\" stroke=\"black\" points=\"54,-471 0,-471 0,-435 54,-435 54,-471\"/>\r\n",
       "<text text-anchor=\"middle\" x=\"27\" y=\"-449.3\" font-family=\"Times New Roman,serif\" font-size=\"14.00\">1</text>\r\n",
       "</g>\r\n",
       "<!-- Agd&#45;&gt;Agdg -->\r\n",
       "<g id=\"edge1\" class=\"edge\"><title>Agd&#45;&gt;Agdg</title>\r\n",
       "<path fill=\"none\" stroke=\"black\" d=\"M160.667,-533.305C121.515,-524.412 50.3315,-507.848 46,-504 39.2136,-497.972 34.8396,-489.257 32.0252,-480.787\"/>\r\n",
       "<polygon fill=\"black\" stroke=\"black\" points=\"35.3989,-479.854 29.3866,-471.131 28.6464,-481.7 35.3989,-479.854\"/>\r\n",
       "<text text-anchor=\"middle\" x=\"114\" y=\"-492.8\" font-family=\"Times New Roman,serif\" font-size=\"14.00\">&lt;=1.7679486548094725</text>\r\n",
       "</g>\r\n",
       "<!-- Agdd -->\r\n",
       "<g id=\"node6\" class=\"node\"><title>Agdd</title>\r\n",
       "<polygon fill=\"none\" stroke=\"black\" points=\"213,-471 159,-471 159,-435 213,-435 213,-471\"/>\r\n",
       "<text text-anchor=\"middle\" x=\"186\" y=\"-449.3\" font-family=\"Times New Roman,serif\" font-size=\"14.00\">&#45;1</text>\r\n",
       "</g>\r\n",
       "<!-- Agd&#45;&gt;Agdd -->\r\n",
       "<g id=\"edge2\" class=\"edge\"><title>Agd&#45;&gt;Agdd</title>\r\n",
       "<path fill=\"none\" stroke=\"black\" d=\"M186,-521.799C186,-510.163 186,-494.548 186,-481.237\"/>\r\n",
       "<polygon fill=\"black\" stroke=\"black\" points=\"189.5,-481.175 186,-471.175 182.5,-481.175 189.5,-481.175\"/>\r\n",
       "<text text-anchor=\"middle\" x=\"249.5\" y=\"-492.8\" font-family=\"Times New Roman,serif\" font-size=\"14.00\">&gt;1.7679486548094725</text>\r\n",
       "</g>\r\n",
       "<!-- Adg -->\r\n",
       "<g id=\"node8\" class=\"node\"><title>Adg</title>\r\n",
       "<ellipse fill=\"none\" stroke=\"black\" cx=\"428\" cy=\"-540\" rx=\"27\" ry=\"18\"/>\r\n",
       "<text text-anchor=\"middle\" x=\"428\" y=\"-536.3\" font-family=\"Times New Roman,serif\" font-size=\"14.00\">0</text>\r\n",
       "</g>\r\n",
       "<!-- Ad&#45;&gt;Adg -->\r\n",
       "<g id=\"edge33\" class=\"edge\"><title>Ad&#45;&gt;Adg</title>\r\n",
       "<path fill=\"none\" stroke=\"black\" d=\"M428,-608.799C428,-597.163 428,-581.548 428,-568.237\"/>\r\n",
       "<polygon fill=\"black\" stroke=\"black\" points=\"431.5,-568.175 428,-558.175 424.5,-568.175 431.5,-568.175\"/>\r\n",
       "<text text-anchor=\"middle\" x=\"501.5\" y=\"-579.8\" font-family=\"Times New Roman,serif\" font-size=\"14.00\">&lt;=&#45;0.14348681857050088</text>\r\n",
       "</g>\r\n",
       "<!-- Add -->\r\n",
       "<g id=\"node23\" class=\"node\"><title>Add</title>\r\n",
       "<ellipse fill=\"none\" stroke=\"black\" cx=\"643\" cy=\"-540\" rx=\"27\" ry=\"18\"/>\r\n",
       "<text text-anchor=\"middle\" x=\"643\" y=\"-536.3\" font-family=\"Times New Roman,serif\" font-size=\"14.00\">1</text>\r\n",
       "</g>\r\n",
       "<!-- Ad&#45;&gt;Add -->\r\n",
       "<g id=\"edge34\" class=\"edge\"><title>Ad&#45;&gt;Add</title>\r\n",
       "<path fill=\"none\" stroke=\"black\" d=\"M454.522,-623.376C485.611,-619.519 538.082,-610.538 579,-591 594.3,-583.694 609.348,-572.22 621.004,-562.105\"/>\r\n",
       "<polygon fill=\"black\" stroke=\"black\" points=\"623.386,-564.67 628.494,-555.387 618.712,-559.459 623.386,-564.67\"/>\r\n",
       "<text text-anchor=\"middle\" x=\"670.5\" y=\"-579.8\" font-family=\"Times New Roman,serif\" font-size=\"14.00\">&gt;&#45;0.14348681857050088</text>\r\n",
       "</g>\r\n",
       "<!-- Adgg -->\r\n",
       "<g id=\"node9\" class=\"node\"><title>Adgg</title>\r\n",
       "<polygon fill=\"none\" stroke=\"black\" points=\"363,-471 309,-471 309,-435 363,-435 363,-471\"/>\r\n",
       "<text text-anchor=\"middle\" x=\"336\" y=\"-449.3\" font-family=\"Times New Roman,serif\" font-size=\"14.00\">&#45;1</text>\r\n",
       "</g>\r\n",
       "<!-- Adg&#45;&gt;Adgg -->\r\n",
       "<g id=\"edge17\" class=\"edge\"><title>Adg&#45;&gt;Adgg</title>\r\n",
       "<path fill=\"none\" stroke=\"black\" d=\"M401.269,-537.215C378.907,-534.145 348.281,-525.915 333,-504 328.435,-497.453 327.529,-489.174 328.245,-481.246\"/>\r\n",
       "<polygon fill=\"black\" stroke=\"black\" points=\"331.727,-481.646 329.949,-471.201 324.825,-480.475 331.727,-481.646\"/>\r\n",
       "<text text-anchor=\"middle\" x=\"399.5\" y=\"-492.8\" font-family=\"Times New Roman,serif\" font-size=\"14.00\">&lt;=&#45;1.161209947496975</text>\r\n",
       "</g>\r\n",
       "<!-- Adgd -->\r\n",
       "<g id=\"node10\" class=\"node\"><title>Adgd</title>\r\n",
       "<ellipse fill=\"none\" stroke=\"black\" cx=\"491\" cy=\"-453\" rx=\"27\" ry=\"18\"/>\r\n",
       "<text text-anchor=\"middle\" x=\"491\" y=\"-449.3\" font-family=\"Times New Roman,serif\" font-size=\"14.00\">1</text>\r\n",
       "</g>\r\n",
       "<!-- Adg&#45;&gt;Adgd -->\r\n",
       "<g id=\"edge18\" class=\"edge\"><title>Adg&#45;&gt;Adgd</title>\r\n",
       "<path fill=\"none\" stroke=\"black\" d=\"M446.492,-526.67C454.533,-520.592 463.566,-512.699 470,-504 475.254,-496.896 479.478,-488.282 482.721,-480.219\"/>\r\n",
       "<polygon fill=\"black\" stroke=\"black\" points=\"486.02,-481.389 486.194,-470.796 479.452,-478.969 486.02,-481.389\"/>\r\n",
       "<text text-anchor=\"middle\" x=\"540.5\" y=\"-492.8\" font-family=\"Times New Roman,serif\" font-size=\"14.00\">&gt;&#45;1.161209947496975</text>\r\n",
       "</g>\r\n",
       "<!-- Adgdg -->\r\n",
       "<g id=\"node11\" class=\"node\"><title>Adgdg</title>\r\n",
       "<ellipse fill=\"none\" stroke=\"black\" cx=\"331\" cy=\"-366\" rx=\"27\" ry=\"18\"/>\r\n",
       "<text text-anchor=\"middle\" x=\"331\" y=\"-362.3\" font-family=\"Times New Roman,serif\" font-size=\"14.00\">1</text>\r\n",
       "</g>\r\n",
       "<!-- Adgd&#45;&gt;Adgdg -->\r\n",
       "<g id=\"edge15\" class=\"edge\"><title>Adgd&#45;&gt;Adgdg</title>\r\n",
       "<path fill=\"none\" stroke=\"black\" d=\"M463.985,-452.248C433.093,-451.102 382.709,-444.679 351,-417 344.115,-410.99 339.572,-402.28 336.586,-393.808\"/>\r\n",
       "<polygon fill=\"black\" stroke=\"black\" points=\"339.925,-392.756 333.749,-384.148 333.209,-394.729 339.925,-392.756\"/>\r\n",
       "<text text-anchor=\"middle\" x=\"419\" y=\"-405.8\" font-family=\"Times New Roman,serif\" font-size=\"14.00\">&lt;=0.6291511930960086</text>\r\n",
       "</g>\r\n",
       "<!-- Adgdd -->\r\n",
       "<g id=\"node22\" class=\"node\"><title>Adgdd</title>\r\n",
       "<polygon fill=\"none\" stroke=\"black\" points=\"518,-384 464,-384 464,-348 518,-348 518,-384\"/>\r\n",
       "<text text-anchor=\"middle\" x=\"491\" y=\"-362.3\" font-family=\"Times New Roman,serif\" font-size=\"14.00\">1</text>\r\n",
       "</g>\r\n",
       "<!-- Adgd&#45;&gt;Adgdd -->\r\n",
       "<g id=\"edge16\" class=\"edge\"><title>Adgd&#45;&gt;Adgdd</title>\r\n",
       "<path fill=\"none\" stroke=\"black\" d=\"M491,-434.799C491,-423.163 491,-407.548 491,-394.237\"/>\r\n",
       "<polygon fill=\"black\" stroke=\"black\" points=\"494.5,-394.175 491,-384.175 487.5,-394.175 494.5,-394.175\"/>\r\n",
       "<text text-anchor=\"middle\" x=\"554.5\" y=\"-405.8\" font-family=\"Times New Roman,serif\" font-size=\"14.00\">&gt;0.6291511930960086</text>\r\n",
       "</g>\r\n",
       "<!-- Adgdgg -->\r\n",
       "<g id=\"node12\" class=\"node\"><title>Adgdgg</title>\r\n",
       "<polygon fill=\"none\" stroke=\"black\" points=\"195,-297 141,-297 141,-261 195,-261 195,-297\"/>\r\n",
       "<text text-anchor=\"middle\" x=\"168\" y=\"-275.3\" font-family=\"Times New Roman,serif\" font-size=\"14.00\">1</text>\r\n",
       "</g>\r\n",
       "<!-- Adgdg&#45;&gt;Adgdgg -->\r\n",
       "<g id=\"edge13\" class=\"edge\"><title>Adgdg&#45;&gt;Adgdgg</title>\r\n",
       "<path fill=\"none\" stroke=\"black\" d=\"M303.988,-365.595C272.224,-364.843 219.698,-358.854 187,-330 180.194,-323.994 175.815,-315.285 173.003,-306.812\"/>\r\n",
       "<polygon fill=\"black\" stroke=\"black\" points=\"176.376,-305.878 170.369,-297.151 169.622,-307.72 176.376,-305.878\"/>\r\n",
       "<text text-anchor=\"middle\" x=\"257\" y=\"-318.8\" font-family=\"Times New Roman,serif\" font-size=\"14.00\">&lt;=&#45;0.3546177064201329</text>\r\n",
       "</g>\r\n",
       "<!-- Adgdgd -->\r\n",
       "<g id=\"node13\" class=\"node\"><title>Adgdgd</title>\r\n",
       "<ellipse fill=\"none\" stroke=\"black\" cx=\"331\" cy=\"-279\" rx=\"27\" ry=\"18\"/>\r\n",
       "<text text-anchor=\"middle\" x=\"331\" y=\"-275.3\" font-family=\"Times New Roman,serif\" font-size=\"14.00\">0</text>\r\n",
       "</g>\r\n",
       "<!-- Adgdg&#45;&gt;Adgdgd -->\r\n",
       "<g id=\"edge14\" class=\"edge\"><title>Adgdg&#45;&gt;Adgdgd</title>\r\n",
       "<path fill=\"none\" stroke=\"black\" d=\"M331,-347.799C331,-336.163 331,-320.548 331,-307.237\"/>\r\n",
       "<polygon fill=\"black\" stroke=\"black\" points=\"334.5,-307.175 331,-297.175 327.5,-307.175 334.5,-307.175\"/>\r\n",
       "<text text-anchor=\"middle\" x=\"397\" y=\"-318.8\" font-family=\"Times New Roman,serif\" font-size=\"14.00\">&gt;&#45;0.3546177064201329</text>\r\n",
       "</g>\r\n",
       "<!-- Adgdgdg -->\r\n",
       "<g id=\"node14\" class=\"node\"><title>Adgdgdg</title>\r\n",
       "<ellipse fill=\"none\" stroke=\"black\" cx=\"249\" cy=\"-192\" rx=\"27\" ry=\"18\"/>\r\n",
       "<text text-anchor=\"middle\" x=\"249\" y=\"-188.3\" font-family=\"Times New Roman,serif\" font-size=\"14.00\">1</text>\r\n",
       "</g>\r\n",
       "<!-- Adgdgd&#45;&gt;Adgdgdg -->\r\n",
       "<g id=\"edge11\" class=\"edge\"><title>Adgdgd&#45;&gt;Adgdgdg</title>\r\n",
       "<path fill=\"none\" stroke=\"black\" d=\"M304.587,-274.89C284.789,-271.021 258.965,-262.36 246,-243 241.441,-236.192 240.644,-227.623 241.458,-219.511\"/>\r\n",
       "<polygon fill=\"black\" stroke=\"black\" points=\"244.907,-220.101 243.188,-209.647 238.013,-218.892 244.907,-220.101\"/>\r\n",
       "<text text-anchor=\"middle\" x=\"316\" y=\"-231.8\" font-family=\"Times New Roman,serif\" font-size=\"14.00\">&lt;=&#45;0.3933447816067031</text>\r\n",
       "</g>\r\n",
       "<!-- Adgdgdd -->\r\n",
       "<g id=\"node19\" class=\"node\"><title>Adgdgdd</title>\r\n",
       "<ellipse fill=\"none\" stroke=\"black\" cx=\"412\" cy=\"-192\" rx=\"27\" ry=\"18\"/>\r\n",
       "<text text-anchor=\"middle\" x=\"412\" y=\"-188.3\" font-family=\"Times New Roman,serif\" font-size=\"14.00\">0</text>\r\n",
       "</g>\r\n",
       "<!-- Adgdgd&#45;&gt;Adgdgdd -->\r\n",
       "<g id=\"edge12\" class=\"edge\"><title>Adgdgd&#45;&gt;Adgdgdd</title>\r\n",
       "<path fill=\"none\" stroke=\"black\" d=\"M353.493,-268.78C365.601,-262.887 380.049,-254.233 390,-243 395.991,-236.237 400.57,-227.584 403.957,-219.383\"/>\r\n",
       "<polygon fill=\"black\" stroke=\"black\" points=\"407.329,-220.355 407.514,-209.762 400.764,-217.928 407.329,-220.355\"/>\r\n",
       "<text text-anchor=\"middle\" x=\"466\" y=\"-231.8\" font-family=\"Times New Roman,serif\" font-size=\"14.00\">&gt;&#45;0.3933447816067031</text>\r\n",
       "</g>\r\n",
       "<!-- Adgdgdgg -->\r\n",
       "<g id=\"node15\" class=\"node\"><title>Adgdgdgg</title>\r\n",
       "<polygon fill=\"none\" stroke=\"black\" points=\"113,-123 59,-123 59,-87 113,-87 113,-123\"/>\r\n",
       "<text text-anchor=\"middle\" x=\"86\" y=\"-101.3\" font-family=\"Times New Roman,serif\" font-size=\"14.00\">&#45;1</text>\r\n",
       "</g>\r\n",
       "<!-- Adgdgdg&#45;&gt;Adgdgdgg -->\r\n",
       "<g id=\"edge7\" class=\"edge\"><title>Adgdgdg&#45;&gt;Adgdgdgg</title>\r\n",
       "<path fill=\"none\" stroke=\"black\" d=\"M221.999,-191.755C189.963,-191.182 136.775,-185.393 104,-156 97.359,-150.044 93.1668,-141.455 90.521,-133.071\"/>\r\n",
       "<polygon fill=\"black\" stroke=\"black\" points=\"93.8523,-131.969 87.9999,-123.137 87.0674,-133.691 93.8523,-131.969\"/>\r\n",
       "<text text-anchor=\"middle\" x=\"175\" y=\"-144.8\" font-family=\"Times New Roman,serif\" font-size=\"14.00\">&lt;=0.49280284227587645</text>\r\n",
       "</g>\r\n",
       "<!-- Adgdgdgd -->\r\n",
       "<g id=\"node16\" class=\"node\"><title>Adgdgdgd</title>\r\n",
       "<ellipse fill=\"none\" stroke=\"black\" cx=\"251\" cy=\"-105\" rx=\"27\" ry=\"18\"/>\r\n",
       "<text text-anchor=\"middle\" x=\"251\" y=\"-101.3\" font-family=\"Times New Roman,serif\" font-size=\"14.00\">0</text>\r\n",
       "</g>\r\n",
       "<!-- Adgdgdg&#45;&gt;Adgdgdgd -->\r\n",
       "<g id=\"edge8\" class=\"edge\"><title>Adgdgdg&#45;&gt;Adgdgdgd</title>\r\n",
       "<path fill=\"none\" stroke=\"black\" d=\"M249.405,-173.799C249.679,-162.163 250.046,-146.548 250.359,-133.237\"/>\r\n",
       "<polygon fill=\"black\" stroke=\"black\" points=\"253.86,-133.255 250.596,-123.175 246.862,-133.09 253.86,-133.255\"/>\r\n",
       "<text text-anchor=\"middle\" x=\"318\" y=\"-144.8\" font-family=\"Times New Roman,serif\" font-size=\"14.00\">&gt;0.49280284227587645</text>\r\n",
       "</g>\r\n",
       "<!-- Adgdgdgdg -->\r\n",
       "<g id=\"node17\" class=\"node\"><title>Adgdgdgdg</title>\r\n",
       "<polygon fill=\"none\" stroke=\"black\" points=\"200,-36 146,-36 146,-0 200,-0 200,-36\"/>\r\n",
       "<text text-anchor=\"middle\" x=\"173\" y=\"-14.3\" font-family=\"Times New Roman,serif\" font-size=\"14.00\">&#45;1</text>\r\n",
       "</g>\r\n",
       "<!-- Adgdgdgd&#45;&gt;Adgdgdgdg -->\r\n",
       "<g id=\"edge5\" class=\"edge\"><title>Adgdgdgd&#45;&gt;Adgdgdgdg</title>\r\n",
       "<path fill=\"none\" stroke=\"black\" d=\"M224.86,-99.5314C207.271,-95.0301 185.302,-86.1725 174,-69 169.619,-62.3436 168.251,-54.0332 168.298,-46.1105\"/>\r\n",
       "<polygon fill=\"black\" stroke=\"black\" points=\"171.792,-46.3219 169.042,-36.0903 164.811,-45.8039 171.792,-46.3219\"/>\r\n",
       "<text text-anchor=\"middle\" x=\"240.5\" y=\"-57.8\" font-family=\"Times New Roman,serif\" font-size=\"14.00\">&lt;=&#45;1.036580450790741</text>\r\n",
       "</g>\r\n",
       "<!-- Adgdgdgdd -->\r\n",
       "<g id=\"node18\" class=\"node\"><title>Adgdgdgdd</title>\r\n",
       "<polygon fill=\"none\" stroke=\"black\" points=\"356,-36 302,-36 302,-0 356,-0 356,-36\"/>\r\n",
       "<text text-anchor=\"middle\" x=\"329\" y=\"-14.3\" font-family=\"Times New Roman,serif\" font-size=\"14.00\">1</text>\r\n",
       "</g>\r\n",
       "<!-- Adgdgdgd&#45;&gt;Adgdgdgdd -->\r\n",
       "<g id=\"edge6\" class=\"edge\"><title>Adgdgdgd&#45;&gt;Adgdgdgdd</title>\r\n",
       "<path fill=\"none\" stroke=\"black\" d=\"M272.892,-94.2543C284.268,-88.2977 297.697,-79.7501 307,-69 312.824,-62.2702 317.334,-53.7554 320.712,-45.6687\"/>\r\n",
       "<polygon fill=\"black\" stroke=\"black\" points=\"324.041,-46.7578 324.281,-36.1657 317.488,-44.2962 324.041,-46.7578\"/>\r\n",
       "<text text-anchor=\"middle\" x=\"379.5\" y=\"-57.8\" font-family=\"Times New Roman,serif\" font-size=\"14.00\">&gt;&#45;1.036580450790741</text>\r\n",
       "</g>\r\n",
       "<!-- Adgdgddg -->\r\n",
       "<g id=\"node20\" class=\"node\"><title>Adgdgddg</title>\r\n",
       "<polygon fill=\"none\" stroke=\"black\" points=\"436,-123 382,-123 382,-87 436,-87 436,-123\"/>\r\n",
       "<text text-anchor=\"middle\" x=\"409\" y=\"-101.3\" font-family=\"Times New Roman,serif\" font-size=\"14.00\">1</text>\r\n",
       "</g>\r\n",
       "<!-- Adgdgdd&#45;&gt;Adgdgddg -->\r\n",
       "<g id=\"edge9\" class=\"edge\"><title>Adgdgdd&#45;&gt;Adgdgddg</title>\r\n",
       "<path fill=\"none\" stroke=\"black\" d=\"M410.897,-173.916C410.563,-168.22 410.225,-161.839 410,-156 409.717,-148.655 409.512,-140.701 409.364,-133.342\"/>\r\n",
       "<polygon fill=\"black\" stroke=\"black\" points=\"412.859,-133.066 409.186,-123.129 405.861,-133.189 412.859,-133.066\"/>\r\n",
       "<text text-anchor=\"middle\" x=\"480\" y=\"-144.8\" font-family=\"Times New Roman,serif\" font-size=\"14.00\">&lt;=&#45;0.2698220040260076</text>\r\n",
       "</g>\r\n",
       "<!-- Adgdgddd -->\r\n",
       "<g id=\"node21\" class=\"node\"><title>Adgdgddd</title>\r\n",
       "<polygon fill=\"none\" stroke=\"black\" points=\"599,-123 545,-123 545,-87 599,-87 599,-123\"/>\r\n",
       "<text text-anchor=\"middle\" x=\"572\" y=\"-101.3\" font-family=\"Times New Roman,serif\" font-size=\"14.00\">&#45;1</text>\r\n",
       "</g>\r\n",
       "<!-- Adgdgdd&#45;&gt;Adgdgddd -->\r\n",
       "<g id=\"edge10\" class=\"edge\"><title>Adgdgdd&#45;&gt;Adgdgddd</title>\r\n",
       "<path fill=\"none\" stroke=\"black\" d=\"M439.016,-190.919C469.366,-189.435 518.492,-182.665 550,-156 557.076,-150.011 561.956,-141.306 565.285,-132.832\"/>\r\n",
       "<polygon fill=\"black\" stroke=\"black\" points=\"568.665,-133.761 568.52,-123.167 562.027,-131.539 568.665,-133.761\"/>\r\n",
       "<text text-anchor=\"middle\" x=\"626\" y=\"-144.8\" font-family=\"Times New Roman,serif\" font-size=\"14.00\">&gt;&#45;0.2698220040260076</text>\r\n",
       "</g>\r\n",
       "<!-- Addg -->\r\n",
       "<g id=\"node24\" class=\"node\"><title>Addg</title>\r\n",
       "<ellipse fill=\"none\" stroke=\"black\" cx=\"648\" cy=\"-453\" rx=\"27\" ry=\"18\"/>\r\n",
       "<text text-anchor=\"middle\" x=\"648\" y=\"-449.3\" font-family=\"Times New Roman,serif\" font-size=\"14.00\">0</text>\r\n",
       "</g>\r\n",
       "<!-- Add&#45;&gt;Addg -->\r\n",
       "<g id=\"edge31\" class=\"edge\"><title>Add&#45;&gt;Addg</title>\r\n",
       "<path fill=\"none\" stroke=\"black\" d=\"M642.946,-521.858C643.015,-512.198 643.269,-499.915 644,-489 644.172,-486.437 644.395,-483.773 644.648,-481.11\"/>\r\n",
       "<polygon fill=\"black\" stroke=\"black\" points=\"648.139,-481.377 645.726,-471.061 641.179,-480.63 648.139,-481.377\"/>\r\n",
       "<text text-anchor=\"middle\" x=\"712\" y=\"-492.8\" font-family=\"Times New Roman,serif\" font-size=\"14.00\">&lt;=0.3899849083193823</text>\r\n",
       "</g>\r\n",
       "<!-- Addd -->\r\n",
       "<g id=\"node37\" class=\"node\"><title>Addd</title>\r\n",
       "<polygon fill=\"none\" stroke=\"black\" points=\"829,-471 775,-471 775,-435 829,-435 829,-471\"/>\r\n",
       "<text text-anchor=\"middle\" x=\"802\" y=\"-449.3\" font-family=\"Times New Roman,serif\" font-size=\"14.00\">1</text>\r\n",
       "</g>\r\n",
       "<!-- Add&#45;&gt;Addd -->\r\n",
       "<g id=\"edge32\" class=\"edge\"><title>Add&#45;&gt;Addd</title>\r\n",
       "<path fill=\"none\" stroke=\"black\" d=\"M670.095,-538.849C700.248,-537.287 748.823,-530.432 780,-504 787.071,-498.005 791.95,-489.299 795.279,-480.825\"/>\r\n",
       "<polygon fill=\"black\" stroke=\"black\" points=\"798.659,-481.755 798.515,-471.161 792.021,-479.533 798.659,-481.755\"/>\r\n",
       "<text text-anchor=\"middle\" x=\"853.5\" y=\"-492.8\" font-family=\"Times New Roman,serif\" font-size=\"14.00\">&gt;0.3899849083193823</text>\r\n",
       "</g>\r\n",
       "<!-- Addgg -->\r\n",
       "<g id=\"node25\" class=\"node\"><title>Addgg</title>\r\n",
       "<ellipse fill=\"none\" stroke=\"black\" cx=\"648\" cy=\"-366\" rx=\"27\" ry=\"18\"/>\r\n",
       "<text text-anchor=\"middle\" x=\"648\" y=\"-362.3\" font-family=\"Times New Roman,serif\" font-size=\"14.00\">0</text>\r\n",
       "</g>\r\n",
       "<!-- Addg&#45;&gt;Addgg -->\r\n",
       "<g id=\"edge29\" class=\"edge\"><title>Addg&#45;&gt;Addgg</title>\r\n",
       "<path fill=\"none\" stroke=\"black\" d=\"M648,-434.799C648,-423.163 648,-407.548 648,-394.237\"/>\r\n",
       "<polygon fill=\"black\" stroke=\"black\" points=\"651.5,-394.175 648,-384.175 644.5,-394.175 651.5,-394.175\"/>\r\n",
       "<text text-anchor=\"middle\" x=\"716\" y=\"-405.8\" font-family=\"Times New Roman,serif\" font-size=\"14.00\">&lt;=0.3904704084214978</text>\r\n",
       "</g>\r\n",
       "<!-- Addgd -->\r\n",
       "<g id=\"node32\" class=\"node\"><title>Addgd</title>\r\n",
       "<ellipse fill=\"none\" stroke=\"black\" cx=\"808\" cy=\"-366\" rx=\"27\" ry=\"18\"/>\r\n",
       "<text text-anchor=\"middle\" x=\"808\" y=\"-362.3\" font-family=\"Times New Roman,serif\" font-size=\"14.00\">1</text>\r\n",
       "</g>\r\n",
       "<!-- Addg&#45;&gt;Addgd -->\r\n",
       "<g id=\"edge30\" class=\"edge\"><title>Addg&#45;&gt;Addgd</title>\r\n",
       "<path fill=\"none\" stroke=\"black\" d=\"M675.016,-451.919C705.366,-450.435 754.492,-443.665 786,-417 793.076,-411.011 797.956,-402.306 801.285,-393.832\"/>\r\n",
       "<polygon fill=\"black\" stroke=\"black\" points=\"804.665,-394.761 804.52,-384.167 798.027,-392.539 804.665,-394.761\"/>\r\n",
       "<text text-anchor=\"middle\" x=\"859.5\" y=\"-405.8\" font-family=\"Times New Roman,serif\" font-size=\"14.00\">&gt;0.3904704084214978</text>\r\n",
       "</g>\r\n",
       "<!-- Addggg -->\r\n",
       "<g id=\"node26\" class=\"node\"><title>Addggg</title>\r\n",
       "<polygon fill=\"none\" stroke=\"black\" points=\"513,-297 459,-297 459,-261 513,-261 513,-297\"/>\r\n",
       "<text text-anchor=\"middle\" x=\"486\" y=\"-275.3\" font-family=\"Times New Roman,serif\" font-size=\"14.00\">1</text>\r\n",
       "</g>\r\n",
       "<!-- Addgg&#45;&gt;Addggg -->\r\n",
       "<g id=\"edge23\" class=\"edge\"><title>Addgg&#45;&gt;Addggg</title>\r\n",
       "<path fill=\"none\" stroke=\"black\" d=\"M620.91,-365.854C588.786,-365.378 535.512,-359.683 503,-330 496.453,-324.023 492.427,-315.428 489.951,-307.046\"/>\r\n",
       "<polygon fill=\"black\" stroke=\"black\" points=\"493.315,-306.06 487.634,-297.117 486.498,-307.651 493.315,-306.06\"/>\r\n",
       "<text text-anchor=\"middle\" x=\"574\" y=\"-318.8\" font-family=\"Times New Roman,serif\" font-size=\"14.00\">&lt;=0.08332425385425762</text>\r\n",
       "</g>\r\n",
       "<!-- Addggd -->\r\n",
       "<g id=\"node27\" class=\"node\"><title>Addggd</title>\r\n",
       "<ellipse fill=\"none\" stroke=\"black\" cx=\"651\" cy=\"-279\" rx=\"27\" ry=\"18\"/>\r\n",
       "<text text-anchor=\"middle\" x=\"651\" y=\"-275.3\" font-family=\"Times New Roman,serif\" font-size=\"14.00\">0</text>\r\n",
       "</g>\r\n",
       "<!-- Addgg&#45;&gt;Addggd -->\r\n",
       "<g id=\"edge24\" class=\"edge\"><title>Addgg&#45;&gt;Addggd</title>\r\n",
       "<path fill=\"none\" stroke=\"black\" d=\"M648.607,-347.799C649.018,-336.163 649.569,-320.548 650.039,-307.237\"/>\r\n",
       "<polygon fill=\"black\" stroke=\"black\" points=\"653.539,-307.293 650.394,-297.175 646.543,-307.046 653.539,-307.293\"/>\r\n",
       "<text text-anchor=\"middle\" x=\"716\" y=\"-318.8\" font-family=\"Times New Roman,serif\" font-size=\"14.00\">&gt;0.08332425385425762</text>\r\n",
       "</g>\r\n",
       "<!-- Addggdg -->\r\n",
       "<g id=\"node28\" class=\"node\"><title>Addggdg</title>\r\n",
       "<polygon fill=\"none\" stroke=\"black\" points=\"615,-210 561,-210 561,-174 615,-174 615,-210\"/>\r\n",
       "<text text-anchor=\"middle\" x=\"588\" y=\"-188.3\" font-family=\"Times New Roman,serif\" font-size=\"14.00\">&#45;1</text>\r\n",
       "</g>\r\n",
       "<!-- Addggd&#45;&gt;Addggdg -->\r\n",
       "<g id=\"edge21\" class=\"edge\"><title>Addggd&#45;&gt;Addggdg</title>\r\n",
       "<path fill=\"none\" stroke=\"black\" d=\"M626.715,-270.936C613.099,-265.605 597.24,-256.795 589,-243 585.021,-236.338 583.698,-228.234 583.662,-220.506\"/>\r\n",
       "<polygon fill=\"black\" stroke=\"black\" points=\"587.165,-220.567 584.282,-210.372 580.178,-220.14 587.165,-220.567\"/>\r\n",
       "<text text-anchor=\"middle\" x=\"660\" y=\"-231.8\" font-family=\"Times New Roman,serif\" font-size=\"14.00\">&lt;=0.27781150565682977</text>\r\n",
       "</g>\r\n",
       "<!-- Addggdd -->\r\n",
       "<g id=\"node29\" class=\"node\"><title>Addggdd</title>\r\n",
       "<ellipse fill=\"none\" stroke=\"black\" cx=\"753\" cy=\"-192\" rx=\"27\" ry=\"18\"/>\r\n",
       "<text text-anchor=\"middle\" x=\"753\" y=\"-188.3\" font-family=\"Times New Roman,serif\" font-size=\"14.00\">0</text>\r\n",
       "</g>\r\n",
       "<!-- Addggd&#45;&gt;Addggdd -->\r\n",
       "<g id=\"edge22\" class=\"edge\"><title>Addggd&#45;&gt;Addggdd</title>\r\n",
       "<path fill=\"none\" stroke=\"black\" d=\"M676.138,-272.188C693.459,-267.054 715.977,-257.992 731,-243 737.465,-236.548 742.18,-227.874 745.546,-219.562\"/>\r\n",
       "<polygon fill=\"black\" stroke=\"black\" points=\"748.848,-220.722 748.902,-210.127 742.253,-218.376 748.848,-220.722\"/>\r\n",
       "<text text-anchor=\"middle\" x=\"808\" y=\"-231.8\" font-family=\"Times New Roman,serif\" font-size=\"14.00\">&gt;0.27781150565682977</text>\r\n",
       "</g>\r\n",
       "<!-- Addggddg -->\r\n",
       "<g id=\"node30\" class=\"node\"><title>Addggddg</title>\r\n",
       "<polygon fill=\"none\" stroke=\"black\" points=\"767,-123 713,-123 713,-87 767,-87 767,-123\"/>\r\n",
       "<text text-anchor=\"middle\" x=\"740\" y=\"-101.3\" font-family=\"Times New Roman,serif\" font-size=\"14.00\">1</text>\r\n",
       "</g>\r\n",
       "<!-- Addggdd&#45;&gt;Addggddg -->\r\n",
       "<g id=\"edge19\" class=\"edge\"><title>Addggdd&#45;&gt;Addggddg</title>\r\n",
       "<path fill=\"none\" stroke=\"black\" d=\"M746.183,-174.544C744.113,-168.781 742.097,-162.199 741,-156 739.719,-148.762 739.176,-140.844 739.023,-133.486\"/>\r\n",
       "<polygon fill=\"black\" stroke=\"black\" points=\"742.523,-133.257 739.037,-123.252 735.523,-133.247 742.523,-133.257\"/>\r\n",
       "<text text-anchor=\"middle\" x=\"812\" y=\"-144.8\" font-family=\"Times New Roman,serif\" font-size=\"14.00\">&lt;=0.35197214935037613</text>\r\n",
       "</g>\r\n",
       "<!-- Addggddd -->\r\n",
       "<g id=\"node31\" class=\"node\"><title>Addggddd</title>\r\n",
       "<polygon fill=\"none\" stroke=\"black\" points=\"932,-123 878,-123 878,-87 932,-87 932,-123\"/>\r\n",
       "<text text-anchor=\"middle\" x=\"905\" y=\"-101.3\" font-family=\"Times New Roman,serif\" font-size=\"14.00\">&#45;1</text>\r\n",
       "</g>\r\n",
       "<!-- Addggdd&#45;&gt;Addggddd -->\r\n",
       "<g id=\"edge20\" class=\"edge\"><title>Addggdd&#45;&gt;Addggddd</title>\r\n",
       "<path fill=\"none\" stroke=\"black\" d=\"M780.035,-190.365C808.748,-188.315 853.922,-180.976 883,-156 890.032,-149.96 894.902,-141.242 898.235,-132.773\"/>\r\n",
       "<polygon fill=\"black\" stroke=\"black\" points=\"901.611,-133.714 901.479,-123.12 894.976,-131.484 901.611,-133.714\"/>\r\n",
       "<text text-anchor=\"middle\" x=\"960\" y=\"-144.8\" font-family=\"Times New Roman,serif\" font-size=\"14.00\">&gt;0.35197214935037613</text>\r\n",
       "</g>\r\n",
       "<!-- Addgdg -->\r\n",
       "<g id=\"node33\" class=\"node\"><title>Addgdg</title>\r\n",
       "<polygon fill=\"none\" stroke=\"black\" points=\"835,-297 781,-297 781,-261 835,-261 835,-297\"/>\r\n",
       "<text text-anchor=\"middle\" x=\"808\" y=\"-275.3\" font-family=\"Times New Roman,serif\" font-size=\"14.00\">1</text>\r\n",
       "</g>\r\n",
       "<!-- Addgd&#45;&gt;Addgdg -->\r\n",
       "<g id=\"edge27\" class=\"edge\"><title>Addgd&#45;&gt;Addgdg</title>\r\n",
       "<path fill=\"none\" stroke=\"black\" d=\"M808,-347.799C808,-336.163 808,-320.548 808,-307.237\"/>\r\n",
       "<polygon fill=\"black\" stroke=\"black\" points=\"811.5,-307.175 808,-297.175 804.5,-307.175 811.5,-307.175\"/>\r\n",
       "<text text-anchor=\"middle\" x=\"879\" y=\"-318.8\" font-family=\"Times New Roman,serif\" font-size=\"14.00\">&lt;=0.10001950388957098</text>\r\n",
       "</g>\r\n",
       "<!-- Addgdd -->\r\n",
       "<g id=\"node34\" class=\"node\"><title>Addgdd</title>\r\n",
       "<ellipse fill=\"none\" stroke=\"black\" cx=\"973\" cy=\"-279\" rx=\"27\" ry=\"18\"/>\r\n",
       "<text text-anchor=\"middle\" x=\"973\" y=\"-275.3\" font-family=\"Times New Roman,serif\" font-size=\"14.00\">1</text>\r\n",
       "</g>\r\n",
       "<!-- Addgd&#45;&gt;Addgdd -->\r\n",
       "<g id=\"edge28\" class=\"edge\"><title>Addgd&#45;&gt;Addgdd</title>\r\n",
       "<path fill=\"none\" stroke=\"black\" d=\"M835.135,-365.231C866.496,-364.088 918.009,-357.684 951,-330 958.101,-324.041 962.987,-315.343 966.314,-306.866\"/>\r\n",
       "<polygon fill=\"black\" stroke=\"black\" points=\"969.696,-307.788 969.543,-297.194 963.056,-305.571 969.696,-307.788\"/>\r\n",
       "<text text-anchor=\"middle\" x=\"1028\" y=\"-318.8\" font-family=\"Times New Roman,serif\" font-size=\"14.00\">&gt;0.10001950388957098</text>\r\n",
       "</g>\r\n",
       "<!-- Addgddg -->\r\n",
       "<g id=\"node35\" class=\"node\"><title>Addgddg</title>\r\n",
       "<polygon fill=\"none\" stroke=\"black\" points=\"979,-210 925,-210 925,-174 979,-174 979,-210\"/>\r\n",
       "<text text-anchor=\"middle\" x=\"952\" y=\"-188.3\" font-family=\"Times New Roman,serif\" font-size=\"14.00\">&#45;1</text>\r\n",
       "</g>\r\n",
       "<!-- Addgdd&#45;&gt;Addgddg -->\r\n",
       "<g id=\"edge25\" class=\"edge\"><title>Addgdd&#45;&gt;Addgddg</title>\r\n",
       "<path fill=\"none\" stroke=\"black\" d=\"M961.847,-262.364C958.323,-256.562 954.864,-249.746 953,-243 951.02,-235.833 950.253,-227.866 950.108,-220.435\"/>\r\n",
       "<polygon fill=\"black\" stroke=\"black\" points=\"953.608,-220.48 950.258,-210.428 946.609,-220.375 953.608,-220.48\"/>\r\n",
       "<text text-anchor=\"middle\" x=\"1024\" y=\"-231.8\" font-family=\"Times New Roman,serif\" font-size=\"14.00\">&lt;=0.10810945423108087</text>\r\n",
       "</g>\r\n",
       "<!-- Addgddd -->\r\n",
       "<g id=\"node36\" class=\"node\"><title>Addgddd</title>\r\n",
       "<polygon fill=\"none\" stroke=\"black\" points=\"1144,-210 1090,-210 1090,-174 1144,-174 1144,-210\"/>\r\n",
       "<text text-anchor=\"middle\" x=\"1117\" y=\"-188.3\" font-family=\"Times New Roman,serif\" font-size=\"14.00\">1</text>\r\n",
       "</g>\r\n",
       "<!-- Addgdd&#45;&gt;Addgddd -->\r\n",
       "<g id=\"edge26\" class=\"edge\"><title>Addgdd&#45;&gt;Addgddd</title>\r\n",
       "<path fill=\"none\" stroke=\"black\" d=\"M999.893,-276.758C1026.91,-274.162 1068.28,-266.335 1095,-243 1101.98,-236.902 1106.84,-228.171 1110.18,-219.707\"/>\r\n",
       "<polygon fill=\"black\" stroke=\"black\" points=\"1113.55,-220.661 1113.43,-210.067 1106.92,-218.421 1113.55,-220.661\"/>\r\n",
       "<text text-anchor=\"middle\" x=\"1172\" y=\"-231.8\" font-family=\"Times New Roman,serif\" font-size=\"14.00\">&gt;0.10810945423108087</text>\r\n",
       "</g>\r\n",
       "</g>\r\n",
       "</svg>\r\n"
      ],
      "text/plain": [
       "<graphviz.dot.Digraph at 0x1465a735be0>"
      ]
     },
     "execution_count": 51,
     "metadata": {},
     "output_type": "execute_result"
    }
   ],
   "source": [
    "adautre.plot()"
   ]
  },
  {
   "cell_type": "markdown",
   "metadata": {},
   "source": [
    "### Améliorations (facultatif)"
   ]
  },
  {
   "cell_type": "markdown",
   "metadata": {},
   "source": [
    "Adapter votre algorithme afin de pouvoir construire des arbres de décision avec des attributs catégoriels. Dans un premier temps, vous considèrerez des attributs catégoriels à 2 valeurs. Ensuite, pour considérer des attributs à plus de 2 valeurs, vous devrez écrire une classe <code>ArbreGeneral</code> pour remplacer la classe <code>ArbreBinaire</code>."
   ]
  },
  {
   "cell_type": "markdown",
   "metadata": {},
   "source": [
    "## Etape 3: Expérimentation"
   ]
  },
  {
   "cell_type": "markdown",
   "metadata": {
    "collapsed": true
   },
   "source": [
    "Comparez le résultat obtenu avec ceux obtenus avec les 2 classifiers implémentés lors des TD-TME précédents. Ensuite, utilisez votre implémentation sur d'autres bases de données que vous avez déjà trouvées ou que vous pourrez trouver sur le web."
   ]
  },
  {
   "cell_type": "code",
   "execution_count": null,
   "metadata": {},
   "outputs": [],
   "source": []
  }
 ],
 "metadata": {
  "kernelspec": {
   "display_name": "Python 3",
   "language": "python",
   "name": "python3"
  },
  "language_info": {
   "codemirror_mode": {
    "name": "ipython",
    "version": 3
   },
   "file_extension": ".py",
   "mimetype": "text/x-python",
   "name": "python",
   "nbconvert_exporter": "python",
   "pygments_lexer": "ipython3",
   "version": "3.6.6"
  }
 },
 "nbformat": 4,
 "nbformat_minor": 1
}
