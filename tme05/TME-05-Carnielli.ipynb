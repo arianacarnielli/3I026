{
 "cells": [
  {
   "cell_type": "markdown",
   "metadata": {},
   "source": [
    "IA & Data science (3i026) -- 2018-2019\n",
    "--------\n",
    "*&copy; Equipe pédagogique: Manon Ansart, Vincent Guigue, Marie-Jeanne Lesot, Christophe Marsala, Olivier Schwander.*"
   ]
  },
  {
   "cell_type": "markdown",
   "metadata": {},
   "source": [
    "# TD-TME05: les arbres de décision\n",
    "\n",
    "L'objectif de ce TP est d'implémenter un algorithme d'apprentissage supervisé, l'algorithme de construction d'arbres de décision vu en cours.\n",
    "\n",
    "Dans un premier temps, nous allons nous restreindre à un cas binaire où les classes sont étiquetées $+1$ ou $-1$. De plus, nous allons ne considérer que le cas où les attributs sont tous numériques et on ne construit que des arbres avec des noeuds binaires (ie. qui ne contiennent que 2 branches sortantes)."
   ]
  },
  {
   "cell_type": "markdown",
   "metadata": {},
   "source": [
    "<font size=\"+1\" color=\"RED\">**[Q]**</font> **Indiquer dans la boîte ci-dessous vos noms et prénoms :**"
   ]
  },
  {
   "cell_type": "markdown",
   "metadata": {},
   "source": [
    "CARNIELLI Ariana"
   ]
  },
  {
   "cell_type": "markdown",
   "metadata": {},
   "source": [
    "<font color=\"RED\" size=\"+1\">**[Q]**</font> **Renommer ce fichier ipython**\n",
    "\n",
    "Tout en haut de cette page, cliquer sur <tt>tme-05</tt> et rajouter à la suite de <tt>tme-05</tt> les noms des membres du binômes séparés par un tiret."
   ]
  },
  {
   "cell_type": "markdown",
   "metadata": {},
   "source": [
    "<font color=\"RED\" size=\"+1\">IMPORTANT: soumission de votre fichier final</font>\n",
    "\n",
    "**Nom à donner au fichier à poster** : *tme-05-Nom1_Nom2.ipynb* \n",
    "- *Nom1* et *Nom2* : noms des membres du binôme\n",
    "- ne pas compresser ou faire une archive: il faut rendre le notebook tel quel, éventuellement, si vous avez d'autres fichiers vous les rendez séparément.\n",
    "\n",
    "**Echancier pour la soumission de votre compte-rendu:**\n",
    "- le compte-rendu d'une séance doit être remis obligatoirement <font color=\"RED\">** à la fin de la séance**</font>. C'est ce compte-rendu qui donne la note de base de la séance.\n",
    "- vous pouvez éventuellement compléter votre compte-rendu  pour obtenir des points bonus, dans ce cas, vous devez soumettre votre complément avant le début de la semaine suivante.\n",
    "\n",
    "** Sur la page Moodle de remise du travail <font color=\"RED\">ne pas oublier d'envoyer le compte rendu</font>** à la fin de la séance, la soumission de la version complémentaire post-séance se fera sur une page différente."
   ]
  },
  {
   "cell_type": "markdown",
   "metadata": {},
   "source": [
    "## Mise à jour de votre librairie IADS\n",
    "\n",
    "Comme lors des séances précédentes, vous devez utiliser les fonctions de la librairie IADS.\n",
    "\n",
    "<font color=\"RED\" size=\"+1\">**[Q]**</font> **Ouvrir et compléter les fichiers Classifiers.py et utils.py**\n",
    "\n",
    "Rajouter dans la librairie les fonctions et classes et que vous avez écrites lors de la séance précédente. \n",
    "\n",
    "**Rappel**: dans un premier temps, vous devez écrire les classes et fonctions demandées dans le notebook de la séance de TDTME en cours. Lors de la séance suivante, vous rajouterez tout cela, une fois que vous l'aurez bien testé, dans vos fichiers de la librairie IADS.\n",
    "\n"
   ]
  },
  {
   "cell_type": "code",
   "execution_count": 1,
   "metadata": {},
   "outputs": [],
   "source": [
    "import numpy as np\n",
    "import pandas as pd\n",
    "import matplotlib.pyplot as plt\n",
    "import math\n",
    "%matplotlib inline  \n",
    "\n",
    "# La ligne suivante permet de préciser le chemin d'accès à la librairie iads\n",
    "import sys\n",
    "sys.path.append('../')\n",
    "\n",
    "# Importation de la librairie iads\n",
    "import iads as iads\n",
    "\n",
    "# importation de LabeledSet\n",
    "from iads import LabeledSet as ls\n",
    "\n",
    "# importation de Classifiers\n",
    "from iads import Classifiers as cl\n",
    "\n",
    "# importation de utils\n",
    "from iads import utils as ut"
   ]
  },
  {
   "cell_type": "markdown",
   "metadata": {},
   "source": [
    "### Génération de données Jouet\n",
    "\n",
    "<font color=\"RED\" size=\"+1\">**[Q]**</font>  Dans un premier temps, pour mettre au point les fonctions, générer une base jouet assez petite (par exemple, 10 exemples de chaque classe)."
   ]
  },
  {
   "cell_type": "code",
   "execution_count": 2,
   "metadata": {},
   "outputs": [
    {
     "name": "stdout",
     "output_type": "stream",
     "text": [
      "Taille de la base jouet générée : 20 exemples\n"
     ]
    }
   ],
   "source": [
    "the_set = ut.createGaussianDataset(np.array([1,1]),np.array([[1,0],[0,1]]),np.array([-1,-1]),np.array([[1,0],[0,1]]),10)\n",
    "\n",
    "print(\"Taille de la base jouet générée : \" + str(the_set.size()) + \" exemples\")"
   ]
  },
  {
   "cell_type": "code",
   "execution_count": 3,
   "metadata": {},
   "outputs": [
    {
     "name": "stdout",
     "output_type": "stream",
     "text": [
      "<class 'numpy.ndarray'>\n",
      "(2, 10, 2)\n"
     ]
    },
    {
     "data": {
      "text/plain": [
       "array([[ 1.70986665,  2.70314631],\n",
       "       [ 1.64831594,  0.65554611],\n",
       "       [ 0.48201136,  0.44970037],\n",
       "       [ 1.84873284,  2.05666343],\n",
       "       [ 0.96890174,  0.3508808 ],\n",
       "       [ 1.57430987, -1.63656536],\n",
       "       [ 0.45291649, -0.00985634],\n",
       "       [ 1.77677785, -0.16200372],\n",
       "       [ 1.43994441,  2.27303767],\n",
       "       [ 0.5231828 , -0.17903602]])"
      ]
     },
     "execution_count": 3,
     "metadata": {},
     "output_type": "execute_result"
    }
   ],
   "source": [
    "S= the_set.x[np.where(the_set.y == 1),:]\n",
    "print(type(S))\n",
    "print(S.shape)\n",
    "S[0]"
   ]
  },
  {
   "cell_type": "code",
   "execution_count": 4,
   "metadata": {},
   "outputs": [
    {
     "data": {
      "image/png": "[encoded data removed]",
      "text/plain": [
       "<Figure size 432x288 with 1 Axes>"
      ]
     },
     "metadata": {
      "needs_background": "light"
     },
     "output_type": "display_data"
    }
   ],
   "source": [
    "# Affichage du dataset généré\n",
    "ut.plot2DSet(the_set)"
   ]
  },
  {
   "cell_type": "markdown",
   "metadata": {},
   "source": [
    "<font color=\"RED\" size=\"+1\">**[Q]**</font> Ecrire la fonction <code>classe_majoritaire()</code> qui, étant donné un LabeledSet rend la classe majoritaire dans l'ensemble (celle qui est possédée par le plus grand nombre d'exemples donc...). En cas d'égalité, cette fonction rend la classe +1."
   ]
  },
  {
   "cell_type": "code",
   "execution_count": 5,
   "metadata": {},
   "outputs": [],
   "source": [
    "def classe_majoritaire(LabeledSet):\n",
    "    nb_plus = (LabeledSet.y==1).sum()\n",
    "    nb_moins = (LabeledSet.y==-1).sum()\n",
    "    if nb_plus >= nb_moins:\n",
    "        return 1\n",
    "    return -1\n",
    "    "
   ]
  },
  {
   "cell_type": "code",
   "execution_count": 6,
   "metadata": {},
   "outputs": [
    {
     "data": {
      "text/plain": [
       "1"
      ]
     },
     "execution_count": 6,
     "metadata": {},
     "output_type": "execute_result"
    }
   ],
   "source": [
    "classe_majoritaire(the_set)"
   ]
  },
  {
   "cell_type": "markdown",
   "metadata": {},
   "source": [
    "## Arbres de décision\n",
    "\n",
    "Dans cette étape, on réalise l'implémentation de l'algorithme de construction d'un arbre de décision."
   ]
  },
  {
   "cell_type": "markdown",
   "metadata": {},
   "source": [
    "### Entropie et gain d'information\n",
    "\n",
    "On note $\\{c_1, c_2,..., c_k\\}$, l'ensemble des classes possibles.\n",
    "\n",
    "Dans le cours, la mesure de désordre présentée utilise, pour toute valeur $c$ de la classe le ratio $\\frac{|Y(c)|}{|Y|}$ qui correspond à la probabilité de la classe $c$ parmi $Y$.\n",
    "On note dans ce qui suit $p_1$ la probabilité de la classe $c_1$ parmi $Y$, etc. \n",
    "\n",
    "Ainsi, on a $P=(p_1, p_2,..., p_k)$ la distribution de probabilités sur les classes ainsi définies.\n",
    "\n",
    "L'**entropie de Shannon** de la distribution $P$ est donnée par:\n",
    "\n",
    "$ H_S(P) = -\\sum_{i=1}^{k} p_i \\log_k(p_i)$\n",
    "\n",
    "Le logarithme utilisé est le logarithme en base $k$ afin d'obtenir une valeur normalisée de l'entropie. \n",
    "\n",
    "*Remarque:* avec les notations vues en cours, on a $D(Y) = H_S(P)$.\n",
    "\n",
    "Pour ce qui suit, une *distribution de probabilités* est représentée par une **liste** Python $P=[p_1,...,p_k]$ de valeurs réelles telle que\n",
    "* pour tout $i=1,..., k$ : $0 \\leq p_i \\leq 1$\n",
    "* $\\sum_{i=1}^{k}p_i = 1$\n"
   ]
  },
  {
   "cell_type": "markdown",
   "metadata": {},
   "source": [
    "<font color=\"RED\" size=\"+1\">**[Q]**</font> Ecrire la fonction <code>shannon()</code> qui, étant donné une distribution de probabilités $P$, rend la valeur de $H_S(P)$, l'entropie de Shannon de $P$."
   ]
  },
  {
   "cell_type": "code",
   "execution_count": 7,
   "metadata": {},
   "outputs": [],
   "source": [
    "def shannon(P):\n",
    "    if len(P) == 1:\n",
    "        return 0\n",
    "    entropie = 0\n",
    "    taille = len(P)\n",
    "    for pi in P:\n",
    "        if pi != 0:\n",
    "            #print(pi)\n",
    "            entropie = entropie - (pi * math.log(pi, taille))\n",
    "    return entropie"
   ]
  },
  {
   "cell_type": "code",
   "execution_count": 8,
   "metadata": {},
   "outputs": [
    {
     "name": "stdout",
     "output_type": "stream",
     "text": [
      "P=[1,0] :  0.0\n",
      "P=[0.25, 0.25, 0.25, 0.25] :  1.0\n",
      "P=[0.7, 0.1, 0.2, 0.0] :  0.5783898247235197\n",
      "P=[1.0/3, 2.0/3] :  0.9182958340544896\n"
     ]
    }
   ],
   "source": [
    "# Exemples d'utilisation:\n",
    "print(\"P=[1,0] : \", shannon([1, 0]))\n",
    "print(\"P=[0.25, 0.25, 0.25, 0.25] : \", shannon([0.25, 0.25, 0.25, 0.25]))\n",
    "print(\"P=[0.7, 0.1, 0.2, 0.0] : \", shannon([0.7, 0.1, 0.2, 0.0]))\n",
    "print(\"P=[1.0/3, 2.0/3] : \", shannon([1.0/3, 2.0/3]))"
   ]
  },
  {
   "cell_type": "markdown",
   "metadata": {},
   "source": [
    "<font color=\"RED\" size=\"+1\">**[Q]**</font> Tracer, à l'aide de la fonction plot, la courbe donnant la valeur de <code>shannon([p, 1-p])</code> en fonction de <code>p</code>."
   ]
  },
  {
   "cell_type": "code",
   "execution_count": 9,
   "metadata": {},
   "outputs": [],
   "source": [
    "import matplotlib.pyplot as plt"
   ]
  },
  {
   "cell_type": "code",
   "execution_count": 10,
   "metadata": {},
   "outputs": [
    {
     "data": {
      "text/plain": [
       "[<matplotlib.lines.Line2D at 0x2014d76b1d0>]"
      ]
     },
     "execution_count": 10,
     "metadata": {},
     "output_type": "execute_result"
    },
    {
     "data": {
      "image/png": "[encoded data removed]",
      "text/plain": [
       "<Figure size 432x288 with 1 Axes>"
      ]
     },
     "metadata": {
      "needs_background": "light"
     },
     "output_type": "display_data"
    }
   ],
   "source": [
    "p = np.linspace(0, 1, 500)\n",
    "shannon_p = []\n",
    "for i in range(len(p)):\n",
    "    shannon_p.append(shannon([p[i], 1-p[i]]))\n",
    "\n",
    "plt.plot(p, shannon_p)"
   ]
  },
  {
   "cell_type": "markdown",
   "metadata": {},
   "source": [
    "<font color=\"RED\" size=\"+1\">**[Q]**</font> A l'aide de la fonction <code>shannon()</code>, écrire la fonction <code>entropie()</code> qui prend un LabeledSet en argument et renvoie l'entropie de la distribution des classes dans cet ensemble."
   ]
  },
  {
   "cell_type": "code",
   "execution_count": 11,
   "metadata": {},
   "outputs": [],
   "source": [
    "def entropie(LabeledSet):\n",
    "    dico_type = {}\n",
    "    taille_label = LabeledSet.size()\n",
    "    for y in range(taille_label):\n",
    "        type = LabeledSet.getY(y)\n",
    "        if type[0] in dico_type:\n",
    "            dico_type[type[0]] += 1\n",
    "        else:\n",
    "            dico_type[type[0]] = 1\n",
    "    P = []\n",
    "    for type in dico_type:\n",
    "        P.append(dico_type[type]/taille_label)\n",
    "    #print(P)\n",
    "    return shannon(P)"
   ]
  },
  {
   "cell_type": "code",
   "execution_count": 12,
   "metadata": {},
   "outputs": [
    {
     "data": {
      "text/plain": [
       "1.0"
      ]
     },
     "execution_count": 12,
     "metadata": {},
     "output_type": "execute_result"
    }
   ],
   "source": [
    "entropie(the_set)"
   ]
  },
  {
   "cell_type": "markdown",
   "metadata": {},
   "source": [
    "Cette fonction <code>entropie</code> permet dont de calculer le désordre des classes dans le LabeledSet considéré."
   ]
  },
  {
   "cell_type": "markdown",
   "metadata": {},
   "source": [
    "### Discrétisation des attributs numériques"
   ]
  },
  {
   "cell_type": "markdown",
   "metadata": {
    "collapsed": true
   },
   "source": [
    "Comme on l'a vu en cours, discrétiser un attribut numérique consiste en trouver un seuil de coupure dans son ensemble de valeurs. \n",
    "\n",
    "Par exemple, soit l'attribut Age contenant les valeurs 17, 18, 20, 27, 35, 37, 40. On discrétise cet attribut en 2 valeurs en prenant, par exemple, le seuil 30: cela permet de séparer d'un côté les valeurs inférieures ou égales à 30, et de l'autre les valeurs strictement supérieures à 30.\n",
    "\n",
    "Le seuil est choisi afin d'optimiser la distribution des classes des exemples qui se trouvent de chaque côté du seuil. Une fois un seuil choisi, on calcule le désordre des classes associées aux exemples de chaque côté du seuil et on agrège les 2 valeurs de désordre obtenues pour déterminer la qualité de la coupure à l'aide de la mesure $Q$ vue en cours.\n",
    "\n",
    "\n",
    "Soit $X$ un ensemble d'exemples, et soit $A$ un attribut que l'on souhaite discrétiser. Pour cela, on constitue l'ensemble des valeurs prises par les exemples de $X$ pour l'attribut $A$. Soit $A_X$ cet ensemble de valeurs.\n",
    "\n",
    "La discrétisation de $A_X$ s'effectue par les étapes suivantes:\n",
    "- Etape 1: ordonner de façon croissante les valeurs de $A_X$;\n",
    "- Etape 2: regarder tous les seuils possibles de coupure entre 2 valeurs consécutives de $A_X$ (on prend comme seuil de coupure la valeur médiane entre ces 2 valeurs). Chaque seuil trouvé créé 2 intervalles qui générent 2 sous-ensembles de $X$: l'ensemble $X_1$ des exemples dont la valeur pour $A$ et inférieure ou égale au seuil, et l'ensemble $X_2$ des exemples dont la valeur pour $A$ et supérieure au seuil. On détermine la qualité du seuil par la mesure de qualité d'un test vue en cours. On note $Q(seuil)$ cette valeur.\n",
    "\n",
    "\n",
    "La meilleure coupure pour discrétiser $A_X$ est celle qui minimise la valeur $Q(seuil)$.\n",
    "\n",
    "\n",
    "Par exemple, soit $X=\\{17, 18, 20, 27, 35, 37, 40\\}$, chaque valeur étant associées aux classes +1, +1, -1, -1, +1, +1, -1 respectivement. Un seuil de coupure possible est $31$ ($31 = \\frac{27+35}{2}$). Ce seuil coupe $X$ en $X_1=\\{17, 18, 20, 27\\}$ et $X_2=\\{35, 37, 40\\}$.\n",
    "\n",
    "- pour $X_1$, la probabilité de chaque classe est: $p(+1)= 0.5$ et $p(-1)=0.5$ donc, $H_S(X_1)=1$;\n",
    "- pour $X_2$, la probabilité de chaque classe est: $p(+1)= \\frac{1}{3}$ et $p(-1)=\\frac{2}{3}$ donc, $H_S(X_2)=0.9182958340544896$;\n",
    "- on a donc: $$Q(seuil=31) = \\frac{4}{7} H_S(X_1) + \\frac{3}{7} H_S(X_2);$$\n",
    "soit $Q(seuil=31) = 0.9182958340544896$"
   ]
  },
  {
   "cell_type": "markdown",
   "metadata": {},
   "source": [
    "On considère que <code>the_set</code> est un LabeledSet construit précédement. Il contient deux variables de type array: $x$ et $y$.\n",
    "\n",
    "Regarder et tester les instructions suivantes, il faut bien comprendre comment elles fonctionnent car on va utiliser les mêmes principes dans les fonctions à écrire."
   ]
  },
  {
   "cell_type": "code",
   "execution_count": 13,
   "metadata": {},
   "outputs": [
    {
     "name": "stdout",
     "output_type": "stream",
     "text": [
      "[[ 5  5]\n",
      " [11 13]\n",
      " [13 10]\n",
      " [17 19]\n",
      " [15 11]\n",
      " [ 7  3]\n",
      " [19  7]\n",
      " [ 3 15]\n",
      " [ 1  1]\n",
      " [ 9 18]\n",
      " [12 14]\n",
      " [ 4 12]\n",
      " [18  8]\n",
      " [ 8  4]\n",
      " [16  9]\n",
      " [10  2]\n",
      " [ 2 17]\n",
      " [ 0  6]\n",
      " [14 16]\n",
      " [ 6  0]]\n",
      "[[ 1.70986665  2.70314631]\n",
      " [-0.59671518 -0.29229979]\n",
      " [ 1.64831594  0.65554611]\n",
      " [-0.74459431 -0.80799062]\n",
      " [ 0.48201136  0.44970037]\n",
      " [-2.43307037 -2.09469023]\n",
      " [ 1.84873284  2.05666343]\n",
      " [-0.95019426 -0.60462982]\n",
      " [ 0.96890174  0.3508808 ]\n",
      " [-0.56923345  0.61464115]\n",
      " [ 1.57430987 -1.63656536]\n",
      " [-1.75444063 -0.82287102]\n",
      " [ 0.45291649 -0.00985634]\n",
      " [-1.50341506 -1.84859002]\n",
      " [ 1.77677785 -0.16200372]\n",
      " [-1.07046483 -0.40203598]\n",
      " [ 1.43994441  2.27303767]\n",
      " [-1.26857631  0.78062574]\n",
      " [ 0.5231828  -0.17903602]\n",
      " [-0.82563146 -1.19224083]]\n"
     ]
    }
   ],
   "source": [
    "ind= np.argsort(the_set.x,axis=0)   # Tri des valeurs de the_set.x selon les colonnes. \n",
    "                                    # La fonction rend un numpy.ndarray contenant autant de \n",
    "                                    # colonnes que the_set.x et dans chaque colonne, on a \n",
    "                                    # la position de l'exemple dans l'ordonnancement croissant.\n",
    "print(ind) #pour afficher\n",
    "print(the_set.x)"
   ]
  },
  {
   "cell_type": "code",
   "execution_count": 14,
   "metadata": {},
   "outputs": [
    {
     "data": {
      "text/plain": [
       "array([[-2.43307037, -2.09469023],\n",
       "       [-1.75444063, -0.82287102],\n",
       "       [-1.50341506, -1.84859002],\n",
       "       [-1.26857631,  0.78062574],\n",
       "       [-1.07046483, -0.40203598],\n",
       "       [-0.95019426, -0.60462982],\n",
       "       [-0.82563146, -1.19224083],\n",
       "       [-0.74459431, -0.80799062],\n",
       "       [-0.59671518, -0.29229979],\n",
       "       [-0.56923345,  0.61464115],\n",
       "       [ 0.45291649, -0.00985634],\n",
       "       [ 0.48201136,  0.44970037],\n",
       "       [ 0.5231828 , -0.17903602],\n",
       "       [ 0.96890174,  0.3508808 ],\n",
       "       [ 1.43994441,  2.27303767],\n",
       "       [ 1.57430987, -1.63656536],\n",
       "       [ 1.64831594,  0.65554611],\n",
       "       [ 1.70986665,  2.70314631],\n",
       "       [ 1.77677785, -0.16200372],\n",
       "       [ 1.84873284,  2.05666343]])"
      ]
     },
     "execution_count": 14,
     "metadata": {},
     "output_type": "execute_result"
    }
   ],
   "source": [
    "#the_set.x[ind[0:len(the_set.x),0]]  # Rend le numpy.array des exemples de the_set.x ordonnés\n",
    "                                    # selon les indices donnés dans ind (colonne 0)\n",
    "the_set.x[ind[:,0]] "
   ]
  },
  {
   "cell_type": "code",
   "execution_count": 15,
   "metadata": {},
   "outputs": [
    {
     "data": {
      "text/plain": [
       "array([[-1],\n",
       "       [-1],\n",
       "       [-1],\n",
       "       [-1],\n",
       "       [-1],\n",
       "       [-1],\n",
       "       [-1],\n",
       "       [-1],\n",
       "       [-1],\n",
       "       [-1],\n",
       "       [ 1],\n",
       "       [ 1],\n",
       "       [ 1],\n",
       "       [ 1],\n",
       "       [ 1],\n",
       "       [ 1],\n",
       "       [ 1],\n",
       "       [ 1],\n",
       "       [ 1],\n",
       "       [ 1]])"
      ]
     },
     "execution_count": 15,
     "metadata": {},
     "output_type": "execute_result"
    }
   ],
   "source": [
    "the_set.y[ind[0:len(the_set.y),0]]  # Rend le numpy.array des exemples de the_set.y ordonnés\n",
    "                                    # selon les indices donnés dans ind (colonne 0)\n",
    "    \n",
    "the_set.y[ind[:,0]] "
   ]
  },
  {
   "cell_type": "code",
   "execution_count": 16,
   "metadata": {},
   "outputs": [
    {
     "name": "stdout",
     "output_type": "stream",
     "text": [
      "valeur= -2.094690232349005 classe=  -1\n",
      "valeur= -1.8485900151667745 classe=  -1\n",
      "valeur= -1.636565359877817 classe=  1\n",
      "valeur= -1.192240827810619 classe=  -1\n",
      "valeur= -0.8228710195062239 classe=  -1\n",
      "valeur= -0.8079906157082177 classe=  -1\n",
      "valeur= -0.604629820434031 classe=  -1\n",
      "valeur= -0.4020359770361691 classe=  -1\n",
      "valeur= -0.2922997897729809 classe=  -1\n",
      "valeur= -0.17903601960982218 classe=  1\n",
      "valeur= -0.16200372152870401 classe=  1\n",
      "valeur= -0.009856344899746627 classe=  1\n",
      "valeur= 0.3508807960056167 classe=  1\n",
      "valeur= 0.4497003718358781 classe=  1\n",
      "valeur= 0.6146411501750899 classe=  -1\n",
      "valeur= 0.6555461067690733 classe=  1\n",
      "valeur= 0.7806257431916104 classe=  -1\n",
      "valeur= 2.056663428357937 classe=  1\n",
      "valeur= 2.2730376654270454 classe=  1\n",
      "valeur= 2.703146313939592 classe=  1\n"
     ]
    }
   ],
   "source": [
    "colonne = 1    # numéro de la colonne de the_set.x à considérer\n",
    "for v_i in ind[0:len(the_set.x)]:\n",
    "    i = v_i[colonne]\n",
    "    exem = the_set.getX(i)\n",
    "    clas = the_set.getY(i)\n",
    "    print(\"valeur=\",exem[colonne], \"classe= \", clas[0])"
   ]
  },
  {
   "cell_type": "markdown",
   "metadata": {},
   "source": [
    "Etant donné un LabeledSet, ainsi qu'un numéro de colonne à considérer (qui correspond à un des attributs de description), la fonction <code>discrétise()</code> rend un tuple constitué de la valeur de coupure qui optimise la mesure de qualité, et de la valeur trouvée pour cette mesure."
   ]
  },
  {
   "cell_type": "code",
   "execution_count": 17,
   "metadata": {},
   "outputs": [],
   "source": [
    "def discretise(LSet, col):\n",
    "    \"\"\" LabeledSet * int -> tuple[float, float]\n",
    "        Hypothèse: LSet.size() >= 2\n",
    "        col est le numéro de colonne sur X à discrétiser\n",
    "        rend la valeur de coupure qui minimise l'entropie ainsi que son entropie.\n",
    "    \"\"\"\n",
    "    # initialisation:\n",
    "    min_entropie = 1.1  # on met à une valeur max car on veut minimiser\n",
    "    min_seuil = 0.0     \n",
    "    # trie des valeurs:\n",
    "    ind= np.argsort(LSet.x,axis=0)\n",
    "    \n",
    "    # calcul des distributions des classes pour E1 et E2:\n",
    "    inf_plus  = 0               # nombre de +1 dans E1\n",
    "    inf_moins = 0               # nombre de -1 dans E1\n",
    "    sup_plus  = 0               # nombre de +1 dans E2\n",
    "    sup_moins = 0               # nombre de -1 dans E2       \n",
    "    # remarque: au départ on considère que E1 est vide et donc E2 correspond à E. \n",
    "    # Ainsi inf_plus et inf_moins valent 0. Il reste à calculer sup_plus et sup_moins \n",
    "    # dans E.\n",
    "    for j in range(0,LSet.size()):\n",
    "        if (LSet.getY(j) == -1):\n",
    "            sup_moins += 1\n",
    "        else:\n",
    "            sup_plus += 1\n",
    "    nb_total = (sup_plus + sup_moins) # nombre d'exemples total dans E\n",
    "    \n",
    "    # parcours pour trouver le meilleur seuil:\n",
    "    for i in range(len(LSet.x)-1):\n",
    "        v_ind_i = ind[i]   # vecteur d'indices\n",
    "        courant = LSet.getX(v_ind_i[col])[col]\n",
    "        lookahead = LSet.getX(ind[i+1][col])[col]\n",
    "        val_seuil = (courant + lookahead) / 2.0;\n",
    "        # M-A-J de la distrib. des classes:\n",
    "        # pour réduire les traitements: on retire un exemple de E2 et on le place\n",
    "        # dans E1, c'est ainsi que l'on déplace donc le seuil de coupure.\n",
    "        if LSet.getY(ind[i][col])[0] == -1:\n",
    "            inf_moins += 1\n",
    "            sup_moins -= 1\n",
    "        else:\n",
    "            inf_plus += 1\n",
    "            sup_plus -= 1\n",
    "        # calcul de la distribution des classes de chaque côté du seuil:\n",
    "        nb_inf = (inf_moins + inf_plus)*1.0     # rem: on en fait un float pour éviter\n",
    "        nb_sup = (sup_moins + sup_plus)*1.0     # que ce soit une division entière.\n",
    "        # calcul de l'entropie de la coupure\n",
    "        val_entropie_inf = shannon([inf_moins / nb_inf, inf_plus  / nb_inf])\n",
    "        val_entropie_sup = shannon([sup_moins / nb_sup, sup_plus  / nb_sup])\n",
    "        val_entropie = (nb_inf / nb_total) * val_entropie_inf \\\n",
    "                       + (nb_sup / nb_total) * val_entropie_sup\n",
    "        # si cette coupure minimise l'entropie, on mémorise ce seuil et son entropie:\n",
    "        if (min_entropie > val_entropie):\n",
    "            min_entropie = val_entropie\n",
    "            min_seuil = val_seuil\n",
    "    return (min_seuil, min_entropie)"
   ]
  },
  {
   "cell_type": "markdown",
   "metadata": {},
   "source": [
    "Une autre implementation possible:"
   ]
  },
  {
   "cell_type": "code",
   "execution_count": 18,
   "metadata": {},
   "outputs": [],
   "source": [
    "def discretise2(LSet, col):\n",
    "    x = LSet.x[:, col]\n",
    "    y = LSet.y[:, 0]\n",
    "    ind = np.argsort(x)\n",
    "    x = x[ind]\n",
    "    y = y[ind]\n",
    "    indices = np.where(y[:-1] != y[1:])[0]\n",
    "    seuil = (x[indices] + x[indices+1])/2\n",
    "    entropie = np.zeros(seuil.size)\n",
    "    for i in range(seuil.size):\n",
    "        j = indices[i]\n",
    "        p = (y[:(j+1)]==1).sum()/y[:(j+1)].size\n",
    "        ent1 = shannon([p, 1 - p])\n",
    "        p = (y[(j+1):]==1).sum()/y[(j+1):].size\n",
    "        ent2 = shannon([p, 1 - p])\n",
    "        entropie[i] = (ent1*y[:(j+1)].size + ent2*y[(j+1):].size)/y.size\n",
    "        \n",
    "    imin = np.argmin(entropie)\n",
    "    return (seuil[imin], entropie[imin])"
   ]
  },
  {
   "cell_type": "code",
   "execution_count": 19,
   "metadata": {},
   "outputs": [
    {
     "data": {
      "text/plain": [
       "(-0.058158480416154124, 0.0)"
      ]
     },
     "execution_count": 19,
     "metadata": {},
     "output_type": "execute_result"
    }
   ],
   "source": [
    "discretise(the_set,0) # le résultat dépend, bien sûr, de la base jouet"
   ]
  },
  {
   "cell_type": "code",
   "execution_count": 20,
   "metadata": {},
   "outputs": [
    {
     "data": {
      "text/plain": [
       "(-0.058158480416154124, 0.0)"
      ]
     },
     "execution_count": 20,
     "metadata": {},
     "output_type": "execute_result"
    }
   ],
   "source": [
    "discretise2(the_set,0) # le résultat dépend, bien sûr, de la base jouet"
   ]
  },
  {
   "cell_type": "code",
   "execution_count": 21,
   "metadata": {},
   "outputs": [
    {
     "data": {
      "text/plain": [
       "(-0.23566790469140153, 0.6026873902505135)"
      ]
     },
     "execution_count": 21,
     "metadata": {},
     "output_type": "execute_result"
    }
   ],
   "source": [
    "discretise(the_set,1) # le résultat dépend, bien sûr, de la base jouet"
   ]
  },
  {
   "cell_type": "markdown",
   "metadata": {},
   "source": [
    "Une dernière fonction utile permet de diviser une base d'exemples en 2 sous-bases en utilisant un seuil sur la valeur d'un attribut donné.\n",
    "\n",
    "<font color=\"RED\" size=\"+1\">**[Q]**</font> Ecrire la fonction divise() dont la spécification est:\n",
    "\n",
    "    def divise(LSet,att,seuil):\n",
    "        \"\"\" LSet: LabeledSet\n",
    "            att : numéro d'attribut\n",
    "            seuil : valeur de seuil\n",
    "            rend le tuple contenant les 2 sous-LabeledSet obtenus par la\n",
    "            division de LSet selon le seuil sur l'attribut att\n",
    "        \"\"\"\n",
    "\n"
   ]
  },
  {
   "cell_type": "code",
   "execution_count": 22,
   "metadata": {},
   "outputs": [],
   "source": [
    "def divise(LabeledSet, att, seuil):\n",
    "    Lb1 = ls.LabeledSet(LabeledSet.getInputDimension())\n",
    "    Lb2 = ls.LabeledSet(LabeledSet.getInputDimension())\n",
    "    \n",
    "    for i in range(LabeledSet.size()):\n",
    "        if LabeledSet.getX(i)[att] <= seuil:\n",
    "            Lb1.addExample(LabeledSet.getX(i), LabeledSet.getY(i))\n",
    "        else:\n",
    "            Lb2.addExample(LabeledSet.getX(i), LabeledSet.getY(i))\n",
    "        \n",
    "    return (Lb1, Lb2)"
   ]
  },
  {
   "cell_type": "code",
   "execution_count": 23,
   "metadata": {},
   "outputs": [
    {
     "name": "stdout",
     "output_type": "stream",
     "text": [
      "entropie inférieur: 0  / entropie supérieur: 0\n"
     ]
    }
   ],
   "source": [
    "Linf, Lsup = divise(the_set,0,-0.5)\n",
    "#Linf.affiche_base()\n",
    "#print(\"segundo dataset\")\n",
    "#Lsup.affiche_base()\n",
    "print(\"entropie inférieur:\",entropie(Linf),\" / entropie supérieur:\", entropie(Lsup))\n",
    "# remarque: les résultats dépendent de votre base jouet..."
   ]
  },
  {
   "cell_type": "code",
   "execution_count": 24,
   "metadata": {},
   "outputs": [
    {
     "data": {
      "image/png": "[encoded data removed]",
      "text/plain": [
       "<Figure size 432x288 with 1 Axes>"
      ]
     },
     "metadata": {
      "needs_background": "light"
     },
     "output_type": "display_data"
    }
   ],
   "source": [
    "ut.plot2DSet(the_set)"
   ]
  },
  {
   "cell_type": "code",
   "execution_count": 25,
   "metadata": {},
   "outputs": [
    {
     "data": {
      "text/plain": [
       "0"
      ]
     },
     "execution_count": 25,
     "metadata": {},
     "output_type": "execute_result"
    }
   ],
   "source": [
    "entropie(Lsup)"
   ]
  },
  {
   "cell_type": "markdown",
   "metadata": {},
   "source": [
    "### Représentation d'un arbre en Python"
   ]
  },
  {
   "cell_type": "markdown",
   "metadata": {},
   "source": [
    "Un arbre de décision doit être représenté en Python, pour cela, on utilise la classe <code>ArbreBinaire</code> suivante:"
   ]
  },
  {
   "cell_type": "code",
   "execution_count": 26,
   "metadata": {},
   "outputs": [],
   "source": [
    "import graphviz as gv\n",
    "# Eventuellement, il peut être nécessaire d'installer graphviz sur votre compte:\n",
    "# pip install --user --install-option=\"--prefix=\" -U graphviz\n",
    "\n",
    "\n",
    "class ArbreBinaire:\n",
    "    def __init__(self):\n",
    "        self.attribut = None   # numéro de l'attribut\n",
    "        self.seuil = None\n",
    "        self.inferieur = None # ArbreBinaire Gauche (valeurs <= au seuil)\n",
    "        self.superieur = None # ArbreBinaire Gauche (valeurs > au seuil)\n",
    "        self.classe = None # Classe si c'est une feuille: -1 ou +1\n",
    "        \n",
    "    def est_feuille(self):\n",
    "        \"\"\" rend True si l'arbre est une feuille \"\"\"\n",
    "        return self.seuil == None\n",
    "    \n",
    "    def ajoute_fils(self,ABinf,ABsup,att,seuil):\n",
    "        \"\"\" ABinf, ABsup: 2 arbres binaires\n",
    "            att: numéro d'attribut\n",
    "            seuil: valeur de seuil\n",
    "        \"\"\"\n",
    "        self.attribut = att\n",
    "        self.seuil = seuil\n",
    "        self.inferieur = ABinf\n",
    "        self.superieur = ABsup\n",
    "    \n",
    "    def ajoute_feuille(self,classe):\n",
    "        \"\"\" classe: -1 ou + 1\n",
    "        \"\"\"\n",
    "        self.classe = classe\n",
    "        \n",
    "    def classifie(self,exemple):\n",
    "        \"\"\" exemple : numpy.array\n",
    "            rend la classe de l'exemple: +1 ou -1\n",
    "        \"\"\"\n",
    "        if self.est_feuille():\n",
    "            return self.classe\n",
    "        if exemple[self.attribut] <= self.seuil:\n",
    "            return self.inferieur.classifie(exemple)\n",
    "        return self.superieur.classifie(exemple)\n",
    "    \n",
    "    def to_graph(self, g, prefixe='A'):\n",
    "        \"\"\" construit une représentation de l'arbre pour pouvoir\n",
    "            l'afficher\n",
    "        \"\"\"\n",
    "        if self.est_feuille():\n",
    "            g.node(prefixe,str(self.classe),shape='box')\n",
    "        else:\n",
    "            g.node(prefixe, str(self.attribut))\n",
    "            self.inferieur.to_graph(g,prefixe+\"g\")\n",
    "            self.superieur.to_graph(g,prefixe+\"d\")\n",
    "            g.edge(prefixe,prefixe+\"g\", '<='+ str(self.seuil))\n",
    "            g.edge(prefixe,prefixe+\"d\", '>'+ str(self.seuil))\n",
    "        \n",
    "        return g"
   ]
  },
  {
   "cell_type": "code",
   "execution_count": 27,
   "metadata": {},
   "outputs": [
    {
     "name": "stdout",
     "output_type": "stream",
     "text": [
      "True\n"
     ]
    },
    {
     "data": {
      "image/svg+xml": [
       "<?xml version=\"1.0\" encoding=\"UTF-8\" standalone=\"no\"?>\r\n",
       "<!DOCTYPE svg PUBLIC \"-//W3C//DTD SVG 1.1//EN\"\r\n",
       " \"http://www.w3.org/Graphics/SVG/1.1/DTD/svg11.dtd\">\r\n",
       "<!-- Generated by graphviz version 2.38.0 (20140413.2041)\r\n",
       " -->\r\n",
       "<!-- Title: %3 Pages: 1 -->\r\n",
       "<svg width=\"134pt\" height=\"131pt\"\r\n",
       " viewBox=\"0.00 0.00 134.00 131.00\" xmlns=\"http://www.w3.org/2000/svg\" xmlns:xlink=\"http://www.w3.org/1999/xlink\">\r\n",
       "<g id=\"graph0\" class=\"graph\" transform=\"scale(1 1) rotate(0) translate(4 127)\">\r\n",
       "<title>%3</title>\r\n",
       "<polygon fill=\"white\" stroke=\"none\" points=\"-4,4 -4,-127 130,-127 130,4 -4,4\"/>\r\n",
       "<!-- A -->\r\n",
       "<g id=\"node1\" class=\"node\"><title>A</title>\r\n",
       "<ellipse fill=\"none\" stroke=\"black\" cx=\"63\" cy=\"-105\" rx=\"27\" ry=\"18\"/>\r\n",
       "<text text-anchor=\"middle\" x=\"63\" y=\"-101.3\" font-family=\"Times New Roman,serif\" font-size=\"14.00\">nom</text>\r\n",
       "</g>\r\n",
       "<!-- Ag -->\r\n",
       "<g id=\"node2\" class=\"node\"><title>Ag</title>\r\n",
       "<polygon fill=\"none\" stroke=\"black\" points=\"54,-36 0,-36 0,-0 54,-0 54,-36\"/>\r\n",
       "<text text-anchor=\"middle\" x=\"27\" y=\"-14.3\" font-family=\"Times New Roman,serif\" font-size=\"14.00\">1</text>\r\n",
       "</g>\r\n",
       "<!-- A&#45;&gt;Ag -->\r\n",
       "<g id=\"edge1\" class=\"edge\"><title>A&#45;&gt;Ag</title>\r\n",
       "<path fill=\"none\" stroke=\"black\" d=\"M49.171,-89.3516C44.2998,-83.4397 39.2368,-76.2955 36,-69 32.8522,-61.9053 30.8051,-53.78 29.4738,-46.171\"/>\r\n",
       "<polygon fill=\"black\" stroke=\"black\" points=\"32.9377,-45.6687 28.0661,-36.2603 26.0073,-46.6532 32.9377,-45.6687\"/>\r\n",
       "<text text-anchor=\"middle\" x=\"56.5\" y=\"-57.8\" font-family=\"Times New Roman,serif\" font-size=\"14.00\">&lt;=42.0</text>\r\n",
       "</g>\r\n",
       "<!-- Ad -->\r\n",
       "<g id=\"node3\" class=\"node\"><title>Ad</title>\r\n",
       "<polygon fill=\"none\" stroke=\"black\" points=\"126,-36 72,-36 72,-0 126,-0 126,-36\"/>\r\n",
       "<text text-anchor=\"middle\" x=\"99\" y=\"-14.3\" font-family=\"Times New Roman,serif\" font-size=\"14.00\">2</text>\r\n",
       "</g>\r\n",
       "<!-- A&#45;&gt;Ad -->\r\n",
       "<g id=\"edge2\" class=\"edge\"><title>A&#45;&gt;Ad</title>\r\n",
       "<path fill=\"none\" stroke=\"black\" d=\"M70.1124,-87.2067C75.1581,-75.2934 82.032,-59.0634 87.8086,-45.4242\"/>\r\n",
       "<polygon fill=\"black\" stroke=\"black\" points=\"91.102,-46.6225 91.7791,-36.0493 84.6563,-43.8925 91.102,-46.6225\"/>\r\n",
       "<text text-anchor=\"middle\" x=\"99.5\" y=\"-57.8\" font-family=\"Times New Roman,serif\" font-size=\"14.00\">&gt;42.0</text>\r\n",
       "</g>\r\n",
       "</g>\r\n",
       "</svg>\r\n"
      ],
      "text/plain": [
       "<graphviz.dot.Digraph at 0x2014d8139e8>"
      ]
     },
     "execution_count": 27,
     "metadata": {},
     "output_type": "execute_result"
    }
   ],
   "source": [
    "# Exemple d'utilisation: \n",
    "un_arbre= ArbreBinaire()\n",
    "un_arbre.ajoute_feuille(1)\n",
    "print(un_arbre.est_feuille())\n",
    "un_arbre1 = ArbreBinaire()\n",
    "un_arbre1.ajoute_feuille(2)\n",
    "un_arbre2 = ArbreBinaire()\n",
    "un_arbre2.ajoute_fils(un_arbre,un_arbre1,\"nom\",42.0)\n",
    "\n",
    "gtree = gv.Digraph(format='png')\n",
    "un_arbre2.to_graph(gtree)"
   ]
  },
  {
   "cell_type": "markdown",
   "metadata": {},
   "source": [
    "### Construction de l'arbre de décision"
   ]
  },
  {
   "cell_type": "markdown",
   "metadata": {},
   "source": [
    "Pour construire un arbre de décision, il faut réaliser les étapes suivantes:\n",
    "- si l'entropie de Shannon de la distribution des classes de l'ensemble courant est inférieure(ou egale) à epsilon (réel positif fixé et qui est un paramètre de l'algorithme), alors construire une feuille avec cet ensemble, la classe associée à cette feuille est la classe majoritaire;\n",
    "- sinon, pour chaque attribut, calculer le seuil de discrétisation et l'entropie de Shannon correspondante\n",
    "    - choisir l'attribut qui donne une valeur d'entropie minimale\n",
    "    - l'attribut choisi sert à constituer un noeud de l'arbre de décision, les arcs issus de ce noeud sont labeller par un test (inférieur ou égal ou supérieur) par rapport au seuil trouvé\n",
    "    \n",
    "    \n",
    "<font color=\"RED\" size=\"+1\">**[Q]**</font> Ecrire la fonction qui construit un arbre de décision (binaire) à partir d'une base d'exemples. En plus de la base d'exemples, on utilise un argument \"epsilon\" qui est un réel >0 et qui sert pour le critère d'arrêt.\n",
    "Cette fonction a la spécification suivante:\n",
    "\n",
    "    def construit_AD(LSet,epsilon):\n",
    "        \"\"\" LSet : LabeledSet\n",
    "            epsilon : seuil d'entropie pour le critère d'arrêt \n",
    "        \"\"\"\n"
   ]
  },
  {
   "cell_type": "code",
   "execution_count": 28,
   "metadata": {},
   "outputs": [],
   "source": [
    "def construit_AD(LSet, epsilon):\n",
    "    \"\"\" LSet : LabeledSet\n",
    "        epsilon : seuil d'entropie pour le critère d'arrêt \n",
    "    \"\"\"\n",
    "    if entropie(LSet) <= epsilon:\n",
    "        feuille = ArbreBinaire()\n",
    "        feuille.ajoute_feuille(classe_majoritaire(LSet))\n",
    "        return feuille\n",
    "    taille = LSet.getInputDimension()\n",
    "    entro = 1.1     \n",
    "    seuil = None\n",
    "    att = None\n",
    "    for col in range(taille): \n",
    "        se_test, ent_test = discretise(LSet, col)\n",
    "        if entro > ent_test:\n",
    "            att = col\n",
    "            entro = ent_test\n",
    "            seuil = se_test\n",
    "    noeud = ArbreBinaire()\n",
    "    LSGauche, LSDroite = divise(LSet, att, seuil)   \n",
    "    ADGauche = construit_AD(LSGauche, epsilon)\n",
    "    ADDroite = construit_AD(LSDroite, epsilon)\n",
    "    noeud.ajoute_fils(ADGauche, ADDroite, att, seuil)\n",
    "    return noeud\n",
    "    "
   ]
  },
  {
   "cell_type": "code",
   "execution_count": 29,
   "metadata": {},
   "outputs": [
    {
     "data": {
      "image/svg+xml": [
       "<?xml version=\"1.0\" encoding=\"UTF-8\" standalone=\"no\"?>\r\n",
       "<!DOCTYPE svg PUBLIC \"-//W3C//DTD SVG 1.1//EN\"\r\n",
       " \"http://www.w3.org/Graphics/SVG/1.1/DTD/svg11.dtd\">\r\n",
       "<!-- Generated by graphviz version 2.38.0 (20140413.2041)\r\n",
       " -->\r\n",
       "<!-- Title: %3 Pages: 1 -->\r\n",
       "<svg width=\"345pt\" height=\"131pt\"\r\n",
       " viewBox=\"0.00 0.00 345.00 131.00\" xmlns=\"http://www.w3.org/2000/svg\" xmlns:xlink=\"http://www.w3.org/1999/xlink\">\r\n",
       "<g id=\"graph0\" class=\"graph\" transform=\"scale(1 1) rotate(0) translate(4 127)\">\r\n",
       "<title>%3</title>\r\n",
       "<polygon fill=\"white\" stroke=\"none\" points=\"-4,4 -4,-127 341,-127 341,4 -4,4\"/>\r\n",
       "<!-- A -->\r\n",
       "<g id=\"node1\" class=\"node\"><title>A</title>\r\n",
       "<ellipse fill=\"none\" stroke=\"black\" cx=\"115\" cy=\"-105\" rx=\"27\" ry=\"18\"/>\r\n",
       "<text text-anchor=\"middle\" x=\"115\" y=\"-101.3\" font-family=\"Times New Roman,serif\" font-size=\"14.00\">0</text>\r\n",
       "</g>\r\n",
       "<!-- Ag -->\r\n",
       "<g id=\"node2\" class=\"node\"><title>Ag</title>\r\n",
       "<polygon fill=\"none\" stroke=\"black\" points=\"54,-36 0,-36 0,-0 54,-0 54,-36\"/>\r\n",
       "<text text-anchor=\"middle\" x=\"27\" y=\"-14.3\" font-family=\"Times New Roman,serif\" font-size=\"14.00\">&#45;1</text>\r\n",
       "</g>\r\n",
       "<!-- A&#45;&gt;Ag -->\r\n",
       "<g id=\"edge1\" class=\"edge\"><title>A&#45;&gt;Ag</title>\r\n",
       "<path fill=\"none\" stroke=\"black\" d=\"M88.5084,-101.08C68.2635,-97.3129 41.5952,-88.696 28,-69 23.4732,-62.4419 22.0638,-54.1594 22.1183,-46.2319\"/>\r\n",
       "<polygon fill=\"black\" stroke=\"black\" points=\"25.6134,-46.4297 22.8942,-36.1898 18.6342,-45.8904 25.6134,-46.4297\"/>\r\n",
       "<text text-anchor=\"middle\" x=\"105\" y=\"-57.8\" font-family=\"Times New Roman,serif\" font-size=\"14.00\">&lt;=&#45;0.058158480416154124</text>\r\n",
       "</g>\r\n",
       "<!-- Ad -->\r\n",
       "<g id=\"node3\" class=\"node\"><title>Ad</title>\r\n",
       "<polygon fill=\"none\" stroke=\"black\" points=\"231,-36 177,-36 177,-0 231,-0 231,-36\"/>\r\n",
       "<text text-anchor=\"middle\" x=\"204\" y=\"-14.3\" font-family=\"Times New Roman,serif\" font-size=\"14.00\">1</text>\r\n",
       "</g>\r\n",
       "<!-- A&#45;&gt;Ad -->\r\n",
       "<g id=\"edge2\" class=\"edge\"><title>A&#45;&gt;Ad</title>\r\n",
       "<path fill=\"none\" stroke=\"black\" d=\"M138.602,-96.2252C152.724,-90.562 170.167,-81.6519 182,-69 188.079,-62.4999 192.658,-54.0465 196.019,-45.9453\"/>\r\n",
       "<polygon fill=\"black\" stroke=\"black\" points=\"199.365,-46.9867 199.534,-36.3932 192.796,-44.5691 199.365,-46.9867\"/>\r\n",
       "<text text-anchor=\"middle\" x=\"264.5\" y=\"-57.8\" font-family=\"Times New Roman,serif\" font-size=\"14.00\">&gt;&#45;0.058158480416154124</text>\r\n",
       "</g>\r\n",
       "</g>\r\n",
       "</svg>\r\n"
      ],
      "text/plain": [
       "<graphviz.dot.Digraph at 0x2014d813358>"
      ]
     },
     "execution_count": 29,
     "metadata": {},
     "output_type": "execute_result"
    }
   ],
   "source": [
    "#test de l'affichage \n",
    "abin = construit_AD(the_set,0.0)\n",
    "gtree = gv.Digraph(format='png')\n",
    "abin.to_graph(gtree)"
   ]
  },
  {
   "cell_type": "markdown",
   "metadata": {},
   "source": [
    "### Classification avec arbre de décision\n"
   ]
  },
  {
   "cell_type": "markdown",
   "metadata": {},
   "source": [
    "Pour classer un nouvel exemple avec un arbre de décision, il faut parcourir l'arbre, de la racine vers une feuille en respectant les tests rencontrés dans chaque arc. Une fois atteint une feuille, la classe de l'exemple est celle présente dans la feuille.\n",
    "\n",
    "La classe ArbreBinaire contient déjà une fonction <code>classifie</code> qui permet de classer un nouvel exemple et de renvoyer la classe +1 ou -1 selon le cas."
   ]
  },
  {
   "cell_type": "markdown",
   "metadata": {},
   "source": [
    "### Implémentation"
   ]
  },
  {
   "cell_type": "markdown",
   "metadata": {},
   "source": [
    "On définit le classifieur <code>ArbreDecision</code> comme suit.\n",
    "\n",
    "Si toutes les fonctions précédentes ont été écrites correctement, il est maintenant possible de construire un arbre de décision à partir de la base jouet.\n"
   ]
  },
  {
   "cell_type": "markdown",
   "metadata": {},
   "source": [
    "## Applications à des données réelles"
   ]
  },
  {
   "cell_type": "code",
   "execution_count": 30,
   "metadata": {},
   "outputs": [],
   "source": [
    "class ArbreDecision(cl.Classifier):\n",
    "    # Constructeur\n",
    "    def __init__(self,epsilon):\n",
    "        # valeur seuil d'entropie pour arrêter la construction\n",
    "        self.epsilon= epsilon\n",
    "        self.racine = None\n",
    "    \n",
    "    # Permet de calculer la prediction sur x => renvoie un score\n",
    "    def predict(self,x):\n",
    "        # classification de l'exemple x avec l'arbre de décision\n",
    "        # on rend 0 (classe -1) ou 1 (classe 1)\n",
    "        classe = self.racine.classifie(x)\n",
    "        if (classe == 1):\n",
    "            return(1)\n",
    "        else:\n",
    "            return(-1)\n",
    "    \n",
    "    # Permet d'entrainer le modele sur un ensemble de données\n",
    "    def train(self,set):\n",
    "        # construction de l'arbre de décision \n",
    "        self.set=set\n",
    "        self.racine = construit_AD(set,self.epsilon)\n",
    "\n",
    "    # Permet d'afficher l'arbre\n",
    "    def plot(self):\n",
    "        gtree = gv.Digraph(format='png')\n",
    "        return self.racine.to_graph(gtree)\n",
    "        "
   ]
  },
  {
   "cell_type": "code",
   "execution_count": 31,
   "metadata": {},
   "outputs": [
    {
     "data": {
      "image/png": "[encoded data removed]",
      "text/plain": [
       "<Figure size 432x288 with 1 Axes>"
      ]
     },
     "metadata": {
      "needs_background": "light"
     },
     "output_type": "display_data"
    }
   ],
   "source": [
    "# un exemple d'utilisation:\n",
    "ad=ArbreDecision(0.0)          # initialiation d'un arbre binaire qui utilisera epsilon= 0.0\n",
    "ad.train(the_set)              # construction de l'arbre à partir de la base jouet\n",
    "ut.plot_frontiere(the_set,ad,20)  # tracé graphique de la frontière de décision\n",
    "ut.plot2DSet(the_set) "
   ]
  },
  {
   "cell_type": "code",
   "execution_count": 32,
   "metadata": {},
   "outputs": [
    {
     "data": {
      "image/svg+xml": [
       "<?xml version=\"1.0\" encoding=\"UTF-8\" standalone=\"no\"?>\r\n",
       "<!DOCTYPE svg PUBLIC \"-//W3C//DTD SVG 1.1//EN\"\r\n",
       " \"http://www.w3.org/Graphics/SVG/1.1/DTD/svg11.dtd\">\r\n",
       "<!-- Generated by graphviz version 2.38.0 (20140413.2041)\r\n",
       " -->\r\n",
       "<!-- Title: %3 Pages: 1 -->\r\n",
       "<svg width=\"345pt\" height=\"131pt\"\r\n",
       " viewBox=\"0.00 0.00 345.00 131.00\" xmlns=\"http://www.w3.org/2000/svg\" xmlns:xlink=\"http://www.w3.org/1999/xlink\">\r\n",
       "<g id=\"graph0\" class=\"graph\" transform=\"scale(1 1) rotate(0) translate(4 127)\">\r\n",
       "<title>%3</title>\r\n",
       "<polygon fill=\"white\" stroke=\"none\" points=\"-4,4 -4,-127 341,-127 341,4 -4,4\"/>\r\n",
       "<!-- A -->\r\n",
       "<g id=\"node1\" class=\"node\"><title>A</title>\r\n",
       "<ellipse fill=\"none\" stroke=\"black\" cx=\"115\" cy=\"-105\" rx=\"27\" ry=\"18\"/>\r\n",
       "<text text-anchor=\"middle\" x=\"115\" y=\"-101.3\" font-family=\"Times New Roman,serif\" font-size=\"14.00\">0</text>\r\n",
       "</g>\r\n",
       "<!-- Ag -->\r\n",
       "<g id=\"node2\" class=\"node\"><title>Ag</title>\r\n",
       "<polygon fill=\"none\" stroke=\"black\" points=\"54,-36 0,-36 0,-0 54,-0 54,-36\"/>\r\n",
       "<text text-anchor=\"middle\" x=\"27\" y=\"-14.3\" font-family=\"Times New Roman,serif\" font-size=\"14.00\">&#45;1</text>\r\n",
       "</g>\r\n",
       "<!-- A&#45;&gt;Ag -->\r\n",
       "<g id=\"edge1\" class=\"edge\"><title>A&#45;&gt;Ag</title>\r\n",
       "<path fill=\"none\" stroke=\"black\" d=\"M88.5084,-101.08C68.2635,-97.3129 41.5952,-88.696 28,-69 23.4732,-62.4419 22.0638,-54.1594 22.1183,-46.2319\"/>\r\n",
       "<polygon fill=\"black\" stroke=\"black\" points=\"25.6134,-46.4297 22.8942,-36.1898 18.6342,-45.8904 25.6134,-46.4297\"/>\r\n",
       "<text text-anchor=\"middle\" x=\"105\" y=\"-57.8\" font-family=\"Times New Roman,serif\" font-size=\"14.00\">&lt;=&#45;0.058158480416154124</text>\r\n",
       "</g>\r\n",
       "<!-- Ad -->\r\n",
       "<g id=\"node3\" class=\"node\"><title>Ad</title>\r\n",
       "<polygon fill=\"none\" stroke=\"black\" points=\"231,-36 177,-36 177,-0 231,-0 231,-36\"/>\r\n",
       "<text text-anchor=\"middle\" x=\"204\" y=\"-14.3\" font-family=\"Times New Roman,serif\" font-size=\"14.00\">1</text>\r\n",
       "</g>\r\n",
       "<!-- A&#45;&gt;Ad -->\r\n",
       "<g id=\"edge2\" class=\"edge\"><title>A&#45;&gt;Ad</title>\r\n",
       "<path fill=\"none\" stroke=\"black\" d=\"M138.602,-96.2252C152.724,-90.562 170.167,-81.6519 182,-69 188.079,-62.4999 192.658,-54.0465 196.019,-45.9453\"/>\r\n",
       "<polygon fill=\"black\" stroke=\"black\" points=\"199.365,-46.9867 199.534,-36.3932 192.796,-44.5691 199.365,-46.9867\"/>\r\n",
       "<text text-anchor=\"middle\" x=\"264.5\" y=\"-57.8\" font-family=\"Times New Roman,serif\" font-size=\"14.00\">&gt;&#45;0.058158480416154124</text>\r\n",
       "</g>\r\n",
       "</g>\r\n",
       "</svg>\r\n"
      ],
      "text/plain": [
       "<graphviz.dot.Digraph at 0x2014d805e80>"
      ]
     },
     "execution_count": 32,
     "metadata": {},
     "output_type": "execute_result"
    }
   ],
   "source": [
    "ad.plot()"
   ]
  },
  {
   "cell_type": "markdown",
   "metadata": {},
   "source": [
    "<font color=\"RED\" size=\"+1\">**[Q]**</font> Appliquer l'algorithme des arbres de décision à des données réelles (par exemple, celles utilisées avec les k-nn) et comparer les résultats obtenus par les 2 algorithmes.\n",
    "\n",
    "Un autre exemple d'utilisation sur une base plus grande:"
   ]
  },
  {
   "cell_type": "code",
   "execution_count": 33,
   "metadata": {
    "scrolled": true
   },
   "outputs": [
    {
     "name": "stdout",
     "output_type": "stream",
     "text": [
      "Taille de la base générée : 200 exemples\n"
     ]
    },
    {
     "data": {
      "image/png": "[encoded data removed]",
      "text/plain": [
       "<Figure size 432x288 with 1 Axes>"
      ]
     },
     "metadata": {
      "needs_background": "light"
     },
     "output_type": "display_data"
    }
   ],
   "source": [
    "autre_set=ut.createGaussianDataset(np.array([1,1]),np.array([[1,0],[0,1]]),np.array([-1,-1]),np.array([[1,0],[0,1]]),100)\n",
    "print(\"Taille de la base générée :\", autre_set.size(), \"exemples\")\n",
    "adautre=ArbreDecision(0.0)          \n",
    "adautre.train(autre_set)            \n",
    "ut.plot_frontiere(autre_set,adautre,20)\n",
    "ut.plot2DSet(autre_set) "
   ]
  },
  {
   "cell_type": "code",
   "execution_count": 34,
   "metadata": {},
   "outputs": [
    {
     "data": {
      "image/svg+xml": [
       "<?xml version=\"1.0\" encoding=\"UTF-8\" standalone=\"no\"?>\r\n",
       "<!DOCTYPE svg PUBLIC \"-//W3C//DTD SVG 1.1//EN\"\r\n",
       " \"http://www.w3.org/Graphics/SVG/1.1/DTD/svg11.dtd\">\r\n",
       "<!-- Generated by graphviz version 2.38.0 (20140413.2041)\r\n",
       " -->\r\n",
       "<!-- Title: %3 Pages: 1 -->\r\n",
       "<svg width=\"1462pt\" height=\"914pt\"\r\n",
       " viewBox=\"0.00 0.00 1462.00 914.00\" xmlns=\"http://www.w3.org/2000/svg\" xmlns:xlink=\"http://www.w3.org/1999/xlink\">\r\n",
       "<g id=\"graph0\" class=\"graph\" transform=\"scale(1 1) rotate(0) translate(4 910)\">\r\n",
       "<title>%3</title>\r\n",
       "<polygon fill=\"white\" stroke=\"none\" points=\"-4,4 -4,-910 1458,-910 1458,4 -4,4\"/>\r\n",
       "<!-- A -->\r\n",
       "<g id=\"node1\" class=\"node\"><title>A</title>\r\n",
       "<ellipse fill=\"none\" stroke=\"black\" cx=\"522\" cy=\"-888\" rx=\"27\" ry=\"18\"/>\r\n",
       "<text text-anchor=\"middle\" x=\"522\" y=\"-884.3\" font-family=\"Times New Roman,serif\" font-size=\"14.00\">0</text>\r\n",
       "</g>\r\n",
       "<!-- Ag -->\r\n",
       "<g id=\"node2\" class=\"node\"><title>Ag</title>\r\n",
       "<ellipse fill=\"none\" stroke=\"black\" cx=\"421\" cy=\"-801\" rx=\"27\" ry=\"18\"/>\r\n",
       "<text text-anchor=\"middle\" x=\"421\" y=\"-797.3\" font-family=\"Times New Roman,serif\" font-size=\"14.00\">1</text>\r\n",
       "</g>\r\n",
       "<!-- A&#45;&gt;Ag -->\r\n",
       "<g id=\"edge51\" class=\"edge\"><title>A&#45;&gt;Ag</title>\r\n",
       "<path fill=\"none\" stroke=\"black\" d=\"M496.784,-881.266C479.425,-876.168 456.896,-867.118 442,-852 435.705,-845.611 431.187,-837.053 427.995,-828.825\"/>\r\n",
       "<polygon fill=\"black\" stroke=\"black\" points=\"431.236,-827.482 424.729,-819.121 424.601,-829.715 431.236,-827.482\"/>\r\n",
       "<text text-anchor=\"middle\" x=\"515.5\" y=\"-840.8\" font-family=\"Times New Roman,serif\" font-size=\"14.00\">&lt;=&#45;0.14191544008388168</text>\r\n",
       "</g>\r\n",
       "<!-- Ad -->\r\n",
       "<g id=\"node19\" class=\"node\"><title>Ad</title>\r\n",
       "<ellipse fill=\"none\" stroke=\"black\" cx=\"638\" cy=\"-801\" rx=\"27\" ry=\"18\"/>\r\n",
       "<text text-anchor=\"middle\" x=\"638\" y=\"-797.3\" font-family=\"Times New Roman,serif\" font-size=\"14.00\">1</text>\r\n",
       "</g>\r\n",
       "<!-- A&#45;&gt;Ad -->\r\n",
       "<g id=\"edge52\" class=\"edge\"><title>A&#45;&gt;Ad</title>\r\n",
       "<path fill=\"none\" stroke=\"black\" d=\"M544.139,-877.586C557.711,-871.306 575.089,-862.324 589,-852 599.568,-844.157 609.963,-834.003 618.44,-824.897\"/>\r\n",
       "<polygon fill=\"black\" stroke=\"black\" points=\"621.244,-827.014 625.352,-817.248 616.05,-822.321 621.244,-827.014\"/>\r\n",
       "<text text-anchor=\"middle\" x=\"676.5\" y=\"-840.8\" font-family=\"Times New Roman,serif\" font-size=\"14.00\">&gt;&#45;0.14191544008388168</text>\r\n",
       "</g>\r\n",
       "<!-- Agg -->\r\n",
       "<g id=\"node3\" class=\"node\"><title>Agg</title>\r\n",
       "<polygon fill=\"none\" stroke=\"black\" points=\"278,-732 224,-732 224,-696 278,-696 278,-732\"/>\r\n",
       "<text text-anchor=\"middle\" x=\"251\" y=\"-710.3\" font-family=\"Times New Roman,serif\" font-size=\"14.00\">&#45;1</text>\r\n",
       "</g>\r\n",
       "<!-- Ag&#45;&gt;Agg -->\r\n",
       "<g id=\"edge15\" class=\"edge\"><title>Ag&#45;&gt;Agg</title>\r\n",
       "<path fill=\"none\" stroke=\"black\" d=\"M394.025,-798.576C350.089,-795.631 266.14,-787.178 248,-765 242.813,-758.658 241.85,-750.211 242.705,-742.069\"/>\r\n",
       "<polygon fill=\"black\" stroke=\"black\" points=\"246.171,-742.572 244.579,-732.098 239.292,-741.279 246.171,-742.572\"/>\r\n",
       "<text text-anchor=\"middle\" x=\"321.5\" y=\"-753.8\" font-family=\"Times New Roman,serif\" font-size=\"14.00\">&lt;=&#45;0.27487286519053467</text>\r\n",
       "</g>\r\n",
       "<!-- Agd -->\r\n",
       "<g id=\"node4\" class=\"node\"><title>Agd</title>\r\n",
       "<ellipse fill=\"none\" stroke=\"black\" cx=\"372\" cy=\"-714\" rx=\"27\" ry=\"18\"/>\r\n",
       "<text text-anchor=\"middle\" x=\"372\" y=\"-710.3\" font-family=\"Times New Roman,serif\" font-size=\"14.00\">0</text>\r\n",
       "</g>\r\n",
       "<!-- Ag&#45;&gt;Agd -->\r\n",
       "<g id=\"edge16\" class=\"edge\"><title>Ag&#45;&gt;Agd</title>\r\n",
       "<path fill=\"none\" stroke=\"black\" d=\"M414.832,-783.29C410.869,-773.329 405.294,-760.601 399,-750 396.644,-746.032 393.906,-741.998 391.094,-738.147\"/>\r\n",
       "<polygon fill=\"black\" stroke=\"black\" points=\"393.799,-735.922 384.943,-730.106 388.239,-740.175 393.799,-735.922\"/>\r\n",
       "<text text-anchor=\"middle\" x=\"476.5\" y=\"-753.8\" font-family=\"Times New Roman,serif\" font-size=\"14.00\">&gt;&#45;0.27487286519053467</text>\r\n",
       "</g>\r\n",
       "<!-- Agdg -->\r\n",
       "<g id=\"node5\" class=\"node\"><title>Agdg</title>\r\n",
       "<polygon fill=\"none\" stroke=\"black\" points=\"243,-645 189,-645 189,-609 243,-609 243,-645\"/>\r\n",
       "<text text-anchor=\"middle\" x=\"216\" y=\"-623.3\" font-family=\"Times New Roman,serif\" font-size=\"14.00\">&#45;1</text>\r\n",
       "</g>\r\n",
       "<!-- Agd&#45;&gt;Agdg -->\r\n",
       "<g id=\"edge13\" class=\"edge\"><title>Agd&#45;&gt;Agdg</title>\r\n",
       "<path fill=\"none\" stroke=\"black\" d=\"M346.27,-707.905C308.435,-700.207 241.347,-685.696 233,-678 226.483,-671.991 222.463,-663.388 219.985,-655.009\"/>\r\n",
       "<polygon fill=\"black\" stroke=\"black\" points=\"223.349,-654.026 217.661,-645.088 216.534,-655.622 223.349,-654.026\"/>\r\n",
       "<text text-anchor=\"middle\" x=\"299.5\" y=\"-666.8\" font-family=\"Times New Roman,serif\" font-size=\"14.00\">&lt;=&#45;0.950275011417395</text>\r\n",
       "</g>\r\n",
       "<!-- Agdd -->\r\n",
       "<g id=\"node6\" class=\"node\"><title>Agdd</title>\r\n",
       "<ellipse fill=\"none\" stroke=\"black\" cx=\"368\" cy=\"-627\" rx=\"27\" ry=\"18\"/>\r\n",
       "<text text-anchor=\"middle\" x=\"368\" y=\"-623.3\" font-family=\"Times New Roman,serif\" font-size=\"14.00\">1</text>\r\n",
       "</g>\r\n",
       "<!-- Agd&#45;&gt;Agdd -->\r\n",
       "<g id=\"edge14\" class=\"edge\"><title>Agd&#45;&gt;Agdd</title>\r\n",
       "<path fill=\"none\" stroke=\"black\" d=\"M371.191,-695.799C370.643,-684.163 369.908,-668.548 369.282,-655.237\"/>\r\n",
       "<polygon fill=\"black\" stroke=\"black\" points=\"372.775,-655 368.808,-645.175 365.782,-655.329 372.775,-655\"/>\r\n",
       "<text text-anchor=\"middle\" x=\"433.5\" y=\"-666.8\" font-family=\"Times New Roman,serif\" font-size=\"14.00\">&gt;&#45;0.950275011417395</text>\r\n",
       "</g>\r\n",
       "<!-- Agddg -->\r\n",
       "<g id=\"node7\" class=\"node\"><title>Agddg</title>\r\n",
       "<ellipse fill=\"none\" stroke=\"black\" cx=\"200\" cy=\"-540\" rx=\"27\" ry=\"18\"/>\r\n",
       "<text text-anchor=\"middle\" x=\"200\" y=\"-536.3\" font-family=\"Times New Roman,serif\" font-size=\"14.00\">0</text>\r\n",
       "</g>\r\n",
       "<!-- Agdd&#45;&gt;Agddg -->\r\n",
       "<g id=\"edge11\" class=\"edge\"><title>Agdd&#45;&gt;Agddg</title>\r\n",
       "<path fill=\"none\" stroke=\"black\" d=\"M341.055,-625.464C310.69,-623.561 261.241,-616.409 228,-591 219.989,-584.877 213.933,-575.766 209.539,-566.992\"/>\r\n",
       "<polygon fill=\"black\" stroke=\"black\" points=\"212.689,-565.461 205.41,-557.762 206.299,-568.319 212.689,-565.461\"/>\r\n",
       "<text text-anchor=\"middle\" x=\"296\" y=\"-579.8\" font-family=\"Times New Roman,serif\" font-size=\"14.00\">&lt;=1.0599403177828652</text>\r\n",
       "</g>\r\n",
       "<!-- Agddd -->\r\n",
       "<g id=\"node18\" class=\"node\"><title>Agddd</title>\r\n",
       "<polygon fill=\"none\" stroke=\"black\" points=\"395,-558 341,-558 341,-522 395,-522 395,-558\"/>\r\n",
       "<text text-anchor=\"middle\" x=\"368\" y=\"-536.3\" font-family=\"Times New Roman,serif\" font-size=\"14.00\">1</text>\r\n",
       "</g>\r\n",
       "<!-- Agdd&#45;&gt;Agddd -->\r\n",
       "<g id=\"edge12\" class=\"edge\"><title>Agdd&#45;&gt;Agddd</title>\r\n",
       "<path fill=\"none\" stroke=\"black\" d=\"M368,-608.799C368,-597.163 368,-581.548 368,-568.237\"/>\r\n",
       "<polygon fill=\"black\" stroke=\"black\" points=\"371.5,-568.175 368,-558.175 364.5,-568.175 371.5,-568.175\"/>\r\n",
       "<text text-anchor=\"middle\" x=\"431.5\" y=\"-579.8\" font-family=\"Times New Roman,serif\" font-size=\"14.00\">&gt;1.0599403177828652</text>\r\n",
       "</g>\r\n",
       "<!-- Agddgg -->\r\n",
       "<g id=\"node8\" class=\"node\"><title>Agddgg</title>\r\n",
       "<polygon fill=\"none\" stroke=\"black\" points=\"64,-471 10,-471 10,-435 64,-435 64,-471\"/>\r\n",
       "<text text-anchor=\"middle\" x=\"37\" y=\"-449.3\" font-family=\"Times New Roman,serif\" font-size=\"14.00\">1</text>\r\n",
       "</g>\r\n",
       "<!-- Agddg&#45;&gt;Agddgg -->\r\n",
       "<g id=\"edge9\" class=\"edge\"><title>Agddg&#45;&gt;Agddgg</title>\r\n",
       "<path fill=\"none\" stroke=\"black\" d=\"M172.988,-539.595C141.224,-538.843 88.6977,-532.854 56,-504 49.1939,-497.994 44.8153,-489.285 42.0026,-480.812\"/>\r\n",
       "<polygon fill=\"black\" stroke=\"black\" points=\"45.3758,-479.878 39.3685,-471.151 38.6224,-481.72 45.3758,-479.878\"/>\r\n",
       "<text text-anchor=\"middle\" x=\"126\" y=\"-492.8\" font-family=\"Times New Roman,serif\" font-size=\"14.00\">&lt;=&#45;0.7836550367763248</text>\r\n",
       "</g>\r\n",
       "<!-- Agddgd -->\r\n",
       "<g id=\"node9\" class=\"node\"><title>Agddgd</title>\r\n",
       "<ellipse fill=\"none\" stroke=\"black\" cx=\"200\" cy=\"-453\" rx=\"27\" ry=\"18\"/>\r\n",
       "<text text-anchor=\"middle\" x=\"200\" y=\"-449.3\" font-family=\"Times New Roman,serif\" font-size=\"14.00\">0</text>\r\n",
       "</g>\r\n",
       "<!-- Agddg&#45;&gt;Agddgd -->\r\n",
       "<g id=\"edge10\" class=\"edge\"><title>Agddg&#45;&gt;Agddgd</title>\r\n",
       "<path fill=\"none\" stroke=\"black\" d=\"M200,-521.799C200,-510.163 200,-494.548 200,-481.237\"/>\r\n",
       "<polygon fill=\"black\" stroke=\"black\" points=\"203.5,-481.175 200,-471.175 196.5,-481.175 203.5,-481.175\"/>\r\n",
       "<text text-anchor=\"middle\" x=\"266\" y=\"-492.8\" font-family=\"Times New Roman,serif\" font-size=\"14.00\">&gt;&#45;0.7836550367763248</text>\r\n",
       "</g>\r\n",
       "<!-- Agddgdg -->\r\n",
       "<g id=\"node10\" class=\"node\"><title>Agddgdg</title>\r\n",
       "<polygon fill=\"none\" stroke=\"black\" points=\"64,-384 10,-384 10,-348 64,-348 64,-384\"/>\r\n",
       "<text text-anchor=\"middle\" x=\"37\" y=\"-362.3\" font-family=\"Times New Roman,serif\" font-size=\"14.00\">&#45;1</text>\r\n",
       "</g>\r\n",
       "<!-- Agddgd&#45;&gt;Agddgdg -->\r\n",
       "<g id=\"edge7\" class=\"edge\"><title>Agddgd&#45;&gt;Agddgdg</title>\r\n",
       "<path fill=\"none\" stroke=\"black\" d=\"M172.999,-452.755C140.963,-452.182 87.775,-446.393 55,-417 48.359,-411.044 44.1668,-402.455 41.521,-394.071\"/>\r\n",
       "<polygon fill=\"black\" stroke=\"black\" points=\"44.8523,-392.969 38.9999,-384.137 38.0674,-394.691 44.8523,-392.969\"/>\r\n",
       "<text text-anchor=\"middle\" x=\"125\" y=\"-405.8\" font-family=\"Times New Roman,serif\" font-size=\"14.00\">&lt;=&#45;0.6605852911659384</text>\r\n",
       "</g>\r\n",
       "<!-- Agddgdd -->\r\n",
       "<g id=\"node11\" class=\"node\"><title>Agddgdd</title>\r\n",
       "<ellipse fill=\"none\" stroke=\"black\" cx=\"198\" cy=\"-366\" rx=\"27\" ry=\"18\"/>\r\n",
       "<text text-anchor=\"middle\" x=\"198\" y=\"-362.3\" font-family=\"Times New Roman,serif\" font-size=\"14.00\">1</text>\r\n",
       "</g>\r\n",
       "<!-- Agddgd&#45;&gt;Agddgdd -->\r\n",
       "<g id=\"edge8\" class=\"edge\"><title>Agddgd&#45;&gt;Agddgdd</title>\r\n",
       "<path fill=\"none\" stroke=\"black\" d=\"M199.595,-434.799C199.321,-423.163 198.954,-407.548 198.641,-394.237\"/>\r\n",
       "<polygon fill=\"black\" stroke=\"black\" points=\"202.138,-394.09 198.404,-384.175 195.14,-394.255 202.138,-394.09\"/>\r\n",
       "<text text-anchor=\"middle\" x=\"266\" y=\"-405.8\" font-family=\"Times New Roman,serif\" font-size=\"14.00\">&gt;&#45;0.6605852911659384</text>\r\n",
       "</g>\r\n",
       "<!-- Agddgddg -->\r\n",
       "<g id=\"node12\" class=\"node\"><title>Agddgddg</title>\r\n",
       "<polygon fill=\"none\" stroke=\"black\" points=\"66,-297 12,-297 12,-261 66,-261 66,-297\"/>\r\n",
       "<text text-anchor=\"middle\" x=\"39\" y=\"-275.3\" font-family=\"Times New Roman,serif\" font-size=\"14.00\">1</text>\r\n",
       "</g>\r\n",
       "<!-- Agddgdd&#45;&gt;Agddgddg -->\r\n",
       "<g id=\"edge5\" class=\"edge\"><title>Agddgdd&#45;&gt;Agddgddg</title>\r\n",
       "<path fill=\"none\" stroke=\"black\" d=\"M170.899,-365.345C139.927,-364.291 89.4677,-357.953 58,-330 51.2136,-323.972 46.8396,-315.257 44.0252,-306.787\"/>\r\n",
       "<polygon fill=\"black\" stroke=\"black\" points=\"47.3989,-305.854 41.3866,-297.131 40.6464,-307.7 47.3989,-305.854\"/>\r\n",
       "<text text-anchor=\"middle\" x=\"126\" y=\"-318.8\" font-family=\"Times New Roman,serif\" font-size=\"14.00\">&lt;=0.1789592523298964</text>\r\n",
       "</g>\r\n",
       "<!-- Agddgddd -->\r\n",
       "<g id=\"node13\" class=\"node\"><title>Agddgddd</title>\r\n",
       "<ellipse fill=\"none\" stroke=\"black\" cx=\"197\" cy=\"-279\" rx=\"27\" ry=\"18\"/>\r\n",
       "<text text-anchor=\"middle\" x=\"197\" y=\"-275.3\" font-family=\"Times New Roman,serif\" font-size=\"14.00\">0</text>\r\n",
       "</g>\r\n",
       "<!-- Agddgdd&#45;&gt;Agddgddd -->\r\n",
       "<g id=\"edge6\" class=\"edge\"><title>Agddgdd&#45;&gt;Agddgddd</title>\r\n",
       "<path fill=\"none\" stroke=\"black\" d=\"M197.798,-347.799C197.661,-336.163 197.477,-320.548 197.32,-307.237\"/>\r\n",
       "<polygon fill=\"black\" stroke=\"black\" points=\"200.82,-307.134 197.202,-297.175 193.82,-307.216 200.82,-307.134\"/>\r\n",
       "<text text-anchor=\"middle\" x=\"261.5\" y=\"-318.8\" font-family=\"Times New Roman,serif\" font-size=\"14.00\">&gt;0.1789592523298964</text>\r\n",
       "</g>\r\n",
       "<!-- Agddgdddg -->\r\n",
       "<g id=\"node14\" class=\"node\"><title>Agddgdddg</title>\r\n",
       "<polygon fill=\"none\" stroke=\"black\" points=\"54,-210 0,-210 0,-174 54,-174 54,-210\"/>\r\n",
       "<text text-anchor=\"middle\" x=\"27\" y=\"-188.3\" font-family=\"Times New Roman,serif\" font-size=\"14.00\">&#45;1</text>\r\n",
       "</g>\r\n",
       "<!-- Agddgddd&#45;&gt;Agddgdddg -->\r\n",
       "<g id=\"edge3\" class=\"edge\"><title>Agddgddd&#45;&gt;Agddgdddg</title>\r\n",
       "<path fill=\"none\" stroke=\"black\" d=\"M170.437,-274.872C132.234,-269.881 64.3461,-259.017 46,-243 39.162,-237.03 34.7758,-228.33 31.966,-219.854\"/>\r\n",
       "<polygon fill=\"black\" stroke=\"black\" points=\"35.3385,-218.917 29.3393,-210.184 28.5833,-220.752 35.3385,-218.917\"/>\r\n",
       "<text text-anchor=\"middle\" x=\"119.5\" y=\"-231.8\" font-family=\"Times New Roman,serif\" font-size=\"14.00\">&lt;=&#45;0.35010289437630565</text>\r\n",
       "</g>\r\n",
       "<!-- Agddgdddd -->\r\n",
       "<g id=\"node15\" class=\"node\"><title>Agddgdddd</title>\r\n",
       "<ellipse fill=\"none\" stroke=\"black\" cx=\"197\" cy=\"-192\" rx=\"27\" ry=\"18\"/>\r\n",
       "<text text-anchor=\"middle\" x=\"197\" y=\"-188.3\" font-family=\"Times New Roman,serif\" font-size=\"14.00\">0</text>\r\n",
       "</g>\r\n",
       "<!-- Agddgddd&#45;&gt;Agddgdddd -->\r\n",
       "<g id=\"edge4\" class=\"edge\"><title>Agddgddd&#45;&gt;Agddgdddd</title>\r\n",
       "<path fill=\"none\" stroke=\"black\" d=\"M197,-260.799C197,-249.163 197,-233.548 197,-220.237\"/>\r\n",
       "<polygon fill=\"black\" stroke=\"black\" points=\"200.5,-220.175 197,-210.175 193.5,-220.175 200.5,-220.175\"/>\r\n",
       "<text text-anchor=\"middle\" x=\"266.5\" y=\"-231.8\" font-family=\"Times New Roman,serif\" font-size=\"14.00\">&gt;&#45;0.35010289437630565</text>\r\n",
       "</g>\r\n",
       "<!-- Agddgddddg -->\r\n",
       "<g id=\"node16\" class=\"node\"><title>Agddgddddg</title>\r\n",
       "<polygon fill=\"none\" stroke=\"black\" points=\"54,-123 0,-123 0,-87 54,-87 54,-123\"/>\r\n",
       "<text text-anchor=\"middle\" x=\"27\" y=\"-101.3\" font-family=\"Times New Roman,serif\" font-size=\"14.00\">1</text>\r\n",
       "</g>\r\n",
       "<!-- Agddgdddd&#45;&gt;Agddgddddg -->\r\n",
       "<g id=\"edge1\" class=\"edge\"><title>Agddgdddd&#45;&gt;Agddgddddg</title>\r\n",
       "<path fill=\"none\" stroke=\"black\" d=\"M170.437,-187.872C132.234,-182.881 64.3461,-172.017 46,-156 39.162,-150.03 34.7758,-141.33 31.966,-132.854\"/>\r\n",
       "<polygon fill=\"black\" stroke=\"black\" points=\"35.3385,-131.917 29.3393,-123.184 28.5833,-133.752 35.3385,-131.917\"/>\r\n",
       "<text text-anchor=\"middle\" x=\"119.5\" y=\"-144.8\" font-family=\"Times New Roman,serif\" font-size=\"14.00\">&lt;=&#45;0.27459320662110565</text>\r\n",
       "</g>\r\n",
       "<!-- Agddgddddd -->\r\n",
       "<g id=\"node17\" class=\"node\"><title>Agddgddddd</title>\r\n",
       "<polygon fill=\"none\" stroke=\"black\" points=\"224,-123 170,-123 170,-87 224,-87 224,-123\"/>\r\n",
       "<text text-anchor=\"middle\" x=\"197\" y=\"-101.3\" font-family=\"Times New Roman,serif\" font-size=\"14.00\">&#45;1</text>\r\n",
       "</g>\r\n",
       "<!-- Agddgdddd&#45;&gt;Agddgddddd -->\r\n",
       "<g id=\"edge2\" class=\"edge\"><title>Agddgdddd&#45;&gt;Agddgddddd</title>\r\n",
       "<path fill=\"none\" stroke=\"black\" d=\"M197,-173.799C197,-162.163 197,-146.548 197,-133.237\"/>\r\n",
       "<polygon fill=\"black\" stroke=\"black\" points=\"200.5,-133.175 197,-123.175 193.5,-133.175 200.5,-133.175\"/>\r\n",
       "<text text-anchor=\"middle\" x=\"266.5\" y=\"-144.8\" font-family=\"Times New Roman,serif\" font-size=\"14.00\">&gt;&#45;0.27459320662110565</text>\r\n",
       "</g>\r\n",
       "<!-- Adg -->\r\n",
       "<g id=\"node20\" class=\"node\"><title>Adg</title>\r\n",
       "<ellipse fill=\"none\" stroke=\"black\" cx=\"638\" cy=\"-714\" rx=\"27\" ry=\"18\"/>\r\n",
       "<text text-anchor=\"middle\" x=\"638\" y=\"-710.3\" font-family=\"Times New Roman,serif\" font-size=\"14.00\">1</text>\r\n",
       "</g>\r\n",
       "<!-- Ad&#45;&gt;Adg -->\r\n",
       "<g id=\"edge49\" class=\"edge\"><title>Ad&#45;&gt;Adg</title>\r\n",
       "<path fill=\"none\" stroke=\"black\" d=\"M638,-782.799C638,-771.163 638,-755.548 638,-742.237\"/>\r\n",
       "<polygon fill=\"black\" stroke=\"black\" points=\"641.5,-742.175 638,-732.175 634.5,-742.175 641.5,-742.175\"/>\r\n",
       "<text text-anchor=\"middle\" x=\"712.5\" y=\"-753.8\" font-family=\"Times New Roman,serif\" font-size=\"14.00\">&lt;=0.033063694924871545</text>\r\n",
       "</g>\r\n",
       "<!-- Add -->\r\n",
       "<g id=\"node41\" class=\"node\"><title>Add</title>\r\n",
       "<ellipse fill=\"none\" stroke=\"black\" cx=\"875\" cy=\"-714\" rx=\"27\" ry=\"18\"/>\r\n",
       "<text text-anchor=\"middle\" x=\"875\" y=\"-710.3\" font-family=\"Times New Roman,serif\" font-size=\"14.00\">0</text>\r\n",
       "</g>\r\n",
       "<!-- Ad&#45;&gt;Add -->\r\n",
       "<g id=\"edge50\" class=\"edge\"><title>Ad&#45;&gt;Add</title>\r\n",
       "<path fill=\"none\" stroke=\"black\" d=\"M664.189,-796.552C695.265,-791.889 748.25,-782.119 791,-765 811.472,-756.802 832.802,-744.045 848.846,-733.469\"/>\r\n",
       "<polygon fill=\"black\" stroke=\"black\" points=\"850.836,-736.348 857.176,-727.86 846.926,-730.542 850.836,-736.348\"/>\r\n",
       "<text text-anchor=\"middle\" x=\"890.5\" y=\"-753.8\" font-family=\"Times New Roman,serif\" font-size=\"14.00\">&gt;0.033063694924871545</text>\r\n",
       "</g>\r\n",
       "<!-- Adgg -->\r\n",
       "<g id=\"node21\" class=\"node\"><title>Adgg</title>\r\n",
       "<polygon fill=\"none\" stroke=\"black\" points=\"551,-645 497,-645 497,-609 551,-609 551,-645\"/>\r\n",
       "<text text-anchor=\"middle\" x=\"524\" y=\"-623.3\" font-family=\"Times New Roman,serif\" font-size=\"14.00\">&#45;1</text>\r\n",
       "</g>\r\n",
       "<!-- Adg&#45;&gt;Adgg -->\r\n",
       "<g id=\"edge35\" class=\"edge\"><title>Adg&#45;&gt;Adgg</title>\r\n",
       "<path fill=\"none\" stroke=\"black\" d=\"M610.813,-713.462C583.173,-712.288 541.577,-705.633 521,-678 516.233,-671.598 515.27,-663.36 515.996,-655.425\"/>\r\n",
       "<polygon fill=\"black\" stroke=\"black\" points=\"519.483,-655.8 517.745,-645.348 512.586,-654.602 519.483,-655.8\"/>\r\n",
       "<text text-anchor=\"middle\" x=\"591\" y=\"-666.8\" font-family=\"Times New Roman,serif\" font-size=\"14.00\">&lt;=&#45;1.6324135387734553</text>\r\n",
       "</g>\r\n",
       "<!-- Adgd -->\r\n",
       "<g id=\"node22\" class=\"node\"><title>Adgd</title>\r\n",
       "<ellipse fill=\"none\" stroke=\"black\" cx=\"687\" cy=\"-627\" rx=\"27\" ry=\"18\"/>\r\n",
       "<text text-anchor=\"middle\" x=\"687\" y=\"-623.3\" font-family=\"Times New Roman,serif\" font-size=\"14.00\">0</text>\r\n",
       "</g>\r\n",
       "<!-- Adg&#45;&gt;Adgd -->\r\n",
       "<g id=\"edge36\" class=\"edge\"><title>Adg&#45;&gt;Adgd</title>\r\n",
       "<path fill=\"none\" stroke=\"black\" d=\"M650.943,-697.894C655.705,-691.926 660.925,-684.863 665,-678 669.426,-670.546 673.496,-662.041 676.9,-654.185\"/>\r\n",
       "<polygon fill=\"black\" stroke=\"black\" points=\"680.231,-655.288 680.832,-644.71 673.766,-652.604 680.231,-655.288\"/>\r\n",
       "<text text-anchor=\"middle\" x=\"739\" y=\"-666.8\" font-family=\"Times New Roman,serif\" font-size=\"14.00\">&gt;&#45;1.6324135387734553</text>\r\n",
       "</g>\r\n",
       "<!-- Adgdg -->\r\n",
       "<g id=\"node23\" class=\"node\"><title>Adgdg</title>\r\n",
       "<ellipse fill=\"none\" stroke=\"black\" cx=\"525\" cy=\"-540\" rx=\"27\" ry=\"18\"/>\r\n",
       "<text text-anchor=\"middle\" x=\"525\" y=\"-536.3\" font-family=\"Times New Roman,serif\" font-size=\"14.00\">1</text>\r\n",
       "</g>\r\n",
       "<!-- Adgd&#45;&gt;Adgdg -->\r\n",
       "<g id=\"edge33\" class=\"edge\"><title>Adgd&#45;&gt;Adgdg</title>\r\n",
       "<path fill=\"none\" stroke=\"black\" d=\"M659.875,-626.043C629.114,-624.69 579.079,-618.055 547,-591 539.913,-585.023 535.031,-576.321 531.703,-567.846\"/>\r\n",
       "<polygon fill=\"black\" stroke=\"black\" points=\"534.961,-566.552 528.471,-558.178 528.322,-568.772 534.961,-566.552\"/>\r\n",
       "<text text-anchor=\"middle\" x=\"615\" y=\"-579.8\" font-family=\"Times New Roman,serif\" font-size=\"14.00\">&lt;=0.8774559456516018</text>\r\n",
       "</g>\r\n",
       "<!-- Adgdd -->\r\n",
       "<g id=\"node36\" class=\"node\"><title>Adgdd</title>\r\n",
       "<ellipse fill=\"none\" stroke=\"black\" cx=\"687\" cy=\"-540\" rx=\"27\" ry=\"18\"/>\r\n",
       "<text text-anchor=\"middle\" x=\"687\" y=\"-536.3\" font-family=\"Times New Roman,serif\" font-size=\"14.00\">0</text>\r\n",
       "</g>\r\n",
       "<!-- Adgd&#45;&gt;Adgdd -->\r\n",
       "<g id=\"edge34\" class=\"edge\"><title>Adgd&#45;&gt;Adgdd</title>\r\n",
       "<path fill=\"none\" stroke=\"black\" d=\"M687,-608.799C687,-597.163 687,-581.548 687,-568.237\"/>\r\n",
       "<polygon fill=\"black\" stroke=\"black\" points=\"690.5,-568.175 687,-558.175 683.5,-568.175 690.5,-568.175\"/>\r\n",
       "<text text-anchor=\"middle\" x=\"750.5\" y=\"-579.8\" font-family=\"Times New Roman,serif\" font-size=\"14.00\">&gt;0.8774559456516018</text>\r\n",
       "</g>\r\n",
       "<!-- Adgdgg -->\r\n",
       "<g id=\"node24\" class=\"node\"><title>Adgdgg</title>\r\n",
       "<ellipse fill=\"none\" stroke=\"black\" cx=\"358\" cy=\"-453\" rx=\"27\" ry=\"18\"/>\r\n",
       "<text text-anchor=\"middle\" x=\"358\" y=\"-449.3\" font-family=\"Times New Roman,serif\" font-size=\"14.00\">0</text>\r\n",
       "</g>\r\n",
       "<!-- Adgdg&#45;&gt;Adgdgg -->\r\n",
       "<g id=\"edge27\" class=\"edge\"><title>Adgdg&#45;&gt;Adgdgg</title>\r\n",
       "<path fill=\"none\" stroke=\"black\" d=\"M498.642,-536.037C460.355,-531.224 391.961,-520.547 374,-504 367.519,-498.029 363.651,-489.436 361.347,-481.054\"/>\r\n",
       "<polygon fill=\"black\" stroke=\"black\" points=\"364.74,-480.18 359.242,-471.123 357.892,-481.632 364.74,-480.18\"/>\r\n",
       "<text text-anchor=\"middle\" x=\"447.5\" y=\"-492.8\" font-family=\"Times New Roman,serif\" font-size=\"14.00\">&lt;=&#45;0.32036249725915045</text>\r\n",
       "</g>\r\n",
       "<!-- Adgdgd -->\r\n",
       "<g id=\"node35\" class=\"node\"><title>Adgdgd</title>\r\n",
       "<polygon fill=\"none\" stroke=\"black\" points=\"552,-471 498,-471 498,-435 552,-435 552,-471\"/>\r\n",
       "<text text-anchor=\"middle\" x=\"525\" y=\"-449.3\" font-family=\"Times New Roman,serif\" font-size=\"14.00\">&#45;1</text>\r\n",
       "</g>\r\n",
       "<!-- Adgdg&#45;&gt;Adgdgd -->\r\n",
       "<g id=\"edge28\" class=\"edge\"><title>Adgdg&#45;&gt;Adgdgd</title>\r\n",
       "<path fill=\"none\" stroke=\"black\" d=\"M525,-521.799C525,-510.163 525,-494.548 525,-481.237\"/>\r\n",
       "<polygon fill=\"black\" stroke=\"black\" points=\"528.5,-481.175 525,-471.175 521.5,-481.175 528.5,-481.175\"/>\r\n",
       "<text text-anchor=\"middle\" x=\"594.5\" y=\"-492.8\" font-family=\"Times New Roman,serif\" font-size=\"14.00\">&gt;&#45;0.32036249725915045</text>\r\n",
       "</g>\r\n",
       "<!-- Adgdggg -->\r\n",
       "<g id=\"node25\" class=\"node\"><title>Adgdggg</title>\r\n",
       "<ellipse fill=\"none\" stroke=\"black\" cx=\"358\" cy=\"-366\" rx=\"27\" ry=\"18\"/>\r\n",
       "<text text-anchor=\"middle\" x=\"358\" y=\"-362.3\" font-family=\"Times New Roman,serif\" font-size=\"14.00\">0</text>\r\n",
       "</g>\r\n",
       "<!-- Adgdgg&#45;&gt;Adgdggg -->\r\n",
       "<g id=\"edge25\" class=\"edge\"><title>Adgdgg&#45;&gt;Adgdggg</title>\r\n",
       "<path fill=\"none\" stroke=\"black\" d=\"M358,-434.799C358,-423.163 358,-407.548 358,-394.237\"/>\r\n",
       "<polygon fill=\"black\" stroke=\"black\" points=\"361.5,-394.175 358,-384.175 354.5,-394.175 361.5,-394.175\"/>\r\n",
       "<text text-anchor=\"middle\" x=\"426\" y=\"-405.8\" font-family=\"Times New Roman,serif\" font-size=\"14.00\">&lt;=0.6023872580935383</text>\r\n",
       "</g>\r\n",
       "<!-- Adgdggd -->\r\n",
       "<g id=\"node34\" class=\"node\"><title>Adgdggd</title>\r\n",
       "<polygon fill=\"none\" stroke=\"black\" points=\"544,-384 490,-384 490,-348 544,-348 544,-384\"/>\r\n",
       "<text text-anchor=\"middle\" x=\"517\" y=\"-362.3\" font-family=\"Times New Roman,serif\" font-size=\"14.00\">&#45;1</text>\r\n",
       "</g>\r\n",
       "<!-- Adgdgg&#45;&gt;Adgdggd -->\r\n",
       "<g id=\"edge26\" class=\"edge\"><title>Adgdgg&#45;&gt;Adgdggd</title>\r\n",
       "<path fill=\"none\" stroke=\"black\" d=\"M385.095,-451.849C415.248,-450.287 463.823,-443.432 495,-417 502.071,-411.005 506.95,-402.299 510.279,-393.825\"/>\r\n",
       "<polygon fill=\"black\" stroke=\"black\" points=\"513.659,-394.755 513.515,-384.161 507.021,-392.533 513.659,-394.755\"/>\r\n",
       "<text text-anchor=\"middle\" x=\"569.5\" y=\"-405.8\" font-family=\"Times New Roman,serif\" font-size=\"14.00\">&gt;0.6023872580935383</text>\r\n",
       "</g>\r\n",
       "<!-- Adgdgggg -->\r\n",
       "<g id=\"node26\" class=\"node\"><title>Adgdgggg</title>\r\n",
       "<ellipse fill=\"none\" stroke=\"black\" cx=\"359\" cy=\"-279\" rx=\"27\" ry=\"18\"/>\r\n",
       "<text text-anchor=\"middle\" x=\"359\" y=\"-275.3\" font-family=\"Times New Roman,serif\" font-size=\"14.00\">0</text>\r\n",
       "</g>\r\n",
       "<!-- Adgdggg&#45;&gt;Adgdgggg -->\r\n",
       "<g id=\"edge23\" class=\"edge\"><title>Adgdggg&#45;&gt;Adgdgggg</title>\r\n",
       "<path fill=\"none\" stroke=\"black\" d=\"M358.202,-347.799C358.339,-336.163 358.523,-320.548 358.68,-307.237\"/>\r\n",
       "<polygon fill=\"black\" stroke=\"black\" points=\"362.18,-307.216 358.798,-297.175 355.18,-307.134 362.18,-307.216\"/>\r\n",
       "<text text-anchor=\"middle\" x=\"430\" y=\"-318.8\" font-family=\"Times New Roman,serif\" font-size=\"14.00\">&lt;=0.29306523086897956</text>\r\n",
       "</g>\r\n",
       "<!-- Adgdgggd -->\r\n",
       "<g id=\"node33\" class=\"node\"><title>Adgdgggd</title>\r\n",
       "<polygon fill=\"none\" stroke=\"black\" points=\"550,-297 496,-297 496,-261 550,-261 550,-297\"/>\r\n",
       "<text text-anchor=\"middle\" x=\"523\" y=\"-275.3\" font-family=\"Times New Roman,serif\" font-size=\"14.00\">1</text>\r\n",
       "</g>\r\n",
       "<!-- Adgdggg&#45;&gt;Adgdgggd -->\r\n",
       "<g id=\"edge24\" class=\"edge\"><title>Adgdggg&#45;&gt;Adgdgggd</title>\r\n",
       "<path fill=\"none\" stroke=\"black\" d=\"M385.135,-365.231C416.496,-364.088 468.009,-357.684 501,-330 508.101,-324.041 512.987,-315.343 516.314,-306.866\"/>\r\n",
       "<polygon fill=\"black\" stroke=\"black\" points=\"519.696,-307.788 519.543,-297.194 513.056,-305.571 519.696,-307.788\"/>\r\n",
       "<text text-anchor=\"middle\" x=\"579\" y=\"-318.8\" font-family=\"Times New Roman,serif\" font-size=\"14.00\">&gt;0.29306523086897956</text>\r\n",
       "</g>\r\n",
       "<!-- Adgdggggg -->\r\n",
       "<g id=\"node27\" class=\"node\"><title>Adgdggggg</title>\r\n",
       "<ellipse fill=\"none\" stroke=\"black\" cx=\"359\" cy=\"-192\" rx=\"27\" ry=\"18\"/>\r\n",
       "<text text-anchor=\"middle\" x=\"359\" y=\"-188.3\" font-family=\"Times New Roman,serif\" font-size=\"14.00\">0</text>\r\n",
       "</g>\r\n",
       "<!-- Adgdgggg&#45;&gt;Adgdggggg -->\r\n",
       "<g id=\"edge21\" class=\"edge\"><title>Adgdgggg&#45;&gt;Adgdggggg</title>\r\n",
       "<path fill=\"none\" stroke=\"black\" d=\"M359,-260.799C359,-249.163 359,-233.548 359,-220.237\"/>\r\n",
       "<polygon fill=\"black\" stroke=\"black\" points=\"362.5,-220.175 359,-210.175 355.5,-220.175 362.5,-220.175\"/>\r\n",
       "<text text-anchor=\"middle\" x=\"427\" y=\"-231.8\" font-family=\"Times New Roman,serif\" font-size=\"14.00\">&lt;=0.1618891214185062</text>\r\n",
       "</g>\r\n",
       "<!-- Adgdggggd -->\r\n",
       "<g id=\"node32\" class=\"node\"><title>Adgdggggd</title>\r\n",
       "<polygon fill=\"none\" stroke=\"black\" points=\"545,-210 491,-210 491,-174 545,-174 545,-210\"/>\r\n",
       "<text text-anchor=\"middle\" x=\"518\" y=\"-188.3\" font-family=\"Times New Roman,serif\" font-size=\"14.00\">&#45;1</text>\r\n",
       "</g>\r\n",
       "<!-- Adgdgggg&#45;&gt;Adgdggggd -->\r\n",
       "<g id=\"edge22\" class=\"edge\"><title>Adgdgggg&#45;&gt;Adgdggggd</title>\r\n",
       "<path fill=\"none\" stroke=\"black\" d=\"M386.095,-277.849C416.248,-276.287 464.823,-269.432 496,-243 503.071,-237.005 507.95,-228.299 511.279,-219.825\"/>\r\n",
       "<polygon fill=\"black\" stroke=\"black\" points=\"514.659,-220.755 514.515,-210.161 508.021,-218.533 514.659,-220.755\"/>\r\n",
       "<text text-anchor=\"middle\" x=\"570.5\" y=\"-231.8\" font-family=\"Times New Roman,serif\" font-size=\"14.00\">&gt;0.1618891214185062</text>\r\n",
       "</g>\r\n",
       "<!-- Adgdgggggg -->\r\n",
       "<g id=\"node28\" class=\"node\"><title>Adgdgggggg</title>\r\n",
       "<polygon fill=\"none\" stroke=\"black\" points=\"386,-123 332,-123 332,-87 386,-87 386,-123\"/>\r\n",
       "<text text-anchor=\"middle\" x=\"359\" y=\"-101.3\" font-family=\"Times New Roman,serif\" font-size=\"14.00\">1</text>\r\n",
       "</g>\r\n",
       "<!-- Adgdggggg&#45;&gt;Adgdgggggg -->\r\n",
       "<g id=\"edge19\" class=\"edge\"><title>Adgdggggg&#45;&gt;Adgdgggggg</title>\r\n",
       "<path fill=\"none\" stroke=\"black\" d=\"M359,-173.799C359,-162.163 359,-146.548 359,-133.237\"/>\r\n",
       "<polygon fill=\"black\" stroke=\"black\" points=\"362.5,-133.175 359,-123.175 355.5,-133.175 362.5,-133.175\"/>\r\n",
       "<text text-anchor=\"middle\" x=\"439\" y=\"-144.8\" font-family=\"Times New Roman,serif\" font-size=\"14.00\">&lt;=&#45;0.0016219150690770512</text>\r\n",
       "</g>\r\n",
       "<!-- Adgdgggggd -->\r\n",
       "<g id=\"node29\" class=\"node\"><title>Adgdgggggd</title>\r\n",
       "<ellipse fill=\"none\" stroke=\"black\" cx=\"542\" cy=\"-105\" rx=\"27\" ry=\"18\"/>\r\n",
       "<text text-anchor=\"middle\" x=\"542\" y=\"-101.3\" font-family=\"Times New Roman,serif\" font-size=\"14.00\">0</text>\r\n",
       "</g>\r\n",
       "<!-- Adgdggggg&#45;&gt;Adgdgggggd -->\r\n",
       "<g id=\"edge20\" class=\"edge\"><title>Adgdggggg&#45;&gt;Adgdgggggd</title>\r\n",
       "<path fill=\"none\" stroke=\"black\" d=\"M385.535,-188.165C425.768,-183.39 499.679,-172.608 520,-156 527.178,-150.134 532.082,-141.457 535.402,-132.972\"/>\r\n",
       "<polygon fill=\"black\" stroke=\"black\" points=\"538.791,-133.873 538.613,-123.279 532.146,-131.671 538.791,-133.873\"/>\r\n",
       "<text text-anchor=\"middle\" x=\"608\" y=\"-144.8\" font-family=\"Times New Roman,serif\" font-size=\"14.00\">&gt;&#45;0.0016219150690770512</text>\r\n",
       "</g>\r\n",
       "<!-- Adgdgggggdg -->\r\n",
       "<g id=\"node30\" class=\"node\"><title>Adgdgggggdg</title>\r\n",
       "<polygon fill=\"none\" stroke=\"black\" points=\"483,-36 429,-36 429,-0 483,-0 483,-36\"/>\r\n",
       "<text text-anchor=\"middle\" x=\"456\" y=\"-14.3\" font-family=\"Times New Roman,serif\" font-size=\"14.00\">&#45;1</text>\r\n",
       "</g>\r\n",
       "<!-- Adgdgggggd&#45;&gt;Adgdgggggdg -->\r\n",
       "<g id=\"edge17\" class=\"edge\"><title>Adgdgggggd&#45;&gt;Adgdgggggdg</title>\r\n",
       "<path fill=\"none\" stroke=\"black\" d=\"M515.694,-100.818C495.954,-96.9091 470.158,-88.2292 457,-69 452.5,-62.4236 451.098,-54.1358 451.151,-46.2092\"/>\r\n",
       "<polygon fill=\"black\" stroke=\"black\" points=\"454.646,-46.4097 451.921,-36.1712 447.667,-45.8743 454.646,-46.4097\"/>\r\n",
       "<text text-anchor=\"middle\" x=\"531.5\" y=\"-57.8\" font-family=\"Times New Roman,serif\" font-size=\"14.00\">&lt;=0.038126335067449224</text>\r\n",
       "</g>\r\n",
       "<!-- Adgdgggggdd -->\r\n",
       "<g id=\"node31\" class=\"node\"><title>Adgdgggggdd</title>\r\n",
       "<polygon fill=\"none\" stroke=\"black\" points=\"655,-36 601,-36 601,-0 655,-0 655,-36\"/>\r\n",
       "<text text-anchor=\"middle\" x=\"628\" y=\"-14.3\" font-family=\"Times New Roman,serif\" font-size=\"14.00\">1</text>\r\n",
       "</g>\r\n",
       "<!-- Adgdgggggd&#45;&gt;Adgdgggggdd -->\r\n",
       "<g id=\"edge18\" class=\"edge\"><title>Adgdgggggd&#45;&gt;Adgdgggggdd</title>\r\n",
       "<path fill=\"none\" stroke=\"black\" d=\"M565.161,-95.726C578.539,-89.9667 594.869,-81.1306 606,-69 612.017,-62.4424 616.579,-53.9735 619.944,-45.8759\"/>\r\n",
       "<polygon fill=\"black\" stroke=\"black\" points=\"623.286,-46.9294 623.473,-36.3362 616.721,-44.501 623.286,-46.9294\"/>\r\n",
       "<text text-anchor=\"middle\" x=\"687.5\" y=\"-57.8\" font-family=\"Times New Roman,serif\" font-size=\"14.00\">&gt;0.038126335067449224</text>\r\n",
       "</g>\r\n",
       "<!-- Adgddg -->\r\n",
       "<g id=\"node37\" class=\"node\"><title>Adgddg</title>\r\n",
       "<polygon fill=\"none\" stroke=\"black\" points=\"714,-471 660,-471 660,-435 714,-435 714,-471\"/>\r\n",
       "<text text-anchor=\"middle\" x=\"687\" y=\"-449.3\" font-family=\"Times New Roman,serif\" font-size=\"14.00\">1</text>\r\n",
       "</g>\r\n",
       "<!-- Adgdd&#45;&gt;Adgddg -->\r\n",
       "<g id=\"edge31\" class=\"edge\"><title>Adgdd&#45;&gt;Adgddg</title>\r\n",
       "<path fill=\"none\" stroke=\"black\" d=\"M687,-521.799C687,-510.163 687,-494.548 687,-481.237\"/>\r\n",
       "<polygon fill=\"black\" stroke=\"black\" points=\"690.5,-481.175 687,-471.175 683.5,-481.175 690.5,-481.175\"/>\r\n",
       "<text text-anchor=\"middle\" x=\"755\" y=\"-492.8\" font-family=\"Times New Roman,serif\" font-size=\"14.00\">&lt;=1.4992688862046513</text>\r\n",
       "</g>\r\n",
       "<!-- Adgddd -->\r\n",
       "<g id=\"node38\" class=\"node\"><title>Adgddd</title>\r\n",
       "<ellipse fill=\"none\" stroke=\"black\" cx=\"846\" cy=\"-453\" rx=\"27\" ry=\"18\"/>\r\n",
       "<text text-anchor=\"middle\" x=\"846\" y=\"-449.3\" font-family=\"Times New Roman,serif\" font-size=\"14.00\">0</text>\r\n",
       "</g>\r\n",
       "<!-- Adgdd&#45;&gt;Adgddd -->\r\n",
       "<g id=\"edge32\" class=\"edge\"><title>Adgdd&#45;&gt;Adgddd</title>\r\n",
       "<path fill=\"none\" stroke=\"black\" d=\"M714.095,-538.849C744.248,-537.287 792.823,-530.432 824,-504 831.071,-498.005 835.95,-489.299 839.279,-480.825\"/>\r\n",
       "<polygon fill=\"black\" stroke=\"black\" points=\"842.659,-481.755 842.515,-471.161 836.021,-479.533 842.659,-481.755\"/>\r\n",
       "<text text-anchor=\"middle\" x=\"898.5\" y=\"-492.8\" font-family=\"Times New Roman,serif\" font-size=\"14.00\">&gt;1.4992688862046513</text>\r\n",
       "</g>\r\n",
       "<!-- Adgdddg -->\r\n",
       "<g id=\"node39\" class=\"node\"><title>Adgdddg</title>\r\n",
       "<polygon fill=\"none\" stroke=\"black\" points=\"714,-384 660,-384 660,-348 714,-348 714,-384\"/>\r\n",
       "<text text-anchor=\"middle\" x=\"687\" y=\"-362.3\" font-family=\"Times New Roman,serif\" font-size=\"14.00\">&#45;1</text>\r\n",
       "</g>\r\n",
       "<!-- Adgddd&#45;&gt;Adgdddg -->\r\n",
       "<g id=\"edge29\" class=\"edge\"><title>Adgddd&#45;&gt;Adgdddg</title>\r\n",
       "<path fill=\"none\" stroke=\"black\" d=\"M818.899,-452.345C787.927,-451.291 737.468,-444.953 706,-417 699.214,-410.972 694.84,-402.257 692.025,-393.787\"/>\r\n",
       "<polygon fill=\"black\" stroke=\"black\" points=\"695.399,-392.854 689.387,-384.131 688.646,-394.7 695.399,-392.854\"/>\r\n",
       "<text text-anchor=\"middle\" x=\"774\" y=\"-405.8\" font-family=\"Times New Roman,serif\" font-size=\"14.00\">&lt;=1.9291038738357709</text>\r\n",
       "</g>\r\n",
       "<!-- Adgdddd -->\r\n",
       "<g id=\"node40\" class=\"node\"><title>Adgdddd</title>\r\n",
       "<polygon fill=\"none\" stroke=\"black\" points=\"873,-384 819,-384 819,-348 873,-348 873,-384\"/>\r\n",
       "<text text-anchor=\"middle\" x=\"846\" y=\"-362.3\" font-family=\"Times New Roman,serif\" font-size=\"14.00\">1</text>\r\n",
       "</g>\r\n",
       "<!-- Adgddd&#45;&gt;Adgdddd -->\r\n",
       "<g id=\"edge30\" class=\"edge\"><title>Adgddd&#45;&gt;Adgdddd</title>\r\n",
       "<path fill=\"none\" stroke=\"black\" d=\"M846,-434.799C846,-423.163 846,-407.548 846,-394.237\"/>\r\n",
       "<polygon fill=\"black\" stroke=\"black\" points=\"849.5,-394.175 846,-384.175 842.5,-394.175 849.5,-394.175\"/>\r\n",
       "<text text-anchor=\"middle\" x=\"909.5\" y=\"-405.8\" font-family=\"Times New Roman,serif\" font-size=\"14.00\">&gt;1.9291038738357709</text>\r\n",
       "</g>\r\n",
       "<!-- Addg -->\r\n",
       "<g id=\"node42\" class=\"node\"><title>Addg</title>\r\n",
       "<ellipse fill=\"none\" stroke=\"black\" cx=\"935\" cy=\"-627\" rx=\"27\" ry=\"18\"/>\r\n",
       "<text text-anchor=\"middle\" x=\"935\" y=\"-623.3\" font-family=\"Times New Roman,serif\" font-size=\"14.00\">0</text>\r\n",
       "</g>\r\n",
       "<!-- Add&#45;&gt;Addg -->\r\n",
       "<g id=\"edge47\" class=\"edge\"><title>Add&#45;&gt;Addg</title>\r\n",
       "<path fill=\"none\" stroke=\"black\" d=\"M871.415,-696.141C870.144,-685.886 870.229,-672.902 876,-663 881.877,-652.916 891.901,-645.424 902.035,-640.016\"/>\r\n",
       "<polygon fill=\"black\" stroke=\"black\" points=\"903.735,-643.083 911.257,-635.622 900.724,-636.764 903.735,-643.083\"/>\r\n",
       "<text text-anchor=\"middle\" x=\"944\" y=\"-666.8\" font-family=\"Times New Roman,serif\" font-size=\"14.00\">&lt;=0.9523116399917089</text>\r\n",
       "</g>\r\n",
       "<!-- Addd -->\r\n",
       "<g id=\"node53\" class=\"node\"><title>Addd</title>\r\n",
       "<polygon fill=\"none\" stroke=\"black\" points=\"1061,-645 1007,-645 1007,-609 1061,-609 1061,-645\"/>\r\n",
       "<text text-anchor=\"middle\" x=\"1034\" y=\"-623.3\" font-family=\"Times New Roman,serif\" font-size=\"14.00\">1</text>\r\n",
       "</g>\r\n",
       "<!-- Add&#45;&gt;Addd -->\r\n",
       "<g id=\"edge48\" class=\"edge\"><title>Add&#45;&gt;Addd</title>\r\n",
       "<path fill=\"none\" stroke=\"black\" d=\"M902.095,-712.849C932.248,-711.287 980.823,-704.432 1012,-678 1019.07,-672.005 1023.95,-663.299 1027.28,-654.825\"/>\r\n",
       "<polygon fill=\"black\" stroke=\"black\" points=\"1030.66,-655.755 1030.51,-645.161 1024.02,-653.533 1030.66,-655.755\"/>\r\n",
       "<text text-anchor=\"middle\" x=\"1086.5\" y=\"-666.8\" font-family=\"Times New Roman,serif\" font-size=\"14.00\">&gt;0.9523116399917089</text>\r\n",
       "</g>\r\n",
       "<!-- Addgg -->\r\n",
       "<g id=\"node43\" class=\"node\"><title>Addgg</title>\r\n",
       "<ellipse fill=\"none\" stroke=\"black\" cx=\"996\" cy=\"-540\" rx=\"27\" ry=\"18\"/>\r\n",
       "<text text-anchor=\"middle\" x=\"996\" y=\"-536.3\" font-family=\"Times New Roman,serif\" font-size=\"14.00\">0</text>\r\n",
       "</g>\r\n",
       "<!-- Addg&#45;&gt;Addgg -->\r\n",
       "<g id=\"edge45\" class=\"edge\"><title>Addg&#45;&gt;Addgg</title>\r\n",
       "<path fill=\"none\" stroke=\"black\" d=\"M931.389,-609.126C930.108,-598.865 930.193,-585.88 936,-576 941.988,-565.811 952.185,-558.294 962.49,-552.896\"/>\r\n",
       "<polygon fill=\"black\" stroke=\"black\" points=\"964.285,-555.921 971.866,-548.519 961.324,-549.578 964.285,-555.921\"/>\r\n",
       "<text text-anchor=\"middle\" x=\"1004\" y=\"-579.8\" font-family=\"Times New Roman,serif\" font-size=\"14.00\">&lt;=0.8860066021385948</text>\r\n",
       "</g>\r\n",
       "<!-- Addgd -->\r\n",
       "<g id=\"node52\" class=\"node\"><title>Addgd</title>\r\n",
       "<polygon fill=\"none\" stroke=\"black\" points=\"1121,-558 1067,-558 1067,-522 1121,-522 1121,-558\"/>\r\n",
       "<text text-anchor=\"middle\" x=\"1094\" y=\"-536.3\" font-family=\"Times New Roman,serif\" font-size=\"14.00\">&#45;1</text>\r\n",
       "</g>\r\n",
       "<!-- Addg&#45;&gt;Addgd -->\r\n",
       "<g id=\"edge46\" class=\"edge\"><title>Addg&#45;&gt;Addgd</title>\r\n",
       "<path fill=\"none\" stroke=\"black\" d=\"M959.496,-619.238C971.142,-616.062 985.271,-612.265 998,-609 1030.79,-600.59 1046.06,-612.739 1072,-591 1079.11,-585.046 1083.99,-576.349 1087.32,-567.872\"/>\r\n",
       "<polygon fill=\"black\" stroke=\"black\" points=\"1090.7,-568.792 1090.55,-558.199 1084.06,-566.577 1090.7,-568.792\"/>\r\n",
       "<text text-anchor=\"middle\" x=\"1145.5\" y=\"-579.8\" font-family=\"Times New Roman,serif\" font-size=\"14.00\">&gt;0.8860066021385948</text>\r\n",
       "</g>\r\n",
       "<!-- Addggg -->\r\n",
       "<g id=\"node44\" class=\"node\"><title>Addggg</title>\r\n",
       "<ellipse fill=\"none\" stroke=\"black\" cx=\"996\" cy=\"-453\" rx=\"27\" ry=\"18\"/>\r\n",
       "<text text-anchor=\"middle\" x=\"996\" y=\"-449.3\" font-family=\"Times New Roman,serif\" font-size=\"14.00\">0</text>\r\n",
       "</g>\r\n",
       "<!-- Addgg&#45;&gt;Addggg -->\r\n",
       "<g id=\"edge43\" class=\"edge\"><title>Addgg&#45;&gt;Addggg</title>\r\n",
       "<path fill=\"none\" stroke=\"black\" d=\"M996,-521.799C996,-510.163 996,-494.548 996,-481.237\"/>\r\n",
       "<polygon fill=\"black\" stroke=\"black\" points=\"999.5,-481.175 996,-471.175 992.5,-481.175 999.5,-481.175\"/>\r\n",
       "<text text-anchor=\"middle\" x=\"1060.5\" y=\"-492.8\" font-family=\"Times New Roman,serif\" font-size=\"14.00\">&lt;=0.122548517162057</text>\r\n",
       "</g>\r\n",
       "<!-- Addggd -->\r\n",
       "<g id=\"node51\" class=\"node\"><title>Addggd</title>\r\n",
       "<polygon fill=\"none\" stroke=\"black\" points=\"1175,-471 1121,-471 1121,-435 1175,-435 1175,-471\"/>\r\n",
       "<text text-anchor=\"middle\" x=\"1148\" y=\"-449.3\" font-family=\"Times New Roman,serif\" font-size=\"14.00\">1</text>\r\n",
       "</g>\r\n",
       "<!-- Addgg&#45;&gt;Addggd -->\r\n",
       "<g id=\"edge44\" class=\"edge\"><title>Addgg&#45;&gt;Addggd</title>\r\n",
       "<path fill=\"none\" stroke=\"black\" d=\"M1020.43,-532.249C1031.84,-529.109 1045.61,-525.339 1058,-522 1088.19,-513.866 1102.24,-524.32 1126,-504 1133.05,-497.975 1137.92,-489.261 1141.25,-480.79\"/>\r\n",
       "<polygon fill=\"black\" stroke=\"black\" points=\"1144.63,-481.727 1144.49,-471.133 1137.99,-479.5 1144.63,-481.727\"/>\r\n",
       "<text text-anchor=\"middle\" x=\"1196.5\" y=\"-492.8\" font-family=\"Times New Roman,serif\" font-size=\"14.00\">&gt;0.122548517162057</text>\r\n",
       "</g>\r\n",
       "<!-- Addgggg -->\r\n",
       "<g id=\"node45\" class=\"node\"><title>Addgggg</title>\r\n",
       "<polygon fill=\"none\" stroke=\"black\" points=\"1023,-384 969,-384 969,-348 1023,-348 1023,-384\"/>\r\n",
       "<text text-anchor=\"middle\" x=\"996\" y=\"-362.3\" font-family=\"Times New Roman,serif\" font-size=\"14.00\">1</text>\r\n",
       "</g>\r\n",
       "<!-- Addggg&#45;&gt;Addgggg -->\r\n",
       "<g id=\"edge41\" class=\"edge\"><title>Addggg&#45;&gt;Addgggg</title>\r\n",
       "<path fill=\"none\" stroke=\"black\" d=\"M996,-434.799C996,-423.163 996,-407.548 996,-394.237\"/>\r\n",
       "<polygon fill=\"black\" stroke=\"black\" points=\"999.5,-394.175 996,-384.175 992.5,-394.175 999.5,-394.175\"/>\r\n",
       "<text text-anchor=\"middle\" x=\"1074\" y=\"-405.8\" font-family=\"Times New Roman,serif\" font-size=\"14.00\">&lt;=0.0038792829460232436</text>\r\n",
       "</g>\r\n",
       "<!-- Addgggd -->\r\n",
       "<g id=\"node46\" class=\"node\"><title>Addgggd</title>\r\n",
       "<ellipse fill=\"none\" stroke=\"black\" cx=\"1175\" cy=\"-366\" rx=\"27\" ry=\"18\"/>\r\n",
       "<text text-anchor=\"middle\" x=\"1175\" y=\"-362.3\" font-family=\"Times New Roman,serif\" font-size=\"14.00\">0</text>\r\n",
       "</g>\r\n",
       "<!-- Addggg&#45;&gt;Addgggd -->\r\n",
       "<g id=\"edge42\" class=\"edge\"><title>Addggg&#45;&gt;Addgggd</title>\r\n",
       "<path fill=\"none\" stroke=\"black\" d=\"M1022.53,-449.002C1061.9,-444.077 1133.31,-433.178 1153,-417 1160.16,-411.115 1165.06,-402.434 1168.38,-393.951\"/>\r\n",
       "<polygon fill=\"black\" stroke=\"black\" points=\"1171.77,-394.855 1171.6,-384.262 1165.13,-392.651 1171.77,-394.855\"/>\r\n",
       "<text text-anchor=\"middle\" x=\"1238\" y=\"-405.8\" font-family=\"Times New Roman,serif\" font-size=\"14.00\">&gt;0.0038792829460232436</text>\r\n",
       "</g>\r\n",
       "<!-- Addgggdg -->\r\n",
       "<g id=\"node47\" class=\"node\"><title>Addgggdg</title>\r\n",
       "<polygon fill=\"none\" stroke=\"black\" points=\"1126,-297 1072,-297 1072,-261 1126,-261 1126,-297\"/>\r\n",
       "<text text-anchor=\"middle\" x=\"1099\" y=\"-275.3\" font-family=\"Times New Roman,serif\" font-size=\"14.00\">&#45;1</text>\r\n",
       "</g>\r\n",
       "<!-- Addgggd&#45;&gt;Addgggdg -->\r\n",
       "<g id=\"edge39\" class=\"edge\"><title>Addgggd&#45;&gt;Addgggdg</title>\r\n",
       "<path fill=\"none\" stroke=\"black\" d=\"M1149.15,-360.239C1132.07,-355.618 1110.9,-346.738 1100,-330 1095.65,-323.322 1094.29,-315.005 1094.34,-307.084\"/>\r\n",
       "<polygon fill=\"black\" stroke=\"black\" points=\"1097.83,-307.298 1095.08,-297.068 1090.85,-306.785 1097.83,-307.298\"/>\r\n",
       "<text text-anchor=\"middle\" x=\"1164.5\" y=\"-318.8\" font-family=\"Times New Roman,serif\" font-size=\"14.00\">&lt;=0.049373381075486</text>\r\n",
       "</g>\r\n",
       "<!-- Addgggdd -->\r\n",
       "<g id=\"node48\" class=\"node\"><title>Addgggdd</title>\r\n",
       "<ellipse fill=\"none\" stroke=\"black\" cx=\"1251\" cy=\"-279\" rx=\"27\" ry=\"18\"/>\r\n",
       "<text text-anchor=\"middle\" x=\"1251\" y=\"-275.3\" font-family=\"Times New Roman,serif\" font-size=\"14.00\">0</text>\r\n",
       "</g>\r\n",
       "<!-- Addgggd&#45;&gt;Addgggdd -->\r\n",
       "<g id=\"edge40\" class=\"edge\"><title>Addgggd&#45;&gt;Addgggdd</title>\r\n",
       "<path fill=\"none\" stroke=\"black\" d=\"M1196.37,-354.949C1207.28,-348.953 1220.09,-340.465 1229,-330 1234.77,-323.222 1239.26,-314.695 1242.64,-306.611\"/>\r\n",
       "<polygon fill=\"black\" stroke=\"black\" points=\"1245.97,-307.71 1246.23,-297.118 1239.42,-305.239 1245.97,-307.71\"/>\r\n",
       "<text text-anchor=\"middle\" x=\"1298.5\" y=\"-318.8\" font-family=\"Times New Roman,serif\" font-size=\"14.00\">&gt;0.049373381075486</text>\r\n",
       "</g>\r\n",
       "<!-- Addgggddg -->\r\n",
       "<g id=\"node49\" class=\"node\"><title>Addgggddg</title>\r\n",
       "<polygon fill=\"none\" stroke=\"black\" points=\"1195,-210 1141,-210 1141,-174 1195,-174 1195,-210\"/>\r\n",
       "<text text-anchor=\"middle\" x=\"1168\" y=\"-188.3\" font-family=\"Times New Roman,serif\" font-size=\"14.00\">1</text>\r\n",
       "</g>\r\n",
       "<!-- Addgggdd&#45;&gt;Addgggddg -->\r\n",
       "<g id=\"edge37\" class=\"edge\"><title>Addgggdd&#45;&gt;Addgggddg</title>\r\n",
       "<path fill=\"none\" stroke=\"black\" d=\"M1224.29,-274.983C1204.26,-271.166 1178.14,-262.528 1165,-243 1160.55,-236.377 1159.67,-228.077 1160.38,-220.152\"/>\r\n",
       "<polygon fill=\"black\" stroke=\"black\" points=\"1163.86,-220.565 1162.06,-210.125 1156.96,-219.409 1163.86,-220.565\"/>\r\n",
       "<text text-anchor=\"middle\" x=\"1236\" y=\"-231.8\" font-family=\"Times New Roman,serif\" font-size=\"14.00\">&lt;=0.09182901055050796</text>\r\n",
       "</g>\r\n",
       "<!-- Addgggddd -->\r\n",
       "<g id=\"node50\" class=\"node\"><title>Addgggddd</title>\r\n",
       "<polygon fill=\"none\" stroke=\"black\" points=\"1360,-210 1306,-210 1306,-174 1360,-174 1360,-210\"/>\r\n",
       "<text text-anchor=\"middle\" x=\"1333\" y=\"-188.3\" font-family=\"Times New Roman,serif\" font-size=\"14.00\">&#45;1</text>\r\n",
       "</g>\r\n",
       "<!-- Addgggdd&#45;&gt;Addgggddd -->\r\n",
       "<g id=\"edge38\" class=\"edge\"><title>Addgggdd&#45;&gt;Addgggddd</title>\r\n",
       "<path fill=\"none\" stroke=\"black\" d=\"M1273.58,-268.999C1285.96,-263.13 1300.8,-254.427 1311,-243 1316.93,-236.36 1321.46,-227.869 1324.83,-219.777\"/>\r\n",
       "<polygon fill=\"black\" stroke=\"black\" points=\"1328.17,-220.847 1328.38,-210.254 1321.61,-218.403 1328.17,-220.847\"/>\r\n",
       "<text text-anchor=\"middle\" x=\"1387\" y=\"-231.8\" font-family=\"Times New Roman,serif\" font-size=\"14.00\">&gt;0.09182901055050796</text>\r\n",
       "</g>\r\n",
       "</g>\r\n",
       "</svg>\r\n"
      ],
      "text/plain": [
       "<graphviz.dot.Digraph at 0x2014d805fd0>"
      ]
     },
     "execution_count": 34,
     "metadata": {},
     "output_type": "execute_result"
    }
   ],
   "source": [
    "adautre.plot()"
   ]
  },
  {
   "cell_type": "markdown",
   "metadata": {},
   "source": [
    "### Améliorations (facultatif)"
   ]
  },
  {
   "cell_type": "markdown",
   "metadata": {},
   "source": [
    "Adapter votre algorithme afin de pouvoir construire des arbres de décision avec des attributs catégoriels. Dans un premier temps, vous considèrerez des attributs catégoriels à 2 valeurs. Ensuite, pour considérer des attributs à plus de 2 valeurs, vous devrez écrire une classe <code>ArbreGeneral</code> pour remplacer la classe <code>ArbreBinaire</code>."
   ]
  },
  {
   "cell_type": "markdown",
   "metadata": {},
   "source": [
    "## Etape 3: Expérimentation"
   ]
  },
  {
   "cell_type": "markdown",
   "metadata": {
    "collapsed": true
   },
   "source": [
    "Comparez le résultat obtenu avec ceux obtenus avec les 2 classifiers implémentés lors des TD-TME précédents. Ensuite, utilisez votre implémentation sur d'autres bases de données que vous avez déjà trouvées ou que vous pourrez trouver sur le web."
   ]
  },
  {
   "cell_type": "code",
   "execution_count": null,
   "metadata": {},
   "outputs": [],
   "source": []
  }
 ],
 "metadata": {
  "kernelspec": {
   "display_name": "Python 3",
   "language": "python",
   "name": "python3"
  },
  "language_info": {
   "codemirror_mode": {
    "name": "ipython",
    "version": 3
   },
   "file_extension": ".py",
   "mimetype": "text/x-python",
   "name": "python",
   "nbconvert_exporter": "python",
   "pygments_lexer": "ipython3",
   "version": "3.6.6"
  }
 },
 "nbformat": 4,
 "nbformat_minor": 1
}
